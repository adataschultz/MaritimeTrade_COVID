{
  "nbformat": 4,
  "nbformat_minor": 0,
  "metadata": {
    "accelerator": "GPU",
    "colab": {
      "name": "MaritimeTradeCOVID_MLP_Train2019_2020_batch16_Epochs50_HPO.ipynb",
      "provenance": [],
      "collapsed_sections": [],
      "machine_shape": "hm",
      "include_colab_link": true
    },
    "kernelspec": {
      "display_name": "Python 3",
      "name": "python3"
    },
    "language_info": {
      "name": "python"
    }
  },
  "cells": [
    {
      "cell_type": "markdown",
      "metadata": {
        "id": "view-in-github",
        "colab_type": "text"
      },
      "source": [
        "<a href=\"https://colab.research.google.com/github/adataschultz/MaritimeTrade_COVID/blob/main/MLP_Regression/MaritimeTradeCOVID_MLP_Train2019_2020_batch16_Epochs50_HPO.ipynb\" target=\"_parent\"><img src=\"https://colab.research.google.com/assets/colab-badge.svg\" alt=\"Open In Colab\"/></a>"
      ]
    },
    {
      "cell_type": "code",
      "metadata": {
        "id": "wpTmKtBVKMKT"
      },
      "source": [
        "######################################################\n",
        "#### 2019 - 2020 Maritime Trade with COVID - MLP #####\n",
        "##########  Hyperparameter Optimization ##############\n",
        "######################################################"
      ],
      "execution_count": 1,
      "outputs": []
    },
    {
      "cell_type": "code",
      "metadata": {
        "id": "pPD1AoKmuksU",
        "colab": {
          "base_uri": "https://localhost:8080/"
        },
        "outputId": "078a5148-858d-4ad5-c397-1be1db47eed0"
      },
      "source": [
        "from google.colab import drive \n",
        "drive.mount('/content/drive')"
      ],
      "execution_count": 2,
      "outputs": [
        {
          "output_type": "stream",
          "name": "stdout",
          "text": [
            "Mounted at /content/drive\n"
          ]
        }
      ]
    },
    {
      "cell_type": "code",
      "metadata": {
        "id": "jOReN1GxuoCI",
        "colab": {
          "base_uri": "https://localhost:8080/"
        },
        "outputId": "ec9656b1-b6d5-44a2-e45e-87d7b8163f30"
      },
      "source": [
        "%cd /content/drive/MyDrive/Data_MaritimeTrade_MLP/"
      ],
      "execution_count": 3,
      "outputs": [
        {
          "output_type": "stream",
          "name": "stdout",
          "text": [
            "/content/drive/MyDrive/Data_MaritimeTrade_MLP\n"
          ]
        }
      ]
    },
    {
      "cell_type": "code",
      "metadata": {
        "id": "SJsjiI7GlIeX",
        "colab": {
          "base_uri": "https://localhost:8080/"
        },
        "outputId": "48850a6e-068a-4b3f-f211-115d841781b4"
      },
      "source": [
        "# Install and import packages\n",
        "!pip install category_encoders\n",
        "!pip install keras-tuner\n",
        "from tensorflow import keras\n",
        "import keras_tuner\n",
        "from keras_tuner import BayesianOptimization\n",
        "import os\n",
        "import random\n",
        "import pandas as pd\n",
        "import numpy as np\n",
        "import category_encoders as ce\n",
        "from pandas import read_csv\n",
        "from pandas import DataFrame\n",
        "from pandas import concat\n",
        "import sklearn\n",
        "from sklearn.model_selection import train_test_split\n",
        "from sklearn.preprocessing import LabelEncoder\n",
        "from sklearn.preprocessing import MinMaxScaler\n",
        "import datetime\n",
        "import tensorflow as tf\n",
        "from tensorboard.plugins.hparams import api as hp\n",
        "from tensorflow.keras.models import Sequential\n",
        "from tensorflow.keras.layers import Dense, Dropout\n",
        "from tensorflow.keras.callbacks import EarlyStopping\n",
        "from tensorflow.keras.callbacks import ModelCheckpoint\n",
        "import matplotlib as plt\n",
        "from matplotlib import pyplot\n",
        "from sklearn.metrics import mean_absolute_error\n",
        "from sklearn.metrics import mean_squared_error\n",
        "print('\\n')\n",
        "print(\"TensorFlow version: {}\".format(tf.__version__))\n",
        "print(\"Eager execution is: {}\".format(tf.executing_eagerly()))\n",
        "print(\"Keras version: {}\".format(tf.keras.__version__))\n",
        "print(\"Num GPUs Available: \", len(tf.config.list_physical_devices('GPU')))"
      ],
      "execution_count": 4,
      "outputs": [
        {
          "output_type": "stream",
          "name": "stdout",
          "text": [
            "Collecting category_encoders\n",
            "  Downloading category_encoders-2.2.2-py2.py3-none-any.whl (80 kB)\n",
            "\u001b[?25l\r\u001b[K     |████                            | 10 kB 31.3 MB/s eta 0:00:01\r\u001b[K     |████████▏                       | 20 kB 34.6 MB/s eta 0:00:01\r\u001b[K     |████████████▏                   | 30 kB 19.4 MB/s eta 0:00:01\r\u001b[K     |████████████████▎               | 40 kB 16.4 MB/s eta 0:00:01\r\u001b[K     |████████████████████▎           | 51 kB 7.5 MB/s eta 0:00:01\r\u001b[K     |████████████████████████▍       | 61 kB 8.6 MB/s eta 0:00:01\r\u001b[K     |████████████████████████████▍   | 71 kB 7.4 MB/s eta 0:00:01\r\u001b[K     |████████████████████████████████| 80 kB 5.0 MB/s \n",
            "\u001b[?25hRequirement already satisfied: patsy>=0.5.1 in /usr/local/lib/python3.7/dist-packages (from category_encoders) (0.5.2)\n",
            "Requirement already satisfied: scikit-learn>=0.20.0 in /usr/local/lib/python3.7/dist-packages (from category_encoders) (0.22.2.post1)\n",
            "Requirement already satisfied: statsmodels>=0.9.0 in /usr/local/lib/python3.7/dist-packages (from category_encoders) (0.10.2)\n",
            "Requirement already satisfied: numpy>=1.14.0 in /usr/local/lib/python3.7/dist-packages (from category_encoders) (1.19.5)\n",
            "Requirement already satisfied: scipy>=1.0.0 in /usr/local/lib/python3.7/dist-packages (from category_encoders) (1.4.1)\n",
            "Requirement already satisfied: pandas>=0.21.1 in /usr/local/lib/python3.7/dist-packages (from category_encoders) (1.1.5)\n",
            "Requirement already satisfied: pytz>=2017.2 in /usr/local/lib/python3.7/dist-packages (from pandas>=0.21.1->category_encoders) (2018.9)\n",
            "Requirement already satisfied: python-dateutil>=2.7.3 in /usr/local/lib/python3.7/dist-packages (from pandas>=0.21.1->category_encoders) (2.8.2)\n",
            "Requirement already satisfied: six in /usr/local/lib/python3.7/dist-packages (from patsy>=0.5.1->category_encoders) (1.15.0)\n",
            "Requirement already satisfied: joblib>=0.11 in /usr/local/lib/python3.7/dist-packages (from scikit-learn>=0.20.0->category_encoders) (1.0.1)\n",
            "Installing collected packages: category-encoders\n",
            "Successfully installed category-encoders-2.2.2\n",
            "Collecting keras-tuner\n",
            "  Downloading keras_tuner-1.0.4-py3-none-any.whl (97 kB)\n",
            "\u001b[K     |████████████████████████████████| 97 kB 5.0 MB/s \n",
            "\u001b[?25hRequirement already satisfied: requests in /usr/local/lib/python3.7/dist-packages (from keras-tuner) (2.23.0)\n",
            "Requirement already satisfied: tensorboard in /usr/local/lib/python3.7/dist-packages (from keras-tuner) (2.6.0)\n",
            "Collecting kt-legacy\n",
            "  Downloading kt_legacy-1.0.4-py3-none-any.whl (9.6 kB)\n",
            "Requirement already satisfied: packaging in /usr/local/lib/python3.7/dist-packages (from keras-tuner) (21.0)\n",
            "Requirement already satisfied: ipython in /usr/local/lib/python3.7/dist-packages (from keras-tuner) (5.5.0)\n",
            "Requirement already satisfied: scipy in /usr/local/lib/python3.7/dist-packages (from keras-tuner) (1.4.1)\n",
            "Requirement already satisfied: numpy in /usr/local/lib/python3.7/dist-packages (from keras-tuner) (1.19.5)\n",
            "Requirement already satisfied: setuptools>=18.5 in /usr/local/lib/python3.7/dist-packages (from ipython->keras-tuner) (57.4.0)\n",
            "Requirement already satisfied: traitlets>=4.2 in /usr/local/lib/python3.7/dist-packages (from ipython->keras-tuner) (5.1.0)\n",
            "Requirement already satisfied: pygments in /usr/local/lib/python3.7/dist-packages (from ipython->keras-tuner) (2.6.1)\n",
            "Requirement already satisfied: prompt-toolkit<2.0.0,>=1.0.4 in /usr/local/lib/python3.7/dist-packages (from ipython->keras-tuner) (1.0.18)\n",
            "Requirement already satisfied: simplegeneric>0.8 in /usr/local/lib/python3.7/dist-packages (from ipython->keras-tuner) (0.8.1)\n",
            "Requirement already satisfied: pexpect in /usr/local/lib/python3.7/dist-packages (from ipython->keras-tuner) (4.8.0)\n",
            "Requirement already satisfied: decorator in /usr/local/lib/python3.7/dist-packages (from ipython->keras-tuner) (4.4.2)\n",
            "Requirement already satisfied: pickleshare in /usr/local/lib/python3.7/dist-packages (from ipython->keras-tuner) (0.7.5)\n",
            "Requirement already satisfied: six>=1.9.0 in /usr/local/lib/python3.7/dist-packages (from prompt-toolkit<2.0.0,>=1.0.4->ipython->keras-tuner) (1.15.0)\n",
            "Requirement already satisfied: wcwidth in /usr/local/lib/python3.7/dist-packages (from prompt-toolkit<2.0.0,>=1.0.4->ipython->keras-tuner) (0.2.5)\n",
            "Requirement already satisfied: pyparsing>=2.0.2 in /usr/local/lib/python3.7/dist-packages (from packaging->keras-tuner) (2.4.7)\n",
            "Requirement already satisfied: ptyprocess>=0.5 in /usr/local/lib/python3.7/dist-packages (from pexpect->ipython->keras-tuner) (0.7.0)\n",
            "Requirement already satisfied: urllib3!=1.25.0,!=1.25.1,<1.26,>=1.21.1 in /usr/local/lib/python3.7/dist-packages (from requests->keras-tuner) (1.24.3)\n",
            "Requirement already satisfied: chardet<4,>=3.0.2 in /usr/local/lib/python3.7/dist-packages (from requests->keras-tuner) (3.0.4)\n",
            "Requirement already satisfied: certifi>=2017.4.17 in /usr/local/lib/python3.7/dist-packages (from requests->keras-tuner) (2021.5.30)\n",
            "Requirement already satisfied: idna<3,>=2.5 in /usr/local/lib/python3.7/dist-packages (from requests->keras-tuner) (2.10)\n",
            "Requirement already satisfied: grpcio>=1.24.3 in /usr/local/lib/python3.7/dist-packages (from tensorboard->keras-tuner) (1.41.0)\n",
            "Requirement already satisfied: tensorboard-plugin-wit>=1.6.0 in /usr/local/lib/python3.7/dist-packages (from tensorboard->keras-tuner) (1.8.0)\n",
            "Requirement already satisfied: absl-py>=0.4 in /usr/local/lib/python3.7/dist-packages (from tensorboard->keras-tuner) (0.12.0)\n",
            "Requirement already satisfied: google-auth-oauthlib<0.5,>=0.4.1 in /usr/local/lib/python3.7/dist-packages (from tensorboard->keras-tuner) (0.4.6)\n",
            "Requirement already satisfied: protobuf>=3.6.0 in /usr/local/lib/python3.7/dist-packages (from tensorboard->keras-tuner) (3.17.3)\n",
            "Requirement already satisfied: wheel>=0.26 in /usr/local/lib/python3.7/dist-packages (from tensorboard->keras-tuner) (0.37.0)\n",
            "Requirement already satisfied: markdown>=2.6.8 in /usr/local/lib/python3.7/dist-packages (from tensorboard->keras-tuner) (3.3.4)\n",
            "Requirement already satisfied: werkzeug>=0.11.15 in /usr/local/lib/python3.7/dist-packages (from tensorboard->keras-tuner) (1.0.1)\n",
            "Requirement already satisfied: google-auth<2,>=1.6.3 in /usr/local/lib/python3.7/dist-packages (from tensorboard->keras-tuner) (1.35.0)\n",
            "Requirement already satisfied: tensorboard-data-server<0.7.0,>=0.6.0 in /usr/local/lib/python3.7/dist-packages (from tensorboard->keras-tuner) (0.6.1)\n",
            "Requirement already satisfied: rsa<5,>=3.1.4 in /usr/local/lib/python3.7/dist-packages (from google-auth<2,>=1.6.3->tensorboard->keras-tuner) (4.7.2)\n",
            "Requirement already satisfied: pyasn1-modules>=0.2.1 in /usr/local/lib/python3.7/dist-packages (from google-auth<2,>=1.6.3->tensorboard->keras-tuner) (0.2.8)\n",
            "Requirement already satisfied: cachetools<5.0,>=2.0.0 in /usr/local/lib/python3.7/dist-packages (from google-auth<2,>=1.6.3->tensorboard->keras-tuner) (4.2.4)\n",
            "Requirement already satisfied: requests-oauthlib>=0.7.0 in /usr/local/lib/python3.7/dist-packages (from google-auth-oauthlib<0.5,>=0.4.1->tensorboard->keras-tuner) (1.3.0)\n",
            "Requirement already satisfied: importlib-metadata in /usr/local/lib/python3.7/dist-packages (from markdown>=2.6.8->tensorboard->keras-tuner) (4.8.1)\n",
            "Requirement already satisfied: pyasn1<0.5.0,>=0.4.6 in /usr/local/lib/python3.7/dist-packages (from pyasn1-modules>=0.2.1->google-auth<2,>=1.6.3->tensorboard->keras-tuner) (0.4.8)\n",
            "Requirement already satisfied: oauthlib>=3.0.0 in /usr/local/lib/python3.7/dist-packages (from requests-oauthlib>=0.7.0->google-auth-oauthlib<0.5,>=0.4.1->tensorboard->keras-tuner) (3.1.1)\n",
            "Requirement already satisfied: zipp>=0.5 in /usr/local/lib/python3.7/dist-packages (from importlib-metadata->markdown>=2.6.8->tensorboard->keras-tuner) (3.6.0)\n",
            "Requirement already satisfied: typing-extensions>=3.6.4 in /usr/local/lib/python3.7/dist-packages (from importlib-metadata->markdown>=2.6.8->tensorboard->keras-tuner) (3.7.4.3)\n",
            "Installing collected packages: kt-legacy, keras-tuner\n",
            "Successfully installed keras-tuner-1.0.4 kt-legacy-1.0.4\n"
          ]
        },
        {
          "output_type": "stream",
          "name": "stderr",
          "text": [
            "/usr/local/lib/python3.7/dist-packages/statsmodels/tools/_testing.py:19: FutureWarning: pandas.util.testing is deprecated. Use the functions in the public API at pandas.testing instead.\n",
            "  import pandas.util.testing as tm\n"
          ]
        },
        {
          "output_type": "stream",
          "name": "stdout",
          "text": [
            "\n",
            "\n",
            "TensorFlow version: 2.6.0\n",
            "Eager execution is: True\n",
            "Keras version: 2.6.0\n",
            "Num GPUs Available:  1\n"
          ]
        }
      ]
    },
    {
      "cell_type": "code",
      "metadata": {
        "id": "Rq4OU14dx8-q"
      },
      "source": [
        "# Reproducibility in TF and Pytorch \n",
        "def init_seeds(seed=1920):\n",
        "    np.random.seed(seed)\n",
        "    random.seed(seed)\n",
        "    session_conf = tf.compat.v1.ConfigProto()\n",
        "    session_conf = tf.compat.v1.ConfigProto(intra_op_parallelism_threads=1,\n",
        "                              inter_op_parallelism_threads=1)\n",
        "    os.environ['TF_CUDNN_DETERMINISTIC'] ='true'\n",
        "    os.environ['TF_DETERMINISTIC_OPS'] = 'true'\n",
        "    tf.random.set_seed(seed)\n",
        "    sess = tf.compat.v1.Session(graph=tf.compat.v1.get_default_graph(),config=session_conf)\n",
        "    tf.compat.v1.keras.backend.set_session(sess)\n",
        "    return sess"
      ],
      "execution_count": 5,
      "outputs": []
    },
    {
      "cell_type": "code",
      "metadata": {
        "id": "fjzKoSqW-5kS",
        "colab": {
          "base_uri": "https://localhost:8080/"
        },
        "outputId": "27a4d1c4-176b-4282-c7aa-5a3deaa32855"
      },
      "source": [
        "init_seeds(seed=1920)\n"
      ],
      "execution_count": 6,
      "outputs": [
        {
          "output_type": "execute_result",
          "data": {
            "text/plain": [
              "<tensorflow.python.client.session.Session at 0x7fe27480e150>"
            ]
          },
          "metadata": {},
          "execution_count": 6
        }
      ]
    },
    {
      "cell_type": "code",
      "metadata": {
        "id": "VxVwRvRclImg",
        "colab": {
          "base_uri": "https://localhost:8080/"
        },
        "outputId": "963044cc-86a6-4ad4-bae3-8a77f16809be"
      },
      "source": [
        "df = pd.read_csv('combined_trade_final_LSTM.csv', low_memory=False)\n",
        "print('Number of rows and columns:', df.shape)"
      ],
      "execution_count": 7,
      "outputs": [
        {
          "output_type": "stream",
          "name": "stdout",
          "text": [
            "Number of rows and columns: (6633785, 20)\n"
          ]
        }
      ]
    },
    {
      "cell_type": "code",
      "metadata": {
        "id": "P2fTZxlql1F1"
      },
      "source": [
        "# Convert dtypes\n",
        "df = df.copy()\n",
        "df['State_Closure_EA_Diff'] = df['State_Closure_EA_Diff'].astype('float64')\n",
        "df['Container_Type_Dry'] = df['Container_Type_Dry'].astype('object')"
      ],
      "execution_count": 8,
      "outputs": []
    },
    {
      "cell_type": "code",
      "metadata": {
        "id": "-cNVHJxkl1DQ"
      },
      "source": [
        "df = df.drop(['DateTime'], axis=1)"
      ],
      "execution_count": 9,
      "outputs": []
    },
    {
      "cell_type": "code",
      "metadata": {
        "id": "Uiw-wEGpsIqS"
      },
      "source": [
        "# Reformat for X,y\n",
        "df2 = df.drop(['Metric_Tons'], axis=1)\n",
        "df1 = df.loc[:, ['Metric_Tons']]\n",
        "df = pd.concat([df1, df2], axis=1)\n",
        "\n",
        "del df1, df2"
      ],
      "execution_count": 10,
      "outputs": []
    },
    {
      "cell_type": "code",
      "metadata": {
        "id": "5ov9MVadmmTC",
        "colab": {
          "base_uri": "https://localhost:8080/"
        },
        "outputId": "caee0315-3f02-4cf0-d4e0-58f196e589a3"
      },
      "source": [
        "# X,y for encoding\n",
        "X = df.drop(['Metric_Tons'], axis=1)\n",
        "y = df.iloc[:,:1]\n",
        "print(X.shape)\n",
        "print(y.shape)"
      ],
      "execution_count": 11,
      "outputs": [
        {
          "output_type": "stream",
          "name": "stdout",
          "text": [
            "(6633785, 18)\n",
            "(6633785, 1)\n"
          ]
        }
      ]
    },
    {
      "cell_type": "code",
      "metadata": {
        "id": "P78w8tQ59pkm"
      },
      "source": [
        "# Set up train/test split\n",
        "X_train, X_test, y_train, y_test = train_test_split(X, y, test_size = 0.3, stratify= X.Year, random_state = 1920)"
      ],
      "execution_count": 12,
      "outputs": []
    },
    {
      "cell_type": "code",
      "metadata": {
        "id": "cQ45WstYmmVr",
        "colab": {
          "base_uri": "https://localhost:8080/"
        },
        "outputId": "e180cc8a-7f43-4bc1-8bff-7be0e4ff2147"
      },
      "source": [
        "# Training set: Encode variables using ranking - ordinal               \n",
        "ce_ord = ce.OrdinalEncoder(cols = ['foreign_company_size', 'us_company_size'])\n",
        "X_train = ce_ord.fit_transform(X_train, y_train['Metric_Tons'])"
      ],
      "execution_count": 13,
      "outputs": [
        {
          "output_type": "stream",
          "name": "stderr",
          "text": [
            "/usr/local/lib/python3.7/dist-packages/category_encoders/utils.py:21: FutureWarning: is_categorical is deprecated and will be removed in a future version.  Use is_categorical_dtype instead\n",
            "  elif pd.api.types.is_categorical(cols):\n"
          ]
        }
      ]
    },
    {
      "cell_type": "code",
      "metadata": {
        "colab": {
          "base_uri": "https://localhost:8080/"
        },
        "id": "yXaOKp2WAB7I",
        "outputId": "e46521bb-cd99-4c6b-81be-d6822f18e551"
      },
      "source": [
        "# Testing set: Encode variables using ranking - ordinal               \n",
        "ce_ord = ce.OrdinalEncoder(cols = ['foreign_company_size', 'us_company_size'])\n",
        "X_test = ce_ord.fit_transform(X_test, y_test['Metric_Tons'])"
      ],
      "execution_count": 14,
      "outputs": [
        {
          "output_type": "stream",
          "name": "stderr",
          "text": [
            "/usr/local/lib/python3.7/dist-packages/category_encoders/utils.py:21: FutureWarning: is_categorical is deprecated and will be removed in a future version.  Use is_categorical_dtype instead\n",
            "  elif pd.api.types.is_categorical(cols):\n"
          ]
        }
      ]
    },
    {
      "cell_type": "code",
      "metadata": {
        "colab": {
          "base_uri": "https://localhost:8080/",
          "height": 244
        },
        "id": "XdlkQSsEu36o",
        "outputId": "6e75ba64-b117-4c17-c21e-72c39fd796c1"
      },
      "source": [
        "# Train: Create dummy variables for categorical variables\n",
        "X_train = pd.get_dummies(X_train, drop_first=True)\n",
        "X_train.head()"
      ],
      "execution_count": 15,
      "outputs": [
        {
          "output_type": "execute_result",
          "data": {
            "text/html": [
              "<div>\n",
              "<style scoped>\n",
              "    .dataframe tbody tr th:only-of-type {\n",
              "        vertical-align: middle;\n",
              "    }\n",
              "\n",
              "    .dataframe tbody tr th {\n",
              "        vertical-align: top;\n",
              "    }\n",
              "\n",
              "    .dataframe thead th {\n",
              "        text-align: right;\n",
              "    }\n",
              "</style>\n",
              "<table border=\"1\" class=\"dataframe\">\n",
              "  <thead>\n",
              "    <tr style=\"text-align: right;\">\n",
              "      <th></th>\n",
              "      <th>TCVUSD</th>\n",
              "      <th>Year</th>\n",
              "      <th>us_company_size</th>\n",
              "      <th>foreign_company_size</th>\n",
              "      <th>US_Unemployment_Rate</th>\n",
              "      <th>Average_Tariff</th>\n",
              "      <th>cases_weekly</th>\n",
              "      <th>deaths_weekly</th>\n",
              "      <th>State_Closure_EA_Diff</th>\n",
              "      <th>cases_pctdelta</th>\n",
              "      <th>deaths_pctdelta</th>\n",
              "      <th>Delta_Case0_Effective</th>\n",
              "      <th>Container_LCL/FCL_LCL</th>\n",
              "      <th>Container_Type_Dry_True</th>\n",
              "      <th>Trade_Direction_Import</th>\n",
              "      <th>US_Port_Coastal_Region_Northeast</th>\n",
              "      <th>US_Port_Coastal_Region_Northwest</th>\n",
              "      <th>US_Port_Coastal_Region_Other</th>\n",
              "      <th>US_Port_Coastal_Region_Southeast</th>\n",
              "      <th>US_Port_Coastal_Region_Southwest</th>\n",
              "      <th>Foreign_Country_Region_European Union</th>\n",
              "      <th>Foreign_Country_Region_Middle East &amp; North Africa</th>\n",
              "      <th>Foreign_Country_Region_North America</th>\n",
              "      <th>Foreign_Country_Region_Oceania</th>\n",
              "      <th>Foreign_Country_Region_Other East Asia (not China)</th>\n",
              "      <th>Foreign_Country_Region_Other Europe (not European Union)</th>\n",
              "      <th>Foreign_Country_Region_South America</th>\n",
              "      <th>Foreign_Country_Region_South Asia</th>\n",
              "      <th>Foreign_Country_Region_Southeast Asia</th>\n",
              "      <th>Foreign_Country_Region_Sub Saharan Africa</th>\n",
              "      <th>HS_Group_Name_Edible with Processing</th>\n",
              "      <th>HS_Group_Name_Finished Goods</th>\n",
              "      <th>HS_Group_Name_Pharma</th>\n",
              "      <th>HS_Group_Name_Raw Input</th>\n",
              "      <th>HS_Group_Name_Vices</th>\n",
              "    </tr>\n",
              "  </thead>\n",
              "  <tbody>\n",
              "    <tr>\n",
              "      <th>1322785</th>\n",
              "      <td>14796.09</td>\n",
              "      <td>2020</td>\n",
              "      <td>1</td>\n",
              "      <td>1</td>\n",
              "      <td>14.8</td>\n",
              "      <td>13.24</td>\n",
              "      <td>242840.0</td>\n",
              "      <td>9105.0</td>\n",
              "      <td>2.0</td>\n",
              "      <td>24283900.0</td>\n",
              "      <td>910400.0</td>\n",
              "      <td>39.0</td>\n",
              "      <td>0</td>\n",
              "      <td>0</td>\n",
              "      <td>1</td>\n",
              "      <td>0</td>\n",
              "      <td>0</td>\n",
              "      <td>0</td>\n",
              "      <td>1</td>\n",
              "      <td>0</td>\n",
              "      <td>0</td>\n",
              "      <td>0</td>\n",
              "      <td>1</td>\n",
              "      <td>0</td>\n",
              "      <td>0</td>\n",
              "      <td>0</td>\n",
              "      <td>0</td>\n",
              "      <td>0</td>\n",
              "      <td>0</td>\n",
              "      <td>0</td>\n",
              "      <td>0</td>\n",
              "      <td>0</td>\n",
              "      <td>0</td>\n",
              "      <td>0</td>\n",
              "      <td>0</td>\n",
              "    </tr>\n",
              "    <tr>\n",
              "      <th>3187981</th>\n",
              "      <td>25621.34</td>\n",
              "      <td>2019</td>\n",
              "      <td>2</td>\n",
              "      <td>2</td>\n",
              "      <td>4.0</td>\n",
              "      <td>31.79</td>\n",
              "      <td>0.0</td>\n",
              "      <td>0.0</td>\n",
              "      <td>0.0</td>\n",
              "      <td>0.0</td>\n",
              "      <td>0.0</td>\n",
              "      <td>59.0</td>\n",
              "      <td>0</td>\n",
              "      <td>1</td>\n",
              "      <td>1</td>\n",
              "      <td>0</td>\n",
              "      <td>0</td>\n",
              "      <td>0</td>\n",
              "      <td>0</td>\n",
              "      <td>1</td>\n",
              "      <td>0</td>\n",
              "      <td>0</td>\n",
              "      <td>0</td>\n",
              "      <td>0</td>\n",
              "      <td>0</td>\n",
              "      <td>0</td>\n",
              "      <td>0</td>\n",
              "      <td>1</td>\n",
              "      <td>0</td>\n",
              "      <td>0</td>\n",
              "      <td>0</td>\n",
              "      <td>0</td>\n",
              "      <td>0</td>\n",
              "      <td>0</td>\n",
              "      <td>0</td>\n",
              "    </tr>\n",
              "    <tr>\n",
              "      <th>1062127</th>\n",
              "      <td>13326.58</td>\n",
              "      <td>2020</td>\n",
              "      <td>3</td>\n",
              "      <td>3</td>\n",
              "      <td>11.1</td>\n",
              "      <td>3.56</td>\n",
              "      <td>1447771.0</td>\n",
              "      <td>40865.0</td>\n",
              "      <td>0.0</td>\n",
              "      <td>144777000.0</td>\n",
              "      <td>4086400.0</td>\n",
              "      <td>59.0</td>\n",
              "      <td>0</td>\n",
              "      <td>1</td>\n",
              "      <td>1</td>\n",
              "      <td>0</td>\n",
              "      <td>0</td>\n",
              "      <td>0</td>\n",
              "      <td>0</td>\n",
              "      <td>1</td>\n",
              "      <td>0</td>\n",
              "      <td>0</td>\n",
              "      <td>0</td>\n",
              "      <td>0</td>\n",
              "      <td>0</td>\n",
              "      <td>0</td>\n",
              "      <td>0</td>\n",
              "      <td>0</td>\n",
              "      <td>0</td>\n",
              "      <td>0</td>\n",
              "      <td>0</td>\n",
              "      <td>1</td>\n",
              "      <td>0</td>\n",
              "      <td>0</td>\n",
              "      <td>0</td>\n",
              "    </tr>\n",
              "    <tr>\n",
              "      <th>1264197</th>\n",
              "      <td>113.67</td>\n",
              "      <td>2020</td>\n",
              "      <td>3</td>\n",
              "      <td>1</td>\n",
              "      <td>7.8</td>\n",
              "      <td>13.24</td>\n",
              "      <td>4867827.0</td>\n",
              "      <td>96828.0</td>\n",
              "      <td>2.0</td>\n",
              "      <td>486782600.0</td>\n",
              "      <td>9682700.0</td>\n",
              "      <td>39.0</td>\n",
              "      <td>1</td>\n",
              "      <td>0</td>\n",
              "      <td>1</td>\n",
              "      <td>0</td>\n",
              "      <td>0</td>\n",
              "      <td>0</td>\n",
              "      <td>1</td>\n",
              "      <td>0</td>\n",
              "      <td>0</td>\n",
              "      <td>0</td>\n",
              "      <td>1</td>\n",
              "      <td>0</td>\n",
              "      <td>0</td>\n",
              "      <td>0</td>\n",
              "      <td>0</td>\n",
              "      <td>0</td>\n",
              "      <td>0</td>\n",
              "      <td>0</td>\n",
              "      <td>0</td>\n",
              "      <td>0</td>\n",
              "      <td>0</td>\n",
              "      <td>0</td>\n",
              "      <td>0</td>\n",
              "    </tr>\n",
              "    <tr>\n",
              "      <th>5144839</th>\n",
              "      <td>63815.70</td>\n",
              "      <td>2019</td>\n",
              "      <td>4</td>\n",
              "      <td>3</td>\n",
              "      <td>3.6</td>\n",
              "      <td>11.03</td>\n",
              "      <td>0.0</td>\n",
              "      <td>0.0</td>\n",
              "      <td>2.0</td>\n",
              "      <td>0.0</td>\n",
              "      <td>0.0</td>\n",
              "      <td>27.0</td>\n",
              "      <td>0</td>\n",
              "      <td>1</td>\n",
              "      <td>1</td>\n",
              "      <td>1</td>\n",
              "      <td>0</td>\n",
              "      <td>0</td>\n",
              "      <td>0</td>\n",
              "      <td>0</td>\n",
              "      <td>0</td>\n",
              "      <td>0</td>\n",
              "      <td>0</td>\n",
              "      <td>0</td>\n",
              "      <td>0</td>\n",
              "      <td>0</td>\n",
              "      <td>1</td>\n",
              "      <td>0</td>\n",
              "      <td>0</td>\n",
              "      <td>0</td>\n",
              "      <td>1</td>\n",
              "      <td>0</td>\n",
              "      <td>0</td>\n",
              "      <td>0</td>\n",
              "      <td>0</td>\n",
              "    </tr>\n",
              "  </tbody>\n",
              "</table>\n",
              "</div>"
            ],
            "text/plain": [
              "           TCVUSD  Year  ...  HS_Group_Name_Raw Input  HS_Group_Name_Vices\n",
              "1322785  14796.09  2020  ...                        0                    0\n",
              "3187981  25621.34  2019  ...                        0                    0\n",
              "1062127  13326.58  2020  ...                        0                    0\n",
              "1264197    113.67  2020  ...                        0                    0\n",
              "5144839  63815.70  2019  ...                        0                    0\n",
              "\n",
              "[5 rows x 35 columns]"
            ]
          },
          "metadata": {},
          "execution_count": 15
        }
      ]
    },
    {
      "cell_type": "code",
      "metadata": {
        "colab": {
          "base_uri": "https://localhost:8080/"
        },
        "id": "tYNLGVVwNZRP",
        "outputId": "067d1576-8b3b-4b50-bf80-a73513da0bcc"
      },
      "source": [
        "print('Dimensions of X_train for input:', X_train.shape[1])"
      ],
      "execution_count": 16,
      "outputs": [
        {
          "output_type": "stream",
          "name": "stdout",
          "text": [
            "Dimensions of X_train for input: 35\n"
          ]
        }
      ]
    },
    {
      "cell_type": "code",
      "metadata": {
        "colab": {
          "base_uri": "https://localhost:8080/",
          "height": 244
        },
        "id": "E8a5Q-UkvcwG",
        "outputId": "7d9b6dc1-5a90-475b-8fdd-4b0b99ae5faa"
      },
      "source": [
        "# Test: Create dummy variables for categorical variables\n",
        "X_test = pd.get_dummies(X_test, drop_first=True)\n",
        "X_test.head()"
      ],
      "execution_count": 17,
      "outputs": [
        {
          "output_type": "execute_result",
          "data": {
            "text/html": [
              "<div>\n",
              "<style scoped>\n",
              "    .dataframe tbody tr th:only-of-type {\n",
              "        vertical-align: middle;\n",
              "    }\n",
              "\n",
              "    .dataframe tbody tr th {\n",
              "        vertical-align: top;\n",
              "    }\n",
              "\n",
              "    .dataframe thead th {\n",
              "        text-align: right;\n",
              "    }\n",
              "</style>\n",
              "<table border=\"1\" class=\"dataframe\">\n",
              "  <thead>\n",
              "    <tr style=\"text-align: right;\">\n",
              "      <th></th>\n",
              "      <th>TCVUSD</th>\n",
              "      <th>Year</th>\n",
              "      <th>us_company_size</th>\n",
              "      <th>foreign_company_size</th>\n",
              "      <th>US_Unemployment_Rate</th>\n",
              "      <th>Average_Tariff</th>\n",
              "      <th>cases_weekly</th>\n",
              "      <th>deaths_weekly</th>\n",
              "      <th>State_Closure_EA_Diff</th>\n",
              "      <th>cases_pctdelta</th>\n",
              "      <th>deaths_pctdelta</th>\n",
              "      <th>Delta_Case0_Effective</th>\n",
              "      <th>Container_LCL/FCL_LCL</th>\n",
              "      <th>Container_Type_Dry_True</th>\n",
              "      <th>Trade_Direction_Import</th>\n",
              "      <th>US_Port_Coastal_Region_Northeast</th>\n",
              "      <th>US_Port_Coastal_Region_Northwest</th>\n",
              "      <th>US_Port_Coastal_Region_Other</th>\n",
              "      <th>US_Port_Coastal_Region_Southeast</th>\n",
              "      <th>US_Port_Coastal_Region_Southwest</th>\n",
              "      <th>Foreign_Country_Region_European Union</th>\n",
              "      <th>Foreign_Country_Region_Middle East &amp; North Africa</th>\n",
              "      <th>Foreign_Country_Region_North America</th>\n",
              "      <th>Foreign_Country_Region_Oceania</th>\n",
              "      <th>Foreign_Country_Region_Other East Asia (not China)</th>\n",
              "      <th>Foreign_Country_Region_Other Europe (not European Union)</th>\n",
              "      <th>Foreign_Country_Region_South America</th>\n",
              "      <th>Foreign_Country_Region_South Asia</th>\n",
              "      <th>Foreign_Country_Region_Southeast Asia</th>\n",
              "      <th>Foreign_Country_Region_Sub Saharan Africa</th>\n",
              "      <th>HS_Group_Name_Edible with Processing</th>\n",
              "      <th>HS_Group_Name_Finished Goods</th>\n",
              "      <th>HS_Group_Name_Pharma</th>\n",
              "      <th>HS_Group_Name_Raw Input</th>\n",
              "      <th>HS_Group_Name_Vices</th>\n",
              "    </tr>\n",
              "  </thead>\n",
              "  <tbody>\n",
              "    <tr>\n",
              "      <th>5106325</th>\n",
              "      <td>60440.23</td>\n",
              "      <td>2019</td>\n",
              "      <td>1</td>\n",
              "      <td>1</td>\n",
              "      <td>3.6</td>\n",
              "      <td>2.28</td>\n",
              "      <td>0.0</td>\n",
              "      <td>0.0</td>\n",
              "      <td>2.0</td>\n",
              "      <td>0.0</td>\n",
              "      <td>0.0</td>\n",
              "      <td>27.0</td>\n",
              "      <td>0</td>\n",
              "      <td>1</td>\n",
              "      <td>1</td>\n",
              "      <td>1</td>\n",
              "      <td>0</td>\n",
              "      <td>0</td>\n",
              "      <td>0</td>\n",
              "      <td>0</td>\n",
              "      <td>1</td>\n",
              "      <td>0</td>\n",
              "      <td>0</td>\n",
              "      <td>0</td>\n",
              "      <td>0</td>\n",
              "      <td>0</td>\n",
              "      <td>0</td>\n",
              "      <td>0</td>\n",
              "      <td>0</td>\n",
              "      <td>0</td>\n",
              "      <td>1</td>\n",
              "      <td>0</td>\n",
              "      <td>0</td>\n",
              "      <td>0</td>\n",
              "      <td>0</td>\n",
              "    </tr>\n",
              "    <tr>\n",
              "      <th>6438450</th>\n",
              "      <td>48273.18</td>\n",
              "      <td>2020</td>\n",
              "      <td>2</td>\n",
              "      <td>2</td>\n",
              "      <td>14.8</td>\n",
              "      <td>18.80</td>\n",
              "      <td>11828.0</td>\n",
              "      <td>245.0</td>\n",
              "      <td>16.0</td>\n",
              "      <td>1182700.0</td>\n",
              "      <td>24400.0</td>\n",
              "      <td>30.0</td>\n",
              "      <td>0</td>\n",
              "      <td>1</td>\n",
              "      <td>0</td>\n",
              "      <td>0</td>\n",
              "      <td>0</td>\n",
              "      <td>0</td>\n",
              "      <td>1</td>\n",
              "      <td>0</td>\n",
              "      <td>0</td>\n",
              "      <td>0</td>\n",
              "      <td>0</td>\n",
              "      <td>0</td>\n",
              "      <td>0</td>\n",
              "      <td>0</td>\n",
              "      <td>0</td>\n",
              "      <td>0</td>\n",
              "      <td>0</td>\n",
              "      <td>0</td>\n",
              "      <td>0</td>\n",
              "      <td>0</td>\n",
              "      <td>0</td>\n",
              "      <td>0</td>\n",
              "      <td>0</td>\n",
              "    </tr>\n",
              "    <tr>\n",
              "      <th>1831211</th>\n",
              "      <td>26647.72</td>\n",
              "      <td>2020</td>\n",
              "      <td>1</td>\n",
              "      <td>1</td>\n",
              "      <td>8.4</td>\n",
              "      <td>3.56</td>\n",
              "      <td>2969878.0</td>\n",
              "      <td>226578.0</td>\n",
              "      <td>2.0</td>\n",
              "      <td>296987700.0</td>\n",
              "      <td>22657700.0</td>\n",
              "      <td>27.0</td>\n",
              "      <td>0</td>\n",
              "      <td>1</td>\n",
              "      <td>1</td>\n",
              "      <td>1</td>\n",
              "      <td>0</td>\n",
              "      <td>0</td>\n",
              "      <td>0</td>\n",
              "      <td>0</td>\n",
              "      <td>0</td>\n",
              "      <td>0</td>\n",
              "      <td>0</td>\n",
              "      <td>0</td>\n",
              "      <td>0</td>\n",
              "      <td>0</td>\n",
              "      <td>0</td>\n",
              "      <td>0</td>\n",
              "      <td>0</td>\n",
              "      <td>0</td>\n",
              "      <td>0</td>\n",
              "      <td>1</td>\n",
              "      <td>0</td>\n",
              "      <td>0</td>\n",
              "      <td>0</td>\n",
              "    </tr>\n",
              "    <tr>\n",
              "      <th>3384697</th>\n",
              "      <td>23730.50</td>\n",
              "      <td>2019</td>\n",
              "      <td>1</td>\n",
              "      <td>1</td>\n",
              "      <td>3.7</td>\n",
              "      <td>18.80</td>\n",
              "      <td>0.0</td>\n",
              "      <td>0.0</td>\n",
              "      <td>0.0</td>\n",
              "      <td>0.0</td>\n",
              "      <td>0.0</td>\n",
              "      <td>59.0</td>\n",
              "      <td>0</td>\n",
              "      <td>1</td>\n",
              "      <td>1</td>\n",
              "      <td>0</td>\n",
              "      <td>0</td>\n",
              "      <td>0</td>\n",
              "      <td>0</td>\n",
              "      <td>1</td>\n",
              "      <td>0</td>\n",
              "      <td>0</td>\n",
              "      <td>0</td>\n",
              "      <td>0</td>\n",
              "      <td>0</td>\n",
              "      <td>0</td>\n",
              "      <td>0</td>\n",
              "      <td>0</td>\n",
              "      <td>1</td>\n",
              "      <td>0</td>\n",
              "      <td>1</td>\n",
              "      <td>0</td>\n",
              "      <td>0</td>\n",
              "      <td>0</td>\n",
              "      <td>0</td>\n",
              "    </tr>\n",
              "    <tr>\n",
              "      <th>1260139</th>\n",
              "      <td>0.00</td>\n",
              "      <td>2020</td>\n",
              "      <td>1</td>\n",
              "      <td>3</td>\n",
              "      <td>6.9</td>\n",
              "      <td>29.76</td>\n",
              "      <td>4980900.0</td>\n",
              "      <td>101462.0</td>\n",
              "      <td>2.0</td>\n",
              "      <td>498089900.0</td>\n",
              "      <td>10146100.0</td>\n",
              "      <td>39.0</td>\n",
              "      <td>0</td>\n",
              "      <td>1</td>\n",
              "      <td>1</td>\n",
              "      <td>0</td>\n",
              "      <td>0</td>\n",
              "      <td>0</td>\n",
              "      <td>1</td>\n",
              "      <td>0</td>\n",
              "      <td>0</td>\n",
              "      <td>0</td>\n",
              "      <td>0</td>\n",
              "      <td>0</td>\n",
              "      <td>0</td>\n",
              "      <td>0</td>\n",
              "      <td>1</td>\n",
              "      <td>0</td>\n",
              "      <td>0</td>\n",
              "      <td>0</td>\n",
              "      <td>1</td>\n",
              "      <td>0</td>\n",
              "      <td>0</td>\n",
              "      <td>0</td>\n",
              "      <td>0</td>\n",
              "    </tr>\n",
              "  </tbody>\n",
              "</table>\n",
              "</div>"
            ],
            "text/plain": [
              "           TCVUSD  Year  ...  HS_Group_Name_Raw Input  HS_Group_Name_Vices\n",
              "5106325  60440.23  2019  ...                        0                    0\n",
              "6438450  48273.18  2020  ...                        0                    0\n",
              "1831211  26647.72  2020  ...                        0                    0\n",
              "3384697  23730.50  2019  ...                        0                    0\n",
              "1260139      0.00  2020  ...                        0                    0\n",
              "\n",
              "[5 rows x 35 columns]"
            ]
          },
          "metadata": {},
          "execution_count": 17
        }
      ]
    },
    {
      "cell_type": "code",
      "metadata": {
        "id": "2p9IhwKg7NjA"
      },
      "source": [
        "# MinMax Scaling\n",
        "mn = MinMaxScaler()\n",
        "X_train = pd.DataFrame(mn.fit_transform(X_train))\n",
        "X_test = pd.DataFrame(mn.fit_transform(X_test))"
      ],
      "execution_count": 18,
      "outputs": []
    },
    {
      "cell_type": "code",
      "metadata": {
        "id": "SLoI31wGCg8w"
      },
      "source": [
        "log_folder = \"logs/fit/\" + datetime.datetime.now().strftime(\"%Y%m%d-%H%M%S\")\n",
        "\n",
        "%load_ext tensorboard"
      ],
      "execution_count": 19,
      "outputs": []
    },
    {
      "cell_type": "code",
      "metadata": {
        "id": "-4msncLOCopP"
      },
      "source": [
        "# Set up callbacks\n",
        "filepath = 'MLP_weights_only_train1920_b16_HPO1.h5'\n",
        "\n",
        "checkpoint_dir = os.path.dirname(filepath)\n",
        "\n",
        "tensorboard_callback = tf.keras.callbacks.TensorBoard(log_folder,\n",
        "                                                      histogram_freq=1)\n",
        "\n",
        "callbacks_list = [EarlyStopping(monitor='val_loss', patience = 5),\n",
        "                  ModelCheckpoint(filepath, monitor='mse', \n",
        "                                  save_best_only = True, mode='min'), \n",
        "                  tensorboard_callback]"
      ],
      "execution_count": 20,
      "outputs": []
    },
    {
      "cell_type": "code",
      "metadata": {
        "id": "Iqem_WQzrYau"
      },
      "source": [
        "# Define model for HPO\n",
        "def build_model(hp): \n",
        "  model = keras.Sequential()\n",
        "  for i in range(hp.Int(\"num_layers\", 2, 5)):\n",
        "        model.add(tf.keras.layers.Dense( units=hp.Int(\"layer_size\" + str(i), min_value=20, max_value=40, step=5),\n",
        "                activation=\"relu\", kernel_initializer='normal'))\n",
        "  model.add(tf.keras.layers.Dropout(0.3))\n",
        "  model.add(Dense(1))\n",
        "  model.compile(loss=\"mae\", metrics=[\"mse\"], optimizer=keras.optimizers.Adam(\n",
        "            hp.Choice(\"learning_rate\", values=[1e-2, 1e-3, 1e-4])))\n",
        "  return model"
      ],
      "execution_count": 21,
      "outputs": []
    },
    {
      "cell_type": "code",
      "metadata": {
        "id": "dWezzswVCwg5"
      },
      "source": [
        "# Define the search conditions \n",
        "tuner = BayesianOptimization(\n",
        "    build_model,\n",
        "    objective=\"val_loss\",\n",
        "    max_trials=10,\n",
        "    executions_per_trial=3,\n",
        "    overwrite=True,\n",
        "    directory=\"MLP_1920_HPO1\",\n",
        "    project_name=\"MLP_1920_HPO1\"\n",
        ")"
      ],
      "execution_count": 22,
      "outputs": []
    },
    {
      "cell_type": "code",
      "metadata": {
        "colab": {
          "base_uri": "https://localhost:8080/"
        },
        "id": "N8waScrkCwg7",
        "outputId": "8171f308-7c5c-4921-b069-999b9902c3af"
      },
      "source": [
        "# Print a summary of the search space\n",
        "tuner.search_space_summary()"
      ],
      "execution_count": 23,
      "outputs": [
        {
          "output_type": "stream",
          "name": "stdout",
          "text": [
            "Search space summary\n",
            "Default search space size: 4\n",
            "num_layers (Int)\n",
            "{'default': None, 'conditions': [], 'min_value': 2, 'max_value': 5, 'step': 1, 'sampling': None}\n",
            "layer_size0 (Int)\n",
            "{'default': None, 'conditions': [], 'min_value': 20, 'max_value': 40, 'step': 5, 'sampling': None}\n",
            "layer_size1 (Int)\n",
            "{'default': None, 'conditions': [], 'min_value': 20, 'max_value': 40, 'step': 5, 'sampling': None}\n",
            "learning_rate (Choice)\n",
            "{'default': 0.01, 'conditions': [], 'values': [0.01, 0.001, 0.0001], 'ordered': True}\n"
          ]
        }
      ]
    },
    {
      "cell_type": "code",
      "metadata": {
        "colab": {
          "base_uri": "https://localhost:8080/"
        },
        "id": "d5M_QTGNCwg8",
        "outputId": "facd5522-ddec-4303-e8c1-5fc45d481e64"
      },
      "source": [
        "# Begin the search for the best hyperparameters \n",
        "tuner.search(X_train, y_train, epochs=3, validation_split=0.2, batch_size=16,\n",
        "             callbacks=callbacks_list)"
      ],
      "execution_count": 24,
      "outputs": [
        {
          "output_type": "stream",
          "name": "stdout",
          "text": [
            "Trial 10 Complete [01h 25m 31s]\n",
            "val_loss: 11.799287796020508\n",
            "\n",
            "Best val_loss So Far: 11.799287796020508\n",
            "Total elapsed time: 14h 01m 56s\n",
            "INFO:tensorflow:Oracle triggered exit\n"
          ]
        }
      ]
    },
    {
      "cell_type": "code",
      "metadata": {
        "id": "dM5I6bxVCwg8"
      },
      "source": [
        "# Retrieve the best model(s)\n",
        "models = tuner.get_best_models(num_models=2)"
      ],
      "execution_count": 25,
      "outputs": []
    },
    {
      "cell_type": "code",
      "metadata": {
        "colab": {
          "base_uri": "https://localhost:8080/"
        },
        "id": "7qgiOcsqCwg9",
        "outputId": "ed151fe4-88f7-4e41-9caf-602b9128328f"
      },
      "source": [
        "# Print a summary of the results from the trials\n",
        "tuner.results_summary()"
      ],
      "execution_count": 26,
      "outputs": [
        {
          "output_type": "stream",
          "name": "stdout",
          "text": [
            "Results summary\n",
            "Results in MLP_1920_HPO1/MLP_1920_HPO1\n",
            "Showing 10 best trials\n",
            "Objective(name='val_loss', direction='min')\n",
            "Trial summary\n",
            "Hyperparameters:\n",
            "num_layers: 4\n",
            "layer_size0: 25\n",
            "layer_size1: 25\n",
            "learning_rate: 0.001\n",
            "layer_size2: 25\n",
            "layer_size3: 20\n",
            "layer_size4: 20\n",
            "Score: 11.799287796020508\n",
            "Trial summary\n",
            "Hyperparameters:\n",
            "num_layers: 4\n",
            "layer_size0: 25\n",
            "layer_size1: 25\n",
            "learning_rate: 0.001\n",
            "layer_size2: 20\n",
            "layer_size3: 20\n",
            "Score: 12.087239583333334\n",
            "Trial summary\n",
            "Hyperparameters:\n",
            "num_layers: 4\n",
            "layer_size0: 20\n",
            "layer_size1: 30\n",
            "learning_rate: 0.001\n",
            "layer_size2: 20\n",
            "layer_size3: 20\n",
            "layer_size4: 20\n",
            "Score: 12.21741803487142\n",
            "Trial summary\n",
            "Hyperparameters:\n",
            "num_layers: 5\n",
            "layer_size0: 25\n",
            "layer_size1: 30\n",
            "learning_rate: 0.0001\n",
            "layer_size2: 25\n",
            "layer_size3: 40\n",
            "layer_size4: 20\n",
            "Score: 12.3302640914917\n",
            "Trial summary\n",
            "Hyperparameters:\n",
            "num_layers: 2\n",
            "layer_size0: 25\n",
            "layer_size1: 35\n",
            "learning_rate: 0.001\n",
            "layer_size2: 20\n",
            "layer_size3: 20\n",
            "layer_size4: 20\n",
            "Score: 12.37261931101481\n",
            "Trial summary\n",
            "Hyperparameters:\n",
            "num_layers: 4\n",
            "layer_size0: 25\n",
            "layer_size1: 20\n",
            "learning_rate: 0.01\n",
            "layer_size2: 20\n",
            "layer_size3: 25\n",
            "layer_size4: 20\n",
            "Score: 12.403897603352865\n",
            "Trial summary\n",
            "Hyperparameters:\n",
            "num_layers: 2\n",
            "layer_size0: 25\n",
            "layer_size1: 20\n",
            "learning_rate: 0.01\n",
            "layer_size2: 20\n",
            "layer_size3: 20\n",
            "layer_size4: 35\n",
            "Score: 12.406346003214518\n",
            "Trial summary\n",
            "Hyperparameters:\n",
            "num_layers: 5\n",
            "layer_size0: 35\n",
            "layer_size1: 35\n",
            "learning_rate: 0.01\n",
            "layer_size2: 20\n",
            "layer_size3: 20\n",
            "layer_size4: 20\n",
            "Score: 12.43197218577067\n",
            "Trial summary\n",
            "Hyperparameters:\n",
            "num_layers: 5\n",
            "layer_size0: 20\n",
            "layer_size1: 20\n",
            "learning_rate: 0.0001\n",
            "layer_size2: 20\n",
            "layer_size3: 20\n",
            "layer_size4: 20\n",
            "Score: 12.515681902567545\n",
            "Trial summary\n",
            "Hyperparameters:\n",
            "num_layers: 3\n",
            "layer_size0: 30\n",
            "layer_size1: 25\n",
            "learning_rate: 0.0001\n",
            "layer_size2: 20\n",
            "layer_size3: 20\n",
            "layer_size4: 20\n",
            "Score: 12.530024210611979\n"
          ]
        }
      ]
    }
  ]
}