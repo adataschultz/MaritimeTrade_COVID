{
  "nbformat": 4,
  "nbformat_minor": 0,
  "metadata": {
    "accelerator": "GPU",
    "colab": {
      "name": "MaritimeTradeCOVID_LSTM_Train2020_batch64_Epochs30_sgd.ipynb",
      "provenance": [],
      "collapsed_sections": [],
      "machine_shape": "hm",
      "include_colab_link": true
    },
    "kernelspec": {
      "display_name": "Python 3",
      "name": "python3"
    },
    "language_info": {
      "name": "python"
    }
  },
  "cells": [
    {
      "cell_type": "markdown",
      "metadata": {
        "id": "view-in-github",
        "colab_type": "text"
      },
      "source": [
        "<a href=\"https://colab.research.google.com/github/adataschultz/MaritimeTrade_COVID/blob/main/LSTM/MaritimeTradeCOVID_LSTM_Train2020_batch64_Epochs30_sgd.ipynb\" target=\"_parent\"><img src=\"https://colab.research.google.com/assets/colab-badge.svg\" alt=\"Open In Colab\"/></a>"
      ]
    },
    {
      "cell_type": "code",
      "metadata": {
        "id": "wpTmKtBVKMKT"
      },
      "source": [
        "######################################################\n",
        "### 2019 - 2020 Maritime Trade with COVID for LSTM ###\n",
        "######################################################"
      ],
      "execution_count": null,
      "outputs": []
    },
    {
      "cell_type": "code",
      "metadata": {
        "id": "pPD1AoKmuksU",
        "colab": {
          "base_uri": "https://localhost:8080/"
        },
        "outputId": "ad1f402f-78e1-46dc-fe5c-d96810e82731"
      },
      "source": [
        "from google.colab import drive \n",
        "drive.mount('/content/drive')"
      ],
      "execution_count": null,
      "outputs": [
        {
          "output_type": "stream",
          "name": "stdout",
          "text": [
            "Mounted at /content/drive\n"
          ]
        }
      ]
    },
    {
      "cell_type": "code",
      "metadata": {
        "id": "jOReN1GxuoCI",
        "colab": {
          "base_uri": "https://localhost:8080/"
        },
        "outputId": "b6c71932-eb43-4d59-fabe-37a9f4c125f6"
      },
      "source": [
        "%cd /content/drive/MyDrive/Data_MaritimeTrade_MLP/"
      ],
      "execution_count": null,
      "outputs": [
        {
          "output_type": "stream",
          "name": "stdout",
          "text": [
            "/content/drive/.shortcut-targets-by-id/1HcYK-ojUTzFDer17GGpL_6eH2GiGvmEK/Data_MaritimeTrade_MLP\n"
          ]
        }
      ]
    },
    {
      "cell_type": "code",
      "metadata": {
        "id": "cIGCx5w0ylqA"
      },
      "source": [
        "#pip install -U tensorflow"
      ],
      "execution_count": null,
      "outputs": []
    },
    {
      "cell_type": "code",
      "metadata": {
        "id": "SJsjiI7GlIeX",
        "colab": {
          "base_uri": "https://localhost:8080/"
        },
        "outputId": "4b414bde-b971-4b31-d1b1-67e39e4d9a9c"
      },
      "source": [
        "!pip install category_encoders\n",
        "import os\n",
        "import random\n",
        "import pandas as pd\n",
        "import numpy as np\n",
        "import category_encoders as ce\n",
        "from pandas import read_csv\n",
        "from pandas import DataFrame\n",
        "from pandas import concat\n",
        "import sklearn\n",
        "from sklearn.preprocessing import LabelEncoder\n",
        "from sklearn.preprocessing import MinMaxScaler\n",
        "import tensorflow as tf\n",
        "from tensorflow.keras.models import Sequential\n",
        "from tensorflow.keras.layers import LSTM, Dense,  Dropout\n",
        "from tensorflow.keras.callbacks import EarlyStopping\n",
        "from tensorflow.keras.callbacks import ModelCheckpoint\n",
        "from math import sqrt\n",
        "from numpy import concatenate\n",
        "import matplotlib as plt\n",
        "from matplotlib import pyplot\n",
        "from sklearn.metrics import mean_absolute_error\n",
        "from sklearn.metrics import mean_squared_error\n",
        "from sklearn.metrics import r2_score\n",
        "\n",
        "print(\"TensorFlow version: {}\".format(tf.__version__))\n",
        "print(\"Eager execution is: {}\".format(tf.executing_eagerly()))\n",
        "print(\"Keras version: {}\".format(tf.keras.__version__))\n",
        "print(\"Num GPUs Available: \", len(tf.config.list_physical_devices('GPU')))"
      ],
      "execution_count": null,
      "outputs": [
        {
          "output_type": "stream",
          "name": "stdout",
          "text": [
            "Collecting category_encoders\n",
            "  Downloading category_encoders-2.2.2-py2.py3-none-any.whl (80 kB)\n",
            "\u001b[?25l\r\u001b[K     |████                            | 10 kB 37.9 MB/s eta 0:00:01\r\u001b[K     |████████▏                       | 20 kB 20.9 MB/s eta 0:00:01\r\u001b[K     |████████████▏                   | 30 kB 16.0 MB/s eta 0:00:01\r\u001b[K     |████████████████▎               | 40 kB 14.2 MB/s eta 0:00:01\r\u001b[K     |████████████████████▎           | 51 kB 9.0 MB/s eta 0:00:01\r\u001b[K     |████████████████████████▍       | 61 kB 9.3 MB/s eta 0:00:01\r\u001b[K     |████████████████████████████▍   | 71 kB 8.7 MB/s eta 0:00:01\r\u001b[K     |████████████████████████████████| 80 kB 5.3 MB/s \n",
            "\u001b[?25hRequirement already satisfied: scipy>=1.0.0 in /usr/local/lib/python3.7/dist-packages (from category_encoders) (1.4.1)\n",
            "Requirement already satisfied: scikit-learn>=0.20.0 in /usr/local/lib/python3.7/dist-packages (from category_encoders) (0.22.2.post1)\n",
            "Requirement already satisfied: pandas>=0.21.1 in /usr/local/lib/python3.7/dist-packages (from category_encoders) (1.1.5)\n",
            "Requirement already satisfied: numpy>=1.14.0 in /usr/local/lib/python3.7/dist-packages (from category_encoders) (1.19.5)\n",
            "Requirement already satisfied: patsy>=0.5.1 in /usr/local/lib/python3.7/dist-packages (from category_encoders) (0.5.2)\n",
            "Requirement already satisfied: statsmodels>=0.9.0 in /usr/local/lib/python3.7/dist-packages (from category_encoders) (0.10.2)\n",
            "Requirement already satisfied: pytz>=2017.2 in /usr/local/lib/python3.7/dist-packages (from pandas>=0.21.1->category_encoders) (2018.9)\n",
            "Requirement already satisfied: python-dateutil>=2.7.3 in /usr/local/lib/python3.7/dist-packages (from pandas>=0.21.1->category_encoders) (2.8.2)\n",
            "Requirement already satisfied: six in /usr/local/lib/python3.7/dist-packages (from patsy>=0.5.1->category_encoders) (1.15.0)\n",
            "Requirement already satisfied: joblib>=0.11 in /usr/local/lib/python3.7/dist-packages (from scikit-learn>=0.20.0->category_encoders) (1.0.1)\n",
            "Installing collected packages: category-encoders\n",
            "Successfully installed category-encoders-2.2.2\n"
          ]
        },
        {
          "output_type": "stream",
          "name": "stderr",
          "text": [
            "/usr/local/lib/python3.7/dist-packages/statsmodels/tools/_testing.py:19: FutureWarning: pandas.util.testing is deprecated. Use the functions in the public API at pandas.testing instead.\n",
            "  import pandas.util.testing as tm\n"
          ]
        },
        {
          "output_type": "stream",
          "name": "stdout",
          "text": [
            "TensorFlow version: 2.6.0\n",
            "Eager execution is: True\n",
            "Keras version: 2.6.0\n",
            "Num GPUs Available:  1\n"
          ]
        }
      ]
    },
    {
      "cell_type": "code",
      "metadata": {
        "id": "Rq4OU14dx8-q"
      },
      "source": [
        "# Reproducibility  in TF and Pytorch \n",
        "def init_seeds(seed=2020):\n",
        "    np.random.seed(seed)\n",
        "    random.seed(seed)\n",
        "    session_conf = tf.compat.v1.ConfigProto()\n",
        "    session_conf = tf.compat.v1.ConfigProto(intra_op_parallelism_threads=1,\n",
        "                              inter_op_parallelism_threads=1)\n",
        "    os.environ['TF_CUDNN_DETERMINISTIC'] ='true'\n",
        "    os.environ['TF_DETERMINISTIC_OPS'] = 'true'\n",
        "    tf.random.set_seed(seed)\n",
        "    sess = tf.compat.v1.Session(graph=tf.compat.v1.get_default_graph(),config=session_conf)\n",
        "    tf.compat.v1.keras.backend.set_session(sess)\n",
        "    return sess"
      ],
      "execution_count": null,
      "outputs": []
    },
    {
      "cell_type": "code",
      "metadata": {
        "id": "fjzKoSqW-5kS",
        "colab": {
          "base_uri": "https://localhost:8080/"
        },
        "outputId": "d52d4357-af1b-4e07-fb69-994acd53888c"
      },
      "source": [
        "init_seeds(seed=2020)\n"
      ],
      "execution_count": null,
      "outputs": [
        {
          "output_type": "execute_result",
          "data": {
            "text/plain": [
              "<tensorflow.python.client.session.Session at 0x7fa5479bc490>"
            ]
          },
          "metadata": {},
          "execution_count": 7
        }
      ]
    },
    {
      "cell_type": "code",
      "metadata": {
        "id": "VxVwRvRclImg",
        "colab": {
          "base_uri": "https://localhost:8080/"
        },
        "outputId": "af0521da-1a59-4e18-c63d-cfad7cd86557"
      },
      "source": [
        "df = pd.read_csv('combined_trade_final_LSTM.csv',low_memory=False)\n",
        "print('Number of rows and columns:', df.shape)"
      ],
      "execution_count": null,
      "outputs": [
        {
          "output_type": "stream",
          "name": "stdout",
          "text": [
            "Number of rows and columns: (6633785, 20)\n"
          ]
        }
      ]
    },
    {
      "cell_type": "code",
      "metadata": {
        "id": "ZGOMyP8_lIqa",
        "colab": {
          "base_uri": "https://localhost:8080/"
        },
        "outputId": "f4c3a973-c410-4dd0-9d2f-15ed93936b84"
      },
      "source": [
        "def data_quality_table(df):\n",
        "        mis_val = df.isnull().sum()\n",
        "        var_type = df.dtypes\n",
        "        unique_count = df.nunique()\n",
        "        mis_val_table = pd.concat([mis_val, var_type, unique_count], axis=1)\n",
        "        mis_val_table_ren_columns = mis_val_table.rename(\n",
        "        columns = {0 : 'Number Missing', 1 : 'Data Type', 2 : 'Number Unique'})\n",
        "        mis_val_table_ren_columns = mis_val_table_ren_columns[\n",
        "            mis_val_table_ren_columns.iloc[:,1] != 0].sort_values(\n",
        "        'Number Missing', ascending=False).round(1)\n",
        "        print (\"The selected dataframe has \" + str(df.shape[1]) + \" columns.\\n\")\n",
        "        return mis_val_table_ren_columns\n",
        "\n",
        "pd.set_option('display.max_columns', None)\n",
        "print(\"\\nData Quality Report\") \n",
        "print(data_quality_table(df))"
      ],
      "execution_count": null,
      "outputs": [
        {
          "output_type": "stream",
          "name": "stdout",
          "text": [
            "\n",
            "Data Quality Report\n",
            "The selected dataframe has 20 columns.\n",
            "\n",
            "                        Number Missing Data Type  Number Unique\n",
            "Container_LCL/FCL                    0    object              2\n",
            "Metric_Tons                          0   float64          24994\n",
            "deaths_pctdelta                      0   float64           1034\n",
            "cases_pctdelta                       0   float64           1103\n",
            "State_Closure_EA_Diff                0     int64              7\n",
            "deaths_weekly                        0   float64           1034\n",
            "cases_weekly                         0   float64           1104\n",
            "Average_Tariff                       0   float64            631\n",
            "US_Unemployment_Rate                 0   float64             14\n",
            "HS_Group_Name                        0    object              6\n",
            "Foreign_Country_Region               0    object             11\n",
            "US_Port_Coastal_Region               0    object              6\n",
            "foreign_company_size                 0    object              6\n",
            "us_company_size                      0    object              6\n",
            "Year                                 0     int64              2\n",
            "DateTime                             0    object            731\n",
            "Trade_Direction                      0    object              2\n",
            "TCVUSD                               0   float64        3340083\n",
            "Container_Type_Dry                   0      bool              2\n",
            "Delta_Case0_Effective                0   float64             25\n"
          ]
        }
      ]
    },
    {
      "cell_type": "code",
      "metadata": {
        "id": "P2fTZxlql1F1"
      },
      "source": [
        "# Convert dtypes\n",
        "df = df.copy()\n",
        "df['State_Closure_EA_Diff'] = df['State_Closure_EA_Diff'].astype('float64')\n",
        "df['Container_Type_Dry'] = df['Container_Type_Dry'].astype('object')"
      ],
      "execution_count": null,
      "outputs": []
    },
    {
      "cell_type": "code",
      "metadata": {
        "id": "A9jZrhs5lIzg"
      },
      "source": [
        "# Convert \n",
        "df = df.copy()\n",
        "df['DateTime']= pd.to_datetime(df['DateTime']) \n",
        "df['DateTime_YearWeek'] = df['DateTime'].dt.strftime('%Y-w%U')"
      ],
      "execution_count": null,
      "outputs": []
    },
    {
      "cell_type": "code",
      "metadata": {
        "id": "-cNVHJxkl1DQ"
      },
      "source": [
        "df = df.drop(['DateTime'], axis=1)"
      ],
      "execution_count": null,
      "outputs": []
    },
    {
      "cell_type": "code",
      "metadata": {
        "id": "2b7UYtXzlIwq"
      },
      "source": [
        "# Reformat for X,y\n",
        "df2 = df.drop(['Metric_Tons'], axis=1)\n",
        "df1 = df.loc[:, ['Metric_Tons']]\n",
        "df = pd.concat([df1, df2], axis=1)\n",
        "\n",
        "del df1, df2"
      ],
      "execution_count": null,
      "outputs": []
    },
    {
      "cell_type": "code",
      "metadata": {
        "id": "RuD8BzyUmMxp"
      },
      "source": [
        "# Sort data chronologically\n",
        "df = df.sort_values('DateTime_YearWeek')"
      ],
      "execution_count": null,
      "outputs": []
    },
    {
      "cell_type": "code",
      "metadata": {
        "id": "uYnOIGptdbTU",
        "colab": {
          "base_uri": "https://localhost:8080/",
          "height": 258
        },
        "outputId": "761569c9-39e0-4c99-ee97-41d89f05dc3e"
      },
      "source": [
        "# Set YearWeek in the index\n",
        "df = df.set_index('DateTime_YearWeek')\n",
        "df.head()"
      ],
      "execution_count": null,
      "outputs": [
        {
          "output_type": "execute_result",
          "data": {
            "text/html": [
              "<div>\n",
              "<style scoped>\n",
              "    .dataframe tbody tr th:only-of-type {\n",
              "        vertical-align: middle;\n",
              "    }\n",
              "\n",
              "    .dataframe tbody tr th {\n",
              "        vertical-align: top;\n",
              "    }\n",
              "\n",
              "    .dataframe thead th {\n",
              "        text-align: right;\n",
              "    }\n",
              "</style>\n",
              "<table border=\"1\" class=\"dataframe\">\n",
              "  <thead>\n",
              "    <tr style=\"text-align: right;\">\n",
              "      <th></th>\n",
              "      <th>Metric_Tons</th>\n",
              "      <th>Container_LCL/FCL</th>\n",
              "      <th>Container_Type_Dry</th>\n",
              "      <th>TCVUSD</th>\n",
              "      <th>Trade_Direction</th>\n",
              "      <th>Year</th>\n",
              "      <th>us_company_size</th>\n",
              "      <th>foreign_company_size</th>\n",
              "      <th>US_Port_Coastal_Region</th>\n",
              "      <th>Foreign_Country_Region</th>\n",
              "      <th>HS_Group_Name</th>\n",
              "      <th>US_Unemployment_Rate</th>\n",
              "      <th>Average_Tariff</th>\n",
              "      <th>cases_weekly</th>\n",
              "      <th>deaths_weekly</th>\n",
              "      <th>State_Closure_EA_Diff</th>\n",
              "      <th>cases_pctdelta</th>\n",
              "      <th>deaths_pctdelta</th>\n",
              "      <th>Delta_Case0_Effective</th>\n",
              "    </tr>\n",
              "    <tr>\n",
              "      <th>DateTime_YearWeek</th>\n",
              "      <th></th>\n",
              "      <th></th>\n",
              "      <th></th>\n",
              "      <th></th>\n",
              "      <th></th>\n",
              "      <th></th>\n",
              "      <th></th>\n",
              "      <th></th>\n",
              "      <th></th>\n",
              "      <th></th>\n",
              "      <th></th>\n",
              "      <th></th>\n",
              "      <th></th>\n",
              "      <th></th>\n",
              "      <th></th>\n",
              "      <th></th>\n",
              "      <th></th>\n",
              "      <th></th>\n",
              "      <th></th>\n",
              "    </tr>\n",
              "  </thead>\n",
              "  <tbody>\n",
              "    <tr>\n",
              "      <th>2019-w00</th>\n",
              "      <td>0.07</td>\n",
              "      <td>LCL</td>\n",
              "      <td>True</td>\n",
              "      <td>817.95</td>\n",
              "      <td>Import</td>\n",
              "      <td>2019</td>\n",
              "      <td>medium</td>\n",
              "      <td>small</td>\n",
              "      <td>Northeast</td>\n",
              "      <td>European Union</td>\n",
              "      <td>Finished Goods</td>\n",
              "      <td>4.0</td>\n",
              "      <td>6.19</td>\n",
              "      <td>0.0</td>\n",
              "      <td>0.0</td>\n",
              "      <td>2.0</td>\n",
              "      <td>0.0</td>\n",
              "      <td>0.0</td>\n",
              "      <td>27.0</td>\n",
              "    </tr>\n",
              "    <tr>\n",
              "      <th>2019-w00</th>\n",
              "      <td>11.54</td>\n",
              "      <td>FCL</td>\n",
              "      <td>True</td>\n",
              "      <td>68439.12</td>\n",
              "      <td>Import</td>\n",
              "      <td>2019</td>\n",
              "      <td>small</td>\n",
              "      <td>small</td>\n",
              "      <td>Southeast</td>\n",
              "      <td>China</td>\n",
              "      <td>Finished Goods</td>\n",
              "      <td>4.0</td>\n",
              "      <td>12.37</td>\n",
              "      <td>0.0</td>\n",
              "      <td>0.0</td>\n",
              "      <td>1.0</td>\n",
              "      <td>0.0</td>\n",
              "      <td>0.0</td>\n",
              "      <td>39.0</td>\n",
              "    </tr>\n",
              "    <tr>\n",
              "      <th>2019-w00</th>\n",
              "      <td>6.32</td>\n",
              "      <td>FCL</td>\n",
              "      <td>True</td>\n",
              "      <td>37481.39</td>\n",
              "      <td>Import</td>\n",
              "      <td>2019</td>\n",
              "      <td>small</td>\n",
              "      <td>small</td>\n",
              "      <td>Southeast</td>\n",
              "      <td>China</td>\n",
              "      <td>Finished Goods</td>\n",
              "      <td>4.0</td>\n",
              "      <td>12.37</td>\n",
              "      <td>0.0</td>\n",
              "      <td>0.0</td>\n",
              "      <td>1.0</td>\n",
              "      <td>0.0</td>\n",
              "      <td>0.0</td>\n",
              "      <td>39.0</td>\n",
              "    </tr>\n",
              "    <tr>\n",
              "      <th>2019-w00</th>\n",
              "      <td>3.82</td>\n",
              "      <td>FCL</td>\n",
              "      <td>True</td>\n",
              "      <td>22654.89</td>\n",
              "      <td>Import</td>\n",
              "      <td>2019</td>\n",
              "      <td>medium</td>\n",
              "      <td>small</td>\n",
              "      <td>Southeast</td>\n",
              "      <td>China</td>\n",
              "      <td>Finished Goods</td>\n",
              "      <td>4.0</td>\n",
              "      <td>12.37</td>\n",
              "      <td>0.0</td>\n",
              "      <td>0.0</td>\n",
              "      <td>1.0</td>\n",
              "      <td>0.0</td>\n",
              "      <td>0.0</td>\n",
              "      <td>39.0</td>\n",
              "    </tr>\n",
              "    <tr>\n",
              "      <th>2019-w00</th>\n",
              "      <td>4.15</td>\n",
              "      <td>FCL</td>\n",
              "      <td>True</td>\n",
              "      <td>24611.99</td>\n",
              "      <td>Import</td>\n",
              "      <td>2019</td>\n",
              "      <td>medium</td>\n",
              "      <td>small</td>\n",
              "      <td>Southeast</td>\n",
              "      <td>China</td>\n",
              "      <td>Finished Goods</td>\n",
              "      <td>4.0</td>\n",
              "      <td>12.37</td>\n",
              "      <td>0.0</td>\n",
              "      <td>0.0</td>\n",
              "      <td>1.0</td>\n",
              "      <td>0.0</td>\n",
              "      <td>0.0</td>\n",
              "      <td>39.0</td>\n",
              "    </tr>\n",
              "  </tbody>\n",
              "</table>\n",
              "</div>"
            ],
            "text/plain": [
              "                   Metric_Tons Container_LCL/FCL Container_Type_Dry    TCVUSD  \\\n",
              "DateTime_YearWeek                                                               \n",
              "2019-w00                  0.07               LCL               True    817.95   \n",
              "2019-w00                 11.54               FCL               True  68439.12   \n",
              "2019-w00                  6.32               FCL               True  37481.39   \n",
              "2019-w00                  3.82               FCL               True  22654.89   \n",
              "2019-w00                  4.15               FCL               True  24611.99   \n",
              "\n",
              "                  Trade_Direction  Year us_company_size foreign_company_size  \\\n",
              "DateTime_YearWeek                                                              \n",
              "2019-w00                   Import  2019          medium                small   \n",
              "2019-w00                   Import  2019           small                small   \n",
              "2019-w00                   Import  2019           small                small   \n",
              "2019-w00                   Import  2019          medium                small   \n",
              "2019-w00                   Import  2019          medium                small   \n",
              "\n",
              "                  US_Port_Coastal_Region Foreign_Country_Region  \\\n",
              "DateTime_YearWeek                                                 \n",
              "2019-w00                       Northeast         European Union   \n",
              "2019-w00                       Southeast                  China   \n",
              "2019-w00                       Southeast                  China   \n",
              "2019-w00                       Southeast                  China   \n",
              "2019-w00                       Southeast                  China   \n",
              "\n",
              "                    HS_Group_Name  US_Unemployment_Rate  Average_Tariff  \\\n",
              "DateTime_YearWeek                                                         \n",
              "2019-w00           Finished Goods                   4.0            6.19   \n",
              "2019-w00           Finished Goods                   4.0           12.37   \n",
              "2019-w00           Finished Goods                   4.0           12.37   \n",
              "2019-w00           Finished Goods                   4.0           12.37   \n",
              "2019-w00           Finished Goods                   4.0           12.37   \n",
              "\n",
              "                   cases_weekly  deaths_weekly  State_Closure_EA_Diff  \\\n",
              "DateTime_YearWeek                                                       \n",
              "2019-w00                    0.0            0.0                    2.0   \n",
              "2019-w00                    0.0            0.0                    1.0   \n",
              "2019-w00                    0.0            0.0                    1.0   \n",
              "2019-w00                    0.0            0.0                    1.0   \n",
              "2019-w00                    0.0            0.0                    1.0   \n",
              "\n",
              "                   cases_pctdelta  deaths_pctdelta  Delta_Case0_Effective  \n",
              "DateTime_YearWeek                                                          \n",
              "2019-w00                      0.0              0.0                   27.0  \n",
              "2019-w00                      0.0              0.0                   39.0  \n",
              "2019-w00                      0.0              0.0                   39.0  \n",
              "2019-w00                      0.0              0.0                   39.0  \n",
              "2019-w00                      0.0              0.0                   39.0  "
            ]
          },
          "metadata": {},
          "execution_count": 15
        }
      ]
    },
    {
      "cell_type": "code",
      "metadata": {
        "id": "5ov9MVadmmTC",
        "colab": {
          "base_uri": "https://localhost:8080/"
        },
        "outputId": "ad088893-c10e-4802-a9bf-553d11a7a6d5"
      },
      "source": [
        "# X,y for encoding\n",
        "X = df.drop(['Metric_Tons'], axis=1)\n",
        "y = df.iloc[:,:1]\n",
        "print(X.shape)\n",
        "print(y.shape)"
      ],
      "execution_count": null,
      "outputs": [
        {
          "output_type": "stream",
          "name": "stdout",
          "text": [
            "(6633785, 18)\n",
            "(6633785, 1)\n"
          ]
        }
      ]
    },
    {
      "cell_type": "code",
      "metadata": {
        "id": "cQ45WstYmmVr",
        "colab": {
          "base_uri": "https://localhost:8080/"
        },
        "outputId": "46d6a945-69c4-4f9f-adb0-20e0798be5a6"
      },
      "source": [
        "# Encode variables using ranking - ordinal               \n",
        "ce_ord = ce.OrdinalEncoder(cols = ['foreign_company_size', 'us_company_size'])\n",
        "result = ce_ord.fit_transform(X, y['Metric_Tons'])"
      ],
      "execution_count": null,
      "outputs": [
        {
          "output_type": "stream",
          "name": "stderr",
          "text": [
            "/usr/local/lib/python3.7/dist-packages/category_encoders/utils.py:21: FutureWarning: is_categorical is deprecated and will be removed in a future version.  Use is_categorical_dtype instead\n",
            "  elif pd.api.types.is_categorical(cols):\n"
          ]
        }
      ]
    },
    {
      "cell_type": "code",
      "metadata": {
        "id": "fZlH271CEBmp"
      },
      "source": [
        "result = pd.concat([y, result], axis=1)"
      ],
      "execution_count": null,
      "outputs": []
    },
    {
      "cell_type": "code",
      "metadata": {
        "id": "rp7GWKtfmM9V",
        "colab": {
          "base_uri": "https://localhost:8080/"
        },
        "outputId": "27478a8a-587b-4d6a-cb16-d106ba6648ce"
      },
      "source": [
        "# Convert remaining qualitative vars to dummy vars\n",
        "result = pd.get_dummies(result, prefix=['HS_Group_Name', 'Container_LCL/FCL', 'Foreign_Country_Region', 'US_Port_Coastal_Region', 'Trade_Direction', 'Container_Type_Dry'],\n",
        "                      columns=['HS_Group_Name', 'Container_LCL/FCL', 'Foreign_Country_Region', 'US_Port_Coastal_Region', 'Trade_Direction', 'Container_Type_Dry'])\n",
        "#currently 42\n",
        "print(result.shape)"
      ],
      "execution_count": null,
      "outputs": [
        {
          "output_type": "stream",
          "name": "stdout",
          "text": [
            "(6633785, 42)\n"
          ]
        }
      ]
    },
    {
      "cell_type": "code",
      "metadata": {
        "id": "UG-mzteffa0x",
        "colab": {
          "base_uri": "https://localhost:8080/"
        },
        "outputId": "3904cc4e-697a-4cc9-c71d-b43979e1f491"
      },
      "source": [
        "df = result\n",
        "print(\"\\nData Quality Report\") \n",
        "print(data_quality_table(df))\n",
        "df.shape"
      ],
      "execution_count": null,
      "outputs": [
        {
          "output_type": "stream",
          "name": "stdout",
          "text": [
            "\n",
            "Data Quality Report\n",
            "The selected dataframe has 42 columns.\n",
            "\n",
            "                                                    Number Missing Data Type  \\\n",
            "Metric_Tons                                                      0   float64   \n",
            "Foreign_Country_Region_Sub Saharan Africa                        0     uint8   \n",
            "Foreign_Country_Region_Middle East & North Africa                0     uint8   \n",
            "Foreign_Country_Region_North America                             0     uint8   \n",
            "Foreign_Country_Region_Oceania                                   0     uint8   \n",
            "Foreign_Country_Region_Other East Asia (not China)               0     uint8   \n",
            "Foreign_Country_Region_Other Europe (not Europe...               0     uint8   \n",
            "Foreign_Country_Region_South America                             0     uint8   \n",
            "Foreign_Country_Region_South Asia                                0     uint8   \n",
            "Foreign_Country_Region_Southeast Asia                            0     uint8   \n",
            "US_Port_Coastal_Region_Gulf                                      0     uint8   \n",
            "TCVUSD                                                           0   float64   \n",
            "US_Port_Coastal_Region_Northeast                                 0     uint8   \n",
            "US_Port_Coastal_Region_Northwest                                 0     uint8   \n",
            "US_Port_Coastal_Region_Other                                     0     uint8   \n",
            "US_Port_Coastal_Region_Southeast                                 0     uint8   \n",
            "US_Port_Coastal_Region_Southwest                                 0     uint8   \n",
            "Trade_Direction_Export                                           0     uint8   \n",
            "Trade_Direction_Import                                           0     uint8   \n",
            "Container_Type_Dry_False                                         0     uint8   \n",
            "Foreign_Country_Region_European Union                            0     uint8   \n",
            "Foreign_Country_Region_China                                     0     uint8   \n",
            "Container_LCL/FCL_LCL                                            0     uint8   \n",
            "Container_LCL/FCL_FCL                                            0     uint8   \n",
            "Year                                                             0     int64   \n",
            "us_company_size                                                  0     int64   \n",
            "foreign_company_size                                             0     int64   \n",
            "US_Unemployment_Rate                                             0   float64   \n",
            "Average_Tariff                                                   0   float64   \n",
            "cases_weekly                                                     0   float64   \n",
            "deaths_weekly                                                    0   float64   \n",
            "State_Closure_EA_Diff                                            0   float64   \n",
            "cases_pctdelta                                                   0   float64   \n",
            "deaths_pctdelta                                                  0   float64   \n",
            "Delta_Case0_Effective                                            0   float64   \n",
            "HS_Group_Name_Edible                                             0     uint8   \n",
            "HS_Group_Name_Edible with Processing                             0     uint8   \n",
            "HS_Group_Name_Finished Goods                                     0     uint8   \n",
            "HS_Group_Name_Pharma                                             0     uint8   \n",
            "HS_Group_Name_Raw Input                                          0     uint8   \n",
            "HS_Group_Name_Vices                                              0     uint8   \n",
            "Container_Type_Dry_True                                          0     uint8   \n",
            "\n",
            "                                                    Number Unique  \n",
            "Metric_Tons                                                 24994  \n",
            "Foreign_Country_Region_Sub Saharan Africa                       2  \n",
            "Foreign_Country_Region_Middle East & North Africa               2  \n",
            "Foreign_Country_Region_North America                            2  \n",
            "Foreign_Country_Region_Oceania                                  2  \n",
            "Foreign_Country_Region_Other East Asia (not China)              2  \n",
            "Foreign_Country_Region_Other Europe (not Europe...              2  \n",
            "Foreign_Country_Region_South America                            2  \n",
            "Foreign_Country_Region_South Asia                               2  \n",
            "Foreign_Country_Region_Southeast Asia                           2  \n",
            "US_Port_Coastal_Region_Gulf                                     2  \n",
            "TCVUSD                                                    3340083  \n",
            "US_Port_Coastal_Region_Northeast                                2  \n",
            "US_Port_Coastal_Region_Northwest                                2  \n",
            "US_Port_Coastal_Region_Other                                    2  \n",
            "US_Port_Coastal_Region_Southeast                                2  \n",
            "US_Port_Coastal_Region_Southwest                                2  \n",
            "Trade_Direction_Export                                          2  \n",
            "Trade_Direction_Import                                          2  \n",
            "Container_Type_Dry_False                                        2  \n",
            "Foreign_Country_Region_European Union                           2  \n",
            "Foreign_Country_Region_China                                    2  \n",
            "Container_LCL/FCL_LCL                                           2  \n",
            "Container_LCL/FCL_FCL                                           2  \n",
            "Year                                                            2  \n",
            "us_company_size                                                 6  \n",
            "foreign_company_size                                            6  \n",
            "US_Unemployment_Rate                                           14  \n",
            "Average_Tariff                                                631  \n",
            "cases_weekly                                                 1104  \n",
            "deaths_weekly                                                1034  \n",
            "State_Closure_EA_Diff                                           7  \n",
            "cases_pctdelta                                               1103  \n",
            "deaths_pctdelta                                              1034  \n",
            "Delta_Case0_Effective                                          25  \n",
            "HS_Group_Name_Edible                                            2  \n",
            "HS_Group_Name_Edible with Processing                            2  \n",
            "HS_Group_Name_Finished Goods                                    2  \n",
            "HS_Group_Name_Pharma                                            2  \n",
            "HS_Group_Name_Raw Input                                         2  \n",
            "HS_Group_Name_Vices                                             2  \n",
            "Container_Type_Dry_True                                         2  \n"
          ]
        },
        {
          "output_type": "execute_result",
          "data": {
            "text/plain": [
              "(6633785, 42)"
            ]
          },
          "metadata": {},
          "execution_count": 20
        }
      ]
    },
    {
      "cell_type": "code",
      "metadata": {
        "id": "QKzFkp0ymmkQ",
        "colab": {
          "base_uri": "https://localhost:8080/"
        },
        "outputId": "f8013691-bfd2-458b-ec77-bc7622b56939"
      },
      "source": [
        "# Examine year for the number per year to be used for train/test sets\n",
        "df[['Year']].value_counts()"
      ],
      "execution_count": null,
      "outputs": [
        {
          "output_type": "execute_result",
          "data": {
            "text/plain": [
              "Year\n",
              "2019    3368492\n",
              "2020    3265293\n",
              "dtype: int64"
            ]
          },
          "metadata": {},
          "execution_count": 21
        }
      ]
    },
    {
      "cell_type": "code",
      "metadata": {
        "id": "OVG7ziM-m3dV",
        "colab": {
          "base_uri": "https://localhost:8080/"
        },
        "outputId": "c8fb2703-0c16-493f-b629-252121543d57"
      },
      "source": [
        "df = df.drop(['Year'], axis=1)\n",
        "df.shape"
      ],
      "execution_count": null,
      "outputs": [
        {
          "output_type": "execute_result",
          "data": {
            "text/plain": [
              "(6633785, 41)"
            ]
          },
          "metadata": {},
          "execution_count": 22
        }
      ]
    },
    {
      "cell_type": "code",
      "metadata": {
        "id": "qe5dNJiim3iY",
        "colab": {
          "base_uri": "https://localhost:8080/"
        },
        "outputId": "045b3ab9-1b41-4510-b19e-aab2fc44c31f"
      },
      "source": [
        "# Prepare data for LSTM\n",
        "# Convert series to supervised learning\n",
        "def series_to_supervised(dat, n_in=1, n_out=1, dropnan=True):\n",
        "\tn_vars = 1 if type(dat) is list else dat.shape[1]\n",
        "\tdf = DataFrame(dat)\n",
        "\tcols, names = list(), list()\n",
        "\t# input sequence (t-n, ... t-1)\n",
        "\tfor i in range(n_in, 0, -1):\n",
        "\t\tcols.append(df.shift(i))\n",
        "\t\tnames += [('var%d(t-%d)' % (j+1, i)) for j in range(n_vars)]\n",
        "\t# forecast sequence (t, t+1, ... t+n)\n",
        "\tfor i in range(0, n_out):\n",
        "\t\tcols.append(df.shift(-i))\n",
        "\t\tif i == 0:\n",
        "\t\t\tnames += [('var%d(t)' % (j+1)) for j in range(n_vars)]\n",
        "\t\telse:\n",
        "\t\t\tnames += [('var%d(t+%d)' % (j+1, i)) for j in range(n_vars)]\n",
        "\t# put it all together\n",
        "\tagg = concat(cols, axis=1)\n",
        "\tagg.columns = names\n",
        "\t# drop rows with NaN values\n",
        "\tif dropnan:\n",
        "\t\tagg.dropna(inplace=True)\n",
        "\treturn agg\n",
        "\n",
        "# Load df\n",
        "dataset = df\n",
        "values = dataset.values\n",
        "# Convert all data to float\n",
        "values = values.astype('float32')\n",
        "# Normalize features\n",
        "scaler = MinMaxScaler(feature_range=(0, 1))\n",
        "scaled = scaler.fit_transform(values)\n",
        "# Frame as supervised learning\n",
        "reframed = series_to_supervised(scaled, 1, 1)\n",
        "reframed.drop(reframed.columns[[42,43,44,45,46,47,48,49,50,51,52,53,54,55,56,57,58,59,60,61,62,63,64,65,66,67,68,69,70,71,72,73,74,75,76,77,78,79,80,81]], axis=1, inplace=True)\n",
        "print(reframed.head())"
      ],
      "execution_count": null,
      "outputs": [
        {
          "output_type": "stream",
          "name": "stdout",
          "text": [
            "   var1(t-1)     var2(t-1)  var3(t-1)  var4(t-1)  var5(t-1)  var6(t-1)  \\\n",
            "1   0.000280  5.305452e-07        0.0        0.0   0.044248   0.003732   \n",
            "2   0.046162  4.439152e-05        0.2        0.0   0.044248   0.007459   \n",
            "3   0.025281  2.431148e-05        0.2        0.0   0.044248   0.007459   \n",
            "4   0.015281  1.469459e-05        0.0        0.0   0.044248   0.007459   \n",
            "5   0.016601  1.596402e-05        0.0        0.0   0.044248   0.007459   \n",
            "\n",
            "   var7(t-1)  var8(t-1)  var9(t-1)  var10(t-1)  var11(t-1)  var12(t-1)  \\\n",
            "1        0.0        0.0     0.1250         0.0    0.000004    0.301587   \n",
            "2        0.0        0.0     0.0625         0.0    0.000004    0.492064   \n",
            "3        0.0        0.0     0.0625         0.0    0.000004    0.492064   \n",
            "4        0.0        0.0     0.0625         0.0    0.000004    0.492064   \n",
            "5        0.0        0.0     0.0625         0.0    0.000004    0.492064   \n",
            "\n",
            "   var13(t-1)  var14(t-1)  var15(t-1)  var16(t-1)  var17(t-1)  var18(t-1)  \\\n",
            "1         0.0         0.0         1.0         0.0         0.0         0.0   \n",
            "2         0.0         0.0         1.0         0.0         0.0         0.0   \n",
            "3         0.0         0.0         1.0         0.0         0.0         0.0   \n",
            "4         0.0         0.0         1.0         0.0         0.0         0.0   \n",
            "5         0.0         0.0         1.0         0.0         0.0         0.0   \n",
            "\n",
            "   var19(t-1)  var20(t-1)  var21(t-1)  var22(t-1)  var23(t-1)  var24(t-1)  \\\n",
            "1         0.0         1.0         0.0         1.0         0.0         0.0   \n",
            "2         1.0         0.0         1.0         0.0         0.0         0.0   \n",
            "3         1.0         0.0         1.0         0.0         0.0         0.0   \n",
            "4         1.0         0.0         1.0         0.0         0.0         0.0   \n",
            "5         1.0         0.0         1.0         0.0         0.0         0.0   \n",
            "\n",
            "   var25(t-1)  var26(t-1)  var27(t-1)  var28(t-1)  var29(t-1)  var30(t-1)  \\\n",
            "1         0.0         0.0         0.0         0.0         0.0         0.0   \n",
            "2         0.0         0.0         0.0         0.0         0.0         0.0   \n",
            "3         0.0         0.0         0.0         0.0         0.0         0.0   \n",
            "4         0.0         0.0         0.0         0.0         0.0         0.0   \n",
            "5         0.0         0.0         0.0         0.0         0.0         0.0   \n",
            "\n",
            "   var31(t-1)  var32(t-1)  var33(t-1)  var34(t-1)  var35(t-1)  var36(t-1)  \\\n",
            "1         0.0         0.0         1.0         0.0         0.0         0.0   \n",
            "2         0.0         0.0         0.0         0.0         0.0         1.0   \n",
            "3         0.0         0.0         0.0         0.0         0.0         1.0   \n",
            "4         0.0         0.0         0.0         0.0         0.0         1.0   \n",
            "5         0.0         0.0         0.0         0.0         0.0         1.0   \n",
            "\n",
            "   var37(t-1)  var38(t-1)  var39(t-1)  var40(t-1)  var41(t-1)   var1(t)  \n",
            "1         0.0         0.0         1.0         0.0         1.0  0.046162  \n",
            "2         0.0         0.0         1.0         0.0         1.0  0.025281  \n",
            "3         0.0         0.0         1.0         0.0         1.0  0.015281  \n",
            "4         0.0         0.0         1.0         0.0         1.0  0.016601  \n",
            "5         0.0         0.0         1.0         0.0         1.0  0.044442  \n"
          ]
        }
      ]
    },
    {
      "cell_type": "code",
      "metadata": {
        "id": "8CijYoGFnG7f"
      },
      "source": [
        "# Define fit model for 2020\n",
        "# Split into train and test sets\n",
        "values = reframed.values\n",
        "n_train_hours = 3368492\n",
        "test = values[:n_train_hours, :]\n",
        "train = values[n_train_hours:, :]\n",
        "# Split into input and outputs\n",
        "train_X, train_y = train[:, :-1], train[:, -1]\n",
        "test_X, test_y = test[:, :-1], test[:, -1]\n",
        "# Reshape input to be 3D [samples, timesteps, features]\n",
        "train_X = train_X.reshape((train_X.shape[0], 1, train_X.shape[1]))\n",
        "test_X = test_X.reshape((test_X.shape[0], 1, test_X.shape[1]))"
      ],
      "execution_count": null,
      "outputs": []
    },
    {
      "cell_type": "code",
      "metadata": {
        "id": "kRwla8x8nHCh",
        "colab": {
          "base_uri": "https://localhost:8080/"
        },
        "outputId": "c7561857-3855-454a-9de9-e471824f30a3"
      },
      "source": [
        "# LSTM Model\n",
        "model = Sequential()\n",
        "model.add(LSTM(50, input_shape=(train_X.shape[1], train_X.shape[2])))\n",
        "model.add(Dense(1))\n",
        "opt = tf.keras.optimizers.SGD(learning_rate=0.01)\n",
        "model.compile(loss='mae', metrics=['mse'], optimizer=opt)\n",
        "model.summary()"
      ],
      "execution_count": null,
      "outputs": [
        {
          "output_type": "stream",
          "name": "stdout",
          "text": [
            "Model: \"sequential\"\n",
            "_________________________________________________________________\n",
            "Layer (type)                 Output Shape              Param #   \n",
            "=================================================================\n",
            "lstm (LSTM)                  (None, 50)                18400     \n",
            "_________________________________________________________________\n",
            "dense (Dense)                (None, 1)                 51        \n",
            "=================================================================\n",
            "Total params: 18,451\n",
            "Trainable params: 18,451\n",
            "Non-trainable params: 0\n",
            "_________________________________________________________________\n"
          ]
        }
      ]
    },
    {
      "cell_type": "code",
      "metadata": {
        "id": "GjwdhmLao3GE"
      },
      "source": [
        "import datetime\n",
        "log_folder = \"logs/fit/\" + datetime.datetime.now().strftime(\"%Y%m%d-%H%M%S\")\n",
        "\n",
        "%load_ext tensorboard"
      ],
      "execution_count": null,
      "outputs": []
    },
    {
      "cell_type": "code",
      "metadata": {
        "id": "313WEIXoo6ov"
      },
      "source": [
        "filepath = 'weights_only_train2020_test2019_n50_b64_epochs30_Updated_sgd.h5'\n",
        "\n",
        "checkpoint_dir = os.path.dirname(filepath)\n",
        "\n",
        "tensorboard_callback = tf.keras.callbacks.TensorBoard(log_folder, histogram_freq=1)\n",
        "\n",
        "callbacks_list = [EarlyStopping(monitor='loss', patience = 3),\n",
        "                  ModelCheckpoint(filepath, monitor='mse', \n",
        "                                  save_best_only=True, mode='min'), \n",
        "                  tensorboard_callback]"
      ],
      "execution_count": null,
      "outputs": []
    },
    {
      "cell_type": "code",
      "metadata": {
        "id": "XWZdRYJWnHFQ",
        "colab": {
          "base_uri": "https://localhost:8080/"
        },
        "outputId": "ef47b540-da9b-480d-f4a4-fc803ca2ea4b"
      },
      "source": [
        "# Train Model\n",
        "history = model.fit(train_X, train_y, epochs=30, batch_size=64, shuffle=False, \n",
        "                    callbacks=callbacks_list)"
      ],
      "execution_count": null,
      "outputs": [
        {
          "output_type": "stream",
          "name": "stdout",
          "text": [
            "Epoch 1/30\n",
            "51021/51021 [==============================] - 132s 2ms/step - loss: 0.0553 - mse: 0.0145\n",
            "Epoch 2/30\n",
            "51021/51021 [==============================] - 127s 2ms/step - loss: 0.0547 - mse: 0.0143\n",
            "Epoch 3/30\n",
            "51021/51021 [==============================] - 127s 2ms/step - loss: 0.0546 - mse: 0.0143\n",
            "Epoch 4/30\n",
            "51021/51021 [==============================] - 127s 2ms/step - loss: 0.0545 - mse: 0.0143\n",
            "Epoch 5/30\n",
            "51021/51021 [==============================] - 127s 2ms/step - loss: 0.0545 - mse: 0.0143\n",
            "Epoch 6/30\n",
            "51021/51021 [==============================] - 127s 2ms/step - loss: 0.0545 - mse: 0.0143\n",
            "Epoch 7/30\n",
            "51021/51021 [==============================] - 128s 3ms/step - loss: 0.0544 - mse: 0.0143\n",
            "Epoch 8/30\n",
            "51021/51021 [==============================] - 127s 2ms/step - loss: 0.0544 - mse: 0.0143\n",
            "Epoch 9/30\n",
            "51021/51021 [==============================] - 127s 2ms/step - loss: 0.0544 - mse: 0.0143\n",
            "Epoch 10/30\n",
            "51021/51021 [==============================] - 128s 2ms/step - loss: 0.0544 - mse: 0.0143\n",
            "Epoch 11/30\n",
            "51021/51021 [==============================] - 127s 2ms/step - loss: 0.0543 - mse: 0.0143\n",
            "Epoch 12/30\n",
            "51021/51021 [==============================] - 127s 2ms/step - loss: 0.0543 - mse: 0.0143\n",
            "Epoch 13/30\n",
            "51021/51021 [==============================] - 126s 2ms/step - loss: 0.0543 - mse: 0.0143\n",
            "Epoch 14/30\n",
            "51021/51021 [==============================] - 127s 2ms/step - loss: 0.0543 - mse: 0.0143\n",
            "Epoch 15/30\n",
            "51021/51021 [==============================] - 126s 2ms/step - loss: 0.0542 - mse: 0.0143\n",
            "Epoch 16/30\n",
            "51021/51021 [==============================] - 126s 2ms/step - loss: 0.0542 - mse: 0.0142\n",
            "Epoch 17/30\n",
            "51021/51021 [==============================] - 126s 2ms/step - loss: 0.0542 - mse: 0.0142\n",
            "Epoch 18/30\n",
            "51021/51021 [==============================] - 126s 2ms/step - loss: 0.0542 - mse: 0.0142\n",
            "Epoch 19/30\n",
            "51021/51021 [==============================] - 127s 2ms/step - loss: 0.0541 - mse: 0.0142\n",
            "Epoch 20/30\n",
            "51021/51021 [==============================] - 126s 2ms/step - loss: 0.0541 - mse: 0.0142\n",
            "Epoch 21/30\n",
            "51021/51021 [==============================] - 126s 2ms/step - loss: 0.0540 - mse: 0.0142\n",
            "Epoch 22/30\n",
            "51021/51021 [==============================] - 126s 2ms/step - loss: 0.0540 - mse: 0.0142\n",
            "Epoch 23/30\n",
            "51021/51021 [==============================] - 126s 2ms/step - loss: 0.0540 - mse: 0.0142\n",
            "Epoch 24/30\n",
            "51021/51021 [==============================] - 126s 2ms/step - loss: 0.0539 - mse: 0.0142\n",
            "Epoch 25/30\n",
            "51021/51021 [==============================] - 126s 2ms/step - loss: 0.0539 - mse: 0.0142\n",
            "Epoch 26/30\n",
            "51021/51021 [==============================] - 126s 2ms/step - loss: 0.0539 - mse: 0.0142\n",
            "Epoch 27/30\n",
            "51021/51021 [==============================] - 126s 2ms/step - loss: 0.0539 - mse: 0.0142\n",
            "Epoch 28/30\n",
            "51021/51021 [==============================] - 127s 2ms/step - loss: 0.0538 - mse: 0.0142\n",
            "Epoch 29/30\n",
            "51021/51021 [==============================] - 126s 2ms/step - loss: 0.0538 - mse: 0.0142\n",
            "Epoch 30/30\n",
            "51021/51021 [==============================] - 126s 2ms/step - loss: 0.0538 - mse: 0.0142\n"
          ]
        }
      ]
    },
    {
      "cell_type": "code",
      "metadata": {
        "id": "CXRLtUyCnHH4"
      },
      "source": [
        "model.save('./211008_Model_50neuron_batch64_30epochs_train2020_Updated_sgd_tf.h5', save_format='tf')\n",
        "#loaded_model = tf.keras.models.load_model('./211008_Model_50neuron_batch64_30epochs_train2020_Updated_sgd_tf')"
      ],
      "execution_count": null,
      "outputs": []
    },
    {
      "cell_type": "code",
      "metadata": {
        "id": "Drl89PVunHL2",
        "colab": {
          "base_uri": "https://localhost:8080/",
          "height": 313
        },
        "outputId": "bd0c7fcb-08b7-4802-b300-729fafd989c3"
      },
      "source": [
        "# Plot loss over epochs\n",
        "my_dpi = 96\n",
        "pyplot.title('Model Loss')\n",
        "pyplot.plot(history.history['loss'], label='train')\n",
        "pyplot.ylabel('Loss')\n",
        "pyplot.xlabel('Epochs')\n",
        "pyplot.legend()\n",
        "pyplot.show()\n",
        "pyplot.savefig('Train2020_batch64_Epochs_Loss_Updated_sgd.png', dpi=my_dpi * 10, bbox_inches='tight')"
      ],
      "execution_count": null,
      "outputs": [
        {
          "output_type": "display_data",
          "data": {
            "image/png": "[encoded data removed]",
            "text/plain": [
              "<Figure size 432x288 with 1 Axes>"
            ]
          },
          "metadata": {
            "needs_background": "light"
          }
        },
        {
          "output_type": "display_data",
          "data": {
            "text/plain": [
              "<Figure size 432x288 with 0 Axes>"
            ]
          },
          "metadata": {}
        }
      ]
    },
    {
      "cell_type": "code",
      "metadata": {
        "id": "7GpzS2T6591x",
        "colab": {
          "base_uri": "https://localhost:8080/"
        },
        "outputId": "c2306191-e8bb-46c6-84b6-d60e09703130"
      },
      "source": [
        "# Make Predictions on Train\n",
        "# Create empty table with 41 fields\n",
        "train_predict = model.predict(train_X)\n",
        "train_predict_dataset_like = np.zeros(shape=(len(train_predict), 41))\n",
        "\n",
        "# Predicted values fill table\n",
        "train_predict_dataset_like[:,0] = train_predict[:,0]\n",
        "\n",
        "# Inverse transform and then select the right field\n",
        "train_predict = scaler.inverse_transform(train_predict_dataset_like)[:,0]\n",
        "\n",
        "print('Train Mean Absolute Error:', mean_absolute_error(train_y[:], train_predict[:]))\n",
        "print('Train Root Mean Squared Error:', np.sqrt(mean_squared_error(train_y[:], train_predict[:])))"
      ],
      "execution_count": null,
      "outputs": [
        {
          "output_type": "stream",
          "name": "stdout",
          "text": [
            "Train Mean Absolute Error: 15.432820887290793\n",
            "Train Root Mean Squared Error: 17.447292470074405\n"
          ]
        }
      ]
    },
    {
      "cell_type": "code",
      "metadata": {
        "id": "7rA2Zltw599S",
        "colab": {
          "base_uri": "https://localhost:8080/"
        },
        "outputId": "1ef10c9c-47b2-44d0-8c4d-8f31f6fa5c73"
      },
      "source": [
        "# Make Predictions on Test\n",
        "test_predict = model.predict(test_X)\n",
        "test_predict_dataset_like = np.zeros(shape=(len(test_predict), 41))\n",
        "\n",
        "# Invert predictions\n",
        "test_predict_dataset_like[:,0] = test_predict[:,0]\n",
        "\n",
        "# Inverse transform and then select the right field\n",
        "test_predict = scaler.inverse_transform(test_predict_dataset_like)[:,0]\n",
        "\n",
        "print('Test Mean Absolute Error:', mean_absolute_error(test_y[:], test_predict[:]))\n",
        "print('Test Root Mean Squared Error:',np.sqrt(mean_squared_error(test_y[:], test_predict[:])))"
      ],
      "execution_count": null,
      "outputs": [
        {
          "output_type": "stream",
          "name": "stdout",
          "text": [
            "Test Mean Absolute Error: 15.534121206799513\n",
            "Test Root Mean Squared Error: 17.865474956285066\n"
          ]
        }
      ]
    },
    {
      "cell_type": "code",
      "metadata": {
        "id": "4iS-Yytw5-AB"
      },
      "source": [
        "# Make a prediction\n",
        "yhat = model.predict(test_X)\n",
        "test_X = test_X.reshape((test_X.shape[0],test_X.shape[2]))"
      ],
      "execution_count": null,
      "outputs": []
    },
    {
      "cell_type": "code",
      "metadata": {
        "id": "T7R_gw-U6G_O"
      },
      "source": [
        "# Invert scaling for forecast\n",
        "inv_yhat = concatenate((yhat, test_X[:, 1:]), axis=1)\n",
        "inv_yhat = scaler.inverse_transform(inv_yhat)\n",
        "inv_yhat = inv_yhat[:,0]"
      ],
      "execution_count": null,
      "outputs": []
    },
    {
      "cell_type": "code",
      "metadata": {
        "id": "8KmwCdwN6HCi",
        "colab": {
          "base_uri": "https://localhost:8080/"
        },
        "outputId": "d5a36fb6-0ba4-4550-ca1e-dd519f033b6d"
      },
      "source": [
        "# Predicted maximum, average and minimum metric tonnage\n",
        "print(\"Predicted Max Metric Tons\")\n",
        "print(np.amax(inv_yhat))\n",
        "(\"\\n\")\n",
        "print(\"Predicted Average Metric Tons\")\n",
        "print(np.average(inv_yhat))\n",
        "(\"\\n\")\n",
        "print(\"Predicted Minimum Metric Tons\")\n",
        "print(np.amin(inv_yhat))"
      ],
      "execution_count": null,
      "outputs": [
        {
          "output_type": "stream",
          "name": "stdout",
          "text": [
            "Predicted Max Metric Tons\n",
            "105.588776\n",
            "Predicted Average Metric Tons\n",
            "15.621695\n",
            "Predicted Minimum Metric Tons\n",
            "-1.1349137\n"
          ]
        }
      ]
    },
    {
      "cell_type": "code",
      "metadata": {
        "id": "aybQsfBI6HFf"
      },
      "source": [
        "# Invert scaling for actual test data\n",
        "test_y = test_y.reshape((len(test_y), 1))\n",
        "inv_y = concatenate((test_y, test_X[:, 1:]), axis=1)\n",
        "inv_y = scaler.inverse_transform(inv_y)\n",
        "inv_y = inv_y[:,0]"
      ],
      "execution_count": null,
      "outputs": []
    },
    {
      "cell_type": "code",
      "metadata": {
        "id": "zFf-WTYY6j9X",
        "colab": {
          "base_uri": "https://localhost:8080/"
        },
        "outputId": "dacdad9d-6e52-481d-dee3-8b8395e3a4ee"
      },
      "source": [
        "# Maxmimum, average and minimum real metric tonnage\n",
        "print(\"Maximum Metric Tons\")\n",
        "print(np.amax(inv_y))\n",
        "(\"\\n\")\n",
        "print(\"Average Metric Tons\")\n",
        "print(np.average(inv_y))\n",
        "(\"\\n\")\n",
        "print(\"Minimum Metric Tons\")\n",
        "print(np.amin(inv_y))"
      ],
      "execution_count": null,
      "outputs": [
        {
          "output_type": "stream",
          "name": "stdout",
          "text": [
            "Maximum Metric Tons\n",
            "249.99\n",
            "Average Metric Tons\n",
            "21.897873\n",
            "Minimum Metric Tons\n",
            "0.0\n"
          ]
        }
      ]
    },
    {
      "cell_type": "code",
      "metadata": {
        "id": "FdmMK7oW6j_n",
        "colab": {
          "base_uri": "https://localhost:8080/"
        },
        "outputId": "0d63b7a5-0986-403d-e20f-53fa2640699a"
      },
      "source": [
        "# Calculate RMSE\n",
        "print('Mean Absolute Error (MAE): %3f' % sklearn.metrics.mean_absolute_error(inv_y, inv_yhat))\n",
        "print('Mean Square Error (MSE): %3f' % sklearn.metrics.mean_squared_error(inv_y, inv_yhat))"
      ],
      "execution_count": null,
      "outputs": [
        {
          "output_type": "stream",
          "name": "stdout",
          "text": [
            "Mean Absolute Error (MAE): 14.144101\n",
            "Mean Square Error (MSE): 923.193970\n"
          ]
        }
      ]
    },
    {
      "cell_type": "code",
      "metadata": {
        "id": "DRcvrXcY6kCg",
        "colab": {
          "base_uri": "https://localhost:8080/",
          "height": 333
        },
        "outputId": "d9e01108-e71f-41bc-f5e7-1491019f7afc"
      },
      "source": [
        "# Plot actual vs predicted metric tonnage\n",
        "my_dpi = 96\n",
        "pyplot.plot(inv_y, label = '2019')\n",
        "pyplot.plot(inv_yhat, label = '2019 - predicted')\n",
        "pyplot.legend()\n",
        "pyplot.show()\n",
        "pyplot.savefig('Train2020_batch64_Epochs_ActVersusPred_Updated_sgd.png', dpi=my_dpi * 10, bbox_inches='tight')"
      ],
      "execution_count": null,
      "outputs": [
        {
          "output_type": "stream",
          "name": "stderr",
          "text": [
            "/usr/local/lib/python3.7/dist-packages/IPython/core/pylabtools.py:125: UserWarning: Creating legend with loc=\"best\" can be slow with large amounts of data.\n",
            "  fig.canvas.print_figure(bytes_io, **kw)\n"
          ]
        },
        {
          "output_type": "display_data",
          "data": {
            "image/png": "[encoded data removed]",
            "text/plain": [
              "<Figure size 432x288 with 1 Axes>"
            ]
          },
          "metadata": {
            "needs_background": "light"
          }
        },
        {
          "output_type": "display_data",
          "data": {
            "text/plain": [
              "<Figure size 432x288 with 0 Axes>"
            ]
          },
          "metadata": {}
        }
      ]
    }
  ]
}