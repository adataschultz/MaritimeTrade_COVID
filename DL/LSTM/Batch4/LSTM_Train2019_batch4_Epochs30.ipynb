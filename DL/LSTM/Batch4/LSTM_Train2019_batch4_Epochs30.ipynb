{
  "nbformat": 4,
  "nbformat_minor": 0,
  "metadata": {
    "accelerator": "GPU",
    "colab": {
      "name": "MaritimeTradeCOVID_LSTM_Train2019_batch4_Epochs30_Updated.ipynb",
      "provenance": [],
      "collapsed_sections": [],
      "machine_shape": "hm"
    },
    "kernelspec": {
      "display_name": "Python 3",
      "name": "python3"
    },
    "language_info": {
      "name": "python"
    }
  },
  "cells": [
    {
      "cell_type": "code",
      "metadata": {
        "id": "wpTmKtBVKMKT"
      },
      "source": [
        "######################################################\n",
        "### 2019 - 2020 Maritime Trade with COVID for LSTM ###\n",
        "######################################################"
      ],
      "execution_count": null,
      "outputs": []
    },
    {
      "cell_type": "code",
      "metadata": {
        "id": "pPD1AoKmuksU",
        "colab": {
          "base_uri": "https://localhost:8080/"
        },
        "outputId": "37e7051e-22a1-47d9-a500-b456ea7a07fb"
      },
      "source": [
        "from google.colab import drive \n",
        "drive.mount('/content/drive')"
      ],
      "execution_count": null,
      "outputs": [
        {
          "output_type": "stream",
          "name": "stdout",
          "text": [
            "Mounted at /content/drive\n"
          ]
        }
      ]
    },
    {
      "cell_type": "code",
      "metadata": {
        "id": "jOReN1GxuoCI",
        "colab": {
          "base_uri": "https://localhost:8080/"
        },
        "outputId": "bebc6b06-f64d-48cd-e497-3f5d5c903371"
      },
      "source": [
        "%cd /content/drive/MyDrive/Data_MaritimeTrade/"
      ],
      "execution_count": null,
      "outputs": [
        {
          "output_type": "stream",
          "name": "stdout",
          "text": [
            "/content/drive/MyDrive/Data_MaritimeTrade\n"
          ]
        }
      ]
    },
    {
      "cell_type": "code",
      "metadata": {
        "id": "SJsjiI7GlIeX",
        "colab": {
          "base_uri": "https://localhost:8080/"
        },
        "outputId": "cbc41bf0-253a-44b7-da43-64d1d08f79f9"
      },
      "source": [
        "!pip install Tensorflow==2.5.0\n",
        "!pip install category_encoders\n",
        "import os\n",
        "import random\n",
        "import pandas as pd\n",
        "import numpy as np\n",
        "import category_encoders as ce\n",
        "from pandas import read_csv\n",
        "from pandas import DataFrame\n",
        "from pandas import concat\n",
        "import sklearn\n",
        "from sklearn.preprocessing import LabelEncoder\n",
        "from sklearn.preprocessing import MinMaxScaler\n",
        "import tensorflow as tf\n",
        "%tensorflow_version 2.5.0\n",
        "from tensorflow.keras.models import Sequential\n",
        "from tensorflow.keras.layers import LSTM, Dense,  Dropout\n",
        "from tensorflow.keras.callbacks import EarlyStopping\n",
        "from tensorflow.keras.callbacks import ModelCheckpoint\n",
        "from math import sqrt\n",
        "from numpy import concatenate\n",
        "import matplotlib as plt\n",
        "from matplotlib import pyplot\n",
        "from sklearn.metrics import mean_absolute_error\n",
        "from sklearn.metrics import mean_squared_error\n",
        "from sklearn.metrics import r2_score\n",
        "\n",
        "print(\"TensorFlow version: {}\".format(tf.__version__))\n",
        "print(\"Eager execution is: {}\".format(tf.executing_eagerly()))\n",
        "print(\"Keras version: {}\".format(tf.keras.__version__))\n",
        "print(\"Num GPUs Available: \", len(tf.config.list_physical_devices('GPU')))"
      ],
      "execution_count": null,
      "outputs": [
        {
          "output_type": "stream",
          "name": "stdout",
          "text": [
            "Collecting Tensorflow==2.5.0\n",
            "  Downloading tensorflow-2.5.0-cp37-cp37m-manylinux2010_x86_64.whl (454.3 MB)\n",
            "\u001b[K     |████████████████████████████████| 454.3 MB 15 kB/s \n",
            "\u001b[?25hCollecting keras-nightly~=2.5.0.dev\n",
            "  Downloading keras_nightly-2.5.0.dev2021032900-py2.py3-none-any.whl (1.2 MB)\n",
            "\u001b[K     |████████████████████████████████| 1.2 MB 37.0 MB/s \n",
            "\u001b[?25hRequirement already satisfied: numpy~=1.19.2 in /usr/local/lib/python3.7/dist-packages (from Tensorflow==2.5.0) (1.19.5)\n",
            "Collecting grpcio~=1.34.0\n",
            "  Downloading grpcio-1.34.1-cp37-cp37m-manylinux2014_x86_64.whl (4.0 MB)\n",
            "\u001b[K     |████████████████████████████████| 4.0 MB 38.0 MB/s \n",
            "\u001b[?25hRequirement already satisfied: termcolor~=1.1.0 in /usr/local/lib/python3.7/dist-packages (from Tensorflow==2.5.0) (1.1.0)\n",
            "Requirement already satisfied: opt-einsum~=3.3.0 in /usr/local/lib/python3.7/dist-packages (from Tensorflow==2.5.0) (3.3.0)\n",
            "Requirement already satisfied: wrapt~=1.12.1 in /usr/local/lib/python3.7/dist-packages (from Tensorflow==2.5.0) (1.12.1)\n",
            "Requirement already satisfied: keras-preprocessing~=1.1.2 in /usr/local/lib/python3.7/dist-packages (from Tensorflow==2.5.0) (1.1.2)\n",
            "Requirement already satisfied: google-pasta~=0.2 in /usr/local/lib/python3.7/dist-packages (from Tensorflow==2.5.0) (0.2.0)\n",
            "Requirement already satisfied: protobuf>=3.9.2 in /usr/local/lib/python3.7/dist-packages (from Tensorflow==2.5.0) (3.17.3)\n",
            "Requirement already satisfied: typing-extensions~=3.7.4 in /usr/local/lib/python3.7/dist-packages (from Tensorflow==2.5.0) (3.7.4.3)\n",
            "Requirement already satisfied: h5py~=3.1.0 in /usr/local/lib/python3.7/dist-packages (from Tensorflow==2.5.0) (3.1.0)\n",
            "Requirement already satisfied: wheel~=0.35 in /usr/local/lib/python3.7/dist-packages (from Tensorflow==2.5.0) (0.37.0)\n",
            "Requirement already satisfied: six~=1.15.0 in /usr/local/lib/python3.7/dist-packages (from Tensorflow==2.5.0) (1.15.0)\n",
            "Requirement already satisfied: astunparse~=1.6.3 in /usr/local/lib/python3.7/dist-packages (from Tensorflow==2.5.0) (1.6.3)\n",
            "Requirement already satisfied: gast==0.4.0 in /usr/local/lib/python3.7/dist-packages (from Tensorflow==2.5.0) (0.4.0)\n",
            "Collecting tensorflow-estimator<2.6.0,>=2.5.0rc0\n",
            "  Downloading tensorflow_estimator-2.5.0-py2.py3-none-any.whl (462 kB)\n",
            "\u001b[K     |████████████████████████████████| 462 kB 54.7 MB/s \n",
            "\u001b[?25hRequirement already satisfied: absl-py~=0.10 in /usr/local/lib/python3.7/dist-packages (from Tensorflow==2.5.0) (0.12.0)\n",
            "Requirement already satisfied: flatbuffers~=1.12.0 in /usr/local/lib/python3.7/dist-packages (from Tensorflow==2.5.0) (1.12)\n",
            "Requirement already satisfied: tensorboard~=2.5 in /usr/local/lib/python3.7/dist-packages (from Tensorflow==2.5.0) (2.6.0)\n",
            "Requirement already satisfied: cached-property in /usr/local/lib/python3.7/dist-packages (from h5py~=3.1.0->Tensorflow==2.5.0) (1.5.2)\n",
            "Requirement already satisfied: google-auth-oauthlib<0.5,>=0.4.1 in /usr/local/lib/python3.7/dist-packages (from tensorboard~=2.5->Tensorflow==2.5.0) (0.4.5)\n",
            "Requirement already satisfied: setuptools>=41.0.0 in /usr/local/lib/python3.7/dist-packages (from tensorboard~=2.5->Tensorflow==2.5.0) (57.4.0)\n",
            "Requirement already satisfied: markdown>=2.6.8 in /usr/local/lib/python3.7/dist-packages (from tensorboard~=2.5->Tensorflow==2.5.0) (3.3.4)\n",
            "Requirement already satisfied: google-auth<2,>=1.6.3 in /usr/local/lib/python3.7/dist-packages (from tensorboard~=2.5->Tensorflow==2.5.0) (1.34.0)\n",
            "Requirement already satisfied: tensorboard-data-server<0.7.0,>=0.6.0 in /usr/local/lib/python3.7/dist-packages (from tensorboard~=2.5->Tensorflow==2.5.0) (0.6.1)\n",
            "Requirement already satisfied: werkzeug>=0.11.15 in /usr/local/lib/python3.7/dist-packages (from tensorboard~=2.5->Tensorflow==2.5.0) (1.0.1)\n",
            "Requirement already satisfied: tensorboard-plugin-wit>=1.6.0 in /usr/local/lib/python3.7/dist-packages (from tensorboard~=2.5->Tensorflow==2.5.0) (1.8.0)\n",
            "Requirement already satisfied: requests<3,>=2.21.0 in /usr/local/lib/python3.7/dist-packages (from tensorboard~=2.5->Tensorflow==2.5.0) (2.23.0)\n",
            "Requirement already satisfied: pyasn1-modules>=0.2.1 in /usr/local/lib/python3.7/dist-packages (from google-auth<2,>=1.6.3->tensorboard~=2.5->Tensorflow==2.5.0) (0.2.8)\n",
            "Requirement already satisfied: rsa<5,>=3.1.4 in /usr/local/lib/python3.7/dist-packages (from google-auth<2,>=1.6.3->tensorboard~=2.5->Tensorflow==2.5.0) (4.7.2)\n",
            "Requirement already satisfied: cachetools<5.0,>=2.0.0 in /usr/local/lib/python3.7/dist-packages (from google-auth<2,>=1.6.3->tensorboard~=2.5->Tensorflow==2.5.0) (4.2.2)\n",
            "Requirement already satisfied: requests-oauthlib>=0.7.0 in /usr/local/lib/python3.7/dist-packages (from google-auth-oauthlib<0.5,>=0.4.1->tensorboard~=2.5->Tensorflow==2.5.0) (1.3.0)\n",
            "Requirement already satisfied: importlib-metadata in /usr/local/lib/python3.7/dist-packages (from markdown>=2.6.8->tensorboard~=2.5->Tensorflow==2.5.0) (4.6.4)\n",
            "Requirement already satisfied: pyasn1<0.5.0,>=0.4.6 in /usr/local/lib/python3.7/dist-packages (from pyasn1-modules>=0.2.1->google-auth<2,>=1.6.3->tensorboard~=2.5->Tensorflow==2.5.0) (0.4.8)\n",
            "Requirement already satisfied: certifi>=2017.4.17 in /usr/local/lib/python3.7/dist-packages (from requests<3,>=2.21.0->tensorboard~=2.5->Tensorflow==2.5.0) (2021.5.30)\n",
            "Requirement already satisfied: idna<3,>=2.5 in /usr/local/lib/python3.7/dist-packages (from requests<3,>=2.21.0->tensorboard~=2.5->Tensorflow==2.5.0) (2.10)\n",
            "Requirement already satisfied: urllib3!=1.25.0,!=1.25.1,<1.26,>=1.21.1 in /usr/local/lib/python3.7/dist-packages (from requests<3,>=2.21.0->tensorboard~=2.5->Tensorflow==2.5.0) (1.24.3)\n",
            "Requirement already satisfied: chardet<4,>=3.0.2 in /usr/local/lib/python3.7/dist-packages (from requests<3,>=2.21.0->tensorboard~=2.5->Tensorflow==2.5.0) (3.0.4)\n",
            "Requirement already satisfied: oauthlib>=3.0.0 in /usr/local/lib/python3.7/dist-packages (from requests-oauthlib>=0.7.0->google-auth-oauthlib<0.5,>=0.4.1->tensorboard~=2.5->Tensorflow==2.5.0) (3.1.1)\n",
            "Requirement already satisfied: zipp>=0.5 in /usr/local/lib/python3.7/dist-packages (from importlib-metadata->markdown>=2.6.8->tensorboard~=2.5->Tensorflow==2.5.0) (3.5.0)\n",
            "Installing collected packages: grpcio, tensorflow-estimator, keras-nightly, Tensorflow\n",
            "  Attempting uninstall: grpcio\n",
            "    Found existing installation: grpcio 1.39.0\n",
            "    Uninstalling grpcio-1.39.0:\n",
            "      Successfully uninstalled grpcio-1.39.0\n",
            "  Attempting uninstall: tensorflow-estimator\n",
            "    Found existing installation: tensorflow-estimator 2.6.0\n",
            "    Uninstalling tensorflow-estimator-2.6.0:\n",
            "      Successfully uninstalled tensorflow-estimator-2.6.0\n",
            "  Attempting uninstall: Tensorflow\n",
            "    Found existing installation: tensorflow 2.6.0\n",
            "    Uninstalling tensorflow-2.6.0:\n",
            "      Successfully uninstalled tensorflow-2.6.0\n",
            "Successfully installed Tensorflow-2.5.0 grpcio-1.34.1 keras-nightly-2.5.0.dev2021032900 tensorflow-estimator-2.5.0\n",
            "Collecting category_encoders\n",
            "  Downloading category_encoders-2.2.2-py2.py3-none-any.whl (80 kB)\n",
            "\u001b[K     |████████████████████████████████| 80 kB 5.2 MB/s \n",
            "\u001b[?25hRequirement already satisfied: statsmodels>=0.9.0 in /usr/local/lib/python3.7/dist-packages (from category_encoders) (0.10.2)\n",
            "Requirement already satisfied: numpy>=1.14.0 in /usr/local/lib/python3.7/dist-packages (from category_encoders) (1.19.5)\n",
            "Requirement already satisfied: pandas>=0.21.1 in /usr/local/lib/python3.7/dist-packages (from category_encoders) (1.1.5)\n",
            "Requirement already satisfied: patsy>=0.5.1 in /usr/local/lib/python3.7/dist-packages (from category_encoders) (0.5.1)\n",
            "Requirement already satisfied: scikit-learn>=0.20.0 in /usr/local/lib/python3.7/dist-packages (from category_encoders) (0.22.2.post1)\n",
            "Requirement already satisfied: scipy>=1.0.0 in /usr/local/lib/python3.7/dist-packages (from category_encoders) (1.4.1)\n",
            "Requirement already satisfied: pytz>=2017.2 in /usr/local/lib/python3.7/dist-packages (from pandas>=0.21.1->category_encoders) (2018.9)\n",
            "Requirement already satisfied: python-dateutil>=2.7.3 in /usr/local/lib/python3.7/dist-packages (from pandas>=0.21.1->category_encoders) (2.8.2)\n",
            "Requirement already satisfied: six in /usr/local/lib/python3.7/dist-packages (from patsy>=0.5.1->category_encoders) (1.15.0)\n",
            "Requirement already satisfied: joblib>=0.11 in /usr/local/lib/python3.7/dist-packages (from scikit-learn>=0.20.0->category_encoders) (1.0.1)\n",
            "Installing collected packages: category-encoders\n",
            "Successfully installed category-encoders-2.2.2\n"
          ]
        },
        {
          "output_type": "stream",
          "name": "stderr",
          "text": [
            "/usr/local/lib/python3.7/dist-packages/statsmodels/tools/_testing.py:19: FutureWarning: pandas.util.testing is deprecated. Use the functions in the public API at pandas.testing instead.\n",
            "  import pandas.util.testing as tm\n"
          ]
        },
        {
          "output_type": "stream",
          "name": "stdout",
          "text": [
            "`%tensorflow_version` only switches the major version: 1.x or 2.x.\n",
            "You set: `2.5.0`. This will be interpreted as: `2.x`.\n",
            "\n",
            "\n",
            "TensorFlow is already loaded. Please restart the runtime to change versions.\n",
            "TensorFlow version: 2.5.0\n",
            "Eager execution is: True\n",
            "Keras version: 2.5.0\n",
            "Num GPUs Available:  0\n"
          ]
        }
      ]
    },
    {
      "cell_type": "code",
      "metadata": {
        "id": "Rq4OU14dx8-q"
      },
      "source": [
        "# Reproducibility in TF and Pytorch \n",
        "def init_seeds(seed=2019):\n",
        "    np.random.seed(seed)\n",
        "    random.seed(seed)\n",
        "    session_conf = tf.compat.v1.ConfigProto()\n",
        "    session_conf = tf.compat.v1.ConfigProto(intra_op_parallelism_threads=1,\n",
        "                              inter_op_parallelism_threads=1)\n",
        "    os.environ['TF_CUDNN_DETERMINISTIC'] ='true'\n",
        "    os.environ['TF_DETERMINISTIC_OPS'] = 'true'\n",
        "    tf.random.set_seed(seed)\n",
        "    sess = tf.compat.v1.Session(graph=tf.compat.v1.get_default_graph(),config=session_conf)\n",
        "    tf.compat.v1.keras.backend.set_session(sess)\n",
        "    return sess"
      ],
      "execution_count": null,
      "outputs": []
    },
    {
      "cell_type": "code",
      "metadata": {
        "id": "fjzKoSqW-5kS",
        "colab": {
          "base_uri": "https://localhost:8080/"
        },
        "outputId": "7e21028e-ffb1-412b-ff7d-ad4e95d15a56"
      },
      "source": [
        "init_seeds(seed=2019)\n"
      ],
      "execution_count": null,
      "outputs": [
        {
          "output_type": "execute_result",
          "data": {
            "text/plain": [
              "<tensorflow.python.client.session.Session at 0x7ff000971f10>"
            ]
          },
          "metadata": {},
          "execution_count": 6
        }
      ]
    },
    {
      "cell_type": "code",
      "metadata": {
        "id": "VxVwRvRclImg",
        "colab": {
          "base_uri": "https://localhost:8080/"
        },
        "outputId": "830bfc30-424f-4b2e-84ba-32d51b5ee6c7"
      },
      "source": [
        "df = pd.read_csv('combined_trade_final_LSTM.csv',low_memory=False)\n",
        "print('Number of rows and columns:', df.shape)"
      ],
      "execution_count": null,
      "outputs": [
        {
          "output_type": "stream",
          "name": "stdout",
          "text": [
            "Number of rows and columns: (6633785, 20)\n"
          ]
        }
      ]
    },
    {
      "cell_type": "code",
      "metadata": {
        "id": "ZGOMyP8_lIqa",
        "colab": {
          "base_uri": "https://localhost:8080/"
        },
        "outputId": "d76c8f8d-d946-45b5-a397-8e7d87cdb5c8"
      },
      "source": [
        "def data_quality_table(df):\n",
        "        mis_val = df.isnull().sum()\n",
        "        var_type = df.dtypes\n",
        "        unique_count = df.nunique()\n",
        "        mis_val_table = pd.concat([mis_val, var_type, unique_count], axis=1)\n",
        "        mis_val_table_ren_columns = mis_val_table.rename(\n",
        "        columns = {0 : 'Number Missing', 1 : 'Data Type', 2 : 'Number Unique'})\n",
        "        mis_val_table_ren_columns = mis_val_table_ren_columns[\n",
        "            mis_val_table_ren_columns.iloc[:,1] != 0].sort_values(\n",
        "        'Number Missing', ascending=False).round(1)\n",
        "        print (\"The selected dataframe has \" + str(df.shape[1]) + \" columns.\\n\")\n",
        "        return mis_val_table_ren_columns\n",
        "\n",
        "pd.set_option('display.max_columns', None)\n",
        "print(\"\\nData Quality Report\") \n",
        "print(data_quality_table(df))"
      ],
      "execution_count": null,
      "outputs": [
        {
          "output_type": "stream",
          "name": "stdout",
          "text": [
            "\n",
            "Data Quality Report\n",
            "The selected dataframe has 20 columns.\n",
            "\n",
            "                        Number Missing Data Type  Number Unique\n",
            "Container_LCL/FCL                    0    object              2\n",
            "Metric_Tons                          0   float64          24994\n",
            "deaths_pctdelta                      0   float64           1034\n",
            "cases_pctdelta                       0   float64           1103\n",
            "State_Closure_EA_Diff                0     int64              7\n",
            "deaths_weekly                        0   float64           1034\n",
            "cases_weekly                         0   float64           1104\n",
            "Average_Tariff                       0   float64            631\n",
            "US_Unemployment_Rate                 0   float64             14\n",
            "HS_Group_Name                        0    object              6\n",
            "Foreign_Country_Region               0    object             11\n",
            "US_Port_Coastal_Region               0    object              6\n",
            "foreign_company_size                 0    object              6\n",
            "us_company_size                      0    object              6\n",
            "Year                                 0     int64              2\n",
            "DateTime                             0    object            731\n",
            "Trade_Direction                      0    object              2\n",
            "TCVUSD                               0   float64        3340083\n",
            "Container_Type_Dry                   0      bool              2\n",
            "Delta_Case0_Effective                0   float64             25\n"
          ]
        }
      ]
    },
    {
      "cell_type": "code",
      "metadata": {
        "id": "P2fTZxlql1F1"
      },
      "source": [
        "# Convert dtypes\n",
        "df = df.copy()\n",
        "df['State_Closure_EA_Diff'] = df['State_Closure_EA_Diff'].astype('float64')\n",
        "df['Container_Type_Dry'] = df['Container_Type_Dry'].astype('object')"
      ],
      "execution_count": null,
      "outputs": []
    },
    {
      "cell_type": "code",
      "metadata": {
        "id": "A9jZrhs5lIzg"
      },
      "source": [
        "# Convert DateTime to YearWeek\n",
        "df = df.copy()\n",
        "df['DateTime']= pd.to_datetime(df['DateTime']) \n",
        "df['DateTime_YearWeek'] = df['DateTime'].dt.strftime('%Y-w%U')"
      ],
      "execution_count": null,
      "outputs": []
    },
    {
      "cell_type": "code",
      "metadata": {
        "id": "-cNVHJxkl1DQ"
      },
      "source": [
        "df = df.drop(['DateTime'], axis=1)"
      ],
      "execution_count": null,
      "outputs": []
    },
    {
      "cell_type": "code",
      "metadata": {
        "id": "2b7UYtXzlIwq"
      },
      "source": [
        "# Reformat for X,y\n",
        "df2 = df.drop(['Metric_Tons'], axis=1)\n",
        "df1 = df.loc[:, ['Metric_Tons']]\n",
        "df = pd.concat([df1, df2], axis=1)\n",
        "\n",
        "del df1, df2"
      ],
      "execution_count": null,
      "outputs": []
    },
    {
      "cell_type": "code",
      "metadata": {
        "id": "RuD8BzyUmMxp"
      },
      "source": [
        "# Sort data chronologically\n",
        "df = df.sort_values('DateTime_YearWeek')"
      ],
      "execution_count": null,
      "outputs": []
    },
    {
      "cell_type": "code",
      "metadata": {
        "id": "uYnOIGptdbTU",
        "colab": {
          "base_uri": "https://localhost:8080/",
          "height": 258
        },
        "outputId": "46256567-5a20-476a-e291-6a65e4b18416"
      },
      "source": [
        "# Set YearWeek in the index\n",
        "df = df.set_index('DateTime_YearWeek')\n",
        "df.head()"
      ],
      "execution_count": null,
      "outputs": [
        {
          "output_type": "execute_result",
          "data": {
            "text/html": [
              "<div>\n",
              "<style scoped>\n",
              "    .dataframe tbody tr th:only-of-type {\n",
              "        vertical-align: middle;\n",
              "    }\n",
              "\n",
              "    .dataframe tbody tr th {\n",
              "        vertical-align: top;\n",
              "    }\n",
              "\n",
              "    .dataframe thead th {\n",
              "        text-align: right;\n",
              "    }\n",
              "</style>\n",
              "<table border=\"1\" class=\"dataframe\">\n",
              "  <thead>\n",
              "    <tr style=\"text-align: right;\">\n",
              "      <th></th>\n",
              "      <th>Metric_Tons</th>\n",
              "      <th>Container_LCL/FCL</th>\n",
              "      <th>Container_Type_Dry</th>\n",
              "      <th>TCVUSD</th>\n",
              "      <th>Trade_Direction</th>\n",
              "      <th>Year</th>\n",
              "      <th>us_company_size</th>\n",
              "      <th>foreign_company_size</th>\n",
              "      <th>US_Port_Coastal_Region</th>\n",
              "      <th>Foreign_Country_Region</th>\n",
              "      <th>HS_Group_Name</th>\n",
              "      <th>US_Unemployment_Rate</th>\n",
              "      <th>Average_Tariff</th>\n",
              "      <th>cases_weekly</th>\n",
              "      <th>deaths_weekly</th>\n",
              "      <th>State_Closure_EA_Diff</th>\n",
              "      <th>cases_pctdelta</th>\n",
              "      <th>deaths_pctdelta</th>\n",
              "      <th>Delta_Case0_Effective</th>\n",
              "    </tr>\n",
              "    <tr>\n",
              "      <th>DateTime_YearWeek</th>\n",
              "      <th></th>\n",
              "      <th></th>\n",
              "      <th></th>\n",
              "      <th></th>\n",
              "      <th></th>\n",
              "      <th></th>\n",
              "      <th></th>\n",
              "      <th></th>\n",
              "      <th></th>\n",
              "      <th></th>\n",
              "      <th></th>\n",
              "      <th></th>\n",
              "      <th></th>\n",
              "      <th></th>\n",
              "      <th></th>\n",
              "      <th></th>\n",
              "      <th></th>\n",
              "      <th></th>\n",
              "      <th></th>\n",
              "    </tr>\n",
              "  </thead>\n",
              "  <tbody>\n",
              "    <tr>\n",
              "      <th>2019-w00</th>\n",
              "      <td>0.07</td>\n",
              "      <td>LCL</td>\n",
              "      <td>True</td>\n",
              "      <td>817.95</td>\n",
              "      <td>Import</td>\n",
              "      <td>2019</td>\n",
              "      <td>medium</td>\n",
              "      <td>small</td>\n",
              "      <td>Northeast</td>\n",
              "      <td>European Union</td>\n",
              "      <td>Finished Goods</td>\n",
              "      <td>4.0</td>\n",
              "      <td>6.19</td>\n",
              "      <td>0.0</td>\n",
              "      <td>0.0</td>\n",
              "      <td>2.0</td>\n",
              "      <td>0.0</td>\n",
              "      <td>0.0</td>\n",
              "      <td>27.0</td>\n",
              "    </tr>\n",
              "    <tr>\n",
              "      <th>2019-w00</th>\n",
              "      <td>11.54</td>\n",
              "      <td>FCL</td>\n",
              "      <td>True</td>\n",
              "      <td>68439.12</td>\n",
              "      <td>Import</td>\n",
              "      <td>2019</td>\n",
              "      <td>small</td>\n",
              "      <td>small</td>\n",
              "      <td>Southeast</td>\n",
              "      <td>China</td>\n",
              "      <td>Finished Goods</td>\n",
              "      <td>4.0</td>\n",
              "      <td>12.37</td>\n",
              "      <td>0.0</td>\n",
              "      <td>0.0</td>\n",
              "      <td>1.0</td>\n",
              "      <td>0.0</td>\n",
              "      <td>0.0</td>\n",
              "      <td>39.0</td>\n",
              "    </tr>\n",
              "    <tr>\n",
              "      <th>2019-w00</th>\n",
              "      <td>6.32</td>\n",
              "      <td>FCL</td>\n",
              "      <td>True</td>\n",
              "      <td>37481.39</td>\n",
              "      <td>Import</td>\n",
              "      <td>2019</td>\n",
              "      <td>small</td>\n",
              "      <td>small</td>\n",
              "      <td>Southeast</td>\n",
              "      <td>China</td>\n",
              "      <td>Finished Goods</td>\n",
              "      <td>4.0</td>\n",
              "      <td>12.37</td>\n",
              "      <td>0.0</td>\n",
              "      <td>0.0</td>\n",
              "      <td>1.0</td>\n",
              "      <td>0.0</td>\n",
              "      <td>0.0</td>\n",
              "      <td>39.0</td>\n",
              "    </tr>\n",
              "    <tr>\n",
              "      <th>2019-w00</th>\n",
              "      <td>3.82</td>\n",
              "      <td>FCL</td>\n",
              "      <td>True</td>\n",
              "      <td>22654.89</td>\n",
              "      <td>Import</td>\n",
              "      <td>2019</td>\n",
              "      <td>medium</td>\n",
              "      <td>small</td>\n",
              "      <td>Southeast</td>\n",
              "      <td>China</td>\n",
              "      <td>Finished Goods</td>\n",
              "      <td>4.0</td>\n",
              "      <td>12.37</td>\n",
              "      <td>0.0</td>\n",
              "      <td>0.0</td>\n",
              "      <td>1.0</td>\n",
              "      <td>0.0</td>\n",
              "      <td>0.0</td>\n",
              "      <td>39.0</td>\n",
              "    </tr>\n",
              "    <tr>\n",
              "      <th>2019-w00</th>\n",
              "      <td>4.15</td>\n",
              "      <td>FCL</td>\n",
              "      <td>True</td>\n",
              "      <td>24611.99</td>\n",
              "      <td>Import</td>\n",
              "      <td>2019</td>\n",
              "      <td>medium</td>\n",
              "      <td>small</td>\n",
              "      <td>Southeast</td>\n",
              "      <td>China</td>\n",
              "      <td>Finished Goods</td>\n",
              "      <td>4.0</td>\n",
              "      <td>12.37</td>\n",
              "      <td>0.0</td>\n",
              "      <td>0.0</td>\n",
              "      <td>1.0</td>\n",
              "      <td>0.0</td>\n",
              "      <td>0.0</td>\n",
              "      <td>39.0</td>\n",
              "    </tr>\n",
              "  </tbody>\n",
              "</table>\n",
              "</div>"
            ],
            "text/plain": [
              "                   Metric_Tons Container_LCL/FCL Container_Type_Dry    TCVUSD  \\\n",
              "DateTime_YearWeek                                                               \n",
              "2019-w00                  0.07               LCL               True    817.95   \n",
              "2019-w00                 11.54               FCL               True  68439.12   \n",
              "2019-w00                  6.32               FCL               True  37481.39   \n",
              "2019-w00                  3.82               FCL               True  22654.89   \n",
              "2019-w00                  4.15               FCL               True  24611.99   \n",
              "\n",
              "                  Trade_Direction  Year us_company_size foreign_company_size  \\\n",
              "DateTime_YearWeek                                                              \n",
              "2019-w00                   Import  2019          medium                small   \n",
              "2019-w00                   Import  2019           small                small   \n",
              "2019-w00                   Import  2019           small                small   \n",
              "2019-w00                   Import  2019          medium                small   \n",
              "2019-w00                   Import  2019          medium                small   \n",
              "\n",
              "                  US_Port_Coastal_Region Foreign_Country_Region  \\\n",
              "DateTime_YearWeek                                                 \n",
              "2019-w00                       Northeast         European Union   \n",
              "2019-w00                       Southeast                  China   \n",
              "2019-w00                       Southeast                  China   \n",
              "2019-w00                       Southeast                  China   \n",
              "2019-w00                       Southeast                  China   \n",
              "\n",
              "                    HS_Group_Name  US_Unemployment_Rate  Average_Tariff  \\\n",
              "DateTime_YearWeek                                                         \n",
              "2019-w00           Finished Goods                   4.0            6.19   \n",
              "2019-w00           Finished Goods                   4.0           12.37   \n",
              "2019-w00           Finished Goods                   4.0           12.37   \n",
              "2019-w00           Finished Goods                   4.0           12.37   \n",
              "2019-w00           Finished Goods                   4.0           12.37   \n",
              "\n",
              "                   cases_weekly  deaths_weekly  State_Closure_EA_Diff  \\\n",
              "DateTime_YearWeek                                                       \n",
              "2019-w00                    0.0            0.0                    2.0   \n",
              "2019-w00                    0.0            0.0                    1.0   \n",
              "2019-w00                    0.0            0.0                    1.0   \n",
              "2019-w00                    0.0            0.0                    1.0   \n",
              "2019-w00                    0.0            0.0                    1.0   \n",
              "\n",
              "                   cases_pctdelta  deaths_pctdelta  Delta_Case0_Effective  \n",
              "DateTime_YearWeek                                                          \n",
              "2019-w00                      0.0              0.0                   27.0  \n",
              "2019-w00                      0.0              0.0                   39.0  \n",
              "2019-w00                      0.0              0.0                   39.0  \n",
              "2019-w00                      0.0              0.0                   39.0  \n",
              "2019-w00                      0.0              0.0                   39.0  "
            ]
          },
          "metadata": {},
          "execution_count": 14
        }
      ]
    },
    {
      "cell_type": "code",
      "metadata": {
        "id": "5ov9MVadmmTC",
        "colab": {
          "base_uri": "https://localhost:8080/"
        },
        "outputId": "4b498cf8-2f2d-45cf-d7f5-686cb5aa43ac"
      },
      "source": [
        "# X,y for encoding\n",
        "X = df.drop(['Metric_Tons'], axis=1)\n",
        "y = df.iloc[:,:1]\n",
        "print(X.shape)\n",
        "print(y.shape)"
      ],
      "execution_count": null,
      "outputs": [
        {
          "output_type": "stream",
          "name": "stdout",
          "text": [
            "(6633785, 18)\n",
            "(6633785, 1)\n"
          ]
        }
      ]
    },
    {
      "cell_type": "code",
      "metadata": {
        "id": "cQ45WstYmmVr",
        "colab": {
          "base_uri": "https://localhost:8080/"
        },
        "outputId": "f3d8c50a-1713-447f-8711-498c22e30512"
      },
      "source": [
        "# Encode variables using ranking - ordinal               \n",
        "ce_ord = ce.OrdinalEncoder(cols = ['foreign_company_size', 'us_company_size'])\n",
        "result = ce_ord.fit_transform(X, y['Metric_Tons'])"
      ],
      "execution_count": null,
      "outputs": [
        {
          "output_type": "stream",
          "name": "stderr",
          "text": [
            "/usr/local/lib/python3.7/dist-packages/category_encoders/utils.py:21: FutureWarning: is_categorical is deprecated and will be removed in a future version.  Use is_categorical_dtype instead\n",
            "  elif pd.api.types.is_categorical(cols):\n"
          ]
        }
      ]
    },
    {
      "cell_type": "code",
      "metadata": {
        "id": "fZlH271CEBmp"
      },
      "source": [
        "# Concatenate result with Metric_Tons\n",
        "result = pd.concat([y, result], axis=1)"
      ],
      "execution_count": null,
      "outputs": []
    },
    {
      "cell_type": "code",
      "metadata": {
        "id": "rp7GWKtfmM9V",
        "colab": {
          "base_uri": "https://localhost:8080/"
        },
        "outputId": "46124e37-9444-4653-c3db-e4a7aac61245"
      },
      "source": [
        "# Convert remaining qualitative vars to dummy vars\n",
        "result = pd.get_dummies(result, prefix=['HS_Group_Name', 'Container_LCL/FCL', 'Foreign_Country_Region', 'US_Port_Coastal_Region', 'Trade_Direction', 'Container_Type_Dry'],\n",
        "                      columns=['HS_Group_Name', 'Container_LCL/FCL', 'Foreign_Country_Region', 'US_Port_Coastal_Region', 'Trade_Direction', 'Container_Type_Dry'])\n",
        "#currently 42\n",
        "print(result.shape)"
      ],
      "execution_count": null,
      "outputs": [
        {
          "output_type": "stream",
          "name": "stdout",
          "text": [
            "(6633785, 42)\n"
          ]
        }
      ]
    },
    {
      "cell_type": "code",
      "metadata": {
        "id": "UG-mzteffa0x",
        "colab": {
          "base_uri": "https://localhost:8080/"
        },
        "outputId": "9797c260-0327-4008-ea0d-4904fa4744e2"
      },
      "source": [
        "df = result\n",
        "print(\"\\nData Quality Report\") \n",
        "print(data_quality_table(df))\n",
        "df.shape"
      ],
      "execution_count": null,
      "outputs": [
        {
          "output_type": "stream",
          "name": "stdout",
          "text": [
            "\n",
            "Data Quality Report\n",
            "The selected dataframe has 42 columns.\n",
            "\n",
            "                                                    Number Missing Data Type  \\\n",
            "Metric_Tons                                                      0   float64   \n",
            "Foreign_Country_Region_Sub Saharan Africa                        0     uint8   \n",
            "Foreign_Country_Region_Middle East & North Africa                0     uint8   \n",
            "Foreign_Country_Region_North America                             0     uint8   \n",
            "Foreign_Country_Region_Oceania                                   0     uint8   \n",
            "Foreign_Country_Region_Other East Asia (not China)               0     uint8   \n",
            "Foreign_Country_Region_Other Europe (not Europe...               0     uint8   \n",
            "Foreign_Country_Region_South America                             0     uint8   \n",
            "Foreign_Country_Region_South Asia                                0     uint8   \n",
            "Foreign_Country_Region_Southeast Asia                            0     uint8   \n",
            "US_Port_Coastal_Region_Gulf                                      0     uint8   \n",
            "TCVUSD                                                           0   float64   \n",
            "US_Port_Coastal_Region_Northeast                                 0     uint8   \n",
            "US_Port_Coastal_Region_Northwest                                 0     uint8   \n",
            "US_Port_Coastal_Region_Other                                     0     uint8   \n",
            "US_Port_Coastal_Region_Southeast                                 0     uint8   \n",
            "US_Port_Coastal_Region_Southwest                                 0     uint8   \n",
            "Trade_Direction_Export                                           0     uint8   \n",
            "Trade_Direction_Import                                           0     uint8   \n",
            "Container_Type_Dry_False                                         0     uint8   \n",
            "Foreign_Country_Region_European Union                            0     uint8   \n",
            "Foreign_Country_Region_China                                     0     uint8   \n",
            "Container_LCL/FCL_LCL                                            0     uint8   \n",
            "Container_LCL/FCL_FCL                                            0     uint8   \n",
            "Year                                                             0     int64   \n",
            "us_company_size                                                  0     int64   \n",
            "foreign_company_size                                             0     int64   \n",
            "US_Unemployment_Rate                                             0   float64   \n",
            "Average_Tariff                                                   0   float64   \n",
            "cases_weekly                                                     0   float64   \n",
            "deaths_weekly                                                    0   float64   \n",
            "State_Closure_EA_Diff                                            0   float64   \n",
            "cases_pctdelta                                                   0   float64   \n",
            "deaths_pctdelta                                                  0   float64   \n",
            "Delta_Case0_Effective                                            0   float64   \n",
            "HS_Group_Name_Edible                                             0     uint8   \n",
            "HS_Group_Name_Edible with Processing                             0     uint8   \n",
            "HS_Group_Name_Finished Goods                                     0     uint8   \n",
            "HS_Group_Name_Pharma                                             0     uint8   \n",
            "HS_Group_Name_Raw Input                                          0     uint8   \n",
            "HS_Group_Name_Vices                                              0     uint8   \n",
            "Container_Type_Dry_True                                          0     uint8   \n",
            "\n",
            "                                                    Number Unique  \n",
            "Metric_Tons                                                 24994  \n",
            "Foreign_Country_Region_Sub Saharan Africa                       2  \n",
            "Foreign_Country_Region_Middle East & North Africa               2  \n",
            "Foreign_Country_Region_North America                            2  \n",
            "Foreign_Country_Region_Oceania                                  2  \n",
            "Foreign_Country_Region_Other East Asia (not China)              2  \n",
            "Foreign_Country_Region_Other Europe (not Europe...              2  \n",
            "Foreign_Country_Region_South America                            2  \n",
            "Foreign_Country_Region_South Asia                               2  \n",
            "Foreign_Country_Region_Southeast Asia                           2  \n",
            "US_Port_Coastal_Region_Gulf                                     2  \n",
            "TCVUSD                                                    3340083  \n",
            "US_Port_Coastal_Region_Northeast                                2  \n",
            "US_Port_Coastal_Region_Northwest                                2  \n",
            "US_Port_Coastal_Region_Other                                    2  \n",
            "US_Port_Coastal_Region_Southeast                                2  \n",
            "US_Port_Coastal_Region_Southwest                                2  \n",
            "Trade_Direction_Export                                          2  \n",
            "Trade_Direction_Import                                          2  \n",
            "Container_Type_Dry_False                                        2  \n",
            "Foreign_Country_Region_European Union                           2  \n",
            "Foreign_Country_Region_China                                    2  \n",
            "Container_LCL/FCL_LCL                                           2  \n",
            "Container_LCL/FCL_FCL                                           2  \n",
            "Year                                                            2  \n",
            "us_company_size                                                 6  \n",
            "foreign_company_size                                            6  \n",
            "US_Unemployment_Rate                                           14  \n",
            "Average_Tariff                                                631  \n",
            "cases_weekly                                                 1104  \n",
            "deaths_weekly                                                1034  \n",
            "State_Closure_EA_Diff                                           7  \n",
            "cases_pctdelta                                               1103  \n",
            "deaths_pctdelta                                              1034  \n",
            "Delta_Case0_Effective                                          25  \n",
            "HS_Group_Name_Edible                                            2  \n",
            "HS_Group_Name_Edible with Processing                            2  \n",
            "HS_Group_Name_Finished Goods                                    2  \n",
            "HS_Group_Name_Pharma                                            2  \n",
            "HS_Group_Name_Raw Input                                         2  \n",
            "HS_Group_Name_Vices                                             2  \n",
            "Container_Type_Dry_True                                         2  \n"
          ]
        },
        {
          "output_type": "execute_result",
          "data": {
            "text/plain": [
              "(6633785, 42)"
            ]
          },
          "metadata": {},
          "execution_count": 19
        }
      ]
    },
    {
      "cell_type": "code",
      "metadata": {
        "id": "QKzFkp0ymmkQ",
        "colab": {
          "base_uri": "https://localhost:8080/"
        },
        "outputId": "407d9c2d-9d82-4c3d-8283-9b56dbb78171"
      },
      "source": [
        "# Examine year for the number per year to be used for train/test sets\n",
        "df[['Year']].value_counts()"
      ],
      "execution_count": null,
      "outputs": [
        {
          "output_type": "execute_result",
          "data": {
            "text/plain": [
              "Year\n",
              "2019    3368492\n",
              "2020    3265293\n",
              "dtype: int64"
            ]
          },
          "metadata": {},
          "execution_count": 20
        }
      ]
    },
    {
      "cell_type": "code",
      "metadata": {
        "id": "OVG7ziM-m3dV",
        "colab": {
          "base_uri": "https://localhost:8080/"
        },
        "outputId": "4fa5bcec-0648-4940-cb37-cbc8e764ac9e"
      },
      "source": [
        "df = df.drop(['Year'], axis=1)\n",
        "df.shape"
      ],
      "execution_count": null,
      "outputs": [
        {
          "output_type": "execute_result",
          "data": {
            "text/plain": [
              "(6633785, 41)"
            ]
          },
          "metadata": {},
          "execution_count": 21
        }
      ]
    },
    {
      "cell_type": "code",
      "metadata": {
        "id": "qe5dNJiim3iY",
        "colab": {
          "base_uri": "https://localhost:8080/"
        },
        "outputId": "f6bbe640-eb8e-48c5-eb0d-7909b11fa5d4"
      },
      "source": [
        "# Prepare data for LSTM\n",
        "# Convert series to supervised learning\n",
        "def series_to_supervised(dat, n_in=1, n_out=1, dropnan=True):\n",
        "\tn_vars = 1 if type(dat) is list else dat.shape[1]\n",
        "\tdf = DataFrame(dat)\n",
        "\tcols, names = list(), list()\n",
        "\t# input sequence (t-n, ... t-1)\n",
        "\tfor i in range(n_in, 0, -1):\n",
        "\t\tcols.append(df.shift(i))\n",
        "\t\tnames += [('var%d(t-%d)' % (j+1, i)) for j in range(n_vars)]\n",
        "\t# forecast sequence (t, t+1, ... t+n)\n",
        "\tfor i in range(0, n_out):\n",
        "\t\tcols.append(df.shift(-i))\n",
        "\t\tif i == 0:\n",
        "\t\t\tnames += [('var%d(t)' % (j+1)) for j in range(n_vars)]\n",
        "\t\telse:\n",
        "\t\t\tnames += [('var%d(t+%d)' % (j+1, i)) for j in range(n_vars)]\n",
        "\t# put it all together\n",
        "\tagg = concat(cols, axis=1)\n",
        "\tagg.columns = names\n",
        "\t# drop rows with NaN values\n",
        "\tif dropnan:\n",
        "\t\tagg.dropna(inplace=True)\n",
        "\treturn agg\n",
        "\n",
        "# Load df\n",
        "dataset = df\n",
        "values = dataset.values\n",
        "# Convert all data to float\n",
        "values = values.astype('float32')\n",
        "# Normalize features\n",
        "scaler = MinMaxScaler(feature_range=(0, 1))\n",
        "scaled = scaler.fit_transform(values)\n",
        "# Frame as supervised learning\n",
        "reframed = series_to_supervised(scaled, 1, 1)\n",
        "reframed.drop(reframed.columns[[42,43,44,45,46,47,48,49,50,51,52,53,54,55,56,57,58,59,60,61,62,63,64,65,66,67,68,69,70,71,72,73,74,75,76,77,78,79,80,81]], axis=1, inplace=True)\n",
        "print(reframed.head())"
      ],
      "execution_count": null,
      "outputs": [
        {
          "output_type": "stream",
          "name": "stdout",
          "text": [
            "   var1(t-1)     var2(t-1)  var3(t-1)  var4(t-1)  var5(t-1)  var6(t-1)  \\\n",
            "1   0.000280  5.305452e-07        0.0        0.0   0.044248   0.003732   \n",
            "2   0.046162  4.439152e-05        0.2        0.0   0.044248   0.007459   \n",
            "3   0.025281  2.431148e-05        0.2        0.0   0.044248   0.007459   \n",
            "4   0.015281  1.469459e-05        0.0        0.0   0.044248   0.007459   \n",
            "5   0.016601  1.596402e-05        0.0        0.0   0.044248   0.007459   \n",
            "\n",
            "   var7(t-1)  var8(t-1)  var9(t-1)  var10(t-1)  var11(t-1)  var12(t-1)  \\\n",
            "1        0.0        0.0     0.1250         0.0    0.000004    0.301587   \n",
            "2        0.0        0.0     0.0625         0.0    0.000004    0.492064   \n",
            "3        0.0        0.0     0.0625         0.0    0.000004    0.492064   \n",
            "4        0.0        0.0     0.0625         0.0    0.000004    0.492064   \n",
            "5        0.0        0.0     0.0625         0.0    0.000004    0.492064   \n",
            "\n",
            "   var13(t-1)  var14(t-1)  var15(t-1)  var16(t-1)  var17(t-1)  var18(t-1)  \\\n",
            "1         0.0         0.0         1.0         0.0         0.0         0.0   \n",
            "2         0.0         0.0         1.0         0.0         0.0         0.0   \n",
            "3         0.0         0.0         1.0         0.0         0.0         0.0   \n",
            "4         0.0         0.0         1.0         0.0         0.0         0.0   \n",
            "5         0.0         0.0         1.0         0.0         0.0         0.0   \n",
            "\n",
            "   var19(t-1)  var20(t-1)  var21(t-1)  var22(t-1)  var23(t-1)  var24(t-1)  \\\n",
            "1         0.0         1.0         0.0         1.0         0.0         0.0   \n",
            "2         1.0         0.0         1.0         0.0         0.0         0.0   \n",
            "3         1.0         0.0         1.0         0.0         0.0         0.0   \n",
            "4         1.0         0.0         1.0         0.0         0.0         0.0   \n",
            "5         1.0         0.0         1.0         0.0         0.0         0.0   \n",
            "\n",
            "   var25(t-1)  var26(t-1)  var27(t-1)  var28(t-1)  var29(t-1)  var30(t-1)  \\\n",
            "1         0.0         0.0         0.0         0.0         0.0         0.0   \n",
            "2         0.0         0.0         0.0         0.0         0.0         0.0   \n",
            "3         0.0         0.0         0.0         0.0         0.0         0.0   \n",
            "4         0.0         0.0         0.0         0.0         0.0         0.0   \n",
            "5         0.0         0.0         0.0         0.0         0.0         0.0   \n",
            "\n",
            "   var31(t-1)  var32(t-1)  var33(t-1)  var34(t-1)  var35(t-1)  var36(t-1)  \\\n",
            "1         0.0         0.0         1.0         0.0         0.0         0.0   \n",
            "2         0.0         0.0         0.0         0.0         0.0         1.0   \n",
            "3         0.0         0.0         0.0         0.0         0.0         1.0   \n",
            "4         0.0         0.0         0.0         0.0         0.0         1.0   \n",
            "5         0.0         0.0         0.0         0.0         0.0         1.0   \n",
            "\n",
            "   var37(t-1)  var38(t-1)  var39(t-1)  var40(t-1)  var41(t-1)   var1(t)  \n",
            "1         0.0         0.0         1.0         0.0         1.0  0.046162  \n",
            "2         0.0         0.0         1.0         0.0         1.0  0.025281  \n",
            "3         0.0         0.0         1.0         0.0         1.0  0.015281  \n",
            "4         0.0         0.0         1.0         0.0         1.0  0.016601  \n",
            "5         0.0         0.0         1.0         0.0         1.0  0.044442  \n"
          ]
        }
      ]
    },
    {
      "cell_type": "code",
      "metadata": {
        "id": "8CijYoGFnG7f",
        "colab": {
          "base_uri": "https://localhost:8080/"
        },
        "outputId": "23ee712f-a5d2-437c-bf8c-5bc92906c6e2"
      },
      "source": [
        "# Define fit model for 2019\n",
        "# Split into train and test sets\n",
        "values = reframed.values\n",
        "n_train_hours = 3368492\n",
        "train = values[:n_train_hours, :]\n",
        "test = values[n_train_hours:, :]\n",
        "# Split into input and outputs\n",
        "train_X, train_y = train[:, :-1], train[:, -1]\n",
        "test_X, test_y = test[:, :-1], test[:, -1]\n",
        "# Reshape input to be 3D [samples, timesteps, features]\n",
        "train_X = train_X.reshape((train_X.shape[0], 1, train_X.shape[1]))\n",
        "test_X = test_X.reshape((test_X.shape[0], 1, test_X.shape[1]))\n",
        "print(train_X.shape, train_y.shape, test_X.shape, test_y.shape)"
      ],
      "execution_count": null,
      "outputs": [
        {
          "output_type": "stream",
          "name": "stdout",
          "text": [
            "(3368492, 1, 41) (3368492,) (3265292, 1, 41) (3265292,)\n"
          ]
        }
      ]
    },
    {
      "cell_type": "code",
      "metadata": {
        "id": "kRwla8x8nHCh",
        "colab": {
          "base_uri": "https://localhost:8080/"
        },
        "outputId": "5669d10d-a747-493f-efcf-65cd4265f20c"
      },
      "source": [
        "# LSTM Model\n",
        "model = Sequential()\n",
        "model.add(LSTM(50, input_shape=(train_X.shape[1], train_X.shape[2])))\n",
        "model.add(Dense(1))\n",
        "model.compile(loss='mae', metrics=['mse'], optimizer='adam')\n",
        "model.summary()"
      ],
      "execution_count": null,
      "outputs": [
        {
          "output_type": "stream",
          "name": "stdout",
          "text": [
            "Model: \"sequential\"\n",
            "_________________________________________________________________\n",
            "Layer (type)                 Output Shape              Param #   \n",
            "=================================================================\n",
            "lstm (LSTM)                  (None, 50)                18400     \n",
            "_________________________________________________________________\n",
            "dense (Dense)                (None, 1)                 51        \n",
            "=================================================================\n",
            "Total params: 18,451\n",
            "Trainable params: 18,451\n",
            "Non-trainable params: 0\n",
            "_________________________________________________________________\n"
          ]
        }
      ]
    },
    {
      "cell_type": "code",
      "metadata": {
        "id": "GjwdhmLao3GE"
      },
      "source": [
        "import datetime\n",
        "log_folder = \"logs/fit/\" + datetime.datetime.now().strftime(\"%Y%m%d-%H%M%S\")\n",
        "\n",
        "%load_ext tensorboard"
      ],
      "execution_count": null,
      "outputs": []
    },
    {
      "cell_type": "code",
      "metadata": {
        "id": "313WEIXoo6ov"
      },
      "source": [
        "filepath = 'weights_only_train2019_test2020_n50_b4_epochs30_Updated.h5'\n",
        "3\n",
        "checkpoint_dir = os.path.dirname(filepath)\n",
        "\n",
        "tensorboard_callback = tf.keras.callbacks.TensorBoard(log_folder, histogram_freq=1)\n",
        "\n",
        "callbacks_list = [EarlyStopping(monitor='loss', patience = 3),\n",
        "                  ModelCheckpoint(filepath, monitor='mse', \n",
        "                                  save_best_only=True, mode='min'), \n",
        "                  tensorboard_callback]"
      ],
      "execution_count": null,
      "outputs": []
    },
    {
      "cell_type": "code",
      "metadata": {
        "id": "XWZdRYJWnHFQ",
        "colab": {
          "base_uri": "https://localhost:8080/"
        },
        "outputId": "dc15987d-be40-4199-e167-fa8f10e7b92c"
      },
      "source": [
        "# Train Model\n",
        "history = model.fit(train_X, train_y, epochs=30, batch_size=4, shuffle=False, \n",
        "                    callbacks=callbacks_list)"
      ],
      "execution_count": null,
      "outputs": [
        {
          "output_type": "stream",
          "name": "stdout",
          "text": [
            "Epoch 1/30\n",
            "842123/842123 [==============================] - 1311s 2ms/step - loss: 0.0559 - mse: 0.0152\n",
            "Epoch 2/30\n",
            "842123/842123 [==============================] - 1273s 2ms/step - loss: 0.0555 - mse: 0.0151\n",
            "Epoch 3/30\n",
            "842123/842123 [==============================] - 1271s 2ms/step - loss: 0.0554 - mse: 0.0151\n",
            "Epoch 4/30\n",
            "842123/842123 [==============================] - 1276s 2ms/step - loss: 0.0554 - mse: 0.0151\n",
            "Epoch 5/30\n",
            "842123/842123 [==============================] - 1274s 2ms/step - loss: 0.0554 - mse: 0.0150\n",
            "Epoch 6/30\n",
            "842123/842123 [==============================] - 1273s 2ms/step - loss: 0.0553 - mse: 0.0150\n",
            "Epoch 7/30\n",
            "842123/842123 [==============================] - 1270s 2ms/step - loss: 0.0553 - mse: 0.0150\n",
            "Epoch 8/30\n",
            "842123/842123 [==============================] - 1260s 1ms/step - loss: 0.0553 - mse: 0.0150\n",
            "Epoch 9/30\n",
            "842123/842123 [==============================] - 1267s 2ms/step - loss: 0.0553 - mse: 0.0150\n",
            "Epoch 10/30\n",
            "842123/842123 [==============================] - 1271s 2ms/step - loss: 0.0552 - mse: 0.0150\n",
            "Epoch 11/30\n",
            "842123/842123 [==============================] - 1262s 1ms/step - loss: 0.0552 - mse: 0.0150\n",
            "Epoch 12/30\n",
            "842123/842123 [==============================] - 1307s 2ms/step - loss: 0.0552 - mse: 0.0150\n",
            "Epoch 13/30\n",
            "842123/842123 [==============================] - 1290s 2ms/step - loss: 0.0552 - mse: 0.0150\n",
            "Epoch 14/30\n",
            "842123/842123 [==============================] - 1320s 2ms/step - loss: 0.0552 - mse: 0.0150\n",
            "Epoch 15/30\n",
            "842123/842123 [==============================] - 1283s 2ms/step - loss: 0.0552 - mse: 0.0150\n",
            "Epoch 16/30\n",
            "842123/842123 [==============================] - 1268s 2ms/step - loss: 0.0552 - mse: 0.0150\n",
            "Epoch 17/30\n",
            "842123/842123 [==============================] - 1277s 2ms/step - loss: 0.0552 - mse: 0.0150\n",
            "Epoch 18/30\n",
            "842123/842123 [==============================] - 1290s 2ms/step - loss: 0.0552 - mse: 0.0150\n",
            "Epoch 19/30\n",
            "842123/842123 [==============================] - 1284s 2ms/step - loss: 0.0552 - mse: 0.0150\n",
            "Epoch 20/30\n",
            "842123/842123 [==============================] - 1277s 2ms/step - loss: 0.0552 - mse: 0.0150\n",
            "Epoch 21/30\n",
            "842123/842123 [==============================] - 1316s 2ms/step - loss: 0.0552 - mse: 0.0150\n",
            "Epoch 22/30\n",
            "842123/842123 [==============================] - 1279s 2ms/step - loss: 0.0552 - mse: 0.0150\n",
            "Epoch 23/30\n",
            "842123/842123 [==============================] - 1287s 2ms/step - loss: 0.0552 - mse: 0.0150\n",
            "Epoch 24/30\n",
            "842123/842123 [==============================] - 1280s 2ms/step - loss: 0.0552 - mse: 0.0150\n",
            "Epoch 25/30\n",
            "842123/842123 [==============================] - 1261s 1ms/step - loss: 0.0552 - mse: 0.0150\n",
            "Epoch 26/30\n",
            "842123/842123 [==============================] - 1265s 2ms/step - loss: 0.0552 - mse: 0.0150\n",
            "Epoch 27/30\n",
            "842123/842123 [==============================] - 1303s 2ms/step - loss: 0.0552 - mse: 0.0150\n",
            "Epoch 28/30\n",
            "842123/842123 [==============================] - 1284s 2ms/step - loss: 0.0552 - mse: 0.0149\n",
            "Epoch 29/30\n",
            "842123/842123 [==============================] - 1309s 2ms/step - loss: 0.0552 - mse: 0.0149\n",
            "Epoch 30/30\n",
            "842123/842123 [==============================] - 1271s 2ms/step - loss: 0.0552 - mse: 0.0149\n"
          ]
        }
      ]
    },
    {
      "cell_type": "code",
      "metadata": {
        "id": "CXRLtUyCnHH4"
      },
      "source": [
        "model.save('./210913_Model_50neuron_batch4_30epochs_train2019_Updated_tf.h5', save_format='tf')\n",
        "#loaded_model = tf.keras.models.load_model('./210913_Model_50neuron_batch4_30epochs_train2019_Updated_tf')"
      ],
      "execution_count": null,
      "outputs": []
    },
    {
      "cell_type": "code",
      "metadata": {
        "id": "Drl89PVunHL2",
        "colab": {
          "base_uri": "https://localhost:8080/",
          "height": 313
        },
        "outputId": "fac64492-0874-4eae-acd3-c1c708445c0c"
      },
      "source": [
        "# Plot loss over epochs\n",
        "my_dpi = 96\n",
        "pyplot.title('Model Loss')\n",
        "pyplot.plot(history.history['loss'], label='train')\n",
        "pyplot.ylabel('Loss')\n",
        "pyplot.xlabel('Epochs')\n",
        "pyplot.legend()\n",
        "pyplot.savefig('Train2019_batch4_Epochs_Loss_Updated.png', dpi=my_dpi * 10, bbox_inches='tight')\n",
        "pyplot.show()"
      ],
      "execution_count": null,
      "outputs": [
        {
          "output_type": "display_data",
          "data": {
            "image/png": "[encoded data removed]",
            "text/plain": [
              "<Figure size 432x288 with 1 Axes>"
            ]
          },
          "metadata": {
            "needs_background": "light"
          }
        },
        {
          "output_type": "display_data",
          "data": {
            "text/plain": [
              "<Figure size 432x288 with 0 Axes>"
            ]
          },
          "metadata": {}
        }
      ]
    },
    {
      "cell_type": "code",
      "metadata": {
        "id": "7GpzS2T6591x",
        "colab": {
          "base_uri": "https://localhost:8080/"
        },
        "outputId": "6f758112-4620-4177-bbd1-9142727cef8b"
      },
      "source": [
        "# Make Predictions on Train\n",
        "# Create empty table with 41 fields\n",
        "train_predict = model.predict(train_X)\n",
        "train_predict_dataset_like = np.zeros(shape=(len(train_predict), 41))\n",
        "\n",
        "# Predicted values fill table\n",
        "train_predict_dataset_like[:,0] = train_predict[:,0]\n",
        "\n",
        "# Inverse transform and then select the right field\n",
        "train_predict = scaler.inverse_transform(train_predict_dataset_like)[:,0]\n",
        "\n",
        "print('Train Mean Absolute Error:', mean_absolute_error(train_y[:], train_predict[:]))\n",
        "print('Train Root Mean Squared Error:',np.sqrt(mean_squared_error(train_y[:], train_predict[:])))"
      ],
      "execution_count": null,
      "outputs": [
        {
          "output_type": "stream",
          "name": "stdout",
          "text": [
            "Train Mean Absolute Error: 14.894021679834943\n",
            "Train Root Mean Squared Error: 17.93181664079699\n"
          ]
        }
      ]
    },
    {
      "cell_type": "code",
      "metadata": {
        "id": "7rA2Zltw599S",
        "colab": {
          "base_uri": "https://localhost:8080/"
        },
        "outputId": "b8bb6911-d6fb-478f-df44-fce966241710"
      },
      "source": [
        "# Make Predictions on Test\n",
        "test_predict = model.predict(test_X)\n",
        "test_predict_dataset_like = np.zeros(shape=(len(test_predict), 41))\n",
        "\n",
        "# Invert predictions\n",
        "test_predict_dataset_like[:,0] = test_predict[:,0]\n",
        "\n",
        "# Inverse transform and then select the right field\n",
        "test_predict = scaler.inverse_transform(test_predict_dataset_like)[:,0]\n",
        "\n",
        "print('Test Mean Absolute Error:', mean_absolute_error(test_y[:], test_predict[:]))\n",
        "print('Test Root Mean Squared Error:',np.sqrt(mean_squared_error(test_y[:], test_predict[:])))"
      ],
      "execution_count": null,
      "outputs": [
        {
          "output_type": "stream",
          "name": "stdout",
          "text": [
            "Test Mean Absolute Error: 92.64103135817602\n",
            "Test Root Mean Squared Error: 273.5696375397255\n"
          ]
        }
      ]
    },
    {
      "cell_type": "code",
      "metadata": {
        "id": "4iS-Yytw5-AB"
      },
      "source": [
        "# Make a prediction\n",
        "yhat = model.predict(test_X)\n",
        "test_X = test_X.reshape((test_X.shape[0],test_X.shape[2]))"
      ],
      "execution_count": null,
      "outputs": []
    },
    {
      "cell_type": "code",
      "metadata": {
        "id": "T7R_gw-U6G_O"
      },
      "source": [
        "# Invert scaling for forecast\n",
        "inv_yhat = concatenate((yhat, test_X[:, 1:]), axis=1)\n",
        "inv_yhat = scaler.inverse_transform(inv_yhat)\n",
        "inv_yhat = inv_yhat[:,0]"
      ],
      "execution_count": null,
      "outputs": []
    },
    {
      "cell_type": "code",
      "metadata": {
        "id": "8KmwCdwN6HCi",
        "colab": {
          "base_uri": "https://localhost:8080/"
        },
        "outputId": "328c5729-7c27-4ecb-db57-faaa655ae372"
      },
      "source": [
        "# Predicted maximum, average and minimum metric tonnage\n",
        "print(\"Predicted Max Metric Tons\")\n",
        "print(np.amax(inv_yhat))\n",
        "(\"\\n\")\n",
        "print(\"Predicted Average Metric Tons\")\n",
        "print(np.average(inv_yhat))\n",
        "(\"\\n\")\n",
        "print(\"Predicted Minimum Metric Tons\")\n",
        "print(np.amin(inv_yhat))"
      ],
      "execution_count": null,
      "outputs": [
        {
          "output_type": "stream",
          "name": "stdout",
          "text": [
            "Predicted Max Metric Tons\n",
            "3583.0906\n",
            "Predicted Average Metric Tons\n",
            "-40.82472\n",
            "Predicted Minimum Metric Tons\n",
            "-2778.3926\n"
          ]
        }
      ]
    },
    {
      "cell_type": "code",
      "metadata": {
        "id": "aybQsfBI6HFf"
      },
      "source": [
        "# Invert scaling for actual test data\n",
        "test_y = test_y.reshape((len(test_y), 1))\n",
        "inv_y = concatenate((test_y, test_X[:, 1:]), axis=1)\n",
        "inv_y = scaler.inverse_transform(inv_y)\n",
        "inv_y = inv_y[:,0]"
      ],
      "execution_count": null,
      "outputs": []
    },
    {
      "cell_type": "code",
      "metadata": {
        "id": "zFf-WTYY6j9X",
        "colab": {
          "base_uri": "https://localhost:8080/"
        },
        "outputId": "0c463a25-24c8-4315-bb06-5cc0bfcebd9a"
      },
      "source": [
        "# Maxmimum, average and minimum real metric tonnage\n",
        "print(\"Maximum Metric Tons\")\n",
        "print(np.amax(inv_y))\n",
        "(\"\\n\")\n",
        "print(\"Average Metric Tons\")\n",
        "print(np.average(inv_y))\n",
        "(\"\\n\")\n",
        "print(\"Minimum Metric Tons\")\n",
        "print(np.amin(inv_y))"
      ],
      "execution_count": null,
      "outputs": [
        {
          "output_type": "stream",
          "name": "stdout",
          "text": [
            "Maximum Metric Tons\n",
            "249.99\n",
            "Average Metric Tons\n",
            "21.535204\n",
            "Minimum Metric Tons\n",
            "0.0\n"
          ]
        }
      ]
    },
    {
      "cell_type": "code",
      "metadata": {
        "id": "FdmMK7oW6j_n",
        "colab": {
          "base_uri": "https://localhost:8080/"
        },
        "outputId": "4f373e17-4b60-4360-eea4-01effe1b902e"
      },
      "source": [
        "# Calculate RMSE\n",
        "print('Mean Absolute Error (MAE): %3f' % sklearn.metrics.mean_absolute_error(inv_y, inv_yhat))\n",
        "print('Mean Square Error (MSE): %3f' % sklearn.metrics.mean_squared_error(inv_y, inv_yhat))"
      ],
      "execution_count": null,
      "outputs": [
        {
          "output_type": "stream",
          "name": "stdout",
          "text": [
            "Mean Absolute Error (MAE): 93.193565\n",
            "Mean Square Error (MSE): 76225.539062\n"
          ]
        }
      ]
    },
    {
      "cell_type": "code",
      "metadata": {
        "id": "DRcvrXcY6kCg",
        "colab": {
          "base_uri": "https://localhost:8080/",
          "height": 296
        },
        "outputId": "067407d7-b9b1-47dd-f188-428be577961f"
      },
      "source": [
        "# Plot actual vs predicted metric tonnage\n",
        "my_dpi = 96\n",
        "pyplot.plot(inv_y, label = '2020')\n",
        "pyplot.plot(inv_yhat, label = '2020 - predicted')\n",
        "pyplot.legend()\n",
        "pyplot.savefig('Train2019_batch4_Epochs_ActVersusPred_Updated.png', dpi=my_dpi * 10, bbox_inches='tight')\n",
        "pyplot.show()"
      ],
      "execution_count": null,
      "outputs": [
        {
          "output_type": "display_data",
          "data": {
            "image/png": "[encoded data removed]",
            "text/plain": [
              "<Figure size 432x288 with 1 Axes>"
            ]
          },
          "metadata": {
            "needs_background": "light"
          }
        },
        {
          "output_type": "display_data",
          "data": {
            "text/plain": [
              "<Figure size 432x288 with 0 Axes>"
            ]
          },
          "metadata": {}
        }
      ]
    }
  ]
}