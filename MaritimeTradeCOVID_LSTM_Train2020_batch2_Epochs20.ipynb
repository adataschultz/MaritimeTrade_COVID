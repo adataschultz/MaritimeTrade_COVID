{
  "nbformat": 4,
  "nbformat_minor": 0,
  "metadata": {
    "accelerator": "GPU",
    "colab": {
      "name": "MaritimeTradeCOVID_LSTM_Train2020_batch2_Epochs20.ipynb",
      "provenance": [],
      "collapsed_sections": [],
      "machine_shape": "hm"
    },
    "kernelspec": {
      "display_name": "Python 3",
      "name": "python3"
    },
    "language_info": {
      "name": "python"
    }
  },
  "cells": [
    {
      "cell_type": "code",
      "metadata": {
        "id": "gMEfOjWZucdo"
      },
      "source": [
        "######################################################\n",
        "### 2019 - 2020 Maritime Trade with COVID for LSTM ###\n",
        "######################################################"
      ],
      "execution_count": 1,
      "outputs": []
    },
    {
      "cell_type": "code",
      "metadata": {
        "colab": {
          "base_uri": "https://localhost:8080/"
        },
        "id": "pPD1AoKmuksU",
        "outputId": "c7bb2e57-01f1-4cc6-ad08-3a490cdbc50a"
      },
      "source": [
        "from google.colab import drive \n",
        "drive.mount('/content/drive')"
      ],
      "execution_count": 2,
      "outputs": [
        {
          "output_type": "stream",
          "text": [
            "Mounted at /content/drive\n"
          ],
          "name": "stdout"
        }
      ]
    },
    {
      "cell_type": "code",
      "metadata": {
        "id": "jOReN1GxuoCI",
        "colab": {
          "base_uri": "https://localhost:8080/"
        },
        "outputId": "119b6cce-9d7e-4867-8e19-c2392f3770bd"
      },
      "source": [
        "%cd /content/drive/MyDrive/Data_MaritimeTrade/"
      ],
      "execution_count": 3,
      "outputs": [
        {
          "output_type": "stream",
          "text": [
            "/content/drive/MyDrive/Data_MaritimeTrade\n"
          ],
          "name": "stdout"
        }
      ]
    },
    {
      "cell_type": "code",
      "metadata": {
        "id": "X3HB30ntSlr7",
        "colab": {
          "base_uri": "https://localhost:8080/"
        },
        "outputId": "8fc9313a-b0de-453c-e963-92ecff852e81"
      },
      "source": [
        "!pip install category_encoders"
      ],
      "execution_count": 4,
      "outputs": [
        {
          "output_type": "stream",
          "text": [
            "Collecting category_encoders\n",
            "\u001b[?25l  Downloading https://files.pythonhosted.org/packages/44/57/fcef41c248701ee62e8325026b90c432adea35555cbc870aff9cfba23727/category_encoders-2.2.2-py2.py3-none-any.whl (80kB)\n",
            "\r\u001b[K     |████                            | 10kB 21.8MB/s eta 0:00:01\r\u001b[K     |████████▏                       | 20kB 20.5MB/s eta 0:00:01\r\u001b[K     |████████████▏                   | 30kB 16.3MB/s eta 0:00:01\r\u001b[K     |████████████████▎               | 40kB 15.4MB/s eta 0:00:01\r\u001b[K     |████████████████████▎           | 51kB 8.1MB/s eta 0:00:01\r\u001b[K     |████████████████████████▍       | 61kB 8.0MB/s eta 0:00:01\r\u001b[K     |████████████████████████████▍   | 71kB 9.1MB/s eta 0:00:01\r\u001b[K     |████████████████████████████████| 81kB 5.4MB/s \n",
            "\u001b[?25hRequirement already satisfied: statsmodels>=0.9.0 in /usr/local/lib/python3.7/dist-packages (from category_encoders) (0.10.2)\n",
            "Requirement already satisfied: pandas>=0.21.1 in /usr/local/lib/python3.7/dist-packages (from category_encoders) (1.1.5)\n",
            "Requirement already satisfied: patsy>=0.5.1 in /usr/local/lib/python3.7/dist-packages (from category_encoders) (0.5.1)\n",
            "Requirement already satisfied: scipy>=1.0.0 in /usr/local/lib/python3.7/dist-packages (from category_encoders) (1.4.1)\n",
            "Requirement already satisfied: scikit-learn>=0.20.0 in /usr/local/lib/python3.7/dist-packages (from category_encoders) (0.22.2.post1)\n",
            "Requirement already satisfied: numpy>=1.14.0 in /usr/local/lib/python3.7/dist-packages (from category_encoders) (1.19.5)\n",
            "Requirement already satisfied: pytz>=2017.2 in /usr/local/lib/python3.7/dist-packages (from pandas>=0.21.1->category_encoders) (2018.9)\n",
            "Requirement already satisfied: python-dateutil>=2.7.3 in /usr/local/lib/python3.7/dist-packages (from pandas>=0.21.1->category_encoders) (2.8.1)\n",
            "Requirement already satisfied: six in /usr/local/lib/python3.7/dist-packages (from patsy>=0.5.1->category_encoders) (1.15.0)\n",
            "Requirement already satisfied: joblib>=0.11 in /usr/local/lib/python3.7/dist-packages (from scikit-learn>=0.20.0->category_encoders) (1.0.1)\n",
            "Installing collected packages: category-encoders\n",
            "Successfully installed category-encoders-2.2.2\n"
          ],
          "name": "stdout"
        }
      ]
    },
    {
      "cell_type": "code",
      "metadata": {
        "id": "SJsjiI7GlIeX",
        "colab": {
          "base_uri": "https://localhost:8080/"
        },
        "outputId": "7c52ecfa-1462-47bc-fe9b-43aa8ac9f693"
      },
      "source": [
        "import os\n",
        "import random\n",
        "import pandas as pd\n",
        "import numpy as np\n",
        "import category_encoders as ce\n",
        "from pandas import read_csv\n",
        "from pandas import DataFrame\n",
        "from pandas import concat\n",
        "import sklearn\n",
        "from sklearn.preprocessing import LabelEncoder\n",
        "from sklearn.preprocessing import MinMaxScaler\n",
        "import tensorflow as tf\n",
        "from keras.optimizers import Adam\n",
        "from keras.models import Sequential\n",
        "from keras.layers import LSTM, Dense,  Dropout\n",
        "from keras.callbacks import EarlyStopping\n",
        "from keras.layers.advanced_activations import LeakyReLU\n",
        "from keras.callbacks import ModelCheckpoint\n",
        "from math import sqrt\n",
        "from numpy import concatenate\n",
        "import matplotlib as plt\n",
        "from matplotlib import pyplot\n",
        "from sklearn.metrics import mean_absolute_error\n",
        "from sklearn.metrics import mean_squared_error\n",
        "from sklearn.metrics import r2_score"
      ],
      "execution_count": 5,
      "outputs": [
        {
          "output_type": "stream",
          "text": [
            "/usr/local/lib/python3.7/dist-packages/statsmodels/tools/_testing.py:19: FutureWarning: pandas.util.testing is deprecated. Use the functions in the public API at pandas.testing instead.\n",
            "  import pandas.util.testing as tm\n"
          ],
          "name": "stderr"
        }
      ]
    },
    {
      "cell_type": "code",
      "metadata": {
        "colab": {
          "base_uri": "https://localhost:8080/"
        },
        "id": "VxVwRvRclImg",
        "outputId": "b0ade4c0-bdbe-4a6d-bb87-fc1c4ae3ce3a"
      },
      "source": [
        "df = pd.read_csv('combined_trade_final_LSTM.csv',low_memory=False)\n",
        "print('Number of rows and columns:', df.shape)"
      ],
      "execution_count": 6,
      "outputs": [
        {
          "output_type": "stream",
          "text": [
            "Number of rows and columns: (6633785, 20)\n"
          ],
          "name": "stdout"
        }
      ]
    },
    {
      "cell_type": "code",
      "metadata": {
        "colab": {
          "base_uri": "https://localhost:8080/"
        },
        "id": "ZGOMyP8_lIqa",
        "outputId": "6927837e-ac7a-4f58-874f-a2b8b1034c79"
      },
      "source": [
        "def data_quality_table(df):\n",
        "        mis_val = df.isnull().sum()\n",
        "        #mis_val = df.isnull().sum().loc[lambda x : x>0] \n",
        "        #mis_val = df.loc[:, df.isna().any()].isna().sum()\n",
        "        var_type = df.dtypes\n",
        "        unique_count = df.nunique()\n",
        "        mis_val_table = pd.concat([mis_val, var_type, unique_count], axis=1)\n",
        "        mis_val_table_ren_columns = mis_val_table.rename(\n",
        "        columns = {0 : 'Number Missing', 1 : 'Data Type', 2 : 'Number Unique'})\n",
        "        mis_val_table_ren_columns = mis_val_table_ren_columns[\n",
        "            mis_val_table_ren_columns.iloc[:,1] != 0].sort_values(\n",
        "        'Number Missing', ascending=False).round(1)\n",
        "        print (\"The selected dataframe has \" + str(df.shape[1]) + \" columns.\\n\")\n",
        "        return mis_val_table_ren_columns\n",
        "\n",
        "pd.set_option('display.max_columns', None)\n",
        "print(\"\\nData Quality Report\") \n",
        "print(data_quality_table(df))"
      ],
      "execution_count": 7,
      "outputs": [
        {
          "output_type": "stream",
          "text": [
            "\n",
            "Data Quality Report\n",
            "The selected dataframe has 20 columns.\n",
            "\n",
            "                        Number Missing Data Type  Number Unique\n",
            "Container_LCL/FCL                    0    object              2\n",
            "Metric_Tons                          0   float64          24994\n",
            "deaths_pctdelta                      0   float64           1034\n",
            "cases_pctdelta                       0   float64           1103\n",
            "State_Closure_EA_Diff                0     int64              7\n",
            "deaths_weekly                        0   float64           1034\n",
            "cases_weekly                         0   float64           1104\n",
            "Average_Tariff                       0   float64            631\n",
            "US_Unemployment_Rate                 0   float64             14\n",
            "HS_Group_Name                        0    object              6\n",
            "Foreign_Country_Region               0    object             11\n",
            "US_Port_Coastal_Region               0    object              6\n",
            "foreign_company_size                 0    object              6\n",
            "us_company_size                      0    object              6\n",
            "Year                                 0     int64              2\n",
            "DateTime                             0    object            731\n",
            "Trade_Direction                      0    object              2\n",
            "TCVUSD                               0   float64        3340083\n",
            "Container_Type_Dry                   0      bool              2\n",
            "Delta_Case0_Effective                0   float64             25\n"
          ],
          "name": "stdout"
        }
      ]
    },
    {
      "cell_type": "code",
      "metadata": {
        "id": "P2fTZxlql1F1"
      },
      "source": [
        "# Convert dtypes\n",
        "df = df.copy()\n",
        "df['State_Closure_EA_Diff'] = df['State_Closure_EA_Diff'].astype('float64')\n",
        "df['Container_Type_Dry'] = df['Container_Type_Dry'].astype('object')"
      ],
      "execution_count": 8,
      "outputs": []
    },
    {
      "cell_type": "code",
      "metadata": {
        "id": "A9jZrhs5lIzg"
      },
      "source": [
        "# Convert \n",
        "df = df.copy()\n",
        "df['DateTime']= pd.to_datetime(df['DateTime']) \n",
        "df['DateTime_YearWeek'] = df['DateTime'].dt.strftime('%Y-w%U')"
      ],
      "execution_count": 9,
      "outputs": []
    },
    {
      "cell_type": "code",
      "metadata": {
        "id": "-cNVHJxkl1DQ"
      },
      "source": [
        "df = df.drop(['DateTime'], axis=1)"
      ],
      "execution_count": 10,
      "outputs": []
    },
    {
      "cell_type": "code",
      "metadata": {
        "id": "2b7UYtXzlIwq"
      },
      "source": [
        "# Reformat for X,y\n",
        "df2 = df.drop(['Metric_Tons'], axis=1)\n",
        "df1 = df.loc[:, ['Metric_Tons']]\n",
        "df = pd.concat([df1, df2], axis=1)\n",
        "\n",
        "del df1, df2"
      ],
      "execution_count": 11,
      "outputs": []
    },
    {
      "cell_type": "code",
      "metadata": {
        "id": "RuD8BzyUmMxp"
      },
      "source": [
        "# Sort data chronologically\n",
        "df = df.sort_values('DateTime_YearWeek')"
      ],
      "execution_count": 12,
      "outputs": []
    },
    {
      "cell_type": "code",
      "metadata": {
        "colab": {
          "base_uri": "https://localhost:8080/",
          "height": 258
        },
        "id": "uYnOIGptdbTU",
        "outputId": "e0a08cad-1801-4465-e1d7-b26b69235556"
      },
      "source": [
        "# Set YearWeek in the index\n",
        "df = df.set_index('DateTime_YearWeek')\n",
        "df.head()"
      ],
      "execution_count": 13,
      "outputs": [
        {
          "output_type": "execute_result",
          "data": {
            "text/html": [
              "<div>\n",
              "<style scoped>\n",
              "    .dataframe tbody tr th:only-of-type {\n",
              "        vertical-align: middle;\n",
              "    }\n",
              "\n",
              "    .dataframe tbody tr th {\n",
              "        vertical-align: top;\n",
              "    }\n",
              "\n",
              "    .dataframe thead th {\n",
              "        text-align: right;\n",
              "    }\n",
              "</style>\n",
              "<table border=\"1\" class=\"dataframe\">\n",
              "  <thead>\n",
              "    <tr style=\"text-align: right;\">\n",
              "      <th></th>\n",
              "      <th>Metric_Tons</th>\n",
              "      <th>Container_LCL/FCL</th>\n",
              "      <th>Container_Type_Dry</th>\n",
              "      <th>TCVUSD</th>\n",
              "      <th>Trade_Direction</th>\n",
              "      <th>Year</th>\n",
              "      <th>us_company_size</th>\n",
              "      <th>foreign_company_size</th>\n",
              "      <th>US_Port_Coastal_Region</th>\n",
              "      <th>Foreign_Country_Region</th>\n",
              "      <th>HS_Group_Name</th>\n",
              "      <th>US_Unemployment_Rate</th>\n",
              "      <th>Average_Tariff</th>\n",
              "      <th>cases_weekly</th>\n",
              "      <th>deaths_weekly</th>\n",
              "      <th>State_Closure_EA_Diff</th>\n",
              "      <th>cases_pctdelta</th>\n",
              "      <th>deaths_pctdelta</th>\n",
              "      <th>Delta_Case0_Effective</th>\n",
              "    </tr>\n",
              "    <tr>\n",
              "      <th>DateTime_YearWeek</th>\n",
              "      <th></th>\n",
              "      <th></th>\n",
              "      <th></th>\n",
              "      <th></th>\n",
              "      <th></th>\n",
              "      <th></th>\n",
              "      <th></th>\n",
              "      <th></th>\n",
              "      <th></th>\n",
              "      <th></th>\n",
              "      <th></th>\n",
              "      <th></th>\n",
              "      <th></th>\n",
              "      <th></th>\n",
              "      <th></th>\n",
              "      <th></th>\n",
              "      <th></th>\n",
              "      <th></th>\n",
              "      <th></th>\n",
              "    </tr>\n",
              "  </thead>\n",
              "  <tbody>\n",
              "    <tr>\n",
              "      <th>2019-w00</th>\n",
              "      <td>0.07</td>\n",
              "      <td>LCL</td>\n",
              "      <td>True</td>\n",
              "      <td>817.95</td>\n",
              "      <td>Import</td>\n",
              "      <td>2019</td>\n",
              "      <td>medium</td>\n",
              "      <td>small</td>\n",
              "      <td>Northeast</td>\n",
              "      <td>European Union</td>\n",
              "      <td>Finished Goods</td>\n",
              "      <td>4.0</td>\n",
              "      <td>6.19</td>\n",
              "      <td>0.0</td>\n",
              "      <td>0.0</td>\n",
              "      <td>2.0</td>\n",
              "      <td>0.0</td>\n",
              "      <td>0.0</td>\n",
              "      <td>27.0</td>\n",
              "    </tr>\n",
              "    <tr>\n",
              "      <th>2019-w00</th>\n",
              "      <td>11.54</td>\n",
              "      <td>FCL</td>\n",
              "      <td>True</td>\n",
              "      <td>68439.12</td>\n",
              "      <td>Import</td>\n",
              "      <td>2019</td>\n",
              "      <td>small</td>\n",
              "      <td>small</td>\n",
              "      <td>Southeast</td>\n",
              "      <td>China</td>\n",
              "      <td>Finished Goods</td>\n",
              "      <td>4.0</td>\n",
              "      <td>12.37</td>\n",
              "      <td>0.0</td>\n",
              "      <td>0.0</td>\n",
              "      <td>1.0</td>\n",
              "      <td>0.0</td>\n",
              "      <td>0.0</td>\n",
              "      <td>39.0</td>\n",
              "    </tr>\n",
              "    <tr>\n",
              "      <th>2019-w00</th>\n",
              "      <td>6.32</td>\n",
              "      <td>FCL</td>\n",
              "      <td>True</td>\n",
              "      <td>37481.39</td>\n",
              "      <td>Import</td>\n",
              "      <td>2019</td>\n",
              "      <td>small</td>\n",
              "      <td>small</td>\n",
              "      <td>Southeast</td>\n",
              "      <td>China</td>\n",
              "      <td>Finished Goods</td>\n",
              "      <td>4.0</td>\n",
              "      <td>12.37</td>\n",
              "      <td>0.0</td>\n",
              "      <td>0.0</td>\n",
              "      <td>1.0</td>\n",
              "      <td>0.0</td>\n",
              "      <td>0.0</td>\n",
              "      <td>39.0</td>\n",
              "    </tr>\n",
              "    <tr>\n",
              "      <th>2019-w00</th>\n",
              "      <td>3.82</td>\n",
              "      <td>FCL</td>\n",
              "      <td>True</td>\n",
              "      <td>22654.89</td>\n",
              "      <td>Import</td>\n",
              "      <td>2019</td>\n",
              "      <td>medium</td>\n",
              "      <td>small</td>\n",
              "      <td>Southeast</td>\n",
              "      <td>China</td>\n",
              "      <td>Finished Goods</td>\n",
              "      <td>4.0</td>\n",
              "      <td>12.37</td>\n",
              "      <td>0.0</td>\n",
              "      <td>0.0</td>\n",
              "      <td>1.0</td>\n",
              "      <td>0.0</td>\n",
              "      <td>0.0</td>\n",
              "      <td>39.0</td>\n",
              "    </tr>\n",
              "    <tr>\n",
              "      <th>2019-w00</th>\n",
              "      <td>4.15</td>\n",
              "      <td>FCL</td>\n",
              "      <td>True</td>\n",
              "      <td>24611.99</td>\n",
              "      <td>Import</td>\n",
              "      <td>2019</td>\n",
              "      <td>medium</td>\n",
              "      <td>small</td>\n",
              "      <td>Southeast</td>\n",
              "      <td>China</td>\n",
              "      <td>Finished Goods</td>\n",
              "      <td>4.0</td>\n",
              "      <td>12.37</td>\n",
              "      <td>0.0</td>\n",
              "      <td>0.0</td>\n",
              "      <td>1.0</td>\n",
              "      <td>0.0</td>\n",
              "      <td>0.0</td>\n",
              "      <td>39.0</td>\n",
              "    </tr>\n",
              "  </tbody>\n",
              "</table>\n",
              "</div>"
            ],
            "text/plain": [
              "                   Metric_Tons Container_LCL/FCL Container_Type_Dry    TCVUSD  \\\n",
              "DateTime_YearWeek                                                               \n",
              "2019-w00                  0.07               LCL               True    817.95   \n",
              "2019-w00                 11.54               FCL               True  68439.12   \n",
              "2019-w00                  6.32               FCL               True  37481.39   \n",
              "2019-w00                  3.82               FCL               True  22654.89   \n",
              "2019-w00                  4.15               FCL               True  24611.99   \n",
              "\n",
              "                  Trade_Direction  Year us_company_size foreign_company_size  \\\n",
              "DateTime_YearWeek                                                              \n",
              "2019-w00                   Import  2019          medium                small   \n",
              "2019-w00                   Import  2019           small                small   \n",
              "2019-w00                   Import  2019           small                small   \n",
              "2019-w00                   Import  2019          medium                small   \n",
              "2019-w00                   Import  2019          medium                small   \n",
              "\n",
              "                  US_Port_Coastal_Region Foreign_Country_Region  \\\n",
              "DateTime_YearWeek                                                 \n",
              "2019-w00                       Northeast         European Union   \n",
              "2019-w00                       Southeast                  China   \n",
              "2019-w00                       Southeast                  China   \n",
              "2019-w00                       Southeast                  China   \n",
              "2019-w00                       Southeast                  China   \n",
              "\n",
              "                    HS_Group_Name  US_Unemployment_Rate  Average_Tariff  \\\n",
              "DateTime_YearWeek                                                         \n",
              "2019-w00           Finished Goods                   4.0            6.19   \n",
              "2019-w00           Finished Goods                   4.0           12.37   \n",
              "2019-w00           Finished Goods                   4.0           12.37   \n",
              "2019-w00           Finished Goods                   4.0           12.37   \n",
              "2019-w00           Finished Goods                   4.0           12.37   \n",
              "\n",
              "                   cases_weekly  deaths_weekly  State_Closure_EA_Diff  \\\n",
              "DateTime_YearWeek                                                       \n",
              "2019-w00                    0.0            0.0                    2.0   \n",
              "2019-w00                    0.0            0.0                    1.0   \n",
              "2019-w00                    0.0            0.0                    1.0   \n",
              "2019-w00                    0.0            0.0                    1.0   \n",
              "2019-w00                    0.0            0.0                    1.0   \n",
              "\n",
              "                   cases_pctdelta  deaths_pctdelta  Delta_Case0_Effective  \n",
              "DateTime_YearWeek                                                          \n",
              "2019-w00                      0.0              0.0                   27.0  \n",
              "2019-w00                      0.0              0.0                   39.0  \n",
              "2019-w00                      0.0              0.0                   39.0  \n",
              "2019-w00                      0.0              0.0                   39.0  \n",
              "2019-w00                      0.0              0.0                   39.0  "
            ]
          },
          "metadata": {
            "tags": []
          },
          "execution_count": 13
        }
      ]
    },
    {
      "cell_type": "code",
      "metadata": {
        "colab": {
          "base_uri": "https://localhost:8080/"
        },
        "id": "5ov9MVadmmTC",
        "outputId": "b0e7f1f8-9353-4b0f-95aa-29cb96c5d3b0"
      },
      "source": [
        "# X,y for encoding\n",
        "X = df.iloc[:,:-1]\n",
        "y = df.iloc[:,:1]\n",
        "print(X.shape)\n",
        "print(y.shape)"
      ],
      "execution_count": 14,
      "outputs": [
        {
          "output_type": "stream",
          "text": [
            "(6633785, 18)\n",
            "(6633785, 1)\n"
          ],
          "name": "stdout"
        }
      ]
    },
    {
      "cell_type": "code",
      "metadata": {
        "colab": {
          "base_uri": "https://localhost:8080/"
        },
        "id": "cQ45WstYmmVr",
        "outputId": "c700bcab-0aaf-435e-9b8e-518ac5d50f18"
      },
      "source": [
        "# Encode variables using ranking - ordinal               \n",
        "ce_ord = ce.OrdinalEncoder(cols = ['foreign_company_size', 'us_company_size'])\n",
        "result = ce_ord.fit_transform(X, y['Metric_Tons'])"
      ],
      "execution_count": 15,
      "outputs": [
        {
          "output_type": "stream",
          "text": [
            "/usr/local/lib/python3.7/dist-packages/category_encoders/utils.py:21: FutureWarning: is_categorical is deprecated and will be removed in a future version.  Use is_categorical_dtype instead\n",
            "  elif pd.api.types.is_categorical(cols):\n"
          ],
          "name": "stderr"
        }
      ]
    },
    {
      "cell_type": "code",
      "metadata": {
        "colab": {
          "base_uri": "https://localhost:8080/"
        },
        "id": "rp7GWKtfmM9V",
        "outputId": "8e1348bc-52fd-409b-d499-d1291368fc7b"
      },
      "source": [
        "# Convert remaining qualitative vars to dummy vars\n",
        "result = pd.get_dummies(result, prefix=['HS_Group_Name', 'Container_LCL/FCL', 'Foreign_Country_Region', 'US_Port_Coastal_Region', 'Trade_Direction', 'Container_Type_Dry'],\n",
        "                      columns=['HS_Group_Name', 'Container_LCL/FCL', 'Foreign_Country_Region', 'US_Port_Coastal_Region', 'Trade_Direction', 'Container_Type_Dry'])\n",
        "#currently 41\n",
        "print(result.shape)"
      ],
      "execution_count": 16,
      "outputs": [
        {
          "output_type": "stream",
          "text": [
            "(6633785, 41)\n"
          ],
          "name": "stdout"
        }
      ]
    },
    {
      "cell_type": "code",
      "metadata": {
        "colab": {
          "base_uri": "https://localhost:8080/"
        },
        "id": "UG-mzteffa0x",
        "outputId": "a499e4e1-c9d8-4d1a-802f-39e2d201a57d"
      },
      "source": [
        "df = result\n",
        "print(\"\\nData Quality Report\") \n",
        "print(data_quality_table(df))\n",
        "df.shape"
      ],
      "execution_count": 17,
      "outputs": [
        {
          "output_type": "stream",
          "text": [
            "\n",
            "Data Quality Report\n",
            "The selected dataframe has 41 columns.\n",
            "\n",
            "                                                    Number Missing Data Type  \\\n",
            "Metric_Tons                                                      0   float64   \n",
            "Foreign_Country_Region_European Union                            0     uint8   \n",
            "Foreign_Country_Region_North America                             0     uint8   \n",
            "Foreign_Country_Region_Oceania                                   0     uint8   \n",
            "Foreign_Country_Region_Other East Asia (not China)               0     uint8   \n",
            "Foreign_Country_Region_Other Europe (not Europe...               0     uint8   \n",
            "Foreign_Country_Region_South America                             0     uint8   \n",
            "Foreign_Country_Region_South Asia                                0     uint8   \n",
            "Foreign_Country_Region_Southeast Asia                            0     uint8   \n",
            "Foreign_Country_Region_Sub Saharan Africa                        0     uint8   \n",
            "US_Port_Coastal_Region_Gulf                                      0     uint8   \n",
            "US_Port_Coastal_Region_Northeast                                 0     uint8   \n",
            "US_Port_Coastal_Region_Northwest                                 0     uint8   \n",
            "US_Port_Coastal_Region_Other                                     0     uint8   \n",
            "US_Port_Coastal_Region_Southeast                                 0     uint8   \n",
            "US_Port_Coastal_Region_Southwest                                 0     uint8   \n",
            "Trade_Direction_Export                                           0     uint8   \n",
            "Trade_Direction_Import                                           0     uint8   \n",
            "Container_Type_Dry_False                                         0     uint8   \n",
            "Foreign_Country_Region_Middle East & North Africa                0     uint8   \n",
            "Foreign_Country_Region_China                                     0     uint8   \n",
            "TCVUSD                                                           0   float64   \n",
            "Container_LCL/FCL_LCL                                            0     uint8   \n",
            "Year                                                             0     int64   \n",
            "us_company_size                                                  0     int64   \n",
            "foreign_company_size                                             0     int64   \n",
            "US_Unemployment_Rate                                             0   float64   \n",
            "Average_Tariff                                                   0   float64   \n",
            "cases_weekly                                                     0   float64   \n",
            "deaths_weekly                                                    0   float64   \n",
            "State_Closure_EA_Diff                                            0   float64   \n",
            "cases_pctdelta                                                   0   float64   \n",
            "deaths_pctdelta                                                  0   float64   \n",
            "HS_Group_Name_Edible                                             0     uint8   \n",
            "HS_Group_Name_Edible with Processing                             0     uint8   \n",
            "HS_Group_Name_Finished Goods                                     0     uint8   \n",
            "HS_Group_Name_Pharma                                             0     uint8   \n",
            "HS_Group_Name_Raw Input                                          0     uint8   \n",
            "HS_Group_Name_Vices                                              0     uint8   \n",
            "Container_LCL/FCL_FCL                                            0     uint8   \n",
            "Container_Type_Dry_True                                          0     uint8   \n",
            "\n",
            "                                                    Number Unique  \n",
            "Metric_Tons                                                 24994  \n",
            "Foreign_Country_Region_European Union                           2  \n",
            "Foreign_Country_Region_North America                            2  \n",
            "Foreign_Country_Region_Oceania                                  2  \n",
            "Foreign_Country_Region_Other East Asia (not China)              2  \n",
            "Foreign_Country_Region_Other Europe (not Europe...              2  \n",
            "Foreign_Country_Region_South America                            2  \n",
            "Foreign_Country_Region_South Asia                               2  \n",
            "Foreign_Country_Region_Southeast Asia                           2  \n",
            "Foreign_Country_Region_Sub Saharan Africa                       2  \n",
            "US_Port_Coastal_Region_Gulf                                     2  \n",
            "US_Port_Coastal_Region_Northeast                                2  \n",
            "US_Port_Coastal_Region_Northwest                                2  \n",
            "US_Port_Coastal_Region_Other                                    2  \n",
            "US_Port_Coastal_Region_Southeast                                2  \n",
            "US_Port_Coastal_Region_Southwest                                2  \n",
            "Trade_Direction_Export                                          2  \n",
            "Trade_Direction_Import                                          2  \n",
            "Container_Type_Dry_False                                        2  \n",
            "Foreign_Country_Region_Middle East & North Africa               2  \n",
            "Foreign_Country_Region_China                                    2  \n",
            "TCVUSD                                                    3340083  \n",
            "Container_LCL/FCL_LCL                                           2  \n",
            "Year                                                            2  \n",
            "us_company_size                                                 6  \n",
            "foreign_company_size                                            6  \n",
            "US_Unemployment_Rate                                           14  \n",
            "Average_Tariff                                                631  \n",
            "cases_weekly                                                 1104  \n",
            "deaths_weekly                                                1034  \n",
            "State_Closure_EA_Diff                                           7  \n",
            "cases_pctdelta                                               1103  \n",
            "deaths_pctdelta                                              1034  \n",
            "HS_Group_Name_Edible                                            2  \n",
            "HS_Group_Name_Edible with Processing                            2  \n",
            "HS_Group_Name_Finished Goods                                    2  \n",
            "HS_Group_Name_Pharma                                            2  \n",
            "HS_Group_Name_Raw Input                                         2  \n",
            "HS_Group_Name_Vices                                             2  \n",
            "Container_LCL/FCL_FCL                                           2  \n",
            "Container_Type_Dry_True                                         2  \n"
          ],
          "name": "stdout"
        },
        {
          "output_type": "execute_result",
          "data": {
            "text/plain": [
              "(6633785, 41)"
            ]
          },
          "metadata": {
            "tags": []
          },
          "execution_count": 17
        }
      ]
    },
    {
      "cell_type": "code",
      "metadata": {
        "colab": {
          "base_uri": "https://localhost:8080/"
        },
        "id": "QKzFkp0ymmkQ",
        "outputId": "a84e2652-cf9d-4853-8284-1729391294aa"
      },
      "source": [
        "# Examine year for the number per year to be used for train/test sets\n",
        "df[['Year']].value_counts()"
      ],
      "execution_count": 18,
      "outputs": [
        {
          "output_type": "execute_result",
          "data": {
            "text/plain": [
              "Year\n",
              "2019    3368492\n",
              "2020    3265293\n",
              "dtype: int64"
            ]
          },
          "metadata": {
            "tags": []
          },
          "execution_count": 18
        }
      ]
    },
    {
      "cell_type": "code",
      "metadata": {
        "colab": {
          "base_uri": "https://localhost:8080/"
        },
        "id": "OVG7ziM-m3dV",
        "outputId": "34431180-4f70-466d-86ff-bc09b2db9df8"
      },
      "source": [
        "df = df.drop(['Year'], axis=1)\n",
        "df.shape"
      ],
      "execution_count": 19,
      "outputs": [
        {
          "output_type": "execute_result",
          "data": {
            "text/plain": [
              "(6633785, 40)"
            ]
          },
          "metadata": {
            "tags": []
          },
          "execution_count": 19
        }
      ]
    },
    {
      "cell_type": "code",
      "metadata": {
        "colab": {
          "base_uri": "https://localhost:8080/"
        },
        "id": "qe5dNJiim3iY",
        "outputId": "b9ddc1b5-20e1-43ef-ebfd-c14e8203bab0"
      },
      "source": [
        "# Prepare data for LSTM\n",
        "# COnvert series to supervised learning\n",
        "def series_to_supervised(dat, n_in=1, n_out=1, dropnan=True):\n",
        "\tn_vars = 1 if type(dat) is list else dat.shape[1]\n",
        "\tdf = DataFrame(dat)\n",
        "\tcols, names = list(), list()\n",
        "\t# input sequence (t-n, ... t-1)\n",
        "\tfor i in range(n_in, 0, -1):\n",
        "\t\tcols.append(df.shift(i))\n",
        "\t\tnames += [('var%d(t-%d)' % (j+1, i)) for j in range(n_vars)]\n",
        "\t# forecast sequence (t, t+1, ... t+n)\n",
        "\tfor i in range(0, n_out):\n",
        "\t\tcols.append(df.shift(-i))\n",
        "\t\tif i == 0:\n",
        "\t\t\tnames += [('var%d(t)' % (j+1)) for j in range(n_vars)]\n",
        "\t\telse:\n",
        "\t\t\tnames += [('var%d(t+%d)' % (j+1, i)) for j in range(n_vars)]\n",
        "\t# put it all together\n",
        "\tagg = concat(cols, axis=1)\n",
        "\tagg.columns = names\n",
        "\t# drop rows with NaN values\n",
        "\tif dropnan:\n",
        "\t\tagg.dropna(inplace=True)\n",
        "\treturn agg\n",
        "\n",
        "# Load df\n",
        "dataset = df\n",
        "values = dataset.values\n",
        "# Convert all data to float\n",
        "values = values.astype('float32')\n",
        "# Normalize features\n",
        "scaler = MinMaxScaler(feature_range=(0, 1))\n",
        "scaled = scaler.fit_transform(values)\n",
        "# Frame as supervised learning\n",
        "reframed = series_to_supervised(scaled, 1, 1)\n",
        "reframed.drop(reframed.columns[[41,42,43,44,45,46,47,48,49,50,51,52,53,54,55,56,57,58,59,60,61,62,63,64,65,66,67,68,69,70,71,72,73,74,75,76,77,78,79]], axis=1, inplace=True)\n",
        "print(reframed.head())"
      ],
      "execution_count": 20,
      "outputs": [
        {
          "output_type": "stream",
          "text": [
            "   var1(t-1)     var2(t-1)  var3(t-1)  var4(t-1)  var5(t-1)  var6(t-1)  \\\n",
            "1   0.000280  5.305452e-07        0.0        0.0   0.044248   0.003732   \n",
            "2   0.046162  4.439152e-05        0.2        0.0   0.044248   0.007459   \n",
            "3   0.025281  2.431148e-05        0.2        0.0   0.044248   0.007459   \n",
            "4   0.015281  1.469459e-05        0.0        0.0   0.044248   0.007459   \n",
            "5   0.016601  1.596402e-05        0.0        0.0   0.044248   0.007459   \n",
            "\n",
            "   var7(t-1)  var8(t-1)  var9(t-1)  var10(t-1)  var11(t-1)  var12(t-1)  \\\n",
            "1        0.0        0.0     0.1250         0.0    0.000004         0.0   \n",
            "2        0.0        0.0     0.0625         0.0    0.000004         0.0   \n",
            "3        0.0        0.0     0.0625         0.0    0.000004         0.0   \n",
            "4        0.0        0.0     0.0625         0.0    0.000004         0.0   \n",
            "5        0.0        0.0     0.0625         0.0    0.000004         0.0   \n",
            "\n",
            "   var13(t-1)  var14(t-1)  var15(t-1)  var16(t-1)  var17(t-1)  var18(t-1)  \\\n",
            "1         0.0         1.0         0.0         0.0         0.0         0.0   \n",
            "2         0.0         1.0         0.0         0.0         0.0         1.0   \n",
            "3         0.0         1.0         0.0         0.0         0.0         1.0   \n",
            "4         0.0         1.0         0.0         0.0         0.0         1.0   \n",
            "5         0.0         1.0         0.0         0.0         0.0         1.0   \n",
            "\n",
            "   var19(t-1)  var20(t-1)  var21(t-1)  var22(t-1)  var23(t-1)  var24(t-1)  \\\n",
            "1         1.0         0.0         1.0         0.0         0.0         0.0   \n",
            "2         0.0         1.0         0.0         0.0         0.0         0.0   \n",
            "3         0.0         1.0         0.0         0.0         0.0         0.0   \n",
            "4         0.0         1.0         0.0         0.0         0.0         0.0   \n",
            "5         0.0         1.0         0.0         0.0         0.0         0.0   \n",
            "\n",
            "   var25(t-1)  var26(t-1)  var27(t-1)  var28(t-1)  var29(t-1)  var30(t-1)  \\\n",
            "1         0.0         0.0         0.0         0.0         0.0         0.0   \n",
            "2         0.0         0.0         0.0         0.0         0.0         0.0   \n",
            "3         0.0         0.0         0.0         0.0         0.0         0.0   \n",
            "4         0.0         0.0         0.0         0.0         0.0         0.0   \n",
            "5         0.0         0.0         0.0         0.0         0.0         0.0   \n",
            "\n",
            "   var31(t-1)  var32(t-1)  var33(t-1)  var34(t-1)  var35(t-1)  var36(t-1)  \\\n",
            "1         0.0         1.0         0.0         0.0         0.0         0.0   \n",
            "2         0.0         0.0         0.0         0.0         1.0         0.0   \n",
            "3         0.0         0.0         0.0         0.0         1.0         0.0   \n",
            "4         0.0         0.0         0.0         0.0         1.0         0.0   \n",
            "5         0.0         0.0         0.0         0.0         1.0         0.0   \n",
            "\n",
            "   var37(t-1)  var38(t-1)  var39(t-1)  var40(t-1)   var1(t)  \n",
            "1         0.0         1.0         0.0         1.0  0.046162  \n",
            "2         0.0         1.0         0.0         1.0  0.025281  \n",
            "3         0.0         1.0         0.0         1.0  0.015281  \n",
            "4         0.0         1.0         0.0         1.0  0.016601  \n",
            "5         0.0         1.0         0.0         1.0  0.044442  \n"
          ],
          "name": "stdout"
        }
      ]
    },
    {
      "cell_type": "code",
      "metadata": {
        "colab": {
          "base_uri": "https://localhost:8080/"
        },
        "id": "8CijYoGFnG7f",
        "outputId": "e3fd7de1-c262-4c95-e0dd-f3caf7cdeaa1"
      },
      "source": [
        "# Define fit model for 2020\n",
        "# Split into train and test sets\n",
        "values = reframed.values\n",
        "n_train_hours = 3368492\n",
        "test = values[:n_train_hours, :]\n",
        "train = values[n_train_hours:, :]\n",
        "# Split into input and outputs\n",
        "train_X, train_y = train[:, :-1], train[:, -1]\n",
        "test_X, test_y = test[:, :-1], test[:, -1]\n",
        "# Reshape input to be 3D [samples, timesteps, features]\n",
        "train_X = train_X.reshape((train_X.shape[0], 1, train_X.shape[1]))\n",
        "test_X = test_X.reshape((test_X.shape[0], 1, test_X.shape[1]))\n",
        "print(train_X.shape, train_y.shape, test_X.shape, test_y.shape)"
      ],
      "execution_count": 21,
      "outputs": [
        {
          "output_type": "stream",
          "text": [
            "(3265292, 1, 40) (3265292,) (3368492, 1, 40) (3368492,)\n"
          ],
          "name": "stdout"
        }
      ]
    },
    {
      "cell_type": "code",
      "metadata": {
        "colab": {
          "base_uri": "https://localhost:8080/"
        },
        "id": "hulkHt_KnG_y",
        "outputId": "2981b44d-15a7-47d6-a5eb-1fbf3d38ef4d"
      },
      "source": [
        "print(\"TensorFlow version: {}\".format(tf.__version__))\n",
        "print(\"Eager execution is: {}\".format(tf.executing_eagerly()))\n",
        "print(\"Keras version: {}\".format(tf.keras.__version__))\n",
        "print(\"Num GPUs Available: \", len(tf.config.list_physical_devices('GPU')))"
      ],
      "execution_count": 22,
      "outputs": [
        {
          "output_type": "stream",
          "text": [
            "TensorFlow version: 2.5.0\n",
            "Eager execution is: True\n",
            "Keras version: 2.5.0\n",
            "Num GPUs Available:  1\n"
          ],
          "name": "stdout"
        }
      ]
    },
    {
      "cell_type": "code",
      "metadata": {
        "id": "Rq4OU14dx8-q"
      },
      "source": [
        "# Reproducibility  in TF and Pytorch \n",
        "def init_seeds(seed=2020):\n",
        "    np.random.seed(seed)\n",
        "    random.seed(seed)\n",
        "    session_conf = tf.compat.v1.ConfigProto()\n",
        "    session_conf = tf.compat.v1.ConfigProto(intra_op_parallelism_threads=1,\n",
        "                              inter_op_parallelism_threads=1)\n",
        "    #session_conf.gpu_options.visible_device_list = gpu\n",
        "    os.environ['TF_CUDNN_DETERMINISTIC'] ='true'\n",
        "    os.environ['TF_DETERMINISTIC_OPS'] = 'true'\n",
        "    #from keras import backend as K\n",
        "    #K.set_image_data_format('channels_first')\n",
        "    tf.random.set_seed(seed)\n",
        "    sess = tf.compat.v1.Session(graph=tf.compat.v1.get_default_graph(),config=session_conf)\n",
        "    tf.compat.v1.keras.backend.set_session(sess)\n",
        "    return sess"
      ],
      "execution_count": 23,
      "outputs": []
    },
    {
      "cell_type": "code",
      "metadata": {
        "id": "fjzKoSqW-5kS",
        "colab": {
          "base_uri": "https://localhost:8080/"
        },
        "outputId": "a8b67187-141b-44d1-c657-1e395cd12326"
      },
      "source": [
        "init_seeds(seed=2020)\n"
      ],
      "execution_count": 24,
      "outputs": [
        {
          "output_type": "execute_result",
          "data": {
            "text/plain": [
              "<tensorflow.python.client.session.Session at 0x7fbe3bc39c50>"
            ]
          },
          "metadata": {
            "tags": []
          },
          "execution_count": 24
        }
      ]
    },
    {
      "cell_type": "code",
      "metadata": {
        "colab": {
          "base_uri": "https://localhost:8080/"
        },
        "id": "kRwla8x8nHCh",
        "outputId": "e3c86b11-0877-40c9-96be-f2d0f46fc4c1"
      },
      "source": [
        "# LSTM Model\n",
        "model = Sequential()\n",
        "model.add(LSTM(50, input_shape=(train_X.shape[1], train_X.shape[2])))\n",
        "model.add(Dense(1))\n",
        "model.compile(loss='mae', metrics=['mse'], optimizer='adam')\n",
        "model.summary()"
      ],
      "execution_count": 25,
      "outputs": [
        {
          "output_type": "stream",
          "text": [
            "Model: \"sequential\"\n",
            "_________________________________________________________________\n",
            "Layer (type)                 Output Shape              Param #   \n",
            "=================================================================\n",
            "lstm (LSTM)                  (None, 50)                18200     \n",
            "_________________________________________________________________\n",
            "dense (Dense)                (None, 1)                 51        \n",
            "=================================================================\n",
            "Total params: 18,251\n",
            "Trainable params: 18,251\n",
            "Non-trainable params: 0\n",
            "_________________________________________________________________\n"
          ],
          "name": "stdout"
        }
      ]
    },
    {
      "cell_type": "code",
      "metadata": {
        "id": "GjwdhmLao3GE"
      },
      "source": [
        "import datetime\n",
        "log_folder = \"logs/fit/\" + datetime.datetime.now().strftime(\"%Y%m%d-%H%M%S\")\n",
        "\n",
        "%load_ext tensorboard"
      ],
      "execution_count": 26,
      "outputs": []
    },
    {
      "cell_type": "code",
      "metadata": {
        "id": "313WEIXoo6ov"
      },
      "source": [
        "filepath = 'weights_only_train2020_test2019_n50_b2_epochs20.h5'\n",
        "\n",
        "checkpoint_dir = os.path.dirname(filepath)\n",
        "\n",
        "tensorboard_callback = tf.keras.callbacks.TensorBoard(log_folder, histogram_freq=1)\n",
        "\n",
        "callbacks_list = [EarlyStopping(monitor='loss', patience = 3),\n",
        "                  ModelCheckpoint(filepath, monitor='mse', \n",
        "                                  save_best_only=True, mode='min'), \n",
        "                  tensorboard_callback]"
      ],
      "execution_count": 27,
      "outputs": []
    },
    {
      "cell_type": "code",
      "metadata": {
        "id": "XWZdRYJWnHFQ",
        "colab": {
          "base_uri": "https://localhost:8080/"
        },
        "outputId": "ee01f6d6-b20b-4b51-bb09-057fbd9e1021"
      },
      "source": [
        "# Train Model\n",
        "history = model.fit(train_X, train_y, epochs=20, batch_size=2, shuffle=False, \n",
        "                    callbacks=callbacks_list)"
      ],
      "execution_count": 28,
      "outputs": [
        {
          "output_type": "stream",
          "text": [
            "Epoch 1/20\n",
            "1632646/1632646 [==============================] - 3399s 2ms/step - loss: 0.0553 - mse: 0.0149\n",
            "Epoch 2/20\n",
            "1632646/1632646 [==============================] - 3264s 2ms/step - loss: 0.0547 - mse: 0.0148\n",
            "Epoch 3/20\n",
            "1632646/1632646 [==============================] - 3252s 2ms/step - loss: 0.0547 - mse: 0.0148\n",
            "Epoch 4/20\n",
            "1632646/1632646 [==============================] - 3247s 2ms/step - loss: 0.0546 - mse: 0.0148\n",
            "Epoch 5/20\n",
            "1632646/1632646 [==============================] - 3264s 2ms/step - loss: 0.0546 - mse: 0.0148\n",
            "Epoch 6/20\n",
            "1632646/1632646 [==============================] - 3312s 2ms/step - loss: 0.0546 - mse: 0.0148\n",
            "Epoch 7/20\n",
            "1632646/1632646 [==============================] - 3324s 2ms/step - loss: 0.0546 - mse: 0.0148\n",
            "Epoch 8/20\n",
            "1632646/1632646 [==============================] - 3326s 2ms/step - loss: 0.0546 - mse: 0.0148\n",
            "Epoch 9/20\n",
            "1632646/1632646 [==============================] - 3346s 2ms/step - loss: 0.0546 - mse: 0.0148\n",
            "Epoch 10/20\n",
            "1632646/1632646 [==============================] - 3347s 2ms/step - loss: 0.0546 - mse: 0.0148\n",
            "Epoch 11/20\n",
            "1632646/1632646 [==============================] - 3358s 2ms/step - loss: 0.0546 - mse: 0.0148\n",
            "Epoch 12/20\n",
            "1632646/1632646 [==============================] - 3327s 2ms/step - loss: 0.0546 - mse: 0.0148\n",
            "Epoch 13/20\n",
            "1632646/1632646 [==============================] - 3319s 2ms/step - loss: 0.0546 - mse: 0.0148\n",
            "Epoch 14/20\n",
            "1632646/1632646 [==============================] - 3339s 2ms/step - loss: 0.0546 - mse: 0.0148\n",
            "Epoch 15/20\n",
            "1632646/1632646 [==============================] - 3338s 2ms/step - loss: 0.0546 - mse: 0.0148\n",
            "Epoch 16/20\n",
            "1632646/1632646 [==============================] - 3321s 2ms/step - loss: 0.0546 - mse: 0.0148\n"
          ],
          "name": "stdout"
        }
      ]
    },
    {
      "cell_type": "code",
      "metadata": {
        "id": "CXRLtUyCnHH4"
      },
      "source": [
        "model.save('./2107018_Model_50neuron_batch2_20epochs_train2020_tf.h5', save_format='tf')\n",
        "#loaded_model = tf.keras.models.load_model('./210718_Model_50neuron_batch2_20epochs_train2020_tf')"
      ],
      "execution_count": 29,
      "outputs": []
    },
    {
      "cell_type": "code",
      "metadata": {
        "id": "Drl89PVunHL2",
        "colab": {
          "base_uri": "https://localhost:8080/",
          "height": 295
        },
        "outputId": "48b3c09a-1461-4603-ab31-e7a746edbddb"
      },
      "source": [
        "# Plot loss over epochs\n",
        "pyplot.title('Model Loss')\n",
        "pyplot.plot(history.history['loss'], label='train')\n",
        "pyplot.ylabel('Loss')\n",
        "pyplot.xlabel('Epochs')\n",
        "pyplot.legend()\n",
        "pyplot.show()"
      ],
      "execution_count": 30,
      "outputs": [
        {
          "output_type": "display_data",
          "data": {
            "image/png": "[encoded data removed]",
            "text/plain": [
              "<Figure size 432x288 with 1 Axes>"
            ]
          },
          "metadata": {
            "tags": [],
            "needs_background": "light"
          }
        }
      ]
    },
    {
      "cell_type": "code",
      "metadata": {
        "id": "7GpzS2T6591x",
        "colab": {
          "base_uri": "https://localhost:8080/"
        },
        "outputId": "e041d8bf-439d-4303-e302-c6ceaf74fb40"
      },
      "source": [
        "# Make Predictions on Train\n",
        "# Create empty table with 40fields\n",
        "train_predict = model.predict(train_X)\n",
        "train_predict_dataset_like = np.zeros(shape=(len(train_predict), 40))\n",
        "\n",
        "# Predicted values fill table\n",
        "train_predict_dataset_like[:,0] = train_predict[:,0]\n",
        "\n",
        "# Inverse transform and then select the right field\n",
        "train_predict = scaler.inverse_transform(train_predict_dataset_like)[:,0]\n",
        "\n",
        "print('Train Mean Absolute Error:', mean_absolute_error(train_y[:], train_predict[:]))\n",
        "print('Train Root Mean Squared Error:',np.sqrt(mean_squared_error(train_y[:], train_predict[:])))"
      ],
      "execution_count": 31,
      "outputs": [
        {
          "output_type": "stream",
          "text": [
            "Train Mean Absolute Error: 22.805937328709025\n",
            "Train Root Mean Squared Error: 60.413624876348834\n"
          ],
          "name": "stdout"
        }
      ]
    },
    {
      "cell_type": "code",
      "metadata": {
        "id": "7rA2Zltw599S",
        "colab": {
          "base_uri": "https://localhost:8080/"
        },
        "outputId": "070b72f4-9ee0-4c1f-8fbe-4bf37b18a686"
      },
      "source": [
        "# Make Predictions on Test\n",
        "test_predict = model.predict(test_X)\n",
        "test_predict_dataset_like = np.zeros(shape=(len(test_predict), 40))\n",
        "\n",
        "# Invert predictions\n",
        "test_predict_dataset_like[:,0] = test_predict[:,0]\n",
        "\n",
        "# Inverse transform and then select the right field\n",
        "test_predict = scaler.inverse_transform(test_predict_dataset_like)[:,0]\n",
        "\n",
        "print('Test Mean Absolute Error:', mean_absolute_error(test_y[:], test_predict[:]))\n",
        "print('Test Root Mean Squared Error:',np.sqrt(mean_squared_error(test_y[:], test_predict[:])))"
      ],
      "execution_count": 32,
      "outputs": [
        {
          "output_type": "stream",
          "text": [
            "Test Mean Absolute Error: 22.083251899159205\n",
            "Test Root Mean Squared Error: 29.506896913701222\n"
          ],
          "name": "stdout"
        }
      ]
    },
    {
      "cell_type": "code",
      "metadata": {
        "id": "4iS-Yytw5-AB"
      },
      "source": [
        "# Make a prediction\n",
        "yhat = model.predict(test_X)\n",
        "test_X = test_X.reshape((test_X.shape[0],test_X.shape[2]))"
      ],
      "execution_count": 33,
      "outputs": []
    },
    {
      "cell_type": "code",
      "metadata": {
        "id": "T7R_gw-U6G_O"
      },
      "source": [
        "# Invert scaling for forecast\n",
        "inv_yhat = concatenate((yhat, test_X[:, 1:]), axis=1)\n",
        "inv_yhat = scaler.inverse_transform(inv_yhat)\n",
        "inv_yhat = inv_yhat[:,0]"
      ],
      "execution_count": 34,
      "outputs": []
    },
    {
      "cell_type": "code",
      "metadata": {
        "id": "8KmwCdwN6HCi",
        "colab": {
          "base_uri": "https://localhost:8080/"
        },
        "outputId": "4ac7b16c-cf79-4fe2-d7cb-92ad5af09fe7"
      },
      "source": [
        "# Predicted maximum, average and minimum metric tonnage\n",
        "print(\"Predicted Max Metric Tons\")\n",
        "print(np.amax(inv_yhat))\n",
        "(\"\\n\")\n",
        "print(\"Predicted Average Metric Tons\")\n",
        "print(np.average(inv_yhat))\n",
        "(\"\\n\")\n",
        "print(\"Predicted Minimum Metric Tons\")\n",
        "print(np.amin(inv_yhat))"
      ],
      "execution_count": 35,
      "outputs": [
        {
          "output_type": "stream",
          "text": [
            "Predicted Max Metric Tons\n",
            "199.44139\n",
            "Predicted Average Metric Tons\n",
            "19.842196\n",
            "Predicted Minimum Metric Tons\n",
            "-421.66852\n"
          ],
          "name": "stdout"
        }
      ]
    },
    {
      "cell_type": "code",
      "metadata": {
        "id": "aybQsfBI6HFf"
      },
      "source": [
        "# Invert scaling for actual test data\n",
        "test_y = test_y.reshape((len(test_y), 1))\n",
        "inv_y = concatenate((test_y, test_X[:, 1:]), axis=1)\n",
        "inv_y = scaler.inverse_transform(inv_y)\n",
        "inv_y = inv_y[:,0]"
      ],
      "execution_count": 36,
      "outputs": []
    },
    {
      "cell_type": "code",
      "metadata": {
        "id": "zFf-WTYY6j9X",
        "colab": {
          "base_uri": "https://localhost:8080/"
        },
        "outputId": "43ef9a09-9665-4c7b-d745-d85d32bd7bda"
      },
      "source": [
        "# Maxmimum, average and minimum real metric tonnage\n",
        "print(\"Maximum Metric Tons\")\n",
        "print(np.amax(inv_y))\n",
        "(\"\\n\")\n",
        "print(\"Average Metric Tons\")\n",
        "print(np.average(inv_y))\n",
        "(\"\\n\")\n",
        "print(\"Minimum Metric Tons\")\n",
        "print(np.amin(inv_y))"
      ],
      "execution_count": 37,
      "outputs": [
        {
          "output_type": "stream",
          "text": [
            "Maximum Metric Tons\n",
            "249.99\n",
            "Average Metric Tons\n",
            "21.897873\n",
            "Minimum Metric Tons\n",
            "0.0\n"
          ],
          "name": "stdout"
        }
      ]
    },
    {
      "cell_type": "code",
      "metadata": {
        "id": "FdmMK7oW6j_n",
        "colab": {
          "base_uri": "https://localhost:8080/"
        },
        "outputId": "4f8c7fd5-3a77-43fb-e9fe-3bc4f25df9cd"
      },
      "source": [
        "# Calculate RMSE\n",
        "print('Mean Absolute Error (MAE): %3f' % sklearn.metrics.mean_absolute_error(inv_y, inv_yhat))\n",
        "print('Mean Square Error (MSE): %3f' % sklearn.metrics.mean_squared_error(inv_y, inv_yhat))"
      ],
      "execution_count": 38,
      "outputs": [
        {
          "output_type": "stream",
          "text": [
            "Mean Absolute Error (MAE): 21.666611\n",
            "Mean Square Error (MSE): 1369.605591\n"
          ],
          "name": "stdout"
        }
      ]
    },
    {
      "cell_type": "code",
      "metadata": {
        "id": "DRcvrXcY6kCg",
        "colab": {
          "base_uri": "https://localhost:8080/",
          "height": 278
        },
        "outputId": "98577780-2ad8-454e-a87b-0577bebba5d5"
      },
      "source": [
        "# Plot actual vs predicted metric tonnage\n",
        "pyplot.plot(inv_y, label = '2019')\n",
        "pyplot.plot(inv_yhat, label = '2019 - predicted')\n",
        "pyplot.legend()\n",
        "pyplot.show()"
      ],
      "execution_count": 39,
      "outputs": [
        {
          "output_type": "display_data",
          "data": {
            "image/png": "[encoded data removed]",
            "text/plain": [
              "<Figure size 432x288 with 1 Axes>"
            ]
          },
          "metadata": {
            "tags": [],
            "needs_background": "light"
          }
        }
      ]
    }
  ]
}