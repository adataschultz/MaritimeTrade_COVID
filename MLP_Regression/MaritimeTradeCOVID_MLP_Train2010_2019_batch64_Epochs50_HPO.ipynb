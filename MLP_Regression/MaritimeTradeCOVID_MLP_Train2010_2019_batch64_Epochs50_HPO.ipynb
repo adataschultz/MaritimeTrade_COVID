{
  "nbformat": 4,
  "nbformat_minor": 0,
  "metadata": {
    "colab": {
      "name": "MaritimeTradeCOVID_MLP_Train2010_2019_batch64_Epochs50_HPO.ipynb",
      "provenance": [],
      "collapsed_sections": [],
      "machine_shape": "hm",
      "include_colab_link": true
    },
    "kernelspec": {
      "display_name": "Python 3",
      "name": "python3"
    },
    "language_info": {
      "name": "python"
    },
    "accelerator": "GPU"
  },
  "cells": [
    {
      "cell_type": "markdown",
      "metadata": {
        "id": "view-in-github",
        "colab_type": "text"
      },
      "source": [
        "<a href=\"https://colab.research.google.com/github/adataschultz/MaritimeTrade_COVID/blob/main/MLP_Regression/MaritimeTradeCOVID_MLP_Train2010_2019_batch64_Epochs50_HPO.ipynb\" target=\"_parent\"><img src=\"https://colab.research.google.com/assets/colab-badge.svg\" alt=\"Open In Colab\"/></a>"
      ]
    },
    {
      "cell_type": "code",
      "metadata": {
        "id": "wpTmKtBVKMKT"
      },
      "source": [
        "######################################################\n",
        "#### 2010 - 2019 Maritime Trade with COVID - MLP #####\n",
        "##########  Hyperparameter Optimization ##############\n",
        "######################################################"
      ],
      "execution_count": null,
      "outputs": []
    },
    {
      "cell_type": "code",
      "metadata": {
        "id": "pPD1AoKmuksU",
        "colab": {
          "base_uri": "https://localhost:8080/"
        },
        "outputId": "92377201-a3ac-4350-e20a-5bb8f7074cec"
      },
      "source": [
        "from google.colab import drive \n",
        "drive.mount('/content/drive')"
      ],
      "execution_count": null,
      "outputs": [
        {
          "output_type": "stream",
          "name": "stdout",
          "text": [
            "Mounted at /content/drive\n"
          ]
        }
      ]
    },
    {
      "cell_type": "code",
      "metadata": {
        "id": "jOReN1GxuoCI",
        "colab": {
          "base_uri": "https://localhost:8080/"
        },
        "outputId": "b3955e19-9c73-4b20-e2a6-7ee29fd6a582"
      },
      "source": [
        "%cd /content/drive/MyDrive/Data_MaritimeTrade_MLP/"
      ],
      "execution_count": null,
      "outputs": [
        {
          "output_type": "stream",
          "name": "stdout",
          "text": [
            "/content/drive/MyDrive/Data_MaritimeTrade_MLP\n"
          ]
        }
      ]
    },
    {
      "cell_type": "code",
      "metadata": {
        "id": "SJsjiI7GlIeX",
        "colab": {
          "base_uri": "https://localhost:8080/"
        },
        "outputId": "993244ab-e0f7-44b8-bd85-ae2a0eb759a8"
      },
      "source": [
        "# Install and import packages\n",
        "!pip install category_encoders\n",
        "!pip install keras-tuner\n",
        "from tensorflow import keras\n",
        "import keras_tuner\n",
        "from keras_tuner import BayesianOptimization\n",
        "import os\n",
        "import random\n",
        "import pandas as pd\n",
        "import numpy as np\n",
        "import category_encoders as ce\n",
        "from pandas import read_csv\n",
        "from pandas import DataFrame\n",
        "from pandas import concat\n",
        "import sklearn\n",
        "from sklearn.model_selection import train_test_split\n",
        "from sklearn.preprocessing import LabelEncoder\n",
        "from sklearn.preprocessing import MinMaxScaler\n",
        "import datetime\n",
        "import tensorflow as tf\n",
        "from tensorboard.plugins.hparams import api as hp\n",
        "from tensorflow.keras.models import Sequential\n",
        "from tensorflow.keras.layers import Dense, Dropout\n",
        "from tensorflow.keras.callbacks import EarlyStopping\n",
        "from tensorflow.keras.callbacks import ModelCheckpoint\n",
        "import matplotlib as plt\n",
        "from matplotlib import pyplot\n",
        "from sklearn.metrics import mean_absolute_error\n",
        "from sklearn.metrics import mean_squared_error\n",
        "print('\\n')\n",
        "print(\"TensorFlow version: {}\".format(tf.__version__))\n",
        "print(\"Eager execution is: {}\".format(tf.executing_eagerly()))\n",
        "print(\"Keras version: {}\".format(tf.keras.__version__))\n",
        "print(\"Num GPUs Available: \", len(tf.config.list_physical_devices('GPU')))"
      ],
      "execution_count": null,
      "outputs": [
        {
          "output_type": "stream",
          "name": "stdout",
          "text": [
            "Collecting category_encoders\n",
            "  Downloading category_encoders-2.3.0-py2.py3-none-any.whl (82 kB)\n",
            "\u001b[?25l\r\u001b[K     |████                            | 10 kB 28.6 MB/s eta 0:00:01\r\u001b[K     |████████                        | 20 kB 9.3 MB/s eta 0:00:01\r\u001b[K     |████████████                    | 30 kB 8.2 MB/s eta 0:00:01\r\u001b[K     |████████████████                | 40 kB 7.8 MB/s eta 0:00:01\r\u001b[K     |████████████████████            | 51 kB 4.1 MB/s eta 0:00:01\r\u001b[K     |████████████████████████        | 61 kB 4.3 MB/s eta 0:00:01\r\u001b[K     |████████████████████████████    | 71 kB 4.6 MB/s eta 0:00:01\r\u001b[K     |███████████████████████████████▉| 81 kB 5.1 MB/s eta 0:00:01\r\u001b[K     |████████████████████████████████| 82 kB 391 kB/s \n",
            "\u001b[?25hRequirement already satisfied: numpy>=1.14.0 in /usr/local/lib/python3.7/dist-packages (from category_encoders) (1.19.5)\n",
            "Requirement already satisfied: scipy>=1.0.0 in /usr/local/lib/python3.7/dist-packages (from category_encoders) (1.4.1)\n",
            "Requirement already satisfied: scikit-learn>=0.20.0 in /usr/local/lib/python3.7/dist-packages (from category_encoders) (0.22.2.post1)\n",
            "Requirement already satisfied: statsmodels>=0.9.0 in /usr/local/lib/python3.7/dist-packages (from category_encoders) (0.10.2)\n",
            "Requirement already satisfied: patsy>=0.5.1 in /usr/local/lib/python3.7/dist-packages (from category_encoders) (0.5.2)\n",
            "Requirement already satisfied: pandas>=0.21.1 in /usr/local/lib/python3.7/dist-packages (from category_encoders) (1.1.5)\n",
            "Requirement already satisfied: pytz>=2017.2 in /usr/local/lib/python3.7/dist-packages (from pandas>=0.21.1->category_encoders) (2018.9)\n",
            "Requirement already satisfied: python-dateutil>=2.7.3 in /usr/local/lib/python3.7/dist-packages (from pandas>=0.21.1->category_encoders) (2.8.2)\n",
            "Requirement already satisfied: six in /usr/local/lib/python3.7/dist-packages (from patsy>=0.5.1->category_encoders) (1.15.0)\n",
            "Requirement already satisfied: joblib>=0.11 in /usr/local/lib/python3.7/dist-packages (from scikit-learn>=0.20.0->category_encoders) (1.0.1)\n",
            "Installing collected packages: category-encoders\n",
            "Successfully installed category-encoders-2.3.0\n",
            "Collecting keras-tuner\n",
            "  Downloading keras_tuner-1.0.4-py3-none-any.whl (97 kB)\n",
            "\u001b[K     |████████████████████████████████| 97 kB 3.3 MB/s \n",
            "\u001b[?25hRequirement already satisfied: tensorboard in /usr/local/lib/python3.7/dist-packages (from keras-tuner) (2.6.0)\n",
            "Requirement already satisfied: packaging in /usr/local/lib/python3.7/dist-packages (from keras-tuner) (21.0)\n",
            "Requirement already satisfied: ipython in /usr/local/lib/python3.7/dist-packages (from keras-tuner) (5.5.0)\n",
            "Requirement already satisfied: scipy in /usr/local/lib/python3.7/dist-packages (from keras-tuner) (1.4.1)\n",
            "Collecting kt-legacy\n",
            "  Downloading kt_legacy-1.0.4-py3-none-any.whl (9.6 kB)\n",
            "Requirement already satisfied: requests in /usr/local/lib/python3.7/dist-packages (from keras-tuner) (2.23.0)\n",
            "Requirement already satisfied: numpy in /usr/local/lib/python3.7/dist-packages (from keras-tuner) (1.19.5)\n",
            "Requirement already satisfied: simplegeneric>0.8 in /usr/local/lib/python3.7/dist-packages (from ipython->keras-tuner) (0.8.1)\n",
            "Requirement already satisfied: prompt-toolkit<2.0.0,>=1.0.4 in /usr/local/lib/python3.7/dist-packages (from ipython->keras-tuner) (1.0.18)\n",
            "Requirement already satisfied: decorator in /usr/local/lib/python3.7/dist-packages (from ipython->keras-tuner) (4.4.2)\n",
            "Requirement already satisfied: pygments in /usr/local/lib/python3.7/dist-packages (from ipython->keras-tuner) (2.6.1)\n",
            "Requirement already satisfied: traitlets>=4.2 in /usr/local/lib/python3.7/dist-packages (from ipython->keras-tuner) (5.1.0)\n",
            "Requirement already satisfied: pexpect in /usr/local/lib/python3.7/dist-packages (from ipython->keras-tuner) (4.8.0)\n",
            "Requirement already satisfied: pickleshare in /usr/local/lib/python3.7/dist-packages (from ipython->keras-tuner) (0.7.5)\n",
            "Requirement already satisfied: setuptools>=18.5 in /usr/local/lib/python3.7/dist-packages (from ipython->keras-tuner) (57.4.0)\n",
            "Requirement already satisfied: six>=1.9.0 in /usr/local/lib/python3.7/dist-packages (from prompt-toolkit<2.0.0,>=1.0.4->ipython->keras-tuner) (1.15.0)\n",
            "Requirement already satisfied: wcwidth in /usr/local/lib/python3.7/dist-packages (from prompt-toolkit<2.0.0,>=1.0.4->ipython->keras-tuner) (0.2.5)\n",
            "Requirement already satisfied: pyparsing>=2.0.2 in /usr/local/lib/python3.7/dist-packages (from packaging->keras-tuner) (2.4.7)\n",
            "Requirement already satisfied: ptyprocess>=0.5 in /usr/local/lib/python3.7/dist-packages (from pexpect->ipython->keras-tuner) (0.7.0)\n",
            "Requirement already satisfied: chardet<4,>=3.0.2 in /usr/local/lib/python3.7/dist-packages (from requests->keras-tuner) (3.0.4)\n",
            "Requirement already satisfied: certifi>=2017.4.17 in /usr/local/lib/python3.7/dist-packages (from requests->keras-tuner) (2021.5.30)\n",
            "Requirement already satisfied: urllib3!=1.25.0,!=1.25.1,<1.26,>=1.21.1 in /usr/local/lib/python3.7/dist-packages (from requests->keras-tuner) (1.24.3)\n",
            "Requirement already satisfied: idna<3,>=2.5 in /usr/local/lib/python3.7/dist-packages (from requests->keras-tuner) (2.10)\n",
            "Requirement already satisfied: markdown>=2.6.8 in /usr/local/lib/python3.7/dist-packages (from tensorboard->keras-tuner) (3.3.4)\n",
            "Requirement already satisfied: protobuf>=3.6.0 in /usr/local/lib/python3.7/dist-packages (from tensorboard->keras-tuner) (3.17.3)\n",
            "Requirement already satisfied: werkzeug>=0.11.15 in /usr/local/lib/python3.7/dist-packages (from tensorboard->keras-tuner) (1.0.1)\n",
            "Requirement already satisfied: google-auth<2,>=1.6.3 in /usr/local/lib/python3.7/dist-packages (from tensorboard->keras-tuner) (1.35.0)\n",
            "Requirement already satisfied: tensorboard-plugin-wit>=1.6.0 in /usr/local/lib/python3.7/dist-packages (from tensorboard->keras-tuner) (1.8.0)\n",
            "Requirement already satisfied: wheel>=0.26 in /usr/local/lib/python3.7/dist-packages (from tensorboard->keras-tuner) (0.37.0)\n",
            "Requirement already satisfied: google-auth-oauthlib<0.5,>=0.4.1 in /usr/local/lib/python3.7/dist-packages (from tensorboard->keras-tuner) (0.4.6)\n",
            "Requirement already satisfied: tensorboard-data-server<0.7.0,>=0.6.0 in /usr/local/lib/python3.7/dist-packages (from tensorboard->keras-tuner) (0.6.1)\n",
            "Requirement already satisfied: absl-py>=0.4 in /usr/local/lib/python3.7/dist-packages (from tensorboard->keras-tuner) (0.12.0)\n",
            "Requirement already satisfied: grpcio>=1.24.3 in /usr/local/lib/python3.7/dist-packages (from tensorboard->keras-tuner) (1.41.0)\n",
            "Requirement already satisfied: rsa<5,>=3.1.4 in /usr/local/lib/python3.7/dist-packages (from google-auth<2,>=1.6.3->tensorboard->keras-tuner) (4.7.2)\n",
            "Requirement already satisfied: pyasn1-modules>=0.2.1 in /usr/local/lib/python3.7/dist-packages (from google-auth<2,>=1.6.3->tensorboard->keras-tuner) (0.2.8)\n",
            "Requirement already satisfied: cachetools<5.0,>=2.0.0 in /usr/local/lib/python3.7/dist-packages (from google-auth<2,>=1.6.3->tensorboard->keras-tuner) (4.2.4)\n",
            "Requirement already satisfied: requests-oauthlib>=0.7.0 in /usr/local/lib/python3.7/dist-packages (from google-auth-oauthlib<0.5,>=0.4.1->tensorboard->keras-tuner) (1.3.0)\n",
            "Requirement already satisfied: importlib-metadata in /usr/local/lib/python3.7/dist-packages (from markdown>=2.6.8->tensorboard->keras-tuner) (4.8.1)\n",
            "Requirement already satisfied: pyasn1<0.5.0,>=0.4.6 in /usr/local/lib/python3.7/dist-packages (from pyasn1-modules>=0.2.1->google-auth<2,>=1.6.3->tensorboard->keras-tuner) (0.4.8)\n",
            "Requirement already satisfied: oauthlib>=3.0.0 in /usr/local/lib/python3.7/dist-packages (from requests-oauthlib>=0.7.0->google-auth-oauthlib<0.5,>=0.4.1->tensorboard->keras-tuner) (3.1.1)\n",
            "Requirement already satisfied: zipp>=0.5 in /usr/local/lib/python3.7/dist-packages (from importlib-metadata->markdown>=2.6.8->tensorboard->keras-tuner) (3.6.0)\n",
            "Requirement already satisfied: typing-extensions>=3.6.4 in /usr/local/lib/python3.7/dist-packages (from importlib-metadata->markdown>=2.6.8->tensorboard->keras-tuner) (3.7.4.3)\n",
            "Installing collected packages: kt-legacy, keras-tuner\n",
            "Successfully installed keras-tuner-1.0.4 kt-legacy-1.0.4\n"
          ]
        },
        {
          "output_type": "stream",
          "name": "stderr",
          "text": [
            "/usr/local/lib/python3.7/dist-packages/statsmodels/tools/_testing.py:19: FutureWarning: pandas.util.testing is deprecated. Use the functions in the public API at pandas.testing instead.\n",
            "  import pandas.util.testing as tm\n"
          ]
        },
        {
          "output_type": "stream",
          "name": "stdout",
          "text": [
            "\n",
            "\n",
            "TensorFlow version: 2.6.0\n",
            "Eager execution is: True\n",
            "Keras version: 2.6.0\n",
            "Num GPUs Available:  1\n"
          ]
        }
      ]
    },
    {
      "cell_type": "code",
      "metadata": {
        "id": "Rq4OU14dx8-q"
      },
      "source": [
        "# Reproducibility in TF and Pytorch \n",
        "def init_seeds(seed=1019):\n",
        "    np.random.seed(seed)\n",
        "    random.seed(seed)\n",
        "    session_conf = tf.compat.v1.ConfigProto()\n",
        "    session_conf = tf.compat.v1.ConfigProto(intra_op_parallelism_threads=1,\n",
        "                              inter_op_parallelism_threads=1)\n",
        "    os.environ['TF_CUDNN_DETERMINISTIC'] ='true'\n",
        "    os.environ['TF_DETERMINISTIC_OPS'] = 'true'\n",
        "    tf.random.set_seed(seed)\n",
        "    sess = tf.compat.v1.Session(graph=tf.compat.v1.get_default_graph(),config=session_conf)\n",
        "    tf.compat.v1.keras.backend.set_session(sess)\n",
        "    return sess"
      ],
      "execution_count": null,
      "outputs": []
    },
    {
      "cell_type": "code",
      "metadata": {
        "id": "fjzKoSqW-5kS",
        "colab": {
          "base_uri": "https://localhost:8080/"
        },
        "outputId": "b763b73e-9e2b-4cf6-b66c-dd0029abbb7f"
      },
      "source": [
        "init_seeds(seed=1019)"
      ],
      "execution_count": null,
      "outputs": [
        {
          "output_type": "execute_result",
          "data": {
            "text/plain": [
              "<tensorflow.python.client.session.Session at 0x7f53b2e6a5d0>"
            ]
          },
          "metadata": {},
          "execution_count": 6
        }
      ]
    },
    {
      "cell_type": "code",
      "metadata": {
        "id": "VxVwRvRclImg",
        "colab": {
          "base_uri": "https://localhost:8080/"
        },
        "outputId": "ac0743bd-1c25-48e7-e508-574cbd42af8f"
      },
      "source": [
        "# Needed to reduce dimensions and remove missing data due to memory constraints\n",
        "df = pd.read_csv('MaritimeTrade_10-19_MLP.csv', low_memory=False)\n",
        "print('Number of rows and columns:', df.shape)"
      ],
      "execution_count": null,
      "outputs": [
        {
          "output_type": "stream",
          "name": "stdout",
          "text": [
            "Number of rows and columns: (26088280, 13)\n"
          ]
        }
      ]
    },
    {
      "cell_type": "code",
      "metadata": {
        "id": "U53zsz1q24mw",
        "colab": {
          "base_uri": "https://localhost:8080/"
        },
        "outputId": "85df9ac4-db5e-4246-a040-3efe1cc25ffb"
      },
      "source": [
        "# Examine Variables for Missingness\n",
        "def missing_values_table(df):\n",
        "    mis_val = df.isnull().sum()\n",
        "    mis_val_percent = 100 * df.isnull().sum() / len(df)\n",
        "    var_type = df.dtypes\n",
        "    mis_val_table = pd.concat([mis_val, mis_val_percent, var_type], axis=1)\n",
        "    mis_val_table_ren_columns = mis_val_table.rename(\n",
        "        columns={0: 'Missing Values', 1: '% of Total Values', 2: 'Data Type'})\n",
        "    mis_val_table_ren_columns = mis_val_table_ren_columns[\n",
        "        mis_val_table_ren_columns.iloc[:, 1] != 0].sort_values(\n",
        "        '% of Total Values', ascending=False).round(1)\n",
        "    print('The selected dataframe has ' + str(df.shape[1]) + ' columns.\\n'\n",
        "          'There are ' + str(mis_val_table_ren_columns.shape[0]) +\n",
        "          ' columns that have missing values.')\n",
        "    return mis_val_table_ren_columns\n",
        "\n",
        "print('\\nInitial Missing Data Report') \n",
        "print(missing_values_table(df))"
      ],
      "execution_count": null,
      "outputs": [
        {
          "output_type": "stream",
          "name": "stdout",
          "text": [
            "\n",
            "Initial Missing Data Report\n",
            "The selected dataframe has 13 columns.\n",
            "There are 0 columns that have missing values.\n",
            "Empty DataFrame\n",
            "Columns: [Missing Values, % of Total Values, Data Type]\n",
            "Index: []\n"
          ]
        }
      ]
    },
    {
      "cell_type": "code",
      "metadata": {
        "id": "AZXUjXcS201g",
        "colab": {
          "base_uri": "https://localhost:8080/"
        },
        "outputId": "4ad20c76-0b04-4d08-ca04-11e949b942b8"
      },
      "source": [
        "# Examine for other variables unable to impute probalistically\n",
        "def data_type_quality_table(df):\n",
        "        var_type = df.dtypes\n",
        "        unique_count = df.nunique()\n",
        "        val_table = pd.concat([var_type, unique_count], axis=1)\n",
        "        val_table_ren_columns = val_table.rename(\n",
        "        columns = {0 : 'Data Type', 1 : 'Number Unique'})\n",
        "        print ('The selected dataframe has ' + str(df.shape[1]) + ' columns.\\n')\n",
        "        return val_table_ren_columns\n",
        "\n",
        "print('\\nData Type & Uniqueness Report') \n",
        "print(data_type_quality_table(df))"
      ],
      "execution_count": null,
      "outputs": [
        {
          "output_type": "stream",
          "name": "stdout",
          "text": [
            "\n",
            "Data Type & Uniqueness Report\n",
            "The selected dataframe has 13 columns.\n",
            "\n",
            "                       Data Type  Number Unique\n",
            "Container_LCL/FCL         object              2\n",
            "Metric_Tons              float64         151659\n",
            "Container_Type_Dry          bool              2\n",
            "TCVUSD                   float64        9784472\n",
            "Trade_Direction           object              2\n",
            "Year                       int64             10\n",
            "us_company_size           object              6\n",
            "foreign_company_size      object              6\n",
            "US_Port_Coastal_Region    object              6\n",
            "Foreign_Country_Region    object             11\n",
            "HS_Group_Name             object              6\n",
            "US_Unemployment_Rate     float64             53\n",
            "Average_Tariff           float64           1583\n"
          ]
        }
      ]
    },
    {
      "cell_type": "code",
      "metadata": {
        "id": "Uiw-wEGpsIqS"
      },
      "source": [
        "# Reformat for X,y\n",
        "df2 = df.drop(['Metric_Tons'], axis=1)\n",
        "df1 = df.loc[:, ['Metric_Tons']]\n",
        "df = pd.concat([df1, df2], axis=1)\n",
        "\n",
        "del df1, df2"
      ],
      "execution_count": null,
      "outputs": []
    },
    {
      "cell_type": "code",
      "metadata": {
        "id": "5ov9MVadmmTC",
        "colab": {
          "base_uri": "https://localhost:8080/"
        },
        "outputId": "9192ac11-1fcb-43ae-8d23-9f24891721f2"
      },
      "source": [
        "# X,y for encoding\n",
        "X = df.drop(['Metric_Tons'], axis=1)\n",
        "y = df.iloc[:,:1]\n",
        "print(X.shape)\n",
        "print(y.shape)"
      ],
      "execution_count": null,
      "outputs": [
        {
          "output_type": "stream",
          "name": "stdout",
          "text": [
            "(26088280, 12)\n",
            "(26088280, 1)\n"
          ]
        }
      ]
    },
    {
      "cell_type": "code",
      "metadata": {
        "id": "P78w8tQ59pkm"
      },
      "source": [
        "# Set up train/test split\n",
        "X_train, X_test, y_train, y_test = train_test_split(X, y, test_size = 0.3, stratify= X.Year, random_state = 1019)"
      ],
      "execution_count": null,
      "outputs": []
    },
    {
      "cell_type": "code",
      "metadata": {
        "id": "cQ45WstYmmVr"
      },
      "source": [
        "# Training set: Encode variables using ranking - ordinal               \n",
        "ce_ord = ce.OrdinalEncoder(cols = ['foreign_company_size', 'us_company_size'])\n",
        "X_train = ce_ord.fit_transform(X_train, y_train['Metric_Tons'])"
      ],
      "execution_count": null,
      "outputs": []
    },
    {
      "cell_type": "code",
      "metadata": {
        "id": "yXaOKp2WAB7I"
      },
      "source": [
        "# Testing set: Encode variables using ranking - ordinal               \n",
        "ce_ord = ce.OrdinalEncoder(cols = ['foreign_company_size', 'us_company_size'])\n",
        "X_test = ce_ord.fit_transform(X_test, y_test['Metric_Tons'])"
      ],
      "execution_count": null,
      "outputs": []
    },
    {
      "cell_type": "code",
      "metadata": {
        "id": "XdlkQSsEu36o",
        "colab": {
          "base_uri": "https://localhost:8080/",
          "height": 244
        },
        "outputId": "defe303f-11d9-4ccd-be96-bbf5f0d1c14d"
      },
      "source": [
        "# Train: Create dummy variables for categorical variables\n",
        "X_train = pd.get_dummies(X_train, drop_first=True)\n",
        "X_train.head()"
      ],
      "execution_count": null,
      "outputs": [
        {
          "output_type": "execute_result",
          "data": {
            "text/html": [
              "<div>\n",
              "<style scoped>\n",
              "    .dataframe tbody tr th:only-of-type {\n",
              "        vertical-align: middle;\n",
              "    }\n",
              "\n",
              "    .dataframe tbody tr th {\n",
              "        vertical-align: top;\n",
              "    }\n",
              "\n",
              "    .dataframe thead th {\n",
              "        text-align: right;\n",
              "    }\n",
              "</style>\n",
              "<table border=\"1\" class=\"dataframe\">\n",
              "  <thead>\n",
              "    <tr style=\"text-align: right;\">\n",
              "      <th></th>\n",
              "      <th>Container_Type_Dry</th>\n",
              "      <th>TCVUSD</th>\n",
              "      <th>Year</th>\n",
              "      <th>us_company_size</th>\n",
              "      <th>foreign_company_size</th>\n",
              "      <th>US_Unemployment_Rate</th>\n",
              "      <th>Average_Tariff</th>\n",
              "      <th>Container_LCL/FCL_LCL</th>\n",
              "      <th>Trade_Direction_Import</th>\n",
              "      <th>US_Port_Coastal_Region_Northeast</th>\n",
              "      <th>US_Port_Coastal_Region_Northwest</th>\n",
              "      <th>US_Port_Coastal_Region_Other</th>\n",
              "      <th>US_Port_Coastal_Region_Southeast</th>\n",
              "      <th>US_Port_Coastal_Region_Southwest</th>\n",
              "      <th>Foreign_Country_Region_European Union</th>\n",
              "      <th>Foreign_Country_Region_Middle East &amp; North Africa</th>\n",
              "      <th>Foreign_Country_Region_North America</th>\n",
              "      <th>Foreign_Country_Region_Oceania</th>\n",
              "      <th>Foreign_Country_Region_Other East Asia (not China)</th>\n",
              "      <th>Foreign_Country_Region_Other Europe (not European Union)</th>\n",
              "      <th>Foreign_Country_Region_South America</th>\n",
              "      <th>Foreign_Country_Region_South Asia</th>\n",
              "      <th>Foreign_Country_Region_Southeast Asia</th>\n",
              "      <th>Foreign_Country_Region_Sub Saharan Africa</th>\n",
              "      <th>HS_Group_Name_Edible with Processing</th>\n",
              "      <th>HS_Group_Name_Finished Goods</th>\n",
              "      <th>HS_Group_Name_Pharma</th>\n",
              "      <th>HS_Group_Name_Raw Input</th>\n",
              "      <th>HS_Group_Name_Vices</th>\n",
              "    </tr>\n",
              "  </thead>\n",
              "  <tbody>\n",
              "    <tr>\n",
              "      <th>10469850</th>\n",
              "      <td>True</td>\n",
              "      <td>38532.89</td>\n",
              "      <td>2014</td>\n",
              "      <td>1</td>\n",
              "      <td>1</td>\n",
              "      <td>6.2</td>\n",
              "      <td>7.29</td>\n",
              "      <td>0</td>\n",
              "      <td>1</td>\n",
              "      <td>0</td>\n",
              "      <td>0</td>\n",
              "      <td>0</td>\n",
              "      <td>1</td>\n",
              "      <td>0</td>\n",
              "      <td>0</td>\n",
              "      <td>0</td>\n",
              "      <td>0</td>\n",
              "      <td>0</td>\n",
              "      <td>0</td>\n",
              "      <td>0</td>\n",
              "      <td>0</td>\n",
              "      <td>0</td>\n",
              "      <td>0</td>\n",
              "      <td>0</td>\n",
              "      <td>0</td>\n",
              "      <td>1</td>\n",
              "      <td>0</td>\n",
              "      <td>0</td>\n",
              "      <td>0</td>\n",
              "    </tr>\n",
              "    <tr>\n",
              "      <th>18182491</th>\n",
              "      <td>True</td>\n",
              "      <td>22153.32</td>\n",
              "      <td>2018</td>\n",
              "      <td>2</td>\n",
              "      <td>2</td>\n",
              "      <td>4.0</td>\n",
              "      <td>4.80</td>\n",
              "      <td>0</td>\n",
              "      <td>0</td>\n",
              "      <td>1</td>\n",
              "      <td>0</td>\n",
              "      <td>0</td>\n",
              "      <td>0</td>\n",
              "      <td>0</td>\n",
              "      <td>0</td>\n",
              "      <td>1</td>\n",
              "      <td>0</td>\n",
              "      <td>0</td>\n",
              "      <td>0</td>\n",
              "      <td>0</td>\n",
              "      <td>0</td>\n",
              "      <td>0</td>\n",
              "      <td>0</td>\n",
              "      <td>0</td>\n",
              "      <td>0</td>\n",
              "      <td>1</td>\n",
              "      <td>0</td>\n",
              "      <td>0</td>\n",
              "      <td>0</td>\n",
              "    </tr>\n",
              "    <tr>\n",
              "      <th>20616234</th>\n",
              "      <td>True</td>\n",
              "      <td>44206.83</td>\n",
              "      <td>2019</td>\n",
              "      <td>3</td>\n",
              "      <td>3</td>\n",
              "      <td>3.6</td>\n",
              "      <td>17.81</td>\n",
              "      <td>0</td>\n",
              "      <td>1</td>\n",
              "      <td>0</td>\n",
              "      <td>0</td>\n",
              "      <td>0</td>\n",
              "      <td>0</td>\n",
              "      <td>0</td>\n",
              "      <td>0</td>\n",
              "      <td>0</td>\n",
              "      <td>0</td>\n",
              "      <td>0</td>\n",
              "      <td>0</td>\n",
              "      <td>0</td>\n",
              "      <td>1</td>\n",
              "      <td>0</td>\n",
              "      <td>0</td>\n",
              "      <td>0</td>\n",
              "      <td>0</td>\n",
              "      <td>1</td>\n",
              "      <td>0</td>\n",
              "      <td>0</td>\n",
              "      <td>0</td>\n",
              "    </tr>\n",
              "    <tr>\n",
              "      <th>2749909</th>\n",
              "      <td>True</td>\n",
              "      <td>0.00</td>\n",
              "      <td>2012</td>\n",
              "      <td>2</td>\n",
              "      <td>1</td>\n",
              "      <td>8.3</td>\n",
              "      <td>0.15</td>\n",
              "      <td>0</td>\n",
              "      <td>1</td>\n",
              "      <td>0</td>\n",
              "      <td>0</td>\n",
              "      <td>0</td>\n",
              "      <td>0</td>\n",
              "      <td>1</td>\n",
              "      <td>0</td>\n",
              "      <td>0</td>\n",
              "      <td>0</td>\n",
              "      <td>0</td>\n",
              "      <td>1</td>\n",
              "      <td>0</td>\n",
              "      <td>0</td>\n",
              "      <td>0</td>\n",
              "      <td>0</td>\n",
              "      <td>0</td>\n",
              "      <td>0</td>\n",
              "      <td>0</td>\n",
              "      <td>0</td>\n",
              "      <td>1</td>\n",
              "      <td>0</td>\n",
              "    </tr>\n",
              "    <tr>\n",
              "      <th>16605327</th>\n",
              "      <td>True</td>\n",
              "      <td>14485.40</td>\n",
              "      <td>2019</td>\n",
              "      <td>1</td>\n",
              "      <td>3</td>\n",
              "      <td>3.7</td>\n",
              "      <td>24.40</td>\n",
              "      <td>0</td>\n",
              "      <td>1</td>\n",
              "      <td>1</td>\n",
              "      <td>0</td>\n",
              "      <td>0</td>\n",
              "      <td>0</td>\n",
              "      <td>0</td>\n",
              "      <td>0</td>\n",
              "      <td>0</td>\n",
              "      <td>0</td>\n",
              "      <td>0</td>\n",
              "      <td>0</td>\n",
              "      <td>0</td>\n",
              "      <td>0</td>\n",
              "      <td>0</td>\n",
              "      <td>1</td>\n",
              "      <td>0</td>\n",
              "      <td>1</td>\n",
              "      <td>0</td>\n",
              "      <td>0</td>\n",
              "      <td>0</td>\n",
              "      <td>0</td>\n",
              "    </tr>\n",
              "  </tbody>\n",
              "</table>\n",
              "</div>"
            ],
            "text/plain": [
              "          Container_Type_Dry  ...  HS_Group_Name_Vices\n",
              "10469850                True  ...                    0\n",
              "18182491                True  ...                    0\n",
              "20616234                True  ...                    0\n",
              "2749909                 True  ...                    0\n",
              "16605327                True  ...                    0\n",
              "\n",
              "[5 rows x 29 columns]"
            ]
          },
          "metadata": {},
          "execution_count": 15
        }
      ]
    },
    {
      "cell_type": "code",
      "metadata": {
        "id": "tYNLGVVwNZRP",
        "colab": {
          "base_uri": "https://localhost:8080/"
        },
        "outputId": "de5c077f-9376-4a4f-8bd0-619911877f6a"
      },
      "source": [
        "print('Dimensions of X_train for input:', X_train.shape[1])"
      ],
      "execution_count": null,
      "outputs": [
        {
          "output_type": "stream",
          "name": "stdout",
          "text": [
            "Dimensions of X_train for input: 29\n"
          ]
        }
      ]
    },
    {
      "cell_type": "code",
      "metadata": {
        "id": "E8a5Q-UkvcwG",
        "colab": {
          "base_uri": "https://localhost:8080/",
          "height": 244
        },
        "outputId": "749672cf-d515-4648-cbae-0553f502f025"
      },
      "source": [
        "# Test: Create dummy variables for categorical variables\n",
        "X_test = pd.get_dummies(X_test, drop_first=True)\n",
        "X_test.head()"
      ],
      "execution_count": null,
      "outputs": [
        {
          "output_type": "execute_result",
          "data": {
            "text/html": [
              "<div>\n",
              "<style scoped>\n",
              "    .dataframe tbody tr th:only-of-type {\n",
              "        vertical-align: middle;\n",
              "    }\n",
              "\n",
              "    .dataframe tbody tr th {\n",
              "        vertical-align: top;\n",
              "    }\n",
              "\n",
              "    .dataframe thead th {\n",
              "        text-align: right;\n",
              "    }\n",
              "</style>\n",
              "<table border=\"1\" class=\"dataframe\">\n",
              "  <thead>\n",
              "    <tr style=\"text-align: right;\">\n",
              "      <th></th>\n",
              "      <th>Container_Type_Dry</th>\n",
              "      <th>TCVUSD</th>\n",
              "      <th>Year</th>\n",
              "      <th>us_company_size</th>\n",
              "      <th>foreign_company_size</th>\n",
              "      <th>US_Unemployment_Rate</th>\n",
              "      <th>Average_Tariff</th>\n",
              "      <th>Container_LCL/FCL_LCL</th>\n",
              "      <th>Trade_Direction_Import</th>\n",
              "      <th>US_Port_Coastal_Region_Northeast</th>\n",
              "      <th>US_Port_Coastal_Region_Northwest</th>\n",
              "      <th>US_Port_Coastal_Region_Other</th>\n",
              "      <th>US_Port_Coastal_Region_Southeast</th>\n",
              "      <th>US_Port_Coastal_Region_Southwest</th>\n",
              "      <th>Foreign_Country_Region_European Union</th>\n",
              "      <th>Foreign_Country_Region_Middle East &amp; North Africa</th>\n",
              "      <th>Foreign_Country_Region_North America</th>\n",
              "      <th>Foreign_Country_Region_Oceania</th>\n",
              "      <th>Foreign_Country_Region_Other East Asia (not China)</th>\n",
              "      <th>Foreign_Country_Region_Other Europe (not European Union)</th>\n",
              "      <th>Foreign_Country_Region_South America</th>\n",
              "      <th>Foreign_Country_Region_South Asia</th>\n",
              "      <th>Foreign_Country_Region_Southeast Asia</th>\n",
              "      <th>Foreign_Country_Region_Sub Saharan Africa</th>\n",
              "      <th>HS_Group_Name_Edible with Processing</th>\n",
              "      <th>HS_Group_Name_Finished Goods</th>\n",
              "      <th>HS_Group_Name_Pharma</th>\n",
              "      <th>HS_Group_Name_Raw Input</th>\n",
              "      <th>HS_Group_Name_Vices</th>\n",
              "    </tr>\n",
              "  </thead>\n",
              "  <tbody>\n",
              "    <tr>\n",
              "      <th>21067397</th>\n",
              "      <td>False</td>\n",
              "      <td>22924.62</td>\n",
              "      <td>2018</td>\n",
              "      <td>1</td>\n",
              "      <td>1</td>\n",
              "      <td>3.8</td>\n",
              "      <td>13.24</td>\n",
              "      <td>0</td>\n",
              "      <td>1</td>\n",
              "      <td>0</td>\n",
              "      <td>0</td>\n",
              "      <td>0</td>\n",
              "      <td>0</td>\n",
              "      <td>0</td>\n",
              "      <td>0</td>\n",
              "      <td>0</td>\n",
              "      <td>1</td>\n",
              "      <td>0</td>\n",
              "      <td>0</td>\n",
              "      <td>0</td>\n",
              "      <td>0</td>\n",
              "      <td>0</td>\n",
              "      <td>0</td>\n",
              "      <td>0</td>\n",
              "      <td>0</td>\n",
              "      <td>0</td>\n",
              "      <td>0</td>\n",
              "      <td>0</td>\n",
              "      <td>0</td>\n",
              "    </tr>\n",
              "    <tr>\n",
              "      <th>23343492</th>\n",
              "      <td>True</td>\n",
              "      <td>12584.06</td>\n",
              "      <td>2013</td>\n",
              "      <td>2</td>\n",
              "      <td>2</td>\n",
              "      <td>7.7</td>\n",
              "      <td>16.03</td>\n",
              "      <td>1</td>\n",
              "      <td>1</td>\n",
              "      <td>0</td>\n",
              "      <td>1</td>\n",
              "      <td>0</td>\n",
              "      <td>0</td>\n",
              "      <td>0</td>\n",
              "      <td>0</td>\n",
              "      <td>0</td>\n",
              "      <td>0</td>\n",
              "      <td>0</td>\n",
              "      <td>0</td>\n",
              "      <td>0</td>\n",
              "      <td>0</td>\n",
              "      <td>0</td>\n",
              "      <td>0</td>\n",
              "      <td>0</td>\n",
              "      <td>0</td>\n",
              "      <td>1</td>\n",
              "      <td>0</td>\n",
              "      <td>0</td>\n",
              "      <td>0</td>\n",
              "    </tr>\n",
              "    <tr>\n",
              "      <th>3164049</th>\n",
              "      <td>True</td>\n",
              "      <td>9539.07</td>\n",
              "      <td>2014</td>\n",
              "      <td>1</td>\n",
              "      <td>3</td>\n",
              "      <td>6.6</td>\n",
              "      <td>7.29</td>\n",
              "      <td>0</td>\n",
              "      <td>1</td>\n",
              "      <td>0</td>\n",
              "      <td>0</td>\n",
              "      <td>0</td>\n",
              "      <td>0</td>\n",
              "      <td>1</td>\n",
              "      <td>0</td>\n",
              "      <td>0</td>\n",
              "      <td>0</td>\n",
              "      <td>0</td>\n",
              "      <td>0</td>\n",
              "      <td>0</td>\n",
              "      <td>0</td>\n",
              "      <td>0</td>\n",
              "      <td>0</td>\n",
              "      <td>0</td>\n",
              "      <td>0</td>\n",
              "      <td>1</td>\n",
              "      <td>0</td>\n",
              "      <td>0</td>\n",
              "      <td>0</td>\n",
              "    </tr>\n",
              "    <tr>\n",
              "      <th>18037587</th>\n",
              "      <td>True</td>\n",
              "      <td>147823.99</td>\n",
              "      <td>2016</td>\n",
              "      <td>1</td>\n",
              "      <td>4</td>\n",
              "      <td>5.0</td>\n",
              "      <td>19.44</td>\n",
              "      <td>0</td>\n",
              "      <td>1</td>\n",
              "      <td>1</td>\n",
              "      <td>0</td>\n",
              "      <td>0</td>\n",
              "      <td>0</td>\n",
              "      <td>0</td>\n",
              "      <td>0</td>\n",
              "      <td>0</td>\n",
              "      <td>0</td>\n",
              "      <td>0</td>\n",
              "      <td>0</td>\n",
              "      <td>0</td>\n",
              "      <td>0</td>\n",
              "      <td>0</td>\n",
              "      <td>1</td>\n",
              "      <td>0</td>\n",
              "      <td>0</td>\n",
              "      <td>1</td>\n",
              "      <td>0</td>\n",
              "      <td>0</td>\n",
              "      <td>0</td>\n",
              "    </tr>\n",
              "    <tr>\n",
              "      <th>18234872</th>\n",
              "      <td>True</td>\n",
              "      <td>124340.94</td>\n",
              "      <td>2018</td>\n",
              "      <td>3</td>\n",
              "      <td>3</td>\n",
              "      <td>4.0</td>\n",
              "      <td>0.00</td>\n",
              "      <td>0</td>\n",
              "      <td>1</td>\n",
              "      <td>1</td>\n",
              "      <td>0</td>\n",
              "      <td>0</td>\n",
              "      <td>0</td>\n",
              "      <td>0</td>\n",
              "      <td>1</td>\n",
              "      <td>0</td>\n",
              "      <td>0</td>\n",
              "      <td>0</td>\n",
              "      <td>0</td>\n",
              "      <td>0</td>\n",
              "      <td>0</td>\n",
              "      <td>0</td>\n",
              "      <td>0</td>\n",
              "      <td>0</td>\n",
              "      <td>0</td>\n",
              "      <td>0</td>\n",
              "      <td>1</td>\n",
              "      <td>0</td>\n",
              "      <td>0</td>\n",
              "    </tr>\n",
              "  </tbody>\n",
              "</table>\n",
              "</div>"
            ],
            "text/plain": [
              "          Container_Type_Dry  ...  HS_Group_Name_Vices\n",
              "21067397               False  ...                    0\n",
              "23343492                True  ...                    0\n",
              "3164049                 True  ...                    0\n",
              "18037587                True  ...                    0\n",
              "18234872                True  ...                    0\n",
              "\n",
              "[5 rows x 29 columns]"
            ]
          },
          "metadata": {},
          "execution_count": 17
        }
      ]
    },
    {
      "cell_type": "code",
      "metadata": {
        "id": "2p9IhwKg7NjA"
      },
      "source": [
        "# MinMax Scaling\n",
        "mn = MinMaxScaler()\n",
        "X_train = pd.DataFrame(mn.fit_transform(X_train))\n",
        "X_test = pd.DataFrame(mn.fit_transform(X_test))"
      ],
      "execution_count": null,
      "outputs": []
    },
    {
      "cell_type": "code",
      "metadata": {
        "id": "SLoI31wGCg8w"
      },
      "source": [
        "log_folder = \"logs/fit/\" + datetime.datetime.now().strftime(\"%Y%m%d-%H%M%S\")\n",
        "\n",
        "#%load_ext tensorboard"
      ],
      "execution_count": null,
      "outputs": []
    },
    {
      "cell_type": "code",
      "metadata": {
        "id": "-4msncLOCopP"
      },
      "source": [
        "# Set up callbacks\n",
        "filepath = 'MLP_weights_only_train1019_b16_HPO1.h5'\n",
        "\n",
        "checkpoint_dir = os.path.dirname(filepath)\n",
        "\n",
        "tensorboard_callback = tf.keras.callbacks.TensorBoard(log_folder,\n",
        "                                                      histogram_freq=1)\n",
        "\n",
        "callbacks_list = [EarlyStopping(monitor='val_loss', patience = 5),\n",
        "                  ModelCheckpoint(filepath, monitor='mse', \n",
        "                                  save_best_only = True, mode='min'), \n",
        "                  tensorboard_callback]"
      ],
      "execution_count": null,
      "outputs": []
    },
    {
      "cell_type": "code",
      "metadata": {
        "id": "Iqem_WQzrYau"
      },
      "source": [
        "# Define model for HPO\n",
        "def build_model(hp): \n",
        "  model = keras.Sequential()\n",
        "  for i in range(hp.Int(\"num_layers\", 2, 5)):\n",
        "        model.add(tf.keras.layers.Dense( units=hp.Int(\"layer_size\" + str(i), min_value=20, max_value=40, step=5),\n",
        "                activation=\"relu\", kernel_initializer='normal'))\n",
        "  model.add(tf.keras.layers.Dropout(0.3))\n",
        "  model.add(Dense(1))\n",
        "  model.compile(loss=\"mae\", metrics=[\"mse\"], optimizer=keras.optimizers.Adam(\n",
        "            hp.Choice(\"learning_rate\", values=[1e-2, 1e-3, 1e-4])))\n",
        "  return model"
      ],
      "execution_count": null,
      "outputs": []
    },
    {
      "cell_type": "code",
      "metadata": {
        "id": "dWezzswVCwg5"
      },
      "source": [
        "# Define the search conditions \n",
        "tuner = BayesianOptimization(\n",
        "    build_model,\n",
        "    objective=\"val_loss\",\n",
        "    max_trials=10,\n",
        "    executions_per_trial=3,\n",
        "    overwrite=True,\n",
        "    directory=\"MLP_1019_HPO1\",\n",
        "    project_name=\"MLP_1019_HPO1\"\n",
        ")"
      ],
      "execution_count": null,
      "outputs": []
    },
    {
      "cell_type": "code",
      "metadata": {
        "id": "N8waScrkCwg7",
        "colab": {
          "base_uri": "https://localhost:8080/"
        },
        "outputId": "8243f34a-d963-4e2e-ae1f-6ad544c3571d"
      },
      "source": [
        "# Print a summary of the search space\n",
        "tuner.search_space_summary()"
      ],
      "execution_count": null,
      "outputs": [
        {
          "output_type": "stream",
          "name": "stdout",
          "text": [
            "Search space summary\n",
            "Default search space size: 4\n",
            "num_layers (Int)\n",
            "{'default': None, 'conditions': [], 'min_value': 2, 'max_value': 5, 'step': 1, 'sampling': None}\n",
            "layer_size0 (Int)\n",
            "{'default': None, 'conditions': [], 'min_value': 20, 'max_value': 40, 'step': 5, 'sampling': None}\n",
            "layer_size1 (Int)\n",
            "{'default': None, 'conditions': [], 'min_value': 20, 'max_value': 40, 'step': 5, 'sampling': None}\n",
            "learning_rate (Choice)\n",
            "{'default': 0.01, 'conditions': [], 'values': [0.01, 0.001, 0.0001], 'ordered': True}\n"
          ]
        }
      ]
    },
    {
      "cell_type": "code",
      "metadata": {
        "id": "d5M_QTGNCwg8",
        "colab": {
          "base_uri": "https://localhost:8080/"
        },
        "outputId": "b06bfbb1-ff63-49b3-d3a4-be84a2e1a10e"
      },
      "source": [
        "# Begin the search for the best hyperparameters \n",
        "tuner.search(X_train, y_train, epochs=3, validation_split=0.2, batch_size=64,\n",
        "             callbacks=callbacks_list)"
      ],
      "execution_count": null,
      "outputs": [
        {
          "output_type": "stream",
          "name": "stdout",
          "text": [
            "Trial 11 Complete [01h 56m 21s]\n",
            "val_loss: 33.90672047932943\n",
            "\n",
            "Best val_loss So Far: 33.789422353108726\n",
            "Total elapsed time: 17h 43m 57s\n",
            "INFO:tensorflow:Oracle triggered exit\n"
          ]
        }
      ]
    },
    {
      "cell_type": "code",
      "metadata": {
        "id": "dM5I6bxVCwg8"
      },
      "source": [
        "# Retrieve the best model(s)\n",
        "models = tuner.get_best_models(num_models=2)"
      ],
      "execution_count": null,
      "outputs": []
    },
    {
      "cell_type": "code",
      "metadata": {
        "id": "7qgiOcsqCwg9",
        "colab": {
          "base_uri": "https://localhost:8080/"
        },
        "outputId": "7f2fe079-8298-469d-8b90-e349f48fb515"
      },
      "source": [
        "# Print a summary of the results from the trials\n",
        "tuner.results_summary()"
      ],
      "execution_count": null,
      "outputs": [
        {
          "output_type": "stream",
          "name": "stdout",
          "text": [
            "Results summary\n",
            "Results in MLP_1019_HPO1/MLP_1019_HPO1\n",
            "Showing 10 best trials\n",
            "Objective(name='val_loss', direction='min')\n",
            "Trial summary\n",
            "Hyperparameters:\n",
            "num_layers: 2\n",
            "layer_size0: 40\n",
            "layer_size1: 20\n",
            "learning_rate: 0.01\n",
            "layer_size2: 40\n",
            "layer_size3: 40\n",
            "layer_size4: 40\n",
            "Score: 33.789422353108726\n",
            "Trial summary\n",
            "Hyperparameters:\n",
            "num_layers: 3\n",
            "layer_size0: 40\n",
            "layer_size1: 25\n",
            "learning_rate: 0.01\n",
            "layer_size2: 30\n",
            "layer_size3: 40\n",
            "Score: 33.7942746480306\n",
            "Trial summary\n",
            "Hyperparameters:\n",
            "num_layers: 2\n",
            "layer_size0: 40\n",
            "layer_size1: 35\n",
            "learning_rate: 0.01\n",
            "layer_size2: 20\n",
            "layer_size3: 40\n",
            "layer_size4: 40\n",
            "Score: 33.808152516682945\n",
            "Trial summary\n",
            "Hyperparameters:\n",
            "num_layers: 5\n",
            "layer_size0: 40\n",
            "layer_size1: 20\n",
            "learning_rate: 0.01\n",
            "layer_size2: 20\n",
            "layer_size3: 40\n",
            "layer_size4: 40\n",
            "Score: 33.89190165201823\n",
            "Trial summary\n",
            "Hyperparameters:\n",
            "num_layers: 2\n",
            "layer_size0: 40\n",
            "layer_size1: 20\n",
            "learning_rate: 0.01\n",
            "layer_size2: 20\n",
            "layer_size3: 20\n",
            "layer_size4: 35\n",
            "Score: 33.90398152669271\n",
            "Trial summary\n",
            "Hyperparameters:\n",
            "num_layers: 5\n",
            "layer_size0: 40\n",
            "layer_size1: 20\n",
            "learning_rate: 0.01\n",
            "layer_size2: 40\n",
            "layer_size3: 20\n",
            "layer_size4: 20\n",
            "Score: 33.90672047932943\n",
            "Trial summary\n",
            "Hyperparameters:\n",
            "num_layers: 5\n",
            "layer_size0: 40\n",
            "layer_size1: 40\n",
            "learning_rate: 0.01\n",
            "layer_size2: 40\n",
            "layer_size3: 40\n",
            "layer_size4: 20\n",
            "Score: 33.91344960530599\n",
            "Trial summary\n",
            "Hyperparameters:\n",
            "num_layers: 2\n",
            "layer_size0: 20\n",
            "layer_size1: 20\n",
            "learning_rate: 0.01\n",
            "layer_size2: 20\n",
            "layer_size3: 40\n",
            "layer_size4: 40\n",
            "Score: 34.04476674397787\n",
            "Trial summary\n",
            "Hyperparameters:\n",
            "num_layers: 4\n",
            "layer_size0: 20\n",
            "layer_size1: 20\n",
            "learning_rate: 0.0001\n",
            "layer_size2: 20\n",
            "layer_size3: 20\n",
            "Score: 34.07681147257487\n",
            "Trial summary\n",
            "Hyperparameters:\n",
            "num_layers: 2\n",
            "layer_size0: 40\n",
            "layer_size1: 40\n",
            "learning_rate: 0.0001\n",
            "layer_size2: 40\n",
            "layer_size3: 40\n",
            "layer_size4: 40\n",
            "Score: 34.69167963663737\n"
          ]
        }
      ]
    }
  ]
}