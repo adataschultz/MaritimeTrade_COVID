{
  "nbformat": 4,
  "nbformat_minor": 0,
  "metadata": {
    "accelerator": "GPU",
    "colab": {
      "name": "MaritimeTradeCOVID_MLP_Train2019_2020_batch32_Epochs50_HPObatch16.ipynb",
      "provenance": [],
      "collapsed_sections": [],
      "machine_shape": "hm",
      "include_colab_link": true
    },
    "kernelspec": {
      "display_name": "Python 3",
      "name": "python3"
    },
    "language_info": {
      "name": "python"
    }
  },
  "cells": [
    {
      "cell_type": "markdown",
      "metadata": {
        "id": "view-in-github",
        "colab_type": "text"
      },
      "source": [
        "<a href=\"https://colab.research.google.com/github/adataschultz/MaritimeTrade_COVID/blob/main/MLP_Regression/MaritimeTradeCOVID_MLP_Train2019_2020_batch32_Epochs50_HPObatch16.ipynb\" target=\"_parent\"><img src=\"https://colab.research.google.com/assets/colab-badge.svg\" alt=\"Open In Colab\"/></a>"
      ]
    },
    {
      "cell_type": "code",
      "metadata": {
        "id": "wpTmKtBVKMKT"
      },
      "source": [
        "######################################################\n",
        "#### 2019 - 2020 Maritime Trade with COVID - MLP #####\n",
        "######################################################"
      ],
      "execution_count": null,
      "outputs": []
    },
    {
      "cell_type": "code",
      "metadata": {
        "id": "pPD1AoKmuksU",
        "colab": {
          "base_uri": "https://localhost:8080/"
        },
        "outputId": "d9a47c01-3ba1-448d-9f63-195d3060e8e7"
      },
      "source": [
        "from google.colab import drive \n",
        "drive.mount('/content/drive')"
      ],
      "execution_count": null,
      "outputs": [
        {
          "output_type": "stream",
          "name": "stdout",
          "text": [
            "Mounted at /content/drive\n"
          ]
        }
      ]
    },
    {
      "cell_type": "code",
      "metadata": {
        "id": "jOReN1GxuoCI",
        "colab": {
          "base_uri": "https://localhost:8080/"
        },
        "outputId": "f6f34778-70d5-460e-f161-6de61f63a306"
      },
      "source": [
        "%cd /content/drive/MyDrive/Data_MaritimeTrade_MLP/"
      ],
      "execution_count": null,
      "outputs": [
        {
          "output_type": "stream",
          "name": "stdout",
          "text": [
            "/content/drive/.shortcut-targets-by-id/1HcYK-ojUTzFDer17GGpL_6eH2GiGvmEK/Data_MaritimeTrade_MLP\n"
          ]
        }
      ]
    },
    {
      "cell_type": "code",
      "metadata": {
        "id": "SJsjiI7GlIeX",
        "colab": {
          "base_uri": "https://localhost:8080/"
        },
        "outputId": "92c3b66a-6ecc-43ec-c358-9a0b446089b5"
      },
      "source": [
        "# Install and import packages\n",
        "!pip install category_encoders\n",
        "import os\n",
        "import random\n",
        "import pandas as pd\n",
        "import numpy as np\n",
        "import category_encoders as ce\n",
        "from pandas import read_csv\n",
        "from pandas import DataFrame\n",
        "from pandas import concat\n",
        "import sklearn\n",
        "from sklearn.model_selection import train_test_split\n",
        "from sklearn.preprocessing import LabelEncoder\n",
        "from sklearn.preprocessing import MinMaxScaler\n",
        "import datetime\n",
        "import tensorflow as tf\n",
        "from tensorflow.keras.models import Sequential\n",
        "from tensorflow.keras.layers import Dense, Dropout\n",
        "from tensorflow.keras.callbacks import EarlyStopping\n",
        "from tensorflow.keras.callbacks import ModelCheckpoint\n",
        "import matplotlib as plt\n",
        "from matplotlib import pyplot\n",
        "from sklearn.metrics import mean_absolute_error\n",
        "from sklearn.metrics import mean_squared_error\n",
        "print('\\n')\n",
        "print(\"TensorFlow version: {}\".format(tf.__version__))\n",
        "print(\"Eager execution is: {}\".format(tf.executing_eagerly()))\n",
        "print(\"Keras version: {}\".format(tf.keras.__version__))\n",
        "print(\"Num GPUs Available: \", len(tf.config.list_physical_devices('GPU')))"
      ],
      "execution_count": null,
      "outputs": [
        {
          "output_type": "stream",
          "name": "stdout",
          "text": [
            "Collecting category_encoders\n",
            "  Downloading category_encoders-2.2.2-py2.py3-none-any.whl (80 kB)\n",
            "\u001b[?25l\r\u001b[K     |████                            | 10 kB 35.9 MB/s eta 0:00:01\r\u001b[K     |████████▏                       | 20 kB 25.3 MB/s eta 0:00:01\r\u001b[K     |████████████▏                   | 30 kB 16.2 MB/s eta 0:00:01\r\u001b[K     |████████████████▎               | 40 kB 14.5 MB/s eta 0:00:01\r\u001b[K     |████████████████████▎           | 51 kB 7.9 MB/s eta 0:00:01\r\u001b[K     |████████████████████████▍       | 61 kB 8.0 MB/s eta 0:00:01\r\u001b[K     |████████████████████████████▍   | 71 kB 7.6 MB/s eta 0:00:01\r\u001b[K     |████████████████████████████████| 80 kB 5.1 MB/s \n",
            "\u001b[?25hRequirement already satisfied: numpy>=1.14.0 in /usr/local/lib/python3.7/dist-packages (from category_encoders) (1.19.5)\n",
            "Requirement already satisfied: scipy>=1.0.0 in /usr/local/lib/python3.7/dist-packages (from category_encoders) (1.4.1)\n",
            "Requirement already satisfied: pandas>=0.21.1 in /usr/local/lib/python3.7/dist-packages (from category_encoders) (1.1.5)\n",
            "Requirement already satisfied: scikit-learn>=0.20.0 in /usr/local/lib/python3.7/dist-packages (from category_encoders) (0.22.2.post1)\n",
            "Requirement already satisfied: patsy>=0.5.1 in /usr/local/lib/python3.7/dist-packages (from category_encoders) (0.5.2)\n",
            "Requirement already satisfied: statsmodels>=0.9.0 in /usr/local/lib/python3.7/dist-packages (from category_encoders) (0.10.2)\n",
            "Requirement already satisfied: pytz>=2017.2 in /usr/local/lib/python3.7/dist-packages (from pandas>=0.21.1->category_encoders) (2018.9)\n",
            "Requirement already satisfied: python-dateutil>=2.7.3 in /usr/local/lib/python3.7/dist-packages (from pandas>=0.21.1->category_encoders) (2.8.2)\n",
            "Requirement already satisfied: six in /usr/local/lib/python3.7/dist-packages (from patsy>=0.5.1->category_encoders) (1.15.0)\n",
            "Requirement already satisfied: joblib>=0.11 in /usr/local/lib/python3.7/dist-packages (from scikit-learn>=0.20.0->category_encoders) (1.0.1)\n",
            "Installing collected packages: category-encoders\n",
            "Successfully installed category-encoders-2.2.2\n"
          ]
        },
        {
          "output_type": "stream",
          "name": "stderr",
          "text": [
            "/usr/local/lib/python3.7/dist-packages/statsmodels/tools/_testing.py:19: FutureWarning: pandas.util.testing is deprecated. Use the functions in the public API at pandas.testing instead.\n",
            "  import pandas.util.testing as tm\n"
          ]
        },
        {
          "output_type": "stream",
          "name": "stdout",
          "text": [
            "\n",
            "\n",
            "TensorFlow version: 2.6.0\n",
            "Eager execution is: True\n",
            "Keras version: 2.6.0\n",
            "Num GPUs Available:  1\n"
          ]
        }
      ]
    },
    {
      "cell_type": "code",
      "metadata": {
        "id": "Rq4OU14dx8-q"
      },
      "source": [
        "# Reproducibility in TF and Pytorch \n",
        "def init_seeds(seed=1920):\n",
        "    np.random.seed(seed)\n",
        "    random.seed(seed)\n",
        "    session_conf = tf.compat.v1.ConfigProto()\n",
        "    session_conf = tf.compat.v1.ConfigProto(intra_op_parallelism_threads=1,\n",
        "                              inter_op_parallelism_threads=1)\n",
        "    os.environ['TF_CUDNN_DETERMINISTIC'] ='true'\n",
        "    os.environ['TF_DETERMINISTIC_OPS'] = 'true'\n",
        "    tf.random.set_seed(seed)\n",
        "    sess = tf.compat.v1.Session(graph=tf.compat.v1.get_default_graph(),\n",
        "                                config=session_conf)\n",
        "    tf.compat.v1.keras.backend.set_session(sess)\n",
        "    return sess"
      ],
      "execution_count": null,
      "outputs": []
    },
    {
      "cell_type": "code",
      "metadata": {
        "id": "fjzKoSqW-5kS",
        "colab": {
          "base_uri": "https://localhost:8080/"
        },
        "outputId": "02fa1ef6-564f-4c31-defe-cd43b5273518"
      },
      "source": [
        "init_seeds(seed=1920)\n"
      ],
      "execution_count": null,
      "outputs": [
        {
          "output_type": "execute_result",
          "data": {
            "text/plain": [
              "<tensorflow.python.client.session.Session at 0x7fc4f47ced50>"
            ]
          },
          "metadata": {},
          "execution_count": 6
        }
      ]
    },
    {
      "cell_type": "code",
      "metadata": {
        "id": "VxVwRvRclImg",
        "colab": {
          "base_uri": "https://localhost:8080/"
        },
        "outputId": "c1bc6e62-a9f7-4cea-c4fe-ad2ee46eab2e"
      },
      "source": [
        "df = pd.read_csv('combined_trade_final_LSTM.csv', low_memory=False)\n",
        "print('Number of rows and columns:', df.shape)"
      ],
      "execution_count": null,
      "outputs": [
        {
          "output_type": "stream",
          "name": "stdout",
          "text": [
            "Number of rows and columns: (6633785, 20)\n"
          ]
        }
      ]
    },
    {
      "cell_type": "code",
      "metadata": {
        "id": "P2fTZxlql1F1"
      },
      "source": [
        "# Convert dtypes\n",
        "df = df.copy()\n",
        "df['State_Closure_EA_Diff'] = df['State_Closure_EA_Diff'].astype('float64')\n",
        "df['Container_Type_Dry'] = df['Container_Type_Dry'].astype('object')"
      ],
      "execution_count": null,
      "outputs": []
    },
    {
      "cell_type": "code",
      "metadata": {
        "id": "-cNVHJxkl1DQ"
      },
      "source": [
        "df = df.drop(['DateTime'], axis=1)"
      ],
      "execution_count": null,
      "outputs": []
    },
    {
      "cell_type": "code",
      "metadata": {
        "id": "Uiw-wEGpsIqS"
      },
      "source": [
        "# Reformat for X,y\n",
        "df2 = df.drop(['Metric_Tons'], axis=1)\n",
        "df1 = df.loc[:, ['Metric_Tons']]\n",
        "df = pd.concat([df1, df2], axis=1)\n",
        "\n",
        "del df1, df2"
      ],
      "execution_count": null,
      "outputs": []
    },
    {
      "cell_type": "code",
      "metadata": {
        "id": "5ov9MVadmmTC",
        "colab": {
          "base_uri": "https://localhost:8080/"
        },
        "outputId": "dc155d84-c0ac-4f9c-803f-a433d26c02e1"
      },
      "source": [
        "# X,y for encoding\n",
        "X = df.drop(['Metric_Tons'], axis=1)\n",
        "y = df.iloc[:,:1]\n",
        "print(X.shape)\n",
        "print(y.shape)"
      ],
      "execution_count": null,
      "outputs": [
        {
          "output_type": "stream",
          "name": "stdout",
          "text": [
            "(6633785, 18)\n",
            "(6633785, 1)\n"
          ]
        }
      ]
    },
    {
      "cell_type": "code",
      "metadata": {
        "id": "P78w8tQ59pkm"
      },
      "source": [
        "# Set up train/test split\n",
        "X_train, X_test, y_train, y_test = train_test_split(X, y, test_size = 0.3,\n",
        "                                                    stratify= X.Year,\n",
        "                                                    random_state = 1920)"
      ],
      "execution_count": null,
      "outputs": []
    },
    {
      "cell_type": "code",
      "metadata": {
        "id": "cQ45WstYmmVr",
        "colab": {
          "base_uri": "https://localhost:8080/"
        },
        "outputId": "8cad126b-5262-4b3d-b18a-165649974dd6"
      },
      "source": [
        "# Training set: Encode variables using ranking - ordinal               \n",
        "ce_ord = ce.OrdinalEncoder(cols = ['foreign_company_size', 'us_company_size'])\n",
        "X_train = ce_ord.fit_transform(X_train, y_train['Metric_Tons'])"
      ],
      "execution_count": null,
      "outputs": [
        {
          "output_type": "stream",
          "name": "stderr",
          "text": [
            "/usr/local/lib/python3.7/dist-packages/category_encoders/utils.py:21: FutureWarning: is_categorical is deprecated and will be removed in a future version.  Use is_categorical_dtype instead\n",
            "  elif pd.api.types.is_categorical(cols):\n"
          ]
        }
      ]
    },
    {
      "cell_type": "code",
      "metadata": {
        "id": "yXaOKp2WAB7I",
        "colab": {
          "base_uri": "https://localhost:8080/"
        },
        "outputId": "397e682d-9658-4dd0-96e6-e47060146615"
      },
      "source": [
        "# Testing set: Encode variables using ranking - ordinal               \n",
        "ce_ord = ce.OrdinalEncoder(cols = ['foreign_company_size', 'us_company_size'])\n",
        "X_test = ce_ord.fit_transform(X_test, y_test['Metric_Tons'])"
      ],
      "execution_count": null,
      "outputs": [
        {
          "output_type": "stream",
          "name": "stderr",
          "text": [
            "/usr/local/lib/python3.7/dist-packages/category_encoders/utils.py:21: FutureWarning: is_categorical is deprecated and will be removed in a future version.  Use is_categorical_dtype instead\n",
            "  elif pd.api.types.is_categorical(cols):\n"
          ]
        }
      ]
    },
    {
      "cell_type": "code",
      "metadata": {
        "id": "XdlkQSsEu36o",
        "colab": {
          "base_uri": "https://localhost:8080/",
          "height": 244
        },
        "outputId": "ce1a3204-1d14-4e8e-8f54-ddfb9bdc5d69"
      },
      "source": [
        "# Train: Create dummy variables for categorical variables\n",
        "X_train = pd.get_dummies(X_train, drop_first=True)\n",
        "X_train.head()"
      ],
      "execution_count": null,
      "outputs": [
        {
          "output_type": "execute_result",
          "data": {
            "text/html": [
              "<div>\n",
              "<style scoped>\n",
              "    .dataframe tbody tr th:only-of-type {\n",
              "        vertical-align: middle;\n",
              "    }\n",
              "\n",
              "    .dataframe tbody tr th {\n",
              "        vertical-align: top;\n",
              "    }\n",
              "\n",
              "    .dataframe thead th {\n",
              "        text-align: right;\n",
              "    }\n",
              "</style>\n",
              "<table border=\"1\" class=\"dataframe\">\n",
              "  <thead>\n",
              "    <tr style=\"text-align: right;\">\n",
              "      <th></th>\n",
              "      <th>TCVUSD</th>\n",
              "      <th>Year</th>\n",
              "      <th>us_company_size</th>\n",
              "      <th>foreign_company_size</th>\n",
              "      <th>US_Unemployment_Rate</th>\n",
              "      <th>Average_Tariff</th>\n",
              "      <th>cases_weekly</th>\n",
              "      <th>deaths_weekly</th>\n",
              "      <th>State_Closure_EA_Diff</th>\n",
              "      <th>cases_pctdelta</th>\n",
              "      <th>deaths_pctdelta</th>\n",
              "      <th>Delta_Case0_Effective</th>\n",
              "      <th>Container_LCL/FCL_LCL</th>\n",
              "      <th>Container_Type_Dry_True</th>\n",
              "      <th>Trade_Direction_Import</th>\n",
              "      <th>US_Port_Coastal_Region_Northeast</th>\n",
              "      <th>US_Port_Coastal_Region_Northwest</th>\n",
              "      <th>US_Port_Coastal_Region_Other</th>\n",
              "      <th>US_Port_Coastal_Region_Southeast</th>\n",
              "      <th>US_Port_Coastal_Region_Southwest</th>\n",
              "      <th>Foreign_Country_Region_European Union</th>\n",
              "      <th>Foreign_Country_Region_Middle East &amp; North Africa</th>\n",
              "      <th>Foreign_Country_Region_North America</th>\n",
              "      <th>Foreign_Country_Region_Oceania</th>\n",
              "      <th>Foreign_Country_Region_Other East Asia (not China)</th>\n",
              "      <th>Foreign_Country_Region_Other Europe (not European Union)</th>\n",
              "      <th>Foreign_Country_Region_South America</th>\n",
              "      <th>Foreign_Country_Region_South Asia</th>\n",
              "      <th>Foreign_Country_Region_Southeast Asia</th>\n",
              "      <th>Foreign_Country_Region_Sub Saharan Africa</th>\n",
              "      <th>HS_Group_Name_Edible with Processing</th>\n",
              "      <th>HS_Group_Name_Finished Goods</th>\n",
              "      <th>HS_Group_Name_Pharma</th>\n",
              "      <th>HS_Group_Name_Raw Input</th>\n",
              "      <th>HS_Group_Name_Vices</th>\n",
              "    </tr>\n",
              "  </thead>\n",
              "  <tbody>\n",
              "    <tr>\n",
              "      <th>1322785</th>\n",
              "      <td>14796.09</td>\n",
              "      <td>2020</td>\n",
              "      <td>1</td>\n",
              "      <td>1</td>\n",
              "      <td>14.8</td>\n",
              "      <td>13.24</td>\n",
              "      <td>242840.0</td>\n",
              "      <td>9105.0</td>\n",
              "      <td>2.0</td>\n",
              "      <td>24283900.0</td>\n",
              "      <td>910400.0</td>\n",
              "      <td>39.0</td>\n",
              "      <td>0</td>\n",
              "      <td>0</td>\n",
              "      <td>1</td>\n",
              "      <td>0</td>\n",
              "      <td>0</td>\n",
              "      <td>0</td>\n",
              "      <td>1</td>\n",
              "      <td>0</td>\n",
              "      <td>0</td>\n",
              "      <td>0</td>\n",
              "      <td>1</td>\n",
              "      <td>0</td>\n",
              "      <td>0</td>\n",
              "      <td>0</td>\n",
              "      <td>0</td>\n",
              "      <td>0</td>\n",
              "      <td>0</td>\n",
              "      <td>0</td>\n",
              "      <td>0</td>\n",
              "      <td>0</td>\n",
              "      <td>0</td>\n",
              "      <td>0</td>\n",
              "      <td>0</td>\n",
              "    </tr>\n",
              "    <tr>\n",
              "      <th>3187981</th>\n",
              "      <td>25621.34</td>\n",
              "      <td>2019</td>\n",
              "      <td>2</td>\n",
              "      <td>2</td>\n",
              "      <td>4.0</td>\n",
              "      <td>31.79</td>\n",
              "      <td>0.0</td>\n",
              "      <td>0.0</td>\n",
              "      <td>0.0</td>\n",
              "      <td>0.0</td>\n",
              "      <td>0.0</td>\n",
              "      <td>59.0</td>\n",
              "      <td>0</td>\n",
              "      <td>1</td>\n",
              "      <td>1</td>\n",
              "      <td>0</td>\n",
              "      <td>0</td>\n",
              "      <td>0</td>\n",
              "      <td>0</td>\n",
              "      <td>1</td>\n",
              "      <td>0</td>\n",
              "      <td>0</td>\n",
              "      <td>0</td>\n",
              "      <td>0</td>\n",
              "      <td>0</td>\n",
              "      <td>0</td>\n",
              "      <td>0</td>\n",
              "      <td>1</td>\n",
              "      <td>0</td>\n",
              "      <td>0</td>\n",
              "      <td>0</td>\n",
              "      <td>0</td>\n",
              "      <td>0</td>\n",
              "      <td>0</td>\n",
              "      <td>0</td>\n",
              "    </tr>\n",
              "    <tr>\n",
              "      <th>1062127</th>\n",
              "      <td>13326.58</td>\n",
              "      <td>2020</td>\n",
              "      <td>3</td>\n",
              "      <td>3</td>\n",
              "      <td>11.1</td>\n",
              "      <td>3.56</td>\n",
              "      <td>1447771.0</td>\n",
              "      <td>40865.0</td>\n",
              "      <td>0.0</td>\n",
              "      <td>144777000.0</td>\n",
              "      <td>4086400.0</td>\n",
              "      <td>59.0</td>\n",
              "      <td>0</td>\n",
              "      <td>1</td>\n",
              "      <td>1</td>\n",
              "      <td>0</td>\n",
              "      <td>0</td>\n",
              "      <td>0</td>\n",
              "      <td>0</td>\n",
              "      <td>1</td>\n",
              "      <td>0</td>\n",
              "      <td>0</td>\n",
              "      <td>0</td>\n",
              "      <td>0</td>\n",
              "      <td>0</td>\n",
              "      <td>0</td>\n",
              "      <td>0</td>\n",
              "      <td>0</td>\n",
              "      <td>0</td>\n",
              "      <td>0</td>\n",
              "      <td>0</td>\n",
              "      <td>1</td>\n",
              "      <td>0</td>\n",
              "      <td>0</td>\n",
              "      <td>0</td>\n",
              "    </tr>\n",
              "    <tr>\n",
              "      <th>1264197</th>\n",
              "      <td>113.67</td>\n",
              "      <td>2020</td>\n",
              "      <td>3</td>\n",
              "      <td>1</td>\n",
              "      <td>7.8</td>\n",
              "      <td>13.24</td>\n",
              "      <td>4867827.0</td>\n",
              "      <td>96828.0</td>\n",
              "      <td>2.0</td>\n",
              "      <td>486782600.0</td>\n",
              "      <td>9682700.0</td>\n",
              "      <td>39.0</td>\n",
              "      <td>1</td>\n",
              "      <td>0</td>\n",
              "      <td>1</td>\n",
              "      <td>0</td>\n",
              "      <td>0</td>\n",
              "      <td>0</td>\n",
              "      <td>1</td>\n",
              "      <td>0</td>\n",
              "      <td>0</td>\n",
              "      <td>0</td>\n",
              "      <td>1</td>\n",
              "      <td>0</td>\n",
              "      <td>0</td>\n",
              "      <td>0</td>\n",
              "      <td>0</td>\n",
              "      <td>0</td>\n",
              "      <td>0</td>\n",
              "      <td>0</td>\n",
              "      <td>0</td>\n",
              "      <td>0</td>\n",
              "      <td>0</td>\n",
              "      <td>0</td>\n",
              "      <td>0</td>\n",
              "    </tr>\n",
              "    <tr>\n",
              "      <th>5144839</th>\n",
              "      <td>63815.70</td>\n",
              "      <td>2019</td>\n",
              "      <td>4</td>\n",
              "      <td>3</td>\n",
              "      <td>3.6</td>\n",
              "      <td>11.03</td>\n",
              "      <td>0.0</td>\n",
              "      <td>0.0</td>\n",
              "      <td>2.0</td>\n",
              "      <td>0.0</td>\n",
              "      <td>0.0</td>\n",
              "      <td>27.0</td>\n",
              "      <td>0</td>\n",
              "      <td>1</td>\n",
              "      <td>1</td>\n",
              "      <td>1</td>\n",
              "      <td>0</td>\n",
              "      <td>0</td>\n",
              "      <td>0</td>\n",
              "      <td>0</td>\n",
              "      <td>0</td>\n",
              "      <td>0</td>\n",
              "      <td>0</td>\n",
              "      <td>0</td>\n",
              "      <td>0</td>\n",
              "      <td>0</td>\n",
              "      <td>1</td>\n",
              "      <td>0</td>\n",
              "      <td>0</td>\n",
              "      <td>0</td>\n",
              "      <td>1</td>\n",
              "      <td>0</td>\n",
              "      <td>0</td>\n",
              "      <td>0</td>\n",
              "      <td>0</td>\n",
              "    </tr>\n",
              "  </tbody>\n",
              "</table>\n",
              "</div>"
            ],
            "text/plain": [
              "           TCVUSD  Year  ...  HS_Group_Name_Raw Input  HS_Group_Name_Vices\n",
              "1322785  14796.09  2020  ...                        0                    0\n",
              "3187981  25621.34  2019  ...                        0                    0\n",
              "1062127  13326.58  2020  ...                        0                    0\n",
              "1264197    113.67  2020  ...                        0                    0\n",
              "5144839  63815.70  2019  ...                        0                    0\n",
              "\n",
              "[5 rows x 35 columns]"
            ]
          },
          "metadata": {},
          "execution_count": 15
        }
      ]
    },
    {
      "cell_type": "code",
      "metadata": {
        "id": "tYNLGVVwNZRP",
        "colab": {
          "base_uri": "https://localhost:8080/"
        },
        "outputId": "233273e1-6acd-4e23-d381-590393699b9d"
      },
      "source": [
        "print('Dimensions of X_train for input:', X_train.shape[1])"
      ],
      "execution_count": null,
      "outputs": [
        {
          "output_type": "stream",
          "name": "stdout",
          "text": [
            "Dimensions of X_train for input: 35\n"
          ]
        }
      ]
    },
    {
      "cell_type": "code",
      "metadata": {
        "id": "E8a5Q-UkvcwG",
        "colab": {
          "base_uri": "https://localhost:8080/",
          "height": 244
        },
        "outputId": "dd2916a4-eb64-41e3-a01b-7c23abd7b22d"
      },
      "source": [
        "# Test: Create dummy variables for categorical variables\n",
        "X_test = pd.get_dummies(X_test, drop_first=True)\n",
        "X_test.head()"
      ],
      "execution_count": null,
      "outputs": [
        {
          "output_type": "execute_result",
          "data": {
            "text/html": [
              "<div>\n",
              "<style scoped>\n",
              "    .dataframe tbody tr th:only-of-type {\n",
              "        vertical-align: middle;\n",
              "    }\n",
              "\n",
              "    .dataframe tbody tr th {\n",
              "        vertical-align: top;\n",
              "    }\n",
              "\n",
              "    .dataframe thead th {\n",
              "        text-align: right;\n",
              "    }\n",
              "</style>\n",
              "<table border=\"1\" class=\"dataframe\">\n",
              "  <thead>\n",
              "    <tr style=\"text-align: right;\">\n",
              "      <th></th>\n",
              "      <th>TCVUSD</th>\n",
              "      <th>Year</th>\n",
              "      <th>us_company_size</th>\n",
              "      <th>foreign_company_size</th>\n",
              "      <th>US_Unemployment_Rate</th>\n",
              "      <th>Average_Tariff</th>\n",
              "      <th>cases_weekly</th>\n",
              "      <th>deaths_weekly</th>\n",
              "      <th>State_Closure_EA_Diff</th>\n",
              "      <th>cases_pctdelta</th>\n",
              "      <th>deaths_pctdelta</th>\n",
              "      <th>Delta_Case0_Effective</th>\n",
              "      <th>Container_LCL/FCL_LCL</th>\n",
              "      <th>Container_Type_Dry_True</th>\n",
              "      <th>Trade_Direction_Import</th>\n",
              "      <th>US_Port_Coastal_Region_Northeast</th>\n",
              "      <th>US_Port_Coastal_Region_Northwest</th>\n",
              "      <th>US_Port_Coastal_Region_Other</th>\n",
              "      <th>US_Port_Coastal_Region_Southeast</th>\n",
              "      <th>US_Port_Coastal_Region_Southwest</th>\n",
              "      <th>Foreign_Country_Region_European Union</th>\n",
              "      <th>Foreign_Country_Region_Middle East &amp; North Africa</th>\n",
              "      <th>Foreign_Country_Region_North America</th>\n",
              "      <th>Foreign_Country_Region_Oceania</th>\n",
              "      <th>Foreign_Country_Region_Other East Asia (not China)</th>\n",
              "      <th>Foreign_Country_Region_Other Europe (not European Union)</th>\n",
              "      <th>Foreign_Country_Region_South America</th>\n",
              "      <th>Foreign_Country_Region_South Asia</th>\n",
              "      <th>Foreign_Country_Region_Southeast Asia</th>\n",
              "      <th>Foreign_Country_Region_Sub Saharan Africa</th>\n",
              "      <th>HS_Group_Name_Edible with Processing</th>\n",
              "      <th>HS_Group_Name_Finished Goods</th>\n",
              "      <th>HS_Group_Name_Pharma</th>\n",
              "      <th>HS_Group_Name_Raw Input</th>\n",
              "      <th>HS_Group_Name_Vices</th>\n",
              "    </tr>\n",
              "  </thead>\n",
              "  <tbody>\n",
              "    <tr>\n",
              "      <th>5106325</th>\n",
              "      <td>60440.23</td>\n",
              "      <td>2019</td>\n",
              "      <td>1</td>\n",
              "      <td>1</td>\n",
              "      <td>3.6</td>\n",
              "      <td>2.28</td>\n",
              "      <td>0.0</td>\n",
              "      <td>0.0</td>\n",
              "      <td>2.0</td>\n",
              "      <td>0.0</td>\n",
              "      <td>0.0</td>\n",
              "      <td>27.0</td>\n",
              "      <td>0</td>\n",
              "      <td>1</td>\n",
              "      <td>1</td>\n",
              "      <td>1</td>\n",
              "      <td>0</td>\n",
              "      <td>0</td>\n",
              "      <td>0</td>\n",
              "      <td>0</td>\n",
              "      <td>1</td>\n",
              "      <td>0</td>\n",
              "      <td>0</td>\n",
              "      <td>0</td>\n",
              "      <td>0</td>\n",
              "      <td>0</td>\n",
              "      <td>0</td>\n",
              "      <td>0</td>\n",
              "      <td>0</td>\n",
              "      <td>0</td>\n",
              "      <td>1</td>\n",
              "      <td>0</td>\n",
              "      <td>0</td>\n",
              "      <td>0</td>\n",
              "      <td>0</td>\n",
              "    </tr>\n",
              "    <tr>\n",
              "      <th>6438450</th>\n",
              "      <td>48273.18</td>\n",
              "      <td>2020</td>\n",
              "      <td>2</td>\n",
              "      <td>2</td>\n",
              "      <td>14.8</td>\n",
              "      <td>18.80</td>\n",
              "      <td>11828.0</td>\n",
              "      <td>245.0</td>\n",
              "      <td>16.0</td>\n",
              "      <td>1182700.0</td>\n",
              "      <td>24400.0</td>\n",
              "      <td>30.0</td>\n",
              "      <td>0</td>\n",
              "      <td>1</td>\n",
              "      <td>0</td>\n",
              "      <td>0</td>\n",
              "      <td>0</td>\n",
              "      <td>0</td>\n",
              "      <td>1</td>\n",
              "      <td>0</td>\n",
              "      <td>0</td>\n",
              "      <td>0</td>\n",
              "      <td>0</td>\n",
              "      <td>0</td>\n",
              "      <td>0</td>\n",
              "      <td>0</td>\n",
              "      <td>0</td>\n",
              "      <td>0</td>\n",
              "      <td>0</td>\n",
              "      <td>0</td>\n",
              "      <td>0</td>\n",
              "      <td>0</td>\n",
              "      <td>0</td>\n",
              "      <td>0</td>\n",
              "      <td>0</td>\n",
              "    </tr>\n",
              "    <tr>\n",
              "      <th>1831211</th>\n",
              "      <td>26647.72</td>\n",
              "      <td>2020</td>\n",
              "      <td>1</td>\n",
              "      <td>1</td>\n",
              "      <td>8.4</td>\n",
              "      <td>3.56</td>\n",
              "      <td>2969878.0</td>\n",
              "      <td>226578.0</td>\n",
              "      <td>2.0</td>\n",
              "      <td>296987700.0</td>\n",
              "      <td>22657700.0</td>\n",
              "      <td>27.0</td>\n",
              "      <td>0</td>\n",
              "      <td>1</td>\n",
              "      <td>1</td>\n",
              "      <td>1</td>\n",
              "      <td>0</td>\n",
              "      <td>0</td>\n",
              "      <td>0</td>\n",
              "      <td>0</td>\n",
              "      <td>0</td>\n",
              "      <td>0</td>\n",
              "      <td>0</td>\n",
              "      <td>0</td>\n",
              "      <td>0</td>\n",
              "      <td>0</td>\n",
              "      <td>0</td>\n",
              "      <td>0</td>\n",
              "      <td>0</td>\n",
              "      <td>0</td>\n",
              "      <td>0</td>\n",
              "      <td>1</td>\n",
              "      <td>0</td>\n",
              "      <td>0</td>\n",
              "      <td>0</td>\n",
              "    </tr>\n",
              "    <tr>\n",
              "      <th>3384697</th>\n",
              "      <td>23730.50</td>\n",
              "      <td>2019</td>\n",
              "      <td>1</td>\n",
              "      <td>1</td>\n",
              "      <td>3.7</td>\n",
              "      <td>18.80</td>\n",
              "      <td>0.0</td>\n",
              "      <td>0.0</td>\n",
              "      <td>0.0</td>\n",
              "      <td>0.0</td>\n",
              "      <td>0.0</td>\n",
              "      <td>59.0</td>\n",
              "      <td>0</td>\n",
              "      <td>1</td>\n",
              "      <td>1</td>\n",
              "      <td>0</td>\n",
              "      <td>0</td>\n",
              "      <td>0</td>\n",
              "      <td>0</td>\n",
              "      <td>1</td>\n",
              "      <td>0</td>\n",
              "      <td>0</td>\n",
              "      <td>0</td>\n",
              "      <td>0</td>\n",
              "      <td>0</td>\n",
              "      <td>0</td>\n",
              "      <td>0</td>\n",
              "      <td>0</td>\n",
              "      <td>1</td>\n",
              "      <td>0</td>\n",
              "      <td>1</td>\n",
              "      <td>0</td>\n",
              "      <td>0</td>\n",
              "      <td>0</td>\n",
              "      <td>0</td>\n",
              "    </tr>\n",
              "    <tr>\n",
              "      <th>1260139</th>\n",
              "      <td>0.00</td>\n",
              "      <td>2020</td>\n",
              "      <td>1</td>\n",
              "      <td>3</td>\n",
              "      <td>6.9</td>\n",
              "      <td>29.76</td>\n",
              "      <td>4980900.0</td>\n",
              "      <td>101462.0</td>\n",
              "      <td>2.0</td>\n",
              "      <td>498089900.0</td>\n",
              "      <td>10146100.0</td>\n",
              "      <td>39.0</td>\n",
              "      <td>0</td>\n",
              "      <td>1</td>\n",
              "      <td>1</td>\n",
              "      <td>0</td>\n",
              "      <td>0</td>\n",
              "      <td>0</td>\n",
              "      <td>1</td>\n",
              "      <td>0</td>\n",
              "      <td>0</td>\n",
              "      <td>0</td>\n",
              "      <td>0</td>\n",
              "      <td>0</td>\n",
              "      <td>0</td>\n",
              "      <td>0</td>\n",
              "      <td>1</td>\n",
              "      <td>0</td>\n",
              "      <td>0</td>\n",
              "      <td>0</td>\n",
              "      <td>1</td>\n",
              "      <td>0</td>\n",
              "      <td>0</td>\n",
              "      <td>0</td>\n",
              "      <td>0</td>\n",
              "    </tr>\n",
              "  </tbody>\n",
              "</table>\n",
              "</div>"
            ],
            "text/plain": [
              "           TCVUSD  Year  ...  HS_Group_Name_Raw Input  HS_Group_Name_Vices\n",
              "5106325  60440.23  2019  ...                        0                    0\n",
              "6438450  48273.18  2020  ...                        0                    0\n",
              "1831211  26647.72  2020  ...                        0                    0\n",
              "3384697  23730.50  2019  ...                        0                    0\n",
              "1260139      0.00  2020  ...                        0                    0\n",
              "\n",
              "[5 rows x 35 columns]"
            ]
          },
          "metadata": {},
          "execution_count": 17
        }
      ]
    },
    {
      "cell_type": "code",
      "metadata": {
        "id": "2p9IhwKg7NjA"
      },
      "source": [
        "# MinMax Scaling\n",
        "mn = MinMaxScaler()\n",
        "X_train = pd.DataFrame(mn.fit_transform(X_train))\n",
        "X_test = pd.DataFrame(mn.fit_transform(X_test))"
      ],
      "execution_count": null,
      "outputs": []
    },
    {
      "cell_type": "code",
      "metadata": {
        "id": "GjwdhmLao3GE"
      },
      "source": [
        "log_folder = \"logs/fit/\" + datetime.datetime.now().strftime(\"%Y%m%d-%H%M%S\")\n",
        "\n",
        "%load_ext tensorboard"
      ],
      "execution_count": null,
      "outputs": []
    },
    {
      "cell_type": "code",
      "metadata": {
        "id": "oB6GF-7ho9R5"
      },
      "source": [
        "# Set up callbacks\n",
        "filepath = 'MLP_weights_only_train1920_b32_epochs50_HPObatch16.h5'\n",
        "\n",
        "checkpoint_dir = os.path.dirname(filepath)\n",
        "\n",
        "tensorboard_callback = tf.keras.callbacks.TensorBoard(log_folder,\n",
        "                                                      histogram_freq=1)\n",
        "\n",
        "callbacks_list = [EarlyStopping(monitor='loss', patience = 5),\n",
        "                  ModelCheckpoint(filepath, monitor='mse', \n",
        "                                  best_model_only = True, mode='min'), \n",
        "                  tensorboard_callback]"
      ],
      "execution_count": null,
      "outputs": []
    },
    {
      "cell_type": "code",
      "metadata": {
        "id": "8QOqsblnjzrv",
        "colab": {
          "base_uri": "https://localhost:8080/"
        },
        "outputId": "2459ae0b-fc7e-4e12-c829-b2b070be7391"
      },
      "source": [
        "# Define model from HPO\n",
        "# Trial summary\n",
        "# Hyperparameters:\n",
        "# num_layers: 4\n",
        "# layer_size0: 25\n",
        "# layer_size1: 25\n",
        "# learning_rate: 0.001\n",
        "# layer_size2: 25\n",
        "# layer_size3: 20\n",
        "# layer_size4: 20\n",
        "# Score: 11.799287796020508\n",
        "\n",
        "model = Sequential()\n",
        "model.add(Dense(25, input_dim=35, kernel_initializer='normal', activation='relu'))\n",
        "model.add(Dense(25, kernel_initializer='normal', activation='relu'))\n",
        "model.add(Dense(25, kernel_initializer='normal', activation='relu'))\n",
        "model.add(Dense(20, kernel_initializer='normal', activation='relu'))\n",
        "model.add(Dense(20, kernel_initializer='normal', activation='relu'))\n",
        "model.add(Dropout(0.3))\n",
        "model.add(Dense(1))\n",
        "\n",
        "# Compile model\n",
        "opt = tf.keras.optimizers.Adam(learning_rate=0.001)\n",
        "model.compile(loss='mae', metrics=['mse'], optimizer=opt)\n",
        "model.summary()"
      ],
      "execution_count": null,
      "outputs": [
        {
          "output_type": "stream",
          "name": "stdout",
          "text": [
            "Model: \"sequential\"\n",
            "_________________________________________________________________\n",
            "Layer (type)                 Output Shape              Param #   \n",
            "=================================================================\n",
            "dense (Dense)                (None, 25)                900       \n",
            "_________________________________________________________________\n",
            "dense_1 (Dense)              (None, 25)                650       \n",
            "_________________________________________________________________\n",
            "dense_2 (Dense)              (None, 25)                650       \n",
            "_________________________________________________________________\n",
            "dense_3 (Dense)              (None, 20)                520       \n",
            "_________________________________________________________________\n",
            "dense_4 (Dense)              (None, 20)                420       \n",
            "_________________________________________________________________\n",
            "dropout (Dropout)            (None, 20)                0         \n",
            "_________________________________________________________________\n",
            "dense_5 (Dense)              (None, 1)                 21        \n",
            "=================================================================\n",
            "Total params: 3,161\n",
            "Trainable params: 3,161\n",
            "Non-trainable params: 0\n",
            "_________________________________________________________________\n"
          ]
        }
      ]
    },
    {
      "cell_type": "code",
      "metadata": {
        "id": "RLg9y1MEl5mO",
        "colab": {
          "base_uri": "https://localhost:8080/"
        },
        "outputId": "4d195861-e0e7-4500-d692-7af94c2e69ff"
      },
      "source": [
        "# Train the MLP on the train dataset\n",
        "history = model.fit(X_train, y_train, epochs=50, batch_size=32,\n",
        "                    validation_split=0.2, callbacks=callbacks_list)"
      ],
      "execution_count": null,
      "outputs": [
        {
          "output_type": "stream",
          "name": "stdout",
          "text": [
            "Epoch 1/50\n",
            "116092/116092 [==============================] - 283s 2ms/step - loss: 13.0935 - mse: 880.4114 - val_loss: 12.4951 - val_mse: 848.7473\n",
            "Epoch 2/50\n",
            "116092/116092 [==============================] - 281s 2ms/step - loss: 12.8498 - mse: 842.2609 - val_loss: 12.4252 - val_mse: 843.1459\n",
            "Epoch 3/50\n",
            "116092/116092 [==============================] - 279s 2ms/step - loss: 12.2655 - mse: 768.0217 - val_loss: 11.2672 - val_mse: 664.2846\n",
            "Epoch 4/50\n",
            "116092/116092 [==============================] - 280s 2ms/step - loss: 11.5224 - mse: 666.8937 - val_loss: 11.2064 - val_mse: 580.2432\n",
            "Epoch 5/50\n",
            "116092/116092 [==============================] - 279s 2ms/step - loss: 11.2815 - mse: 640.0654 - val_loss: 11.0063 - val_mse: 638.7315\n",
            "Epoch 6/50\n",
            "116092/116092 [==============================] - 278s 2ms/step - loss: 11.1537 - mse: 627.5007 - val_loss: 10.8688 - val_mse: 618.0255\n",
            "Epoch 7/50\n",
            "116092/116092 [==============================] - 277s 2ms/step - loss: 11.0464 - mse: 616.2422 - val_loss: 10.3420 - val_mse: 558.4982\n",
            "Epoch 8/50\n",
            "116092/116092 [==============================] - 278s 2ms/step - loss: 10.9478 - mse: 608.8424 - val_loss: 11.6567 - val_mse: 684.3198\n",
            "Epoch 9/50\n",
            "116092/116092 [==============================] - 275s 2ms/step - loss: 10.8554 - mse: 600.9790 - val_loss: 10.8177 - val_mse: 629.4794\n",
            "Epoch 10/50\n",
            "116092/116092 [==============================] - 275s 2ms/step - loss: 10.7824 - mse: 593.8272 - val_loss: 10.1597 - val_mse: 550.4886\n",
            "Epoch 11/50\n",
            "116092/116092 [==============================] - 278s 2ms/step - loss: 10.7258 - mse: 587.4976 - val_loss: 10.3033 - val_mse: 536.4460\n",
            "Epoch 12/50\n",
            "116092/116092 [==============================] - 277s 2ms/step - loss: 10.6270 - mse: 577.1118 - val_loss: 10.0547 - val_mse: 545.8268\n",
            "Epoch 13/50\n",
            "116092/116092 [==============================] - 276s 2ms/step - loss: 10.5344 - mse: 566.7669 - val_loss: 10.0572 - val_mse: 521.5695\n",
            "Epoch 14/50\n",
            "116092/116092 [==============================] - 278s 2ms/step - loss: 10.4598 - mse: 559.1259 - val_loss: 10.0659 - val_mse: 512.4357\n",
            "Epoch 15/50\n",
            "116092/116092 [==============================] - 277s 2ms/step - loss: 10.3960 - mse: 552.4453 - val_loss: 10.0577 - val_mse: 526.5241\n",
            "Epoch 16/50\n",
            "116092/116092 [==============================] - 276s 2ms/step - loss: 10.3491 - mse: 547.8976 - val_loss: 10.0450 - val_mse: 508.5247\n",
            "Epoch 17/50\n",
            "116092/116092 [==============================] - 276s 2ms/step - loss: 10.2910 - mse: 541.9647 - val_loss: 9.7672 - val_mse: 506.4280\n",
            "Epoch 18/50\n",
            "116092/116092 [==============================] - 276s 2ms/step - loss: 10.2506 - mse: 537.8976 - val_loss: 9.6175 - val_mse: 493.1346\n",
            "Epoch 19/50\n",
            "116092/116092 [==============================] - 276s 2ms/step - loss: 10.1683 - mse: 530.5472 - val_loss: 9.8457 - val_mse: 473.3324\n",
            "Epoch 20/50\n",
            "116092/116092 [==============================] - 276s 2ms/step - loss: 10.1230 - mse: 526.0426 - val_loss: 9.7428 - val_mse: 508.0785\n",
            "Epoch 21/50\n",
            "116092/116092 [==============================] - 277s 2ms/step - loss: 10.0960 - mse: 523.8988 - val_loss: 9.4928 - val_mse: 470.6390\n",
            "Epoch 22/50\n",
            "116092/116092 [==============================] - 275s 2ms/step - loss: 10.0611 - mse: 520.8441 - val_loss: 9.5810 - val_mse: 493.3336\n",
            "Epoch 23/50\n",
            "116092/116092 [==============================] - 275s 2ms/step - loss: 10.0244 - mse: 517.2725 - val_loss: 9.4706 - val_mse: 484.8590\n",
            "Epoch 24/50\n",
            "116092/116092 [==============================] - 276s 2ms/step - loss: 9.9961 - mse: 514.5793 - val_loss: 9.6605 - val_mse: 505.7290\n",
            "Epoch 25/50\n",
            "116092/116092 [==============================] - 276s 2ms/step - loss: 9.9609 - mse: 512.4399 - val_loss: 10.1497 - val_mse: 556.2100\n",
            "Epoch 26/50\n",
            "116092/116092 [==============================] - 276s 2ms/step - loss: 9.9460 - mse: 511.6681 - val_loss: 9.5914 - val_mse: 495.2566\n",
            "Epoch 27/50\n",
            "116092/116092 [==============================] - 277s 2ms/step - loss: 9.9156 - mse: 507.8640 - val_loss: 9.4194 - val_mse: 462.6774\n",
            "Epoch 28/50\n",
            "116092/116092 [==============================] - 277s 2ms/step - loss: 9.9056 - mse: 508.0025 - val_loss: 9.4224 - val_mse: 458.7271\n",
            "Epoch 29/50\n",
            "116092/116092 [==============================] - 277s 2ms/step - loss: 9.8851 - mse: 506.2141 - val_loss: 9.5739 - val_mse: 500.1628\n",
            "Epoch 30/50\n",
            "116092/116092 [==============================] - 276s 2ms/step - loss: 9.8605 - mse: 504.4435 - val_loss: 9.4112 - val_mse: 502.1597\n",
            "Epoch 31/50\n",
            "116092/116092 [==============================] - 276s 2ms/step - loss: 9.8593 - mse: 504.2318 - val_loss: 9.3757 - val_mse: 478.6209\n",
            "Epoch 32/50\n",
            "116092/116092 [==============================] - 277s 2ms/step - loss: 9.8235 - mse: 501.8703 - val_loss: 9.1938 - val_mse: 463.5687\n",
            "Epoch 33/50\n",
            "116092/116092 [==============================] - 277s 2ms/step - loss: 9.7984 - mse: 500.2673 - val_loss: 10.0717 - val_mse: 474.3359\n",
            "Epoch 34/50\n",
            "116092/116092 [==============================] - 276s 2ms/step - loss: 9.7775 - mse: 498.7593 - val_loss: 9.4210 - val_mse: 475.0684\n",
            "Epoch 35/50\n",
            "116092/116092 [==============================] - 276s 2ms/step - loss: 9.7471 - mse: 496.0402 - val_loss: 9.3982 - val_mse: 486.0910\n",
            "Epoch 36/50\n",
            "116092/116092 [==============================] - 278s 2ms/step - loss: 9.7220 - mse: 493.7784 - val_loss: 9.5236 - val_mse: 470.7459\n",
            "Epoch 37/50\n",
            "116092/116092 [==============================] - 278s 2ms/step - loss: 9.7023 - mse: 492.5034 - val_loss: 10.2281 - val_mse: 549.6652\n",
            "Epoch 38/50\n",
            "116092/116092 [==============================] - 278s 2ms/step - loss: 9.6827 - mse: 491.6800 - val_loss: 9.3464 - val_mse: 483.6513\n",
            "Epoch 39/50\n",
            "116092/116092 [==============================] - 280s 2ms/step - loss: 9.6765 - mse: 490.5835 - val_loss: 9.2846 - val_mse: 471.7580\n",
            "Epoch 40/50\n",
            "116092/116092 [==============================] - 278s 2ms/step - loss: 9.6616 - mse: 489.6656 - val_loss: 9.2409 - val_mse: 455.4822\n",
            "Epoch 41/50\n",
            "116092/116092 [==============================] - 277s 2ms/step - loss: 9.6530 - mse: 488.9742 - val_loss: 9.1876 - val_mse: 457.7784\n",
            "Epoch 42/50\n",
            "116092/116092 [==============================] - 279s 2ms/step - loss: 9.6381 - mse: 487.3549 - val_loss: 9.4813 - val_mse: 446.7948\n",
            "Epoch 43/50\n",
            "116092/116092 [==============================] - 275s 2ms/step - loss: 9.6158 - mse: 486.1164 - val_loss: 9.1591 - val_mse: 457.5319\n",
            "Epoch 44/50\n",
            "116092/116092 [==============================] - 276s 2ms/step - loss: 9.6013 - mse: 485.5411 - val_loss: 9.1811 - val_mse: 465.9025\n",
            "Epoch 45/50\n",
            "116092/116092 [==============================] - 277s 2ms/step - loss: 9.5858 - mse: 484.5894 - val_loss: 9.1047 - val_mse: 456.4984\n",
            "Epoch 46/50\n",
            "116092/116092 [==============================] - 276s 2ms/step - loss: 9.5768 - mse: 483.5850 - val_loss: 9.4571 - val_mse: 454.5270\n",
            "Epoch 47/50\n",
            "116092/116092 [==============================] - 276s 2ms/step - loss: 9.5693 - mse: 483.2137 - val_loss: 9.3538 - val_mse: 477.3129\n",
            "Epoch 48/50\n",
            "116092/116092 [==============================] - 278s 2ms/step - loss: 9.5628 - mse: 482.8623 - val_loss: 9.1804 - val_mse: 474.9247\n",
            "Epoch 49/50\n",
            "116092/116092 [==============================] - 276s 2ms/step - loss: 9.5500 - mse: 481.9303 - val_loss: 9.0517 - val_mse: 445.4269\n",
            "Epoch 50/50\n",
            "116092/116092 [==============================] - 275s 2ms/step - loss: 9.5345 - mse: 480.2955 - val_loss: 9.1627 - val_mse: 472.2036\n"
          ]
        }
      ]
    },
    {
      "cell_type": "code",
      "metadata": {
        "id": "sUeq9Dj2n2Vh"
      },
      "source": [
        "# Save model\n",
        "model.save('./211010_MLP_batch32_50Epochs_HPObatch16_train1920_tf.h5', save_format='tf')\n",
        "\n",
        "# Load model for more training or later use\n",
        "#model = tf.keras.models.load_model('./211010_MLP_batch32_50Epochs_HPObatch16_train1920_tf.h5')"
      ],
      "execution_count": null,
      "outputs": []
    },
    {
      "cell_type": "code",
      "metadata": {
        "id": "FhfaaAPcLkCe",
        "colab": {
          "base_uri": "https://localhost:8080/",
          "height": 295
        },
        "outputId": "90c704b4-9e08-47c8-a49d-6c8d09c209ec"
      },
      "source": [
        "# Plot loss over epochs\n",
        "my_dpi = 96\n",
        "pyplot.title('Model Error for Metric Tonnage')\n",
        "pyplot.plot(history.history['loss'], label='train')\n",
        "pyplot.plot(history.history['val_loss'], label='val_loss')\n",
        "pyplot.ylabel('Error [Metric Tonnage]')\n",
        "pyplot.xlabel('Epoch')\n",
        "pyplot.legend()\n",
        "pyplot.savefig('Train1920_batch32_50Epochs_HPObatch16_Loss.png', dpi=my_dpi * 10,\n",
        "               bbox_inches='tight')\n",
        "pyplot.show()"
      ],
      "execution_count": null,
      "outputs": [
        {
          "output_type": "display_data",
          "data": {
            "image/png": "[encoded data removed]",
            "text/plain": [
              "<Figure size 432x288 with 1 Axes>"
            ]
          },
          "metadata": {
            "needs_background": "light"
          }
        }
      ]
    },
    {
      "cell_type": "code",
      "metadata": {
        "id": "mPls6H-_3c5T",
        "colab": {
          "base_uri": "https://localhost:8080/",
          "height": 295
        },
        "outputId": "ca0219c0-4601-4c98-c1bc-7987bd52f1e4"
      },
      "source": [
        "# Plot loss include loss from validation\n",
        "losses = pd.DataFrame(model.history.history)\n",
        "my_dpi = 96\n",
        "losses.plot()\n",
        "pyplot.title('Model Error for Metric Tonnage')\n",
        "pyplot.ylabel('Error [Metric Tonnage]')\n",
        "pyplot.xlabel('Epoch')\n",
        "pyplot.savefig('Train1920_batch32_50Epochs_HPObatch16_LossValLoss.png', dpi=my_dpi * 10,\n",
        "               bbox_inches='tight')"
      ],
      "execution_count": null,
      "outputs": [
        {
          "output_type": "display_data",
          "data": {
            "image/png": "[encoded data removed]",
            "text/plain": [
              "<Figure size 432x288 with 1 Axes>"
            ]
          },
          "metadata": {
            "needs_background": "light"
          }
        }
      ]
    },
    {
      "cell_type": "code",
      "metadata": {
        "id": "ZIeQUfqAQeUz"
      },
      "source": [
        "# Predict on train set\n",
        "pred_train = model.predict(X_train)"
      ],
      "execution_count": null,
      "outputs": []
    },
    {
      "cell_type": "code",
      "metadata": {
        "id": "jw5VUqZPQlRX",
        "colab": {
          "base_uri": "https://localhost:8080/"
        },
        "outputId": "d283df1a-6d92-4f9f-9207-e9982b560940"
      },
      "source": [
        "# Errors in training set\n",
        "train_error =  np.abs(y_train - pred_train)\n",
        "mean_error = np.mean(train_error)\n",
        "print('Train Mean Error:', mean_error)\n",
        "print('\\n')\n",
        "min_error = np.min(train_error)\n",
        "print('Train Min Error:', min_error)\n",
        "print('\\n')\n",
        "max_error = np.max(train_error)\n",
        "print('Train Max Error:', max_error)\n",
        "print('\\n')\n",
        "std_error = np.std(train_error)\n",
        "print('Train Std Error:', std_error)"
      ],
      "execution_count": null,
      "outputs": [
        {
          "output_type": "stream",
          "name": "stdout",
          "text": [
            "Train Mean Error: Metric_Tons    9.148594\n",
            "dtype: float64\n",
            "\n",
            "\n",
            "Train Min Error: Metric_Tons    0.000001\n",
            "dtype: float64\n",
            "\n",
            "\n",
            "Train Max Error: Metric_Tons    308.362278\n",
            "dtype: float64\n",
            "\n",
            "\n",
            "Train Std Error: Metric_Tons    19.681198\n",
            "dtype: float64\n"
          ]
        }
      ]
    },
    {
      "cell_type": "code",
      "metadata": {
        "id": "ILkQs3cFO6OV",
        "colab": {
          "base_uri": "https://localhost:8080/"
        },
        "outputId": "a4652000-3cf7-42bc-b256-aca563c01cec"
      },
      "source": [
        "# Convert predicted metric tons to data frame\n",
        "y_pred = pd.DataFrame(pred_train)\n",
        "y_pred.shape"
      ],
      "execution_count": null,
      "outputs": [
        {
          "output_type": "execute_result",
          "data": {
            "text/plain": [
              "(4643649, 1)"
            ]
          },
          "metadata": {},
          "execution_count": 29
        }
      ]
    },
    {
      "cell_type": "code",
      "metadata": {
        "id": "FF4HQkOLT6HL",
        "colab": {
          "base_uri": "https://localhost:8080/",
          "height": 677
        },
        "outputId": "d7bd0243-ade9-4e2f-eae9-128628e66b1f"
      },
      "source": [
        "# Graph predicted vs actual metric tonnage in the test set \n",
        "plt.rcParams['agg.path.chunksize'] = 10000\n",
        "f, ((ax1), (ax2)) = plt.pyplot.subplots(1, 2, figsize=(15, 10), sharey=True)\n",
        "f.suptitle('Training Set: Predicted Metric Tons vs Actual Metric Tons',\n",
        "           fontsize = 25)\n",
        "ax1.plot(y_pred, color = 'red')\n",
        "ax1.set_title('Predicted Metric Tons', pad = 15, fontsize = 20)\n",
        "ax1.set_ylabel('Metric Tons', fontsize=20)\n",
        "ax2.plot(y_train, color = 'blue')\n",
        "ax2.set_title('Actual Metric Tons', pad = 15, fontsize = 20)\n",
        "pyplot.show()"
      ],
      "execution_count": null,
      "outputs": [
        {
          "output_type": "display_data",
          "data": {
            "image/png": "[encoded data removed]",
            "text/plain": [
              "<Figure size 1080x720 with 2 Axes>"
            ]
          },
          "metadata": {
            "needs_background": "light"
          }
        }
      ]
    },
    {
      "cell_type": "code",
      "metadata": {
        "id": "X11f-IHCT6HL"
      },
      "source": [
        "# Save file separately due \"OverflowError: In draw_path: Exceeded cell block limit\"\n",
        "f.savefig('Train1920_batch32_50Epochs_HPObatch16_PredictedActual_Train_Side.png',\n",
        "          dpi=my_dpi, bbox_inches='tight')"
      ],
      "execution_count": null,
      "outputs": []
    },
    {
      "cell_type": "code",
      "metadata": {
        "id": "qNs7YaH5OMig",
        "colab": {
          "base_uri": "https://localhost:8080/",
          "height": 294
        },
        "outputId": "98d294c4-e81a-408f-fbc0-2fa9716d9deb"
      },
      "source": [
        "# Graph overlaid predicted vs actual metric tonnage in the test set \n",
        "plt.rcParams['agg.path.chunksize'] = 10000\n",
        "pyplot.title('Metric Tons vs Predicted Metric Tons')\n",
        "pyplot.plot(y_pred, color = 'red', label = 'Predicted Metric Tons')\n",
        "pyplot.plot(y_train, color = 'blue', label = 'Metric Tons')\n",
        "pyplot.legend()\n",
        "pyplot.savefig('Train1920_batch32_50Epochs_HPObatch16_PredictedActual_Train_Overlaid.png',\n",
        "               dpi=my_dpi * 10, bbox_inches='tight')\n",
        "pyplot.show()"
      ],
      "execution_count": null,
      "outputs": [
        {
          "output_type": "display_data",
          "data": {
            "image/png": "[encoded data removed]",
            "text/plain": [
              "<Figure size 432x288 with 1 Axes>"
            ]
          },
          "metadata": {
            "needs_background": "light"
          }
        }
      ]
    },
    {
      "cell_type": "code",
      "metadata": {
        "id": "hUclbg8LAdEV"
      },
      "source": [
        "# Predict on test set\n",
        "pred_test = model.predict(X_test)"
      ],
      "execution_count": null,
      "outputs": []
    },
    {
      "cell_type": "code",
      "metadata": {
        "id": "prjIs_ZjFf5c",
        "colab": {
          "base_uri": "https://localhost:8080/"
        },
        "outputId": "5de10acb-9406-429c-9dc7-10bc83581a59"
      },
      "source": [
        "# Errors in test set\n",
        "test_error =  np.abs(y_test - pred_test)\n",
        "mean_error = np.mean(test_error)\n",
        "print('Test Mean Error:', mean_error)\n",
        "print('\\n')\n",
        "min_error = np.min(test_error)\n",
        "print('Test Min Error:', min_error)\n",
        "print('\\n')\n",
        "max_error = np.max(test_error)\n",
        "print('Test Max Error:', max_error)\n",
        "print('\\n')\n",
        "std_error = np.std(test_error)\n",
        "print('Test Std Error:', std_error)"
      ],
      "execution_count": null,
      "outputs": [
        {
          "output_type": "stream",
          "name": "stdout",
          "text": [
            "Test Mean Error: Metric_Tons    10.600147\n",
            "dtype: float64\n",
            "\n",
            "\n",
            "Test Min Error: Metric_Tons    0.000007\n",
            "dtype: float64\n",
            "\n",
            "\n",
            "Test Max Error: Metric_Tons    378.050452\n",
            "dtype: float64\n",
            "\n",
            "\n",
            "Test Std Error: Metric_Tons    21.226999\n",
            "dtype: float64\n"
          ]
        }
      ]
    },
    {
      "cell_type": "code",
      "metadata": {
        "id": "2UQjBxgAIzac",
        "colab": {
          "base_uri": "https://localhost:8080/"
        },
        "outputId": "adf0e675-894d-4475-e03c-8a837dbdac44"
      },
      "source": [
        "# Convert predicted metric tons to data frame\n",
        "y_pred = pd.DataFrame(pred_test)\n",
        "y_pred.shape"
      ],
      "execution_count": null,
      "outputs": [
        {
          "output_type": "execute_result",
          "data": {
            "text/plain": [
              "(1990136, 1)"
            ]
          },
          "metadata": {},
          "execution_count": 35
        }
      ]
    },
    {
      "cell_type": "code",
      "metadata": {
        "id": "29-77D0FwPQf",
        "colab": {
          "base_uri": "https://localhost:8080/",
          "height": 677
        },
        "outputId": "a18af44c-0804-4e78-f4a8-d802798a41b0"
      },
      "source": [
        "# Graph predicted vs actual metric tonnage in the test set \n",
        "plt.rcParams['agg.path.chunksize'] = 10000\n",
        "f, ((ax1), (ax2)) = plt.pyplot.subplots(1, 2, figsize=(15, 10), sharey=True)\n",
        "f.suptitle('Test Set: Predicted Metric Tons vs Actual Metric Tons', fontsize = 30)\n",
        "ax1.plot(y_pred, color = 'red')\n",
        "ax1.set_title('Predicted Metric Tons', pad = 15, fontsize = 20)\n",
        "ax1.set_ylabel('Metric Tons', fontsize=20)\n",
        "ax2.plot(y_test, color = 'blue')\n",
        "ax2.set_title('Actual Metric Tons', pad = 15, fontsize = 20)\n",
        "pyplot.show()"
      ],
      "execution_count": null,
      "outputs": [
        {
          "output_type": "display_data",
          "data": {
            "image/png": "[encoded data removed]",
            "text/plain": [
              "<Figure size 1080x720 with 2 Axes>"
            ]
          },
          "metadata": {
            "needs_background": "light"
          }
        }
      ]
    },
    {
      "cell_type": "code",
      "metadata": {
        "id": "nJHGzJraI1rn"
      },
      "source": [
        "# Save file separately due \"OverflowError: In draw_path: Exceeded cell block limit\"\n",
        "f.savefig('Train1920_batch32_50Epochs_HPObatch16_PredictedActual_Test_Side.png',\n",
        "          dpi=my_dpi, bbox_inches='tight')"
      ],
      "execution_count": null,
      "outputs": []
    },
    {
      "cell_type": "code",
      "metadata": {
        "id": "tfJlTAKYCajS",
        "colab": {
          "base_uri": "https://localhost:8080/",
          "height": 294
        },
        "outputId": "ae46085f-c87b-4618-d824-ae8b158dc025"
      },
      "source": [
        "# Graph overlaid predicted vs actual metric tonnage in the test set \n",
        "plt.rcParams['agg.path.chunksize'] = 10000\n",
        "pyplot.title('Metric Tons vs Predicted Metric Tons')\n",
        "pyplot.plot(y_pred, color = 'red', label = 'Predicted Metric Tons')\n",
        "pyplot.plot(y_test, color = 'blue', label = 'Metric Tons')\n",
        "pyplot.legend()\n",
        "pyplot.savefig('Train1920_batch32_50Epochs_HPObatch16_PredictedActual_Test_Overlaid.png',\n",
        "               dpi=my_dpi * 10, bbox_inches='tight')\n",
        "pyplot.show()"
      ],
      "execution_count": null,
      "outputs": [
        {
          "output_type": "display_data",
          "data": {
            "image/png": "[encoded data removed]",
            "text/plain": [
              "<Figure size 432x288 with 1 Axes>"
            ]
          },
          "metadata": {
            "needs_background": "light"
          }
        }
      ]
    },
    {
      "cell_type": "code",
      "metadata": {
        "id": "VmRMY3j88wpY",
        "colab": {
          "base_uri": "https://localhost:8080/"
        },
        "outputId": "3f8c6393-d391-4042-dd0c-f11f81436c27"
      },
      "source": [
        "# Metrics from training model \n",
        "print('Train Mean Absolute Error (MAE):', mean_absolute_error(y_train[:], pred_train[:]))\n",
        "print('Mean Square Error (MSE): %3f' % sklearn.metrics.mean_squared_error(y_train[:], pred_train[:]))\n",
        "print('Train Root Mean Squared Error (RMSE):', np.sqrt(mean_squared_error(y_train[:], pred_train[:])))"
      ],
      "execution_count": null,
      "outputs": [
        {
          "output_type": "stream",
          "name": "stdout",
          "text": [
            "Train Mean Absolute Error (MAE): 9.148594360546472\n",
            "Mean Square Error (MSE): 471.046347\n",
            "Train Root Mean Squared Error (RMSE): 21.703602174745747\n"
          ]
        }
      ]
    },
    {
      "cell_type": "code",
      "metadata": {
        "id": "-F8qAW6IKp4t",
        "colab": {
          "base_uri": "https://localhost:8080/"
        },
        "outputId": "39098be4-a8b4-4722-86af-1989489e5f44"
      },
      "source": [
        "# Metrics from test set \n",
        "print('Test Mean Absolute Error (MAE):', mean_absolute_error(y_test[:], pred_test[:]))\n",
        "print('Mean Square Error (MSE): %3f' % sklearn.metrics.mean_squared_error(y_test[:], pred_test[:]))\n",
        "print('Test Root Mean Squared Error (RMSE):', np.sqrt(mean_squared_error(y_test[:], pred_test[:])))"
      ],
      "execution_count": null,
      "outputs": [
        {
          "output_type": "stream",
          "name": "stdout",
          "text": [
            "Test Mean Absolute Error (MAE): 10.600146927811833\n",
            "Mean Square Error (MSE): 562.948599\n",
            "Test Root Mean Squared Error (RMSE): 23.7265378711834\n"
          ]
        }
      ]
    },
    {
      "cell_type": "code",
      "metadata": {
        "id": "BK_2rDBA8VLR",
        "colab": {
          "base_uri": "https://localhost:8080/"
        },
        "outputId": "56805fbf-cad5-40c1-cbcd-3ae9c71b339c"
      },
      "source": [
        "# Predicted maximum, average and minimum metric tonnage\n",
        "print(\"Predicted Max Metric Tons\")\n",
        "print(np.amax(pred_test))\n",
        "(\"\\n\")\n",
        "print(\"Predicted Average Metric Tons\")\n",
        "print(np.average(pred_test))\n",
        "(\"\\n\")\n",
        "print(\"Predicted Minimum Metric Tons\")\n",
        "print(np.amin(pred_test))"
      ],
      "execution_count": null,
      "outputs": [
        {
          "output_type": "stream",
          "name": "stdout",
          "text": [
            "Predicted Max Metric Tons\n",
            "414.15045\n",
            "Predicted Average Metric Tons\n",
            "20.415195\n",
            "Predicted Minimum Metric Tons\n",
            "-13.292933\n"
          ]
        }
      ]
    },
    {
      "cell_type": "code",
      "metadata": {
        "id": "WoS4MFYb8aHu",
        "colab": {
          "base_uri": "https://localhost:8080/"
        },
        "outputId": "21b7e57a-eb20-4a55-8889-d20eba082f3c"
      },
      "source": [
        "# Maxmimum, average and minimum real metric tonnage\n",
        "print(\"Maximum Metric Tons\")\n",
        "print(np.amax(y_test))\n",
        "(\"\\n\")\n",
        "print(\"Average Metric Tons\")\n",
        "print(np.average(y_test))\n",
        "(\"\\n\")\n",
        "print(\"Minimum Metric Tons\")\n",
        "print(np.amin(y_test))"
      ],
      "execution_count": null,
      "outputs": [
        {
          "output_type": "stream",
          "name": "stdout",
          "text": [
            "Maximum Metric Tons\n",
            "Metric_Tons    249.99\n",
            "dtype: float64\n",
            "Average Metric Tons\n",
            "21.719979016509416\n",
            "Minimum Metric Tons\n",
            "Metric_Tons    0.0\n",
            "dtype: float64\n"
          ]
        }
      ]
    }
  ]
}