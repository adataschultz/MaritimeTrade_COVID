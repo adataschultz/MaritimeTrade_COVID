{
  "nbformat": 4,
  "nbformat_minor": 0,
  "metadata": {
    "colab": {
      "name": "MaritimeTradeCOVID_LSTM.ipynb",
      "provenance": [],
      "collapsed_sections": [],
      "machine_shape": "hm"
    },
    "kernelspec": {
      "name": "python3",
      "display_name": "Python 3"
    },
    "language_info": {
      "name": "python"
    },
    "accelerator": "GPU"
  },
  "cells": [
    {
      "cell_type": "code",
      "metadata": {
        "id": "gMEfOjWZucdo"
      },
      "source": [
        "######################################################\n",
        "### 2019 - 2020 Maritime Trade with COVID for LSTM ###\n",
        "######################################################"
      ],
      "execution_count": null,
      "outputs": []
    },
    {
      "cell_type": "code",
      "metadata": {
        "id": "pPD1AoKmuksU",
        "colab": {
          "base_uri": "https://localhost:8080/"
        },
        "outputId": "59a81b01-3298-42b9-d058-d8c8ccc19f6b"
      },
      "source": [
        "from google.colab import drive \n",
        "drive.mount('/content/drive')"
      ],
      "execution_count": 1,
      "outputs": [
        {
          "output_type": "stream",
          "text": [
            "Drive already mounted at /content/drive; to attempt to forcibly remount, call drive.mount(\"/content/drive\", force_remount=True).\n"
          ],
          "name": "stdout"
        }
      ]
    },
    {
      "cell_type": "code",
      "metadata": {
        "colab": {
          "base_uri": "https://localhost:8080/"
        },
        "id": "jOReN1GxuoCI",
        "outputId": "c5a9785f-75db-4c22-8db1-aeb7bcb61fc1"
      },
      "source": [
        "%cd /content/drive/MyDrive/Data_MaritimeTrade/"
      ],
      "execution_count": 2,
      "outputs": [
        {
          "output_type": "stream",
          "text": [
            "/content/drive/MyDrive/Data_MaritimeTrade\n"
          ],
          "name": "stdout"
        }
      ]
    },
    {
      "cell_type": "code",
      "metadata": {
        "colab": {
          "base_uri": "https://localhost:8080/"
        },
        "id": "X3HB30ntSlr7",
        "outputId": "369542d7-6a0a-40c4-ea06-3b6b9d8992c5"
      },
      "source": [
        "!pip install category_encoders"
      ],
      "execution_count": 3,
      "outputs": [
        {
          "output_type": "stream",
          "text": [
            "Requirement already satisfied: category_encoders in /usr/local/lib/python3.7/dist-packages (2.2.2)\n",
            "Requirement already satisfied: scikit-learn>=0.20.0 in /usr/local/lib/python3.7/dist-packages (from category_encoders) (0.22.2.post1)\n",
            "Requirement already satisfied: statsmodels>=0.9.0 in /usr/local/lib/python3.7/dist-packages (from category_encoders) (0.10.2)\n",
            "Requirement already satisfied: scipy>=1.0.0 in /usr/local/lib/python3.7/dist-packages (from category_encoders) (1.4.1)\n",
            "Requirement already satisfied: patsy>=0.5.1 in /usr/local/lib/python3.7/dist-packages (from category_encoders) (0.5.1)\n",
            "Requirement already satisfied: numpy>=1.14.0 in /usr/local/lib/python3.7/dist-packages (from category_encoders) (1.19.5)\n",
            "Requirement already satisfied: pandas>=0.21.1 in /usr/local/lib/python3.7/dist-packages (from category_encoders) (1.1.5)\n",
            "Requirement already satisfied: joblib>=0.11 in /usr/local/lib/python3.7/dist-packages (from scikit-learn>=0.20.0->category_encoders) (1.0.1)\n",
            "Requirement already satisfied: six in /usr/local/lib/python3.7/dist-packages (from patsy>=0.5.1->category_encoders) (1.15.0)\n",
            "Requirement already satisfied: pytz>=2017.2 in /usr/local/lib/python3.7/dist-packages (from pandas>=0.21.1->category_encoders) (2018.9)\n",
            "Requirement already satisfied: python-dateutil>=2.7.3 in /usr/local/lib/python3.7/dist-packages (from pandas>=0.21.1->category_encoders) (2.8.1)\n"
          ],
          "name": "stdout"
        }
      ]
    },
    {
      "cell_type": "code",
      "metadata": {
        "id": "SJsjiI7GlIeX",
        "colab": {
          "base_uri": "https://localhost:8080/"
        },
        "outputId": "1312677b-9d43-4f05-c0d9-333008f11a06"
      },
      "source": [
        "import os\n",
        "import pandas as pd\n",
        "import numpy as np\n",
        "import category_encoders as ce\n",
        "from pandas import read_csv\n",
        "from pandas import DataFrame\n",
        "from pandas import concat\n",
        "import sklearn\n",
        "from sklearn.preprocessing import LabelEncoder\n",
        "from sklearn.preprocessing import MinMaxScaler\n",
        "import tensorflow as tf\n",
        "from keras.optimizers import Adam\n",
        "from keras.models import Sequential\n",
        "from keras.layers import LSTM, Dense,  Dropout\n",
        "from keras.callbacks import EarlyStopping\n",
        "from keras.layers.advanced_activations import LeakyReLU\n",
        "from keras.callbacks import ModelCheckpoint\n",
        "from math import sqrt\n",
        "from numpy import concatenate\n",
        "import matplotlib as plt\n",
        "from matplotlib import pyplot\n",
        "from sklearn.metrics import mean_absolute_error\n",
        "from sklearn.metrics import mean_squared_error\n",
        "from sklearn.metrics import r2_score"
      ],
      "execution_count": 4,
      "outputs": [
        {
          "output_type": "stream",
          "text": [
            "/usr/local/lib/python3.7/dist-packages/statsmodels/tools/_testing.py:19: FutureWarning: pandas.util.testing is deprecated. Use the functions in the public API at pandas.testing instead.\n",
            "  import pandas.util.testing as tm\n"
          ],
          "name": "stderr"
        }
      ]
    },
    {
      "cell_type": "code",
      "metadata": {
        "id": "fjzKoSqW-5kS"
      },
      "source": [
        "tf.random.set_seed(42)"
      ],
      "execution_count": 5,
      "outputs": []
    },
    {
      "cell_type": "code",
      "metadata": {
        "id": "VxVwRvRclImg",
        "colab": {
          "base_uri": "https://localhost:8080/"
        },
        "outputId": "4a3a0cd4-d5a7-4a93-b5c7-6f44ce77cb5b"
      },
      "source": [
        "df = pd.read_csv('combined_trade_final_LSTM.csv',low_memory=False)\n",
        "print('Number of rows and columns:', df.shape)"
      ],
      "execution_count": 6,
      "outputs": [
        {
          "output_type": "stream",
          "text": [
            "Number of rows and columns: (6633785, 20)\n"
          ],
          "name": "stdout"
        }
      ]
    },
    {
      "cell_type": "code",
      "metadata": {
        "id": "ZGOMyP8_lIqa",
        "colab": {
          "base_uri": "https://localhost:8080/"
        },
        "outputId": "cff5f535-9304-4acf-c13c-5dd8e8016643"
      },
      "source": [
        "def data_quality_table(df):\n",
        "        mis_val = df.isnull().sum()\n",
        "        #mis_val = df.isnull().sum().loc[lambda x : x>0] \n",
        "        #mis_val = df.loc[:, df.isna().any()].isna().sum()\n",
        "        var_type = df.dtypes\n",
        "        unique_count = df.nunique()\n",
        "        mis_val_table = pd.concat([mis_val, var_type, unique_count], axis=1)\n",
        "        mis_val_table_ren_columns = mis_val_table.rename(\n",
        "        columns = {0 : 'Number Missing', 1 : 'Data Type', 2 : 'Number Unique'})\n",
        "        mis_val_table_ren_columns = mis_val_table_ren_columns[\n",
        "            mis_val_table_ren_columns.iloc[:,1] != 0].sort_values(\n",
        "        'Number Missing', ascending=False).round(1)\n",
        "        print (\"The selected dataframe has \" + str(df.shape[1]) + \" columns.\\n\")\n",
        "        return mis_val_table_ren_columns\n",
        "\n",
        "pd.set_option('display.max_columns', None)\n",
        "print(\"\\nData Quality Report\") \n",
        "print(data_quality_table(df))"
      ],
      "execution_count": 7,
      "outputs": [
        {
          "output_type": "stream",
          "text": [
            "\n",
            "Data Quality Report\n",
            "The selected dataframe has 20 columns.\n",
            "\n",
            "                        Number Missing Data Type  Number Unique\n",
            "Container_LCL/FCL                    0    object              2\n",
            "Metric_Tons                          0   float64          24994\n",
            "deaths_pctdelta                      0   float64           1034\n",
            "cases_pctdelta                       0   float64           1103\n",
            "State_Closure_EA_Diff                0     int64              7\n",
            "deaths_weekly                        0   float64           1034\n",
            "cases_weekly                         0   float64           1104\n",
            "Average_Tariff                       0   float64            631\n",
            "US_Unemployment_Rate                 0   float64             14\n",
            "HS_Group_Name                        0    object              6\n",
            "Foreign_Country_Region               0    object             11\n",
            "US_Port_Coastal_Region               0    object              6\n",
            "foreign_company_size                 0    object              6\n",
            "us_company_size                      0    object              6\n",
            "Year                                 0     int64              2\n",
            "DateTime                             0    object            731\n",
            "Trade_Direction                      0    object              2\n",
            "TCVUSD                               0   float64        3340083\n",
            "Container_Type_Dry                   0      bool              2\n",
            "Delta_Case0_Effective                0   float64             25\n"
          ],
          "name": "stdout"
        }
      ]
    },
    {
      "cell_type": "code",
      "metadata": {
        "id": "P2fTZxlql1F1"
      },
      "source": [
        "# Convert dtypes\n",
        "df = df.copy()\n",
        "df['State_Closure_EA_Diff'] = df['State_Closure_EA_Diff'].astype('float64')\n",
        "df['Container_Type_Dry'] = df['Container_Type_Dry'].astype('object')"
      ],
      "execution_count": 8,
      "outputs": []
    },
    {
      "cell_type": "code",
      "metadata": {
        "id": "A9jZrhs5lIzg"
      },
      "source": [
        "# Convert \n",
        "df = df.copy()\n",
        "df['DateTime']= pd.to_datetime(df['DateTime']) \n",
        "df['DateTime_YearWeek'] = df['DateTime'].dt.strftime('%Y-w%U')"
      ],
      "execution_count": 9,
      "outputs": []
    },
    {
      "cell_type": "code",
      "metadata": {
        "id": "-cNVHJxkl1DQ"
      },
      "source": [
        "df = df.drop(['DateTime'], axis=1)"
      ],
      "execution_count": 10,
      "outputs": []
    },
    {
      "cell_type": "code",
      "metadata": {
        "id": "2b7UYtXzlIwq"
      },
      "source": [
        "# Reformat for X,y\n",
        "df2 = df.drop(['Metric_Tons'], axis=1)\n",
        "df1 = df.loc[:, ['Metric_Tons']]\n",
        "df = pd.concat([df1, df2], axis=1)\n",
        "\n",
        "del df1, df2"
      ],
      "execution_count": 11,
      "outputs": []
    },
    {
      "cell_type": "code",
      "metadata": {
        "id": "RuD8BzyUmMxp"
      },
      "source": [
        "# Sort data chronologically\n",
        "df = df.sort_values('DateTime_YearWeek')"
      ],
      "execution_count": 12,
      "outputs": []
    },
    {
      "cell_type": "code",
      "metadata": {
        "colab": {
          "base_uri": "https://localhost:8080/",
          "height": 258
        },
        "id": "uYnOIGptdbTU",
        "outputId": "460cb2be-a34c-4dd4-85f7-bc9af2dcc43f"
      },
      "source": [
        "# Set YearWeek in the index\n",
        "df = df.set_index('DateTime_YearWeek')\n",
        "df.head()"
      ],
      "execution_count": 13,
      "outputs": [
        {
          "output_type": "execute_result",
          "data": {
            "text/html": [
              "<div>\n",
              "<style scoped>\n",
              "    .dataframe tbody tr th:only-of-type {\n",
              "        vertical-align: middle;\n",
              "    }\n",
              "\n",
              "    .dataframe tbody tr th {\n",
              "        vertical-align: top;\n",
              "    }\n",
              "\n",
              "    .dataframe thead th {\n",
              "        text-align: right;\n",
              "    }\n",
              "</style>\n",
              "<table border=\"1\" class=\"dataframe\">\n",
              "  <thead>\n",
              "    <tr style=\"text-align: right;\">\n",
              "      <th></th>\n",
              "      <th>Metric_Tons</th>\n",
              "      <th>Container_LCL/FCL</th>\n",
              "      <th>Container_Type_Dry</th>\n",
              "      <th>TCVUSD</th>\n",
              "      <th>Trade_Direction</th>\n",
              "      <th>Year</th>\n",
              "      <th>us_company_size</th>\n",
              "      <th>foreign_company_size</th>\n",
              "      <th>US_Port_Coastal_Region</th>\n",
              "      <th>Foreign_Country_Region</th>\n",
              "      <th>HS_Group_Name</th>\n",
              "      <th>US_Unemployment_Rate</th>\n",
              "      <th>Average_Tariff</th>\n",
              "      <th>cases_weekly</th>\n",
              "      <th>deaths_weekly</th>\n",
              "      <th>State_Closure_EA_Diff</th>\n",
              "      <th>cases_pctdelta</th>\n",
              "      <th>deaths_pctdelta</th>\n",
              "      <th>Delta_Case0_Effective</th>\n",
              "    </tr>\n",
              "    <tr>\n",
              "      <th>DateTime_YearWeek</th>\n",
              "      <th></th>\n",
              "      <th></th>\n",
              "      <th></th>\n",
              "      <th></th>\n",
              "      <th></th>\n",
              "      <th></th>\n",
              "      <th></th>\n",
              "      <th></th>\n",
              "      <th></th>\n",
              "      <th></th>\n",
              "      <th></th>\n",
              "      <th></th>\n",
              "      <th></th>\n",
              "      <th></th>\n",
              "      <th></th>\n",
              "      <th></th>\n",
              "      <th></th>\n",
              "      <th></th>\n",
              "      <th></th>\n",
              "    </tr>\n",
              "  </thead>\n",
              "  <tbody>\n",
              "    <tr>\n",
              "      <th>2019-w00</th>\n",
              "      <td>0.07</td>\n",
              "      <td>LCL</td>\n",
              "      <td>True</td>\n",
              "      <td>817.95</td>\n",
              "      <td>Import</td>\n",
              "      <td>2019</td>\n",
              "      <td>medium</td>\n",
              "      <td>small</td>\n",
              "      <td>Northeast</td>\n",
              "      <td>European Union</td>\n",
              "      <td>Finished Goods</td>\n",
              "      <td>4.0</td>\n",
              "      <td>6.19</td>\n",
              "      <td>0.0</td>\n",
              "      <td>0.0</td>\n",
              "      <td>2.0</td>\n",
              "      <td>0.0</td>\n",
              "      <td>0.0</td>\n",
              "      <td>27.0</td>\n",
              "    </tr>\n",
              "    <tr>\n",
              "      <th>2019-w00</th>\n",
              "      <td>11.54</td>\n",
              "      <td>FCL</td>\n",
              "      <td>True</td>\n",
              "      <td>68439.12</td>\n",
              "      <td>Import</td>\n",
              "      <td>2019</td>\n",
              "      <td>small</td>\n",
              "      <td>small</td>\n",
              "      <td>Southeast</td>\n",
              "      <td>China</td>\n",
              "      <td>Finished Goods</td>\n",
              "      <td>4.0</td>\n",
              "      <td>12.37</td>\n",
              "      <td>0.0</td>\n",
              "      <td>0.0</td>\n",
              "      <td>1.0</td>\n",
              "      <td>0.0</td>\n",
              "      <td>0.0</td>\n",
              "      <td>39.0</td>\n",
              "    </tr>\n",
              "    <tr>\n",
              "      <th>2019-w00</th>\n",
              "      <td>6.32</td>\n",
              "      <td>FCL</td>\n",
              "      <td>True</td>\n",
              "      <td>37481.39</td>\n",
              "      <td>Import</td>\n",
              "      <td>2019</td>\n",
              "      <td>small</td>\n",
              "      <td>small</td>\n",
              "      <td>Southeast</td>\n",
              "      <td>China</td>\n",
              "      <td>Finished Goods</td>\n",
              "      <td>4.0</td>\n",
              "      <td>12.37</td>\n",
              "      <td>0.0</td>\n",
              "      <td>0.0</td>\n",
              "      <td>1.0</td>\n",
              "      <td>0.0</td>\n",
              "      <td>0.0</td>\n",
              "      <td>39.0</td>\n",
              "    </tr>\n",
              "    <tr>\n",
              "      <th>2019-w00</th>\n",
              "      <td>3.82</td>\n",
              "      <td>FCL</td>\n",
              "      <td>True</td>\n",
              "      <td>22654.89</td>\n",
              "      <td>Import</td>\n",
              "      <td>2019</td>\n",
              "      <td>medium</td>\n",
              "      <td>small</td>\n",
              "      <td>Southeast</td>\n",
              "      <td>China</td>\n",
              "      <td>Finished Goods</td>\n",
              "      <td>4.0</td>\n",
              "      <td>12.37</td>\n",
              "      <td>0.0</td>\n",
              "      <td>0.0</td>\n",
              "      <td>1.0</td>\n",
              "      <td>0.0</td>\n",
              "      <td>0.0</td>\n",
              "      <td>39.0</td>\n",
              "    </tr>\n",
              "    <tr>\n",
              "      <th>2019-w00</th>\n",
              "      <td>4.15</td>\n",
              "      <td>FCL</td>\n",
              "      <td>True</td>\n",
              "      <td>24611.99</td>\n",
              "      <td>Import</td>\n",
              "      <td>2019</td>\n",
              "      <td>medium</td>\n",
              "      <td>small</td>\n",
              "      <td>Southeast</td>\n",
              "      <td>China</td>\n",
              "      <td>Finished Goods</td>\n",
              "      <td>4.0</td>\n",
              "      <td>12.37</td>\n",
              "      <td>0.0</td>\n",
              "      <td>0.0</td>\n",
              "      <td>1.0</td>\n",
              "      <td>0.0</td>\n",
              "      <td>0.0</td>\n",
              "      <td>39.0</td>\n",
              "    </tr>\n",
              "  </tbody>\n",
              "</table>\n",
              "</div>"
            ],
            "text/plain": [
              "                   Metric_Tons Container_LCL/FCL Container_Type_Dry    TCVUSD  \\\n",
              "DateTime_YearWeek                                                               \n",
              "2019-w00                  0.07               LCL               True    817.95   \n",
              "2019-w00                 11.54               FCL               True  68439.12   \n",
              "2019-w00                  6.32               FCL               True  37481.39   \n",
              "2019-w00                  3.82               FCL               True  22654.89   \n",
              "2019-w00                  4.15               FCL               True  24611.99   \n",
              "\n",
              "                  Trade_Direction  Year us_company_size foreign_company_size  \\\n",
              "DateTime_YearWeek                                                              \n",
              "2019-w00                   Import  2019          medium                small   \n",
              "2019-w00                   Import  2019           small                small   \n",
              "2019-w00                   Import  2019           small                small   \n",
              "2019-w00                   Import  2019          medium                small   \n",
              "2019-w00                   Import  2019          medium                small   \n",
              "\n",
              "                  US_Port_Coastal_Region Foreign_Country_Region  \\\n",
              "DateTime_YearWeek                                                 \n",
              "2019-w00                       Northeast         European Union   \n",
              "2019-w00                       Southeast                  China   \n",
              "2019-w00                       Southeast                  China   \n",
              "2019-w00                       Southeast                  China   \n",
              "2019-w00                       Southeast                  China   \n",
              "\n",
              "                    HS_Group_Name  US_Unemployment_Rate  Average_Tariff  \\\n",
              "DateTime_YearWeek                                                         \n",
              "2019-w00           Finished Goods                   4.0            6.19   \n",
              "2019-w00           Finished Goods                   4.0           12.37   \n",
              "2019-w00           Finished Goods                   4.0           12.37   \n",
              "2019-w00           Finished Goods                   4.0           12.37   \n",
              "2019-w00           Finished Goods                   4.0           12.37   \n",
              "\n",
              "                   cases_weekly  deaths_weekly  State_Closure_EA_Diff  \\\n",
              "DateTime_YearWeek                                                       \n",
              "2019-w00                    0.0            0.0                    2.0   \n",
              "2019-w00                    0.0            0.0                    1.0   \n",
              "2019-w00                    0.0            0.0                    1.0   \n",
              "2019-w00                    0.0            0.0                    1.0   \n",
              "2019-w00                    0.0            0.0                    1.0   \n",
              "\n",
              "                   cases_pctdelta  deaths_pctdelta  Delta_Case0_Effective  \n",
              "DateTime_YearWeek                                                          \n",
              "2019-w00                      0.0              0.0                   27.0  \n",
              "2019-w00                      0.0              0.0                   39.0  \n",
              "2019-w00                      0.0              0.0                   39.0  \n",
              "2019-w00                      0.0              0.0                   39.0  \n",
              "2019-w00                      0.0              0.0                   39.0  "
            ]
          },
          "metadata": {
            "tags": []
          },
          "execution_count": 13
        }
      ]
    },
    {
      "cell_type": "code",
      "metadata": {
        "id": "5ov9MVadmmTC",
        "colab": {
          "base_uri": "https://localhost:8080/"
        },
        "outputId": "c4c23571-7776-4a4e-a6ac-6bd1b64bbf8e"
      },
      "source": [
        "# X,y for encoding\n",
        "X = df.iloc[:,:-1]\n",
        "y = df.iloc[:,:1]\n",
        "print(X.shape)\n",
        "print(y.shape)"
      ],
      "execution_count": 14,
      "outputs": [
        {
          "output_type": "stream",
          "text": [
            "(6633785, 18)\n",
            "(6633785, 1)\n"
          ],
          "name": "stdout"
        }
      ]
    },
    {
      "cell_type": "code",
      "metadata": {
        "id": "cQ45WstYmmVr",
        "colab": {
          "base_uri": "https://localhost:8080/"
        },
        "outputId": "2cfea9d7-8434-44b3-ee33-9bf6bc7a5156"
      },
      "source": [
        "# Encode variables using ranking - ordinal               \n",
        "ce_ord = ce.OrdinalEncoder(cols = ['foreign_company_size', 'us_company_size'])\n",
        "result = ce_ord.fit_transform(X, y['Metric_Tons'])"
      ],
      "execution_count": 15,
      "outputs": [
        {
          "output_type": "stream",
          "text": [
            "/usr/local/lib/python3.7/dist-packages/category_encoders/utils.py:21: FutureWarning: is_categorical is deprecated and will be removed in a future version.  Use is_categorical_dtype instead\n",
            "  elif pd.api.types.is_categorical(cols):\n"
          ],
          "name": "stderr"
        }
      ]
    },
    {
      "cell_type": "code",
      "metadata": {
        "id": "rp7GWKtfmM9V",
        "colab": {
          "base_uri": "https://localhost:8080/"
        },
        "outputId": "7ed84421-1169-4903-eeea-839b6df40fe3"
      },
      "source": [
        "# Convert remaining qualitative vars to dummy vars\n",
        "result = pd.get_dummies(result, prefix=['HS_Group_Name', 'Container_LCL/FCL', 'Foreign_Country_Region', 'US_Port_Coastal_Region', 'Trade_Direction', 'Container_Type_Dry'],\n",
        "                      columns=['HS_Group_Name', 'Container_LCL/FCL', 'Foreign_Country_Region', 'US_Port_Coastal_Region', 'Trade_Direction', 'Container_Type_Dry'])\n",
        "#currently 41\n",
        "print(result.shape)"
      ],
      "execution_count": 16,
      "outputs": [
        {
          "output_type": "stream",
          "text": [
            "(6633785, 41)\n"
          ],
          "name": "stdout"
        }
      ]
    },
    {
      "cell_type": "code",
      "metadata": {
        "id": "UG-mzteffa0x",
        "colab": {
          "base_uri": "https://localhost:8080/"
        },
        "outputId": "eb492a24-b1f3-48e0-c0e9-451c58215703"
      },
      "source": [
        "df = result\n",
        "print(\"\\nData Quality Report\") \n",
        "print(data_quality_table(df))\n",
        "df.shape"
      ],
      "execution_count": 17,
      "outputs": [
        {
          "output_type": "stream",
          "text": [
            "\n",
            "Data Quality Report\n",
            "The selected dataframe has 41 columns.\n",
            "\n",
            "                                                    Number Missing Data Type  \\\n",
            "Metric_Tons                                                      0   float64   \n",
            "Foreign_Country_Region_European Union                            0     uint8   \n",
            "Foreign_Country_Region_North America                             0     uint8   \n",
            "Foreign_Country_Region_Oceania                                   0     uint8   \n",
            "Foreign_Country_Region_Other East Asia (not China)               0     uint8   \n",
            "Foreign_Country_Region_Other Europe (not Europe...               0     uint8   \n",
            "Foreign_Country_Region_South America                             0     uint8   \n",
            "Foreign_Country_Region_South Asia                                0     uint8   \n",
            "Foreign_Country_Region_Southeast Asia                            0     uint8   \n",
            "Foreign_Country_Region_Sub Saharan Africa                        0     uint8   \n",
            "US_Port_Coastal_Region_Gulf                                      0     uint8   \n",
            "US_Port_Coastal_Region_Northeast                                 0     uint8   \n",
            "US_Port_Coastal_Region_Northwest                                 0     uint8   \n",
            "US_Port_Coastal_Region_Other                                     0     uint8   \n",
            "US_Port_Coastal_Region_Southeast                                 0     uint8   \n",
            "US_Port_Coastal_Region_Southwest                                 0     uint8   \n",
            "Trade_Direction_Export                                           0     uint8   \n",
            "Trade_Direction_Import                                           0     uint8   \n",
            "Container_Type_Dry_False                                         0     uint8   \n",
            "Foreign_Country_Region_Middle East & North Africa                0     uint8   \n",
            "Foreign_Country_Region_China                                     0     uint8   \n",
            "TCVUSD                                                           0   float64   \n",
            "Container_LCL/FCL_LCL                                            0     uint8   \n",
            "Year                                                             0     int64   \n",
            "us_company_size                                                  0     int64   \n",
            "foreign_company_size                                             0     int64   \n",
            "US_Unemployment_Rate                                             0   float64   \n",
            "Average_Tariff                                                   0   float64   \n",
            "cases_weekly                                                     0   float64   \n",
            "deaths_weekly                                                    0   float64   \n",
            "State_Closure_EA_Diff                                            0   float64   \n",
            "cases_pctdelta                                                   0   float64   \n",
            "deaths_pctdelta                                                  0   float64   \n",
            "HS_Group_Name_Edible                                             0     uint8   \n",
            "HS_Group_Name_Edible with Processing                             0     uint8   \n",
            "HS_Group_Name_Finished Goods                                     0     uint8   \n",
            "HS_Group_Name_Pharma                                             0     uint8   \n",
            "HS_Group_Name_Raw Input                                          0     uint8   \n",
            "HS_Group_Name_Vices                                              0     uint8   \n",
            "Container_LCL/FCL_FCL                                            0     uint8   \n",
            "Container_Type_Dry_True                                          0     uint8   \n",
            "\n",
            "                                                    Number Unique  \n",
            "Metric_Tons                                                 24994  \n",
            "Foreign_Country_Region_European Union                           2  \n",
            "Foreign_Country_Region_North America                            2  \n",
            "Foreign_Country_Region_Oceania                                  2  \n",
            "Foreign_Country_Region_Other East Asia (not China)              2  \n",
            "Foreign_Country_Region_Other Europe (not Europe...              2  \n",
            "Foreign_Country_Region_South America                            2  \n",
            "Foreign_Country_Region_South Asia                               2  \n",
            "Foreign_Country_Region_Southeast Asia                           2  \n",
            "Foreign_Country_Region_Sub Saharan Africa                       2  \n",
            "US_Port_Coastal_Region_Gulf                                     2  \n",
            "US_Port_Coastal_Region_Northeast                                2  \n",
            "US_Port_Coastal_Region_Northwest                                2  \n",
            "US_Port_Coastal_Region_Other                                    2  \n",
            "US_Port_Coastal_Region_Southeast                                2  \n",
            "US_Port_Coastal_Region_Southwest                                2  \n",
            "Trade_Direction_Export                                          2  \n",
            "Trade_Direction_Import                                          2  \n",
            "Container_Type_Dry_False                                        2  \n",
            "Foreign_Country_Region_Middle East & North Africa               2  \n",
            "Foreign_Country_Region_China                                    2  \n",
            "TCVUSD                                                    3340083  \n",
            "Container_LCL/FCL_LCL                                           2  \n",
            "Year                                                            2  \n",
            "us_company_size                                                 6  \n",
            "foreign_company_size                                            6  \n",
            "US_Unemployment_Rate                                           14  \n",
            "Average_Tariff                                                631  \n",
            "cases_weekly                                                 1104  \n",
            "deaths_weekly                                                1034  \n",
            "State_Closure_EA_Diff                                           7  \n",
            "cases_pctdelta                                               1103  \n",
            "deaths_pctdelta                                              1034  \n",
            "HS_Group_Name_Edible                                            2  \n",
            "HS_Group_Name_Edible with Processing                            2  \n",
            "HS_Group_Name_Finished Goods                                    2  \n",
            "HS_Group_Name_Pharma                                            2  \n",
            "HS_Group_Name_Raw Input                                         2  \n",
            "HS_Group_Name_Vices                                             2  \n",
            "Container_LCL/FCL_FCL                                           2  \n",
            "Container_Type_Dry_True                                         2  \n"
          ],
          "name": "stdout"
        },
        {
          "output_type": "execute_result",
          "data": {
            "text/plain": [
              "(6633785, 41)"
            ]
          },
          "metadata": {
            "tags": []
          },
          "execution_count": 17
        }
      ]
    },
    {
      "cell_type": "code",
      "metadata": {
        "id": "QKzFkp0ymmkQ",
        "colab": {
          "base_uri": "https://localhost:8080/"
        },
        "outputId": "46ceb9b1-5df7-4579-b4dd-3f6749f0182d"
      },
      "source": [
        "# Examine year for the number per year to be used for train/test sets\n",
        "df[['Year']].value_counts()"
      ],
      "execution_count": 18,
      "outputs": [
        {
          "output_type": "execute_result",
          "data": {
            "text/plain": [
              "Year\n",
              "2019    3368492\n",
              "2020    3265293\n",
              "dtype: int64"
            ]
          },
          "metadata": {
            "tags": []
          },
          "execution_count": 18
        }
      ]
    },
    {
      "cell_type": "code",
      "metadata": {
        "id": "OVG7ziM-m3dV",
        "colab": {
          "base_uri": "https://localhost:8080/"
        },
        "outputId": "ce2a0697-2fa1-4dd7-ff94-df257a9a1070"
      },
      "source": [
        "df = df.drop(['Year'], axis=1)\n",
        "df.shape"
      ],
      "execution_count": 19,
      "outputs": [
        {
          "output_type": "execute_result",
          "data": {
            "text/plain": [
              "(6633785, 40)"
            ]
          },
          "metadata": {
            "tags": []
          },
          "execution_count": 19
        }
      ]
    },
    {
      "cell_type": "code",
      "metadata": {
        "id": "qe5dNJiim3iY",
        "colab": {
          "base_uri": "https://localhost:8080/"
        },
        "outputId": "75c09f29-0ab1-4780-99a3-a6fd43767c5a"
      },
      "source": [
        "# Prepare data for LSTM\n",
        "# COnvert series to supervised learning\n",
        "def series_to_supervised(dat, n_in=1, n_out=1, dropnan=True):\n",
        "\tn_vars = 1 if type(dat) is list else dat.shape[1]\n",
        "\tdf = DataFrame(dat)\n",
        "\tcols, names = list(), list()\n",
        "\t# input sequence (t-n, ... t-1)\n",
        "\tfor i in range(n_in, 0, -1):\n",
        "\t\tcols.append(df.shift(i))\n",
        "\t\tnames += [('var%d(t-%d)' % (j+1, i)) for j in range(n_vars)]\n",
        "\t# forecast sequence (t, t+1, ... t+n)\n",
        "\tfor i in range(0, n_out):\n",
        "\t\tcols.append(df.shift(-i))\n",
        "\t\tif i == 0:\n",
        "\t\t\tnames += [('var%d(t)' % (j+1)) for j in range(n_vars)]\n",
        "\t\telse:\n",
        "\t\t\tnames += [('var%d(t+%d)' % (j+1, i)) for j in range(n_vars)]\n",
        "\t# put it all together\n",
        "\tagg = concat(cols, axis=1)\n",
        "\tagg.columns = names\n",
        "\t# drop rows with NaN values\n",
        "\tif dropnan:\n",
        "\t\tagg.dropna(inplace=True)\n",
        "\treturn agg\n",
        "\n",
        "# Load df\n",
        "dataset = df\n",
        "values = dataset.values\n",
        "# Convert all data to float\n",
        "values = values.astype('float32')\n",
        "# Normalize features\n",
        "scaler = MinMaxScaler(feature_range=(0, 1))\n",
        "scaled = scaler.fit_transform(values)\n",
        "# Frame as supervised learning\n",
        "reframed = series_to_supervised(scaled, 1, 1)\n",
        "reframed.drop(reframed.columns[[41,42,43,44,45,46,47,48,49,50,51,52,53,54,55,56,57,58,59,60,61,62,63,64,65,66,67,68,69,70,71,72,73,74,75,76,77,78,79]], axis=1, inplace=True)\n",
        "print(reframed.head())"
      ],
      "execution_count": 20,
      "outputs": [
        {
          "output_type": "stream",
          "text": [
            "   var1(t-1)     var2(t-1)  var3(t-1)  var4(t-1)  var5(t-1)  var6(t-1)  \\\n",
            "1   0.000280  5.305452e-07        0.0        0.0   0.044248   0.003732   \n",
            "2   0.046162  4.439152e-05        0.2        0.0   0.044248   0.007459   \n",
            "3   0.025281  2.431148e-05        0.2        0.0   0.044248   0.007459   \n",
            "4   0.015281  1.469459e-05        0.0        0.0   0.044248   0.007459   \n",
            "5   0.016601  1.596402e-05        0.0        0.0   0.044248   0.007459   \n",
            "\n",
            "   var7(t-1)  var8(t-1)  var9(t-1)  var10(t-1)  var11(t-1)  var12(t-1)  \\\n",
            "1        0.0        0.0     0.1250         0.0    0.000004         0.0   \n",
            "2        0.0        0.0     0.0625         0.0    0.000004         0.0   \n",
            "3        0.0        0.0     0.0625         0.0    0.000004         0.0   \n",
            "4        0.0        0.0     0.0625         0.0    0.000004         0.0   \n",
            "5        0.0        0.0     0.0625         0.0    0.000004         0.0   \n",
            "\n",
            "   var13(t-1)  var14(t-1)  var15(t-1)  var16(t-1)  var17(t-1)  var18(t-1)  \\\n",
            "1         0.0         1.0         0.0         0.0         0.0         0.0   \n",
            "2         0.0         1.0         0.0         0.0         0.0         1.0   \n",
            "3         0.0         1.0         0.0         0.0         0.0         1.0   \n",
            "4         0.0         1.0         0.0         0.0         0.0         1.0   \n",
            "5         0.0         1.0         0.0         0.0         0.0         1.0   \n",
            "\n",
            "   var19(t-1)  var20(t-1)  var21(t-1)  var22(t-1)  var23(t-1)  var24(t-1)  \\\n",
            "1         1.0         0.0         1.0         0.0         0.0         0.0   \n",
            "2         0.0         1.0         0.0         0.0         0.0         0.0   \n",
            "3         0.0         1.0         0.0         0.0         0.0         0.0   \n",
            "4         0.0         1.0         0.0         0.0         0.0         0.0   \n",
            "5         0.0         1.0         0.0         0.0         0.0         0.0   \n",
            "\n",
            "   var25(t-1)  var26(t-1)  var27(t-1)  var28(t-1)  var29(t-1)  var30(t-1)  \\\n",
            "1         0.0         0.0         0.0         0.0         0.0         0.0   \n",
            "2         0.0         0.0         0.0         0.0         0.0         0.0   \n",
            "3         0.0         0.0         0.0         0.0         0.0         0.0   \n",
            "4         0.0         0.0         0.0         0.0         0.0         0.0   \n",
            "5         0.0         0.0         0.0         0.0         0.0         0.0   \n",
            "\n",
            "   var31(t-1)  var32(t-1)  var33(t-1)  var34(t-1)  var35(t-1)  var36(t-1)  \\\n",
            "1         0.0         1.0         0.0         0.0         0.0         0.0   \n",
            "2         0.0         0.0         0.0         0.0         1.0         0.0   \n",
            "3         0.0         0.0         0.0         0.0         1.0         0.0   \n",
            "4         0.0         0.0         0.0         0.0         1.0         0.0   \n",
            "5         0.0         0.0         0.0         0.0         1.0         0.0   \n",
            "\n",
            "   var37(t-1)  var38(t-1)  var39(t-1)  var40(t-1)   var1(t)  \n",
            "1         0.0         1.0         0.0         1.0  0.046162  \n",
            "2         0.0         1.0         0.0         1.0  0.025281  \n",
            "3         0.0         1.0         0.0         1.0  0.015281  \n",
            "4         0.0         1.0         0.0         1.0  0.016601  \n",
            "5         0.0         1.0         0.0         1.0  0.044442  \n"
          ],
          "name": "stdout"
        }
      ]
    },
    {
      "cell_type": "code",
      "metadata": {
        "id": "8CijYoGFnG7f",
        "colab": {
          "base_uri": "https://localhost:8080/"
        },
        "outputId": "9bb3420f-7ee0-4388-bd4c-67fe9d2909d6"
      },
      "source": [
        "# Define fit model for 2019\n",
        "# Split into train and test sets\n",
        "values = reframed.values\n",
        "n_train_hours = 3368492\n",
        "train = values[:n_train_hours, :]\n",
        "test = values[n_train_hours:, :]\n",
        "# Split into input and outputs\n",
        "train_X, train_y = train[:, :-1], train[:, -1]\n",
        "test_X, test_y = test[:, :-1], test[:, -1]\n",
        "# Reshape input to be 3D [samples, timesteps, features]\n",
        "train_X = train_X.reshape((train_X.shape[0], 1, train_X.shape[1]))\n",
        "test_X = test_X.reshape((test_X.shape[0], 1, test_X.shape[1]))\n",
        "print(train_X.shape, train_y.shape, test_X.shape, test_y.shape)"
      ],
      "execution_count": 21,
      "outputs": [
        {
          "output_type": "stream",
          "text": [
            "(3368492, 1, 40) (3368492,) (3265292, 1, 40) (3265292,)\n"
          ],
          "name": "stdout"
        }
      ]
    },
    {
      "cell_type": "code",
      "metadata": {
        "id": "hulkHt_KnG_y",
        "colab": {
          "base_uri": "https://localhost:8080/"
        },
        "outputId": "d7722675-38f8-44e0-b155-a47f0751f41f"
      },
      "source": [
        "print(\"TensorFlow version: {}\".format(tf.__version__))\n",
        "print(\"Eager execution is: {}\".format(tf.executing_eagerly()))\n",
        "print(\"Keras version: {}\".format(tf.keras.__version__))\n",
        "print(\"Num GPUs Available: \", len(tf.config.list_physical_devices('GPU')))"
      ],
      "execution_count": 22,
      "outputs": [
        {
          "output_type": "stream",
          "text": [
            "TensorFlow version: 2.5.0\n",
            "Eager execution is: True\n",
            "Keras version: 2.5.0\n",
            "Num GPUs Available:  1\n"
          ],
          "name": "stdout"
        }
      ]
    },
    {
      "cell_type": "code",
      "metadata": {
        "id": "kRwla8x8nHCh",
        "colab": {
          "base_uri": "https://localhost:8080/"
        },
        "outputId": "ceb4e3dd-fe5a-4840-a447-278a05020bb4"
      },
      "source": [
        "# LSTM Model\n",
        "model = Sequential()\n",
        "model.add(LSTM(50, input_shape=(train_X.shape[1], train_X.shape[2])))\n",
        "model.add(Dense(1))\n",
        "model.compile(loss='mae', metrics=['mse'], optimizer='adam')\n",
        "model.summary()"
      ],
      "execution_count": 23,
      "outputs": [
        {
          "output_type": "stream",
          "text": [
            "Model: \"sequential\"\n",
            "_________________________________________________________________\n",
            "Layer (type)                 Output Shape              Param #   \n",
            "=================================================================\n",
            "lstm (LSTM)                  (None, 50)                18200     \n",
            "_________________________________________________________________\n",
            "dense (Dense)                (None, 1)                 51        \n",
            "=================================================================\n",
            "Total params: 18,251\n",
            "Trainable params: 18,251\n",
            "Non-trainable params: 0\n",
            "_________________________________________________________________\n"
          ],
          "name": "stdout"
        }
      ]
    },
    {
      "cell_type": "code",
      "metadata": {
        "id": "GjwdhmLao3GE"
      },
      "source": [
        "import datetime\n",
        "log_folder = \"logs/fit/\" + datetime.datetime.now().strftime(\"%Y%m%d-%H%M%S\")\n",
        "\n",
        "%load_ext tensorboard"
      ],
      "execution_count": 24,
      "outputs": []
    },
    {
      "cell_type": "code",
      "metadata": {
        "id": "313WEIXoo6ov"
      },
      "source": [
        "filepath = 'weights_only_train2019_test2020_n50_b64_epochs20'\n",
        "\n",
        "checkpoint_dir = os.path.dirname(filepath)\n",
        "\n",
        "tensorboard_callback = tf.keras.callbacks.TensorBoard(log_folder, histogram_freq=1)\n",
        "\n",
        "callbacks_list = [EarlyStopping(monitor='loss', patience = 3),\n",
        "                  ModelCheckpoint(filepath, monitor='mse', \n",
        "                                  save_best_only=True, mode='min'), \n",
        "                  tensorboard_callback]"
      ],
      "execution_count": 25,
      "outputs": []
    },
    {
      "cell_type": "code",
      "metadata": {
        "id": "XWZdRYJWnHFQ",
        "colab": {
          "base_uri": "https://localhost:8080/"
        },
        "outputId": "07a3ee7b-4c97-4167-d346-2a57a39ad8d5"
      },
      "source": [
        "# Best model for training 2019 = batch size 64, epochs 20, no cross val\n",
        "history = model.fit(train_X, train_y, epochs=20, batch_size=64, shuffle=False, \n",
        "                    callbacks=callbacks_list)"
      ],
      "execution_count": 27,
      "outputs": [
        {
          "output_type": "stream",
          "text": [
            "Epoch 1/20\n",
            "52633/52633 [==============================] - 170s 3ms/step - loss: 0.0580 - mse: 0.0157\n"
          ],
          "name": "stdout"
        },
        {
          "output_type": "stream",
          "text": [
            "WARNING:absl:Found untraced functions such as lstm_cell_layer_call_fn, lstm_cell_layer_call_and_return_conditional_losses, lstm_cell_layer_call_fn, lstm_cell_layer_call_and_return_conditional_losses, lstm_cell_layer_call_and_return_conditional_losses while saving (showing 5 of 5). These functions will not be directly callable after loading.\n"
          ],
          "name": "stderr"
        },
        {
          "output_type": "stream",
          "text": [
            "INFO:tensorflow:Assets written to: weights_only_train2019_test2020_n50_b64_epochs20/assets\n"
          ],
          "name": "stdout"
        },
        {
          "output_type": "stream",
          "text": [
            "INFO:tensorflow:Assets written to: weights_only_train2019_test2020_n50_b64_epochs20/assets\n"
          ],
          "name": "stderr"
        },
        {
          "output_type": "stream",
          "text": [
            "Epoch 2/20\n",
            "52633/52633 [==============================] - 155s 3ms/step - loss: 0.0566 - mse: 0.0155\n"
          ],
          "name": "stdout"
        },
        {
          "output_type": "stream",
          "text": [
            "WARNING:absl:Found untraced functions such as lstm_cell_layer_call_fn, lstm_cell_layer_call_and_return_conditional_losses, lstm_cell_layer_call_fn, lstm_cell_layer_call_and_return_conditional_losses, lstm_cell_layer_call_and_return_conditional_losses while saving (showing 5 of 5). These functions will not be directly callable after loading.\n"
          ],
          "name": "stderr"
        },
        {
          "output_type": "stream",
          "text": [
            "INFO:tensorflow:Assets written to: weights_only_train2019_test2020_n50_b64_epochs20/assets\n"
          ],
          "name": "stdout"
        },
        {
          "output_type": "stream",
          "text": [
            "INFO:tensorflow:Assets written to: weights_only_train2019_test2020_n50_b64_epochs20/assets\n"
          ],
          "name": "stderr"
        },
        {
          "output_type": "stream",
          "text": [
            "Epoch 3/20\n",
            "52633/52633 [==============================] - 155s 3ms/step - loss: 0.0564 - mse: 0.0155\n"
          ],
          "name": "stdout"
        },
        {
          "output_type": "stream",
          "text": [
            "WARNING:absl:Found untraced functions such as lstm_cell_layer_call_fn, lstm_cell_layer_call_and_return_conditional_losses, lstm_cell_layer_call_fn, lstm_cell_layer_call_and_return_conditional_losses, lstm_cell_layer_call_and_return_conditional_losses while saving (showing 5 of 5). These functions will not be directly callable after loading.\n"
          ],
          "name": "stderr"
        },
        {
          "output_type": "stream",
          "text": [
            "INFO:tensorflow:Assets written to: weights_only_train2019_test2020_n50_b64_epochs20/assets\n"
          ],
          "name": "stdout"
        },
        {
          "output_type": "stream",
          "text": [
            "INFO:tensorflow:Assets written to: weights_only_train2019_test2020_n50_b64_epochs20/assets\n"
          ],
          "name": "stderr"
        },
        {
          "output_type": "stream",
          "text": [
            "Epoch 4/20\n",
            "52633/52633 [==============================] - 155s 3ms/step - loss: 0.0563 - mse: 0.0155\n"
          ],
          "name": "stdout"
        },
        {
          "output_type": "stream",
          "text": [
            "WARNING:absl:Found untraced functions such as lstm_cell_layer_call_fn, lstm_cell_layer_call_and_return_conditional_losses, lstm_cell_layer_call_fn, lstm_cell_layer_call_and_return_conditional_losses, lstm_cell_layer_call_and_return_conditional_losses while saving (showing 5 of 5). These functions will not be directly callable after loading.\n"
          ],
          "name": "stderr"
        },
        {
          "output_type": "stream",
          "text": [
            "INFO:tensorflow:Assets written to: weights_only_train2019_test2020_n50_b64_epochs20/assets\n"
          ],
          "name": "stdout"
        },
        {
          "output_type": "stream",
          "text": [
            "INFO:tensorflow:Assets written to: weights_only_train2019_test2020_n50_b64_epochs20/assets\n"
          ],
          "name": "stderr"
        },
        {
          "output_type": "stream",
          "text": [
            "Epoch 5/20\n",
            "52633/52633 [==============================] - 154s 3ms/step - loss: 0.0563 - mse: 0.0154\n"
          ],
          "name": "stdout"
        },
        {
          "output_type": "stream",
          "text": [
            "WARNING:absl:Found untraced functions such as lstm_cell_layer_call_fn, lstm_cell_layer_call_and_return_conditional_losses, lstm_cell_layer_call_fn, lstm_cell_layer_call_and_return_conditional_losses, lstm_cell_layer_call_and_return_conditional_losses while saving (showing 5 of 5). These functions will not be directly callable after loading.\n"
          ],
          "name": "stderr"
        },
        {
          "output_type": "stream",
          "text": [
            "INFO:tensorflow:Assets written to: weights_only_train2019_test2020_n50_b64_epochs20/assets\n"
          ],
          "name": "stdout"
        },
        {
          "output_type": "stream",
          "text": [
            "INFO:tensorflow:Assets written to: weights_only_train2019_test2020_n50_b64_epochs20/assets\n"
          ],
          "name": "stderr"
        },
        {
          "output_type": "stream",
          "text": [
            "Epoch 6/20\n",
            "52633/52633 [==============================] - 155s 3ms/step - loss: 0.0562 - mse: 0.0154\n"
          ],
          "name": "stdout"
        },
        {
          "output_type": "stream",
          "text": [
            "WARNING:absl:Found untraced functions such as lstm_cell_layer_call_fn, lstm_cell_layer_call_and_return_conditional_losses, lstm_cell_layer_call_fn, lstm_cell_layer_call_and_return_conditional_losses, lstm_cell_layer_call_and_return_conditional_losses while saving (showing 5 of 5). These functions will not be directly callable after loading.\n"
          ],
          "name": "stderr"
        },
        {
          "output_type": "stream",
          "text": [
            "INFO:tensorflow:Assets written to: weights_only_train2019_test2020_n50_b64_epochs20/assets\n"
          ],
          "name": "stdout"
        },
        {
          "output_type": "stream",
          "text": [
            "INFO:tensorflow:Assets written to: weights_only_train2019_test2020_n50_b64_epochs20/assets\n"
          ],
          "name": "stderr"
        },
        {
          "output_type": "stream",
          "text": [
            "Epoch 7/20\n",
            "52633/52633 [==============================] - 153s 3ms/step - loss: 0.0562 - mse: 0.0154\n"
          ],
          "name": "stdout"
        },
        {
          "output_type": "stream",
          "text": [
            "WARNING:absl:Found untraced functions such as lstm_cell_layer_call_fn, lstm_cell_layer_call_and_return_conditional_losses, lstm_cell_layer_call_fn, lstm_cell_layer_call_and_return_conditional_losses, lstm_cell_layer_call_and_return_conditional_losses while saving (showing 5 of 5). These functions will not be directly callable after loading.\n"
          ],
          "name": "stderr"
        },
        {
          "output_type": "stream",
          "text": [
            "INFO:tensorflow:Assets written to: weights_only_train2019_test2020_n50_b64_epochs20/assets\n"
          ],
          "name": "stdout"
        },
        {
          "output_type": "stream",
          "text": [
            "INFO:tensorflow:Assets written to: weights_only_train2019_test2020_n50_b64_epochs20/assets\n"
          ],
          "name": "stderr"
        },
        {
          "output_type": "stream",
          "text": [
            "Epoch 8/20\n",
            "52633/52633 [==============================] - 155s 3ms/step - loss: 0.0561 - mse: 0.0154\n"
          ],
          "name": "stdout"
        },
        {
          "output_type": "stream",
          "text": [
            "WARNING:absl:Found untraced functions such as lstm_cell_layer_call_fn, lstm_cell_layer_call_and_return_conditional_losses, lstm_cell_layer_call_fn, lstm_cell_layer_call_and_return_conditional_losses, lstm_cell_layer_call_and_return_conditional_losses while saving (showing 5 of 5). These functions will not be directly callable after loading.\n"
          ],
          "name": "stderr"
        },
        {
          "output_type": "stream",
          "text": [
            "INFO:tensorflow:Assets written to: weights_only_train2019_test2020_n50_b64_epochs20/assets\n"
          ],
          "name": "stdout"
        },
        {
          "output_type": "stream",
          "text": [
            "INFO:tensorflow:Assets written to: weights_only_train2019_test2020_n50_b64_epochs20/assets\n"
          ],
          "name": "stderr"
        },
        {
          "output_type": "stream",
          "text": [
            "Epoch 9/20\n",
            "52633/52633 [==============================] - 156s 3ms/step - loss: 0.0561 - mse: 0.0154\n"
          ],
          "name": "stdout"
        },
        {
          "output_type": "stream",
          "text": [
            "WARNING:absl:Found untraced functions such as lstm_cell_layer_call_fn, lstm_cell_layer_call_and_return_conditional_losses, lstm_cell_layer_call_fn, lstm_cell_layer_call_and_return_conditional_losses, lstm_cell_layer_call_and_return_conditional_losses while saving (showing 5 of 5). These functions will not be directly callable after loading.\n"
          ],
          "name": "stderr"
        },
        {
          "output_type": "stream",
          "text": [
            "INFO:tensorflow:Assets written to: weights_only_train2019_test2020_n50_b64_epochs20/assets\n"
          ],
          "name": "stdout"
        },
        {
          "output_type": "stream",
          "text": [
            "INFO:tensorflow:Assets written to: weights_only_train2019_test2020_n50_b64_epochs20/assets\n"
          ],
          "name": "stderr"
        },
        {
          "output_type": "stream",
          "text": [
            "Epoch 10/20\n",
            "52633/52633 [==============================] - 158s 3ms/step - loss: 0.0561 - mse: 0.0154\n"
          ],
          "name": "stdout"
        },
        {
          "output_type": "stream",
          "text": [
            "WARNING:absl:Found untraced functions such as lstm_cell_layer_call_fn, lstm_cell_layer_call_and_return_conditional_losses, lstm_cell_layer_call_fn, lstm_cell_layer_call_and_return_conditional_losses, lstm_cell_layer_call_and_return_conditional_losses while saving (showing 5 of 5). These functions will not be directly callable after loading.\n"
          ],
          "name": "stderr"
        },
        {
          "output_type": "stream",
          "text": [
            "INFO:tensorflow:Assets written to: weights_only_train2019_test2020_n50_b64_epochs20/assets\n"
          ],
          "name": "stdout"
        },
        {
          "output_type": "stream",
          "text": [
            "INFO:tensorflow:Assets written to: weights_only_train2019_test2020_n50_b64_epochs20/assets\n"
          ],
          "name": "stderr"
        },
        {
          "output_type": "stream",
          "text": [
            "Epoch 11/20\n",
            "52633/52633 [==============================] - 159s 3ms/step - loss: 0.0560 - mse: 0.0154\n"
          ],
          "name": "stdout"
        },
        {
          "output_type": "stream",
          "text": [
            "WARNING:absl:Found untraced functions such as lstm_cell_layer_call_fn, lstm_cell_layer_call_and_return_conditional_losses, lstm_cell_layer_call_fn, lstm_cell_layer_call_and_return_conditional_losses, lstm_cell_layer_call_and_return_conditional_losses while saving (showing 5 of 5). These functions will not be directly callable after loading.\n"
          ],
          "name": "stderr"
        },
        {
          "output_type": "stream",
          "text": [
            "INFO:tensorflow:Assets written to: weights_only_train2019_test2020_n50_b64_epochs20/assets\n"
          ],
          "name": "stdout"
        },
        {
          "output_type": "stream",
          "text": [
            "INFO:tensorflow:Assets written to: weights_only_train2019_test2020_n50_b64_epochs20/assets\n"
          ],
          "name": "stderr"
        },
        {
          "output_type": "stream",
          "text": [
            "Epoch 12/20\n",
            "52633/52633 [==============================] - 160s 3ms/step - loss: 0.0560 - mse: 0.0154\n"
          ],
          "name": "stdout"
        },
        {
          "output_type": "stream",
          "text": [
            "WARNING:absl:Found untraced functions such as lstm_cell_layer_call_fn, lstm_cell_layer_call_and_return_conditional_losses, lstm_cell_layer_call_fn, lstm_cell_layer_call_and_return_conditional_losses, lstm_cell_layer_call_and_return_conditional_losses while saving (showing 5 of 5). These functions will not be directly callable after loading.\n"
          ],
          "name": "stderr"
        },
        {
          "output_type": "stream",
          "text": [
            "INFO:tensorflow:Assets written to: weights_only_train2019_test2020_n50_b64_epochs20/assets\n"
          ],
          "name": "stdout"
        },
        {
          "output_type": "stream",
          "text": [
            "INFO:tensorflow:Assets written to: weights_only_train2019_test2020_n50_b64_epochs20/assets\n"
          ],
          "name": "stderr"
        },
        {
          "output_type": "stream",
          "text": [
            "Epoch 13/20\n",
            "52633/52633 [==============================] - 156s 3ms/step - loss: 0.0560 - mse: 0.0154\n"
          ],
          "name": "stdout"
        },
        {
          "output_type": "stream",
          "text": [
            "WARNING:absl:Found untraced functions such as lstm_cell_layer_call_fn, lstm_cell_layer_call_and_return_conditional_losses, lstm_cell_layer_call_fn, lstm_cell_layer_call_and_return_conditional_losses, lstm_cell_layer_call_and_return_conditional_losses while saving (showing 5 of 5). These functions will not be directly callable after loading.\n"
          ],
          "name": "stderr"
        },
        {
          "output_type": "stream",
          "text": [
            "INFO:tensorflow:Assets written to: weights_only_train2019_test2020_n50_b64_epochs20/assets\n"
          ],
          "name": "stdout"
        },
        {
          "output_type": "stream",
          "text": [
            "INFO:tensorflow:Assets written to: weights_only_train2019_test2020_n50_b64_epochs20/assets\n"
          ],
          "name": "stderr"
        },
        {
          "output_type": "stream",
          "text": [
            "Epoch 14/20\n",
            "52633/52633 [==============================] - 156s 3ms/step - loss: 0.0560 - mse: 0.0154\n"
          ],
          "name": "stdout"
        },
        {
          "output_type": "stream",
          "text": [
            "WARNING:absl:Found untraced functions such as lstm_cell_layer_call_fn, lstm_cell_layer_call_and_return_conditional_losses, lstm_cell_layer_call_fn, lstm_cell_layer_call_and_return_conditional_losses, lstm_cell_layer_call_and_return_conditional_losses while saving (showing 5 of 5). These functions will not be directly callable after loading.\n"
          ],
          "name": "stderr"
        },
        {
          "output_type": "stream",
          "text": [
            "INFO:tensorflow:Assets written to: weights_only_train2019_test2020_n50_b64_epochs20/assets\n"
          ],
          "name": "stdout"
        },
        {
          "output_type": "stream",
          "text": [
            "INFO:tensorflow:Assets written to: weights_only_train2019_test2020_n50_b64_epochs20/assets\n"
          ],
          "name": "stderr"
        },
        {
          "output_type": "stream",
          "text": [
            "Epoch 15/20\n",
            "52633/52633 [==============================] - 155s 3ms/step - loss: 0.0560 - mse: 0.0154\n"
          ],
          "name": "stdout"
        },
        {
          "output_type": "stream",
          "text": [
            "WARNING:absl:Found untraced functions such as lstm_cell_layer_call_fn, lstm_cell_layer_call_and_return_conditional_losses, lstm_cell_layer_call_fn, lstm_cell_layer_call_and_return_conditional_losses, lstm_cell_layer_call_and_return_conditional_losses while saving (showing 5 of 5). These functions will not be directly callable after loading.\n"
          ],
          "name": "stderr"
        },
        {
          "output_type": "stream",
          "text": [
            "INFO:tensorflow:Assets written to: weights_only_train2019_test2020_n50_b64_epochs20/assets\n"
          ],
          "name": "stdout"
        },
        {
          "output_type": "stream",
          "text": [
            "INFO:tensorflow:Assets written to: weights_only_train2019_test2020_n50_b64_epochs20/assets\n"
          ],
          "name": "stderr"
        },
        {
          "output_type": "stream",
          "text": [
            "Epoch 16/20\n",
            "52633/52633 [==============================] - 156s 3ms/step - loss: 0.0559 - mse: 0.0154\n"
          ],
          "name": "stdout"
        },
        {
          "output_type": "stream",
          "text": [
            "WARNING:absl:Found untraced functions such as lstm_cell_layer_call_fn, lstm_cell_layer_call_and_return_conditional_losses, lstm_cell_layer_call_fn, lstm_cell_layer_call_and_return_conditional_losses, lstm_cell_layer_call_and_return_conditional_losses while saving (showing 5 of 5). These functions will not be directly callable after loading.\n"
          ],
          "name": "stderr"
        },
        {
          "output_type": "stream",
          "text": [
            "INFO:tensorflow:Assets written to: weights_only_train2019_test2020_n50_b64_epochs20/assets\n"
          ],
          "name": "stdout"
        },
        {
          "output_type": "stream",
          "text": [
            "INFO:tensorflow:Assets written to: weights_only_train2019_test2020_n50_b64_epochs20/assets\n"
          ],
          "name": "stderr"
        },
        {
          "output_type": "stream",
          "text": [
            "Epoch 17/20\n",
            "52633/52633 [==============================] - 156s 3ms/step - loss: 0.0559 - mse: 0.0154\n"
          ],
          "name": "stdout"
        },
        {
          "output_type": "stream",
          "text": [
            "WARNING:absl:Found untraced functions such as lstm_cell_layer_call_fn, lstm_cell_layer_call_and_return_conditional_losses, lstm_cell_layer_call_fn, lstm_cell_layer_call_and_return_conditional_losses, lstm_cell_layer_call_and_return_conditional_losses while saving (showing 5 of 5). These functions will not be directly callable after loading.\n"
          ],
          "name": "stderr"
        },
        {
          "output_type": "stream",
          "text": [
            "INFO:tensorflow:Assets written to: weights_only_train2019_test2020_n50_b64_epochs20/assets\n"
          ],
          "name": "stdout"
        },
        {
          "output_type": "stream",
          "text": [
            "INFO:tensorflow:Assets written to: weights_only_train2019_test2020_n50_b64_epochs20/assets\n"
          ],
          "name": "stderr"
        },
        {
          "output_type": "stream",
          "text": [
            "Epoch 18/20\n",
            "52633/52633 [==============================] - 155s 3ms/step - loss: 0.0559 - mse: 0.0153\n"
          ],
          "name": "stdout"
        },
        {
          "output_type": "stream",
          "text": [
            "WARNING:absl:Found untraced functions such as lstm_cell_layer_call_fn, lstm_cell_layer_call_and_return_conditional_losses, lstm_cell_layer_call_fn, lstm_cell_layer_call_and_return_conditional_losses, lstm_cell_layer_call_and_return_conditional_losses while saving (showing 5 of 5). These functions will not be directly callable after loading.\n"
          ],
          "name": "stderr"
        },
        {
          "output_type": "stream",
          "text": [
            "INFO:tensorflow:Assets written to: weights_only_train2019_test2020_n50_b64_epochs20/assets\n"
          ],
          "name": "stdout"
        },
        {
          "output_type": "stream",
          "text": [
            "INFO:tensorflow:Assets written to: weights_only_train2019_test2020_n50_b64_epochs20/assets\n"
          ],
          "name": "stderr"
        },
        {
          "output_type": "stream",
          "text": [
            "Epoch 19/20\n",
            "52633/52633 [==============================] - 155s 3ms/step - loss: 0.0559 - mse: 0.0153\n"
          ],
          "name": "stdout"
        },
        {
          "output_type": "stream",
          "text": [
            "WARNING:absl:Found untraced functions such as lstm_cell_layer_call_fn, lstm_cell_layer_call_and_return_conditional_losses, lstm_cell_layer_call_fn, lstm_cell_layer_call_and_return_conditional_losses, lstm_cell_layer_call_and_return_conditional_losses while saving (showing 5 of 5). These functions will not be directly callable after loading.\n"
          ],
          "name": "stderr"
        },
        {
          "output_type": "stream",
          "text": [
            "INFO:tensorflow:Assets written to: weights_only_train2019_test2020_n50_b64_epochs20/assets\n"
          ],
          "name": "stdout"
        },
        {
          "output_type": "stream",
          "text": [
            "INFO:tensorflow:Assets written to: weights_only_train2019_test2020_n50_b64_epochs20/assets\n"
          ],
          "name": "stderr"
        },
        {
          "output_type": "stream",
          "text": [
            "Epoch 20/20\n",
            "52633/52633 [==============================] - 155s 3ms/step - loss: 0.0559 - mse: 0.0153\n"
          ],
          "name": "stdout"
        },
        {
          "output_type": "stream",
          "text": [
            "WARNING:absl:Found untraced functions such as lstm_cell_layer_call_fn, lstm_cell_layer_call_and_return_conditional_losses, lstm_cell_layer_call_fn, lstm_cell_layer_call_and_return_conditional_losses, lstm_cell_layer_call_and_return_conditional_losses while saving (showing 5 of 5). These functions will not be directly callable after loading.\n"
          ],
          "name": "stderr"
        },
        {
          "output_type": "stream",
          "text": [
            "INFO:tensorflow:Assets written to: weights_only_train2019_test2020_n50_b64_epochs20/assets\n"
          ],
          "name": "stdout"
        },
        {
          "output_type": "stream",
          "text": [
            "INFO:tensorflow:Assets written to: weights_only_train2019_test2020_n50_b64_epochs20/assets\n"
          ],
          "name": "stderr"
        }
      ]
    },
    {
      "cell_type": "code",
      "metadata": {
        "id": "CXRLtUyCnHH4",
        "colab": {
          "base_uri": "https://localhost:8080/"
        },
        "outputId": "218125da-dfe4-4cd5-c24b-842b485340a4"
      },
      "source": [
        "model.save('./210708_Model_50neuron_batch64_20epochs_train2019_tf', save_format='tf')\n",
        "#loaded_model = tf.keras.models.load_model('./210707_Model_50neuron_batch64_20epochs_train2019_tf')"
      ],
      "execution_count": 28,
      "outputs": [
        {
          "output_type": "stream",
          "text": [
            "WARNING:absl:Found untraced functions such as lstm_cell_layer_call_fn, lstm_cell_layer_call_and_return_conditional_losses, lstm_cell_layer_call_fn, lstm_cell_layer_call_and_return_conditional_losses, lstm_cell_layer_call_and_return_conditional_losses while saving (showing 5 of 5). These functions will not be directly callable after loading.\n"
          ],
          "name": "stderr"
        },
        {
          "output_type": "stream",
          "text": [
            "INFO:tensorflow:Assets written to: ./210708_Model_50neuron_batch64_20epochs_train2019_tf/assets\n"
          ],
          "name": "stdout"
        },
        {
          "output_type": "stream",
          "text": [
            "INFO:tensorflow:Assets written to: ./210708_Model_50neuron_batch64_20epochs_train2019_tf/assets\n"
          ],
          "name": "stderr"
        }
      ]
    },
    {
      "cell_type": "code",
      "metadata": {
        "id": "Drl89PVunHL2",
        "colab": {
          "base_uri": "https://localhost:8080/",
          "height": 295
        },
        "outputId": "34bade25-5452-4a91-9285-92dc8afed2af"
      },
      "source": [
        "# Plot loss over epochs\n",
        "pyplot.title('Model Loss')\n",
        "pyplot.plot(history.history['loss'], label='train')\n",
        "pyplot.ylabel('Loss')\n",
        "pyplot.xlabel('Epochs')\n",
        "pyplot.legend()\n",
        "pyplot.show()"
      ],
      "execution_count": 29,
      "outputs": [
        {
          "output_type": "display_data",
          "data": {
            "image/png": "[encoded data removed]",
            "text/plain": [
              "<Figure size 432x288 with 1 Axes>"
            ]
          },
          "metadata": {
            "tags": [],
            "needs_background": "light"
          }
        }
      ]
    },
    {
      "cell_type": "code",
      "metadata": {
        "colab": {
          "base_uri": "https://localhost:8080/"
        },
        "id": "7GpzS2T6591x",
        "outputId": "523f95fb-117a-4424-f308-680dddb1e920"
      },
      "source": [
        "# Make Predictions on Train\n",
        "# Create empty table with 40fields\n",
        "train_predict = model.predict(train_X)\n",
        "train_predict_dataset_like = np.zeros(shape=(len(train_predict), 40))\n",
        "\n",
        "# Predicted values fill table\n",
        "train_predict_dataset_like[:,0] = train_predict[:,0]\n",
        "\n",
        "# Inverse transform and then select the right field\n",
        "train_predict = scaler.inverse_transform(train_predict_dataset_like)[:,0]\n",
        "\n",
        "print('Train Mean Absolute Error:', mean_absolute_error(train_y[:], train_predict[:]))\n",
        "print('Train Root Mean Squared Error:',np.sqrt(mean_squared_error(train_y[:], train_predict[:])))"
      ],
      "execution_count": 30,
      "outputs": [
        {
          "output_type": "stream",
          "text": [
            "Train Mean Absolute Error: 14.496831020097003\n",
            "Train Root Mean Squared Error: 17.226258579433203\n"
          ],
          "name": "stdout"
        }
      ]
    },
    {
      "cell_type": "code",
      "metadata": {
        "colab": {
          "base_uri": "https://localhost:8080/"
        },
        "id": "7rA2Zltw599S",
        "outputId": "793a475e-4a2f-4291-b2e0-cbc5e27262f6"
      },
      "source": [
        "# Make Predictions on Test\n",
        "test_predict = model.predict(test_X)\n",
        "test_predict_dataset_like = np.zeros(shape=(len(test_predict), 40))\n",
        "\n",
        "# Invert predictions\n",
        "test_predict_dataset_like[:,0] = test_predict[:,0]\n",
        "\n",
        "# Inverse transform and then select the right field\n",
        "test_predict = scaler.inverse_transform(test_predict_dataset_like)[:,0]\n",
        "\n",
        "print('Test Mean Absolute Error:', mean_absolute_error(test_y[:], test_predict[:]))\n",
        "print('Test Root Mean Squared Error:',np.sqrt(mean_squared_error(test_y[:], test_predict[:])))"
      ],
      "execution_count": 31,
      "outputs": [
        {
          "output_type": "stream",
          "text": [
            "Test Mean Absolute Error: 13.573192977258673\n",
            "Test Root Mean Squared Error: 15.296669671630388\n"
          ],
          "name": "stdout"
        }
      ]
    },
    {
      "cell_type": "code",
      "metadata": {
        "id": "4iS-Yytw5-AB"
      },
      "source": [
        "# Make a prediction\n",
        "yhat = model.predict(test_X)\n",
        "test_X = test_X.reshape((test_X.shape[0],test_X.shape[2]))"
      ],
      "execution_count": 32,
      "outputs": []
    },
    {
      "cell_type": "code",
      "metadata": {
        "id": "T7R_gw-U6G_O"
      },
      "source": [
        "# Invert scaling for forecast\n",
        "inv_yhat = concatenate((yhat, test_X[:, 1:]), axis=1)\n",
        "inv_yhat = scaler.inverse_transform(inv_yhat)\n",
        "inv_yhat = inv_yhat[:,0]"
      ],
      "execution_count": 33,
      "outputs": []
    },
    {
      "cell_type": "code",
      "metadata": {
        "colab": {
          "base_uri": "https://localhost:8080/"
        },
        "id": "8KmwCdwN6HCi",
        "outputId": "653e9064-b9c4-404f-d439-589496ddd347"
      },
      "source": [
        "# Maximum predicted metric tonnage\n",
        "np.amax(inv_yhat)"
      ],
      "execution_count": 34,
      "outputs": [
        {
          "output_type": "execute_result",
          "data": {
            "text/plain": [
              "137.19011"
            ]
          },
          "metadata": {
            "tags": []
          },
          "execution_count": 34
        }
      ]
    },
    {
      "cell_type": "code",
      "metadata": {
        "id": "aybQsfBI6HFf"
      },
      "source": [
        "# Invert scaling for actual test data\n",
        "test_y = test_y.reshape((len(test_y), 1))\n",
        "inv_y = concatenate((test_y, test_X[:, 1:]), axis=1)\n",
        "inv_y = scaler.inverse_transform(inv_y)\n",
        "inv_y = inv_y[:,0]"
      ],
      "execution_count": 35,
      "outputs": []
    },
    {
      "cell_type": "code",
      "metadata": {
        "colab": {
          "base_uri": "https://localhost:8080/"
        },
        "id": "zFf-WTYY6j9X",
        "outputId": "65097681-cbd6-4dd1-c6a8-a2ed1fc1a2dd"
      },
      "source": [
        "# Maxmimum of real metric tonnage\n",
        "np.amax(inv_y)"
      ],
      "execution_count": 37,
      "outputs": [
        {
          "output_type": "execute_result",
          "data": {
            "text/plain": [
              "249.99"
            ]
          },
          "metadata": {
            "tags": []
          },
          "execution_count": 37
        }
      ]
    },
    {
      "cell_type": "code",
      "metadata": {
        "colab": {
          "base_uri": "https://localhost:8080/"
        },
        "id": "FdmMK7oW6j_n",
        "outputId": "b9df1714-6f19-4c6c-e98c-3a1ea4e79428"
      },
      "source": [
        "# Calculate RMSE\n",
        "print('Mean Absolute Error (MAE): %3f' % sklearn.metrics.mean_absolute_error(inv_y, inv_yhat))\n",
        "print('Mean Square Error (MSE): %3f' % sklearn.metrics.mean_squared_error(inv_y, inv_yhat))"
      ],
      "execution_count": 38,
      "outputs": [
        {
          "output_type": "stream",
          "text": [
            "Mean Absolute Error (MAE): 13.458157\n",
            "Mean Square Error (MSE): 909.854980\n"
          ],
          "name": "stdout"
        }
      ]
    },
    {
      "cell_type": "code",
      "metadata": {
        "colab": {
          "base_uri": "https://localhost:8080/",
          "height": 315
        },
        "id": "DRcvrXcY6kCg",
        "outputId": "753f6252-2555-4d1a-b9c9-0d00e498667e"
      },
      "source": [
        "# Plot actual vs predicted metric tonnage\n",
        "pyplot.plot(inv_y, label = '2020')\n",
        "pyplot.plot(inv_yhat, label = '2020 - predicted')\n",
        "pyplot.legend()\n",
        "pyplot.show()"
      ],
      "execution_count": 39,
      "outputs": [
        {
          "output_type": "stream",
          "text": [
            "/usr/local/lib/python3.7/dist-packages/IPython/core/pylabtools.py:125: UserWarning: Creating legend with loc=\"best\" can be slow with large amounts of data.\n",
            "  fig.canvas.print_figure(bytes_io, **kw)\n"
          ],
          "name": "stderr"
        },
        {
          "output_type": "display_data",
          "data": {
            "image/png": "[encoded data removed]",
            "text/plain": [
              "<Figure size 432x288 with 1 Axes>"
            ]
          },
          "metadata": {
            "tags": [],
            "needs_background": "light"
          }
        }
      ]
    }
  ]
}